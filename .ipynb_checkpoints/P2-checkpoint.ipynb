{
 "cells": [
  {
   "cell_type": "code",
   "execution_count": 13,
   "id": "805c2f56-f30b-4f59-877c-d8c5ab7def8c",
   "metadata": {},
   "outputs": [],
   "source": [
    "import pandas as pd\n",
    "import sqlite3\n",
    "from sqlalchemy import create_engine\n",
    "import os\n",
    "\n",
    "def file_txt_to_sql(og_filename, filename, table):\n",
    "    chunk_size = 10_000\n",
    "    og_file = f'/Users/mmunozcampos/Documents/Comp y reg/{og_filename}'\n",
    "    db_path = f\"/Users/mmunozcampos/Documents/Comp y reg/{filename}\"\n",
    "    \n",
    "    # Nombres de las columnas\n",
    "    column_names = [\n",
    "        'codigo_aseguradora','periodo_informacion', 'tipo_registro', 'run_beneficiario',\n",
    "        'sexo_beneficiario', 'edad_beneficiario', 'tipo_beneficiario', 'rut_prestador',\n",
    "        'region_prestador', 'prestador_preferente', 'programa_medico_principal',\n",
    "        'programa_medico_complementario', 'bono_atencion', 'reembolso',\n",
    "        'codigo_prestacion', 'pertenencia_codigo',\n",
    "        'cobertura_financiamiento_prestacion', 'fecha_bonificacion',\n",
    "        'tipo_prestador', 'tipo_atencion', 'frecuencia', 'valor_facturado',\n",
    "        'valor_bonificado', 'monto_copago', 'bonificacion_restringida',\n",
    "        'tipo_plan', 'modalidad_intervencion_quirurgica',\n",
    "        'ley_urgencia_vital', 'codigo_gpp', 'identificacion_ges', 'none'\n",
    "    ]\n",
    "    \n",
    "    # Creamos SQLite engine con extended timeout y pragma settings\n",
    "    engine = create_engine(f\"sqlite:///{db_path}\", \n",
    "                          connect_args={\"timeout\": 300, \"check_same_thread\": False})\n",
    "    \n",
    "    # Prevención de problemas de tipeo\n",
    "    conn = sqlite3.connect(db_path)\n",
    "    conn.execute(\"PRAGMA journal_mode = WAL;\")  # Write-Ahead Logging for better performance\n",
    "    conn.execute(\"PRAGMA synchronous = NORMAL;\")  # Less durability but faster performance\n",
    "    conn.close()\n",
    "    \n",
    "    cols_numericas = [\n",
    "        'codigo_aseguradora','run_beneficiario', 'rut_prestador',\n",
    "        'region_prestador', 'programa_medico_principal',\n",
    "        'programa_medico_complementario', 'bono_atencion', 'reembolso',\n",
    "        'frecuencia', 'valor_facturado',\n",
    "        'valor_bonificado', 'monto_copago'\n",
    "    ]\n",
    "\n",
    "    #preparamos el porcentaje de completado\n",
    "    total_lines = sum(1 for _ in open(og_file, encoding='latin1'))\n",
    "    total_chunks = total_lines // chunk_size + 1\n",
    "\n",
    "    # Correr en chunks \n",
    "    for i, chunk in enumerate(pd.read_csv(og_file, delimiter='|', \n",
    "                                          names=column_names, \n",
    "                                          header=None, \n",
    "                                          chunksize=chunk_size, \n",
    "                                          encoding='latin1' \n",
    "                                         )):\n",
    "        #Nos encargamos de las columnas numericas\n",
    "        for col in cols_numericas:\n",
    "            if 'object' in str(chunk[col].dtype):\n",
    "                chunk[col] = chunk[col].str.strip()\n",
    "                chunk[col] = pd.to_numeric(chunk[col], errors='coerce')\n",
    "        #exportamos a sql\n",
    "        chunk.iloc[:, :-1].to_sql(table, con=engine, if_exists='append', index=False)\n",
    "\n",
    "        percent_complete = (i + 1) / total_chunks * 100\n",
    "        print(f\"Cargando: {percent_complete:.2f}% completo\")\n",
    "        \n",
    "        #para testeo\n",
    "        #if i == 0:\n",
    "        #    break\n",
    "        \n",
    "    engine.dispose()\n",
    "    return print(f'{filename} fue un exito')"
   ]
  },
  {
   "cell_type": "code",
   "execution_count": 7,
   "id": "027f6139-a3a2-4e68-891a-56b600ff843c",
   "metadata": {},
   "outputs": [
    {
     "name": "stdout",
     "output_type": "stream",
     "text": [
      "prestaciones_t2024.db fue un exito\n"
     ]
    }
   ],
   "source": [
    "file_txt_to_sql(\"Prestaciones_Bonificadas_2024t1.txt\", \"prestaciones_t2024.db\", \"tabla2024\")"
   ]
  },
  {
   "cell_type": "code",
   "execution_count": 8,
   "id": "1bfb44c5-096c-4c5a-b4f4-80f3f65a4acd",
   "metadata": {},
   "outputs": [
    {
     "name": "stdout",
     "output_type": "stream",
     "text": [
      "prestaciones_t2024.db fue un exito\n"
     ]
    }
   ],
   "source": [
    "file_txt_to_sql(\"Prestaciones_Bonificadas_2024t2.txt\", \"prestaciones_t2024.db\", \"tabla2024\")"
   ]
  },
  {
   "cell_type": "code",
   "execution_count": 11,
   "id": "d76bd009-a4f7-4958-ae0a-9fc2b3c472b5",
   "metadata": {
    "collapsed": true,
    "jupyter": {
     "outputs_hidden": true
    },
    "scrolled": true
   },
   "outputs": [
    {
     "name": "stdout",
     "output_type": "stream",
     "text": [
      "Cargando: 0.06% completo\n",
      "Cargando: 0.11% completo\n",
      "Cargando: 0.17% completo\n",
      "Cargando: 0.23% completo\n",
      "Cargando: 0.28% completo\n",
      "Cargando: 0.34% completo\n",
      "Cargando: 0.40% completo\n",
      "Cargando: 0.45% completo\n",
      "Cargando: 0.51% completo\n",
      "Cargando: 0.57% completo\n",
      "Cargando: 0.62% completo\n",
      "Cargando: 0.68% completo\n",
      "Cargando: 0.74% completo\n",
      "Cargando: 0.79% completo\n",
      "Cargando: 0.85% completo\n",
      "Cargando: 0.91% completo\n",
      "Cargando: 0.96% completo\n",
      "Cargando: 1.02% completo\n",
      "Cargando: 1.08% completo\n",
      "Cargando: 1.13% completo\n",
      "Cargando: 1.19% completo\n",
      "Cargando: 1.25% completo\n",
      "Cargando: 1.30% completo\n",
      "Cargando: 1.36% completo\n",
      "Cargando: 1.41% completo\n",
      "Cargando: 1.47% completo\n",
      "Cargando: 1.53% completo\n",
      "Cargando: 1.58% completo\n",
      "Cargando: 1.64% completo\n",
      "Cargando: 1.70% completo\n",
      "Cargando: 1.75% completo\n",
      "Cargando: 1.81% completo\n",
      "Cargando: 1.87% completo\n",
      "Cargando: 1.92% completo\n",
      "Cargando: 1.98% completo\n",
      "Cargando: 2.04% completo\n",
      "Cargando: 2.09% completo\n",
      "Cargando: 2.15% completo\n",
      "Cargando: 2.21% completo\n",
      "Cargando: 2.26% completo\n",
      "Cargando: 2.32% completo\n",
      "Cargando: 2.38% completo\n",
      "Cargando: 2.43% completo\n",
      "Cargando: 2.49% completo\n",
      "Cargando: 2.55% completo\n",
      "Cargando: 2.60% completo\n",
      "Cargando: 2.66% completo\n",
      "Cargando: 2.72% completo\n",
      "Cargando: 2.77% completo\n",
      "Cargando: 2.83% completo\n",
      "Cargando: 2.89% completo\n",
      "Cargando: 2.94% completo\n",
      "Cargando: 3.00% completo\n",
      "Cargando: 3.06% completo\n",
      "Cargando: 3.11% completo\n",
      "Cargando: 3.17% completo\n",
      "Cargando: 3.23% completo\n",
      "Cargando: 3.28% completo\n",
      "Cargando: 3.34% completo\n",
      "Cargando: 3.40% completo\n",
      "Cargando: 3.45% completo\n",
      "Cargando: 3.51% completo\n",
      "Cargando: 3.57% completo\n",
      "Cargando: 3.62% completo\n",
      "Cargando: 3.68% completo\n",
      "Cargando: 3.74% completo\n",
      "Cargando: 3.79% completo\n",
      "Cargando: 3.85% completo\n",
      "Cargando: 3.90% completo\n",
      "Cargando: 3.96% completo\n",
      "Cargando: 4.02% completo\n",
      "Cargando: 4.07% completo\n",
      "Cargando: 4.13% completo\n",
      "Cargando: 4.19% completo\n",
      "Cargando: 4.24% completo\n",
      "Cargando: 4.30% completo\n",
      "Cargando: 4.36% completo\n",
      "Cargando: 4.41% completo\n",
      "Cargando: 4.47% completo\n",
      "Cargando: 4.53% completo\n",
      "Cargando: 4.58% completo\n",
      "Cargando: 4.64% completo\n",
      "Cargando: 4.70% completo\n",
      "Cargando: 4.75% completo\n",
      "Cargando: 4.81% completo\n",
      "Cargando: 4.87% completo\n",
      "Cargando: 4.92% completo\n",
      "Cargando: 4.98% completo\n",
      "Cargando: 5.04% completo\n",
      "Cargando: 5.09% completo\n",
      "Cargando: 5.15% completo\n",
      "Cargando: 5.21% completo\n",
      "Cargando: 5.26% completo\n",
      "Cargando: 5.32% completo\n",
      "Cargando: 5.38% completo\n",
      "Cargando: 5.43% completo\n",
      "Cargando: 5.49% completo\n",
      "Cargando: 5.55% completo\n",
      "Cargando: 5.60% completo\n",
      "Cargando: 5.66% completo\n",
      "Cargando: 5.72% completo\n",
      "Cargando: 5.77% completo\n",
      "Cargando: 5.83% completo\n",
      "Cargando: 5.89% completo\n",
      "Cargando: 5.94% completo\n",
      "Cargando: 6.00% completo\n",
      "Cargando: 6.06% completo\n",
      "Cargando: 6.11% completo\n",
      "Cargando: 6.17% completo\n",
      "Cargando: 6.23% completo\n",
      "Cargando: 6.28% completo\n",
      "Cargando: 6.34% completo\n",
      "Cargando: 6.40% completo\n",
      "Cargando: 6.45% completo\n",
      "Cargando: 6.51% completo\n",
      "Cargando: 6.56% completo\n",
      "Cargando: 6.62% completo\n",
      "Cargando: 6.68% completo\n",
      "Cargando: 6.73% completo\n",
      "Cargando: 6.79% completo\n",
      "Cargando: 6.85% completo\n",
      "Cargando: 6.90% completo\n",
      "Cargando: 6.96% completo\n",
      "Cargando: 7.02% completo\n",
      "Cargando: 7.07% completo\n",
      "Cargando: 7.13% completo\n",
      "Cargando: 7.19% completo\n",
      "Cargando: 7.24% completo\n",
      "Cargando: 7.30% completo\n",
      "Cargando: 7.36% completo\n",
      "Cargando: 7.41% completo\n",
      "Cargando: 7.47% completo\n",
      "Cargando: 7.53% completo\n",
      "Cargando: 7.58% completo\n",
      "Cargando: 7.64% completo\n",
      "Cargando: 7.70% completo\n",
      "Cargando: 7.75% completo\n",
      "Cargando: 7.81% completo\n",
      "Cargando: 7.87% completo\n",
      "Cargando: 7.92% completo\n",
      "Cargando: 7.98% completo\n",
      "Cargando: 8.04% completo\n",
      "Cargando: 8.09% completo\n",
      "Cargando: 8.15% completo\n",
      "Cargando: 8.21% completo\n",
      "Cargando: 8.26% completo\n",
      "Cargando: 8.32% completo\n",
      "Cargando: 8.38% completo\n",
      "Cargando: 8.43% completo\n",
      "Cargando: 8.49% completo\n",
      "Cargando: 8.55% completo\n",
      "Cargando: 8.60% completo\n",
      "Cargando: 8.66% completo\n",
      "Cargando: 8.72% completo\n",
      "Cargando: 8.77% completo\n",
      "Cargando: 8.83% completo\n",
      "Cargando: 8.89% completo\n",
      "Cargando: 8.94% completo\n",
      "Cargando: 9.00% completo\n",
      "Cargando: 9.05% completo\n",
      "Cargando: 9.11% completo\n",
      "Cargando: 9.17% completo\n",
      "Cargando: 9.22% completo\n",
      "Cargando: 9.28% completo\n",
      "Cargando: 9.34% completo\n",
      "Cargando: 9.39% completo\n",
      "Cargando: 9.45% completo\n",
      "Cargando: 9.51% completo\n",
      "Cargando: 9.56% completo\n",
      "Cargando: 9.62% completo\n",
      "Cargando: 9.68% completo\n",
      "Cargando: 9.73% completo\n",
      "Cargando: 9.79% completo\n",
      "Cargando: 9.85% completo\n",
      "Cargando: 9.90% completo\n",
      "Cargando: 9.96% completo\n",
      "Cargando: 10.02% completo\n",
      "Cargando: 10.07% completo\n",
      "Cargando: 10.13% completo\n",
      "Cargando: 10.19% completo\n",
      "Cargando: 10.24% completo\n",
      "Cargando: 10.30% completo\n",
      "Cargando: 10.36% completo\n",
      "Cargando: 10.41% completo\n",
      "Cargando: 10.47% completo\n",
      "Cargando: 10.53% completo\n",
      "Cargando: 10.58% completo\n",
      "Cargando: 10.64% completo\n",
      "Cargando: 10.70% completo\n",
      "Cargando: 10.75% completo\n",
      "Cargando: 10.81% completo\n",
      "Cargando: 10.87% completo\n",
      "Cargando: 10.92% completo\n",
      "Cargando: 10.98% completo\n",
      "Cargando: 11.04% completo\n",
      "Cargando: 11.09% completo\n",
      "Cargando: 11.15% completo\n",
      "Cargando: 11.21% completo\n",
      "Cargando: 11.26% completo\n",
      "Cargando: 11.32% completo\n",
      "Cargando: 11.38% completo\n",
      "Cargando: 11.43% completo\n",
      "Cargando: 11.49% completo\n",
      "Cargando: 11.54% completo\n",
      "Cargando: 11.60% completo\n",
      "Cargando: 11.66% completo\n",
      "Cargando: 11.71% completo\n",
      "Cargando: 11.77% completo\n",
      "Cargando: 11.83% completo\n",
      "Cargando: 11.88% completo\n",
      "Cargando: 11.94% completo\n",
      "Cargando: 12.00% completo\n",
      "Cargando: 12.05% completo\n",
      "Cargando: 12.11% completo\n",
      "Cargando: 12.17% completo\n",
      "Cargando: 12.22% completo\n",
      "Cargando: 12.28% completo\n",
      "Cargando: 12.34% completo\n",
      "Cargando: 12.39% completo\n",
      "Cargando: 12.45% completo\n",
      "Cargando: 12.51% completo\n",
      "Cargando: 12.56% completo\n",
      "Cargando: 12.62% completo\n",
      "Cargando: 12.68% completo\n",
      "Cargando: 12.73% completo\n",
      "Cargando: 12.79% completo\n",
      "Cargando: 12.85% completo\n",
      "Cargando: 12.90% completo\n",
      "Cargando: 12.96% completo\n",
      "Cargando: 13.02% completo\n",
      "Cargando: 13.07% completo\n",
      "Cargando: 13.13% completo\n",
      "Cargando: 13.19% completo\n",
      "Cargando: 13.24% completo\n",
      "Cargando: 13.30% completo\n",
      "Cargando: 13.36% completo\n",
      "Cargando: 13.41% completo\n",
      "Cargando: 13.47% completo\n",
      "Cargando: 13.53% completo\n",
      "Cargando: 13.58% completo\n",
      "Cargando: 13.64% completo\n",
      "Cargando: 13.70% completo\n",
      "Cargando: 13.75% completo\n",
      "Cargando: 13.81% completo\n",
      "Cargando: 13.87% completo\n",
      "Cargando: 13.92% completo\n",
      "Cargando: 13.98% completo\n",
      "Cargando: 14.04% completo\n",
      "Cargando: 14.09% completo\n",
      "Cargando: 14.15% completo\n",
      "Cargando: 14.20% completo\n",
      "Cargando: 14.26% completo\n",
      "Cargando: 14.32% completo\n",
      "Cargando: 14.37% completo\n",
      "Cargando: 14.43% completo\n",
      "Cargando: 14.49% completo\n",
      "Cargando: 14.54% completo\n",
      "Cargando: 14.60% completo\n",
      "Cargando: 14.66% completo\n",
      "Cargando: 14.71% completo\n",
      "Cargando: 14.77% completo\n",
      "Cargando: 14.83% completo\n",
      "Cargando: 14.88% completo\n",
      "Cargando: 14.94% completo\n",
      "Cargando: 15.00% completo\n",
      "Cargando: 15.05% completo\n",
      "Cargando: 15.11% completo\n",
      "Cargando: 15.17% completo\n",
      "Cargando: 15.22% completo\n",
      "Cargando: 15.28% completo\n",
      "Cargando: 15.34% completo\n",
      "Cargando: 15.39% completo\n",
      "Cargando: 15.45% completo\n",
      "Cargando: 15.51% completo\n",
      "Cargando: 15.56% completo\n",
      "Cargando: 15.62% completo\n",
      "Cargando: 15.68% completo\n",
      "Cargando: 15.73% completo\n",
      "Cargando: 15.79% completo\n",
      "Cargando: 15.85% completo\n",
      "Cargando: 15.90% completo\n",
      "Cargando: 15.96% completo\n",
      "Cargando: 16.02% completo\n",
      "Cargando: 16.07% completo\n",
      "Cargando: 16.13% completo\n",
      "Cargando: 16.19% completo\n",
      "Cargando: 16.24% completo\n",
      "Cargando: 16.30% completo\n",
      "Cargando: 16.36% completo\n",
      "Cargando: 16.41% completo\n",
      "Cargando: 16.47% completo\n",
      "Cargando: 16.53% completo\n",
      "Cargando: 16.58% completo\n",
      "Cargando: 16.64% completo\n",
      "Cargando: 16.69% completo\n",
      "Cargando: 16.75% completo\n",
      "Cargando: 16.81% completo\n",
      "Cargando: 16.86% completo\n",
      "Cargando: 16.92% completo\n",
      "Cargando: 16.98% completo\n",
      "Cargando: 17.03% completo\n",
      "Cargando: 17.09% completo\n",
      "Cargando: 17.15% completo\n",
      "Cargando: 17.20% completo\n",
      "Cargando: 17.26% completo\n",
      "Cargando: 17.32% completo\n",
      "Cargando: 17.37% completo\n",
      "Cargando: 17.43% completo\n",
      "Cargando: 17.49% completo\n",
      "Cargando: 17.54% completo\n",
      "Cargando: 17.60% completo\n",
      "Cargando: 17.66% completo\n",
      "Cargando: 17.71% completo\n",
      "Cargando: 17.77% completo\n",
      "Cargando: 17.83% completo\n",
      "Cargando: 17.88% completo\n",
      "Cargando: 17.94% completo\n",
      "Cargando: 18.00% completo\n",
      "Cargando: 18.05% completo\n",
      "Cargando: 18.11% completo\n",
      "Cargando: 18.17% completo\n",
      "Cargando: 18.22% completo\n",
      "Cargando: 18.28% completo\n",
      "Cargando: 18.34% completo\n",
      "Cargando: 18.39% completo\n",
      "Cargando: 18.45% completo\n",
      "Cargando: 18.51% completo\n",
      "Cargando: 18.56% completo\n",
      "Cargando: 18.62% completo\n",
      "Cargando: 18.68% completo\n",
      "Cargando: 18.73% completo\n",
      "Cargando: 18.79% completo\n",
      "Cargando: 18.85% completo\n",
      "Cargando: 18.90% completo\n",
      "Cargando: 18.96% completo\n",
      "Cargando: 19.02% completo\n",
      "Cargando: 19.07% completo\n",
      "Cargando: 19.13% completo\n",
      "Cargando: 19.19% completo\n",
      "Cargando: 19.24% completo\n",
      "Cargando: 19.30% completo\n",
      "Cargando: 19.35% completo\n",
      "Cargando: 19.41% completo\n",
      "Cargando: 19.47% completo\n",
      "Cargando: 19.52% completo\n",
      "Cargando: 19.58% completo\n",
      "Cargando: 19.64% completo\n",
      "Cargando: 19.69% completo\n",
      "Cargando: 19.75% completo\n",
      "Cargando: 19.81% completo\n",
      "Cargando: 19.86% completo\n",
      "Cargando: 19.92% completo\n",
      "Cargando: 19.98% completo\n",
      "Cargando: 20.03% completo\n",
      "Cargando: 20.09% completo\n",
      "Cargando: 20.15% completo\n",
      "Cargando: 20.20% completo\n",
      "Cargando: 20.26% completo\n",
      "Cargando: 20.32% completo\n",
      "Cargando: 20.37% completo\n",
      "Cargando: 20.43% completo\n",
      "Cargando: 20.49% completo\n",
      "Cargando: 20.54% completo\n",
      "Cargando: 20.60% completo\n",
      "Cargando: 20.66% completo\n",
      "Cargando: 20.71% completo\n",
      "Cargando: 20.77% completo\n",
      "Cargando: 20.83% completo\n",
      "Cargando: 20.88% completo\n",
      "Cargando: 20.94% completo\n",
      "Cargando: 21.00% completo\n",
      "Cargando: 21.05% completo\n",
      "Cargando: 21.11% completo\n",
      "Cargando: 21.17% completo\n",
      "Cargando: 21.22% completo\n",
      "Cargando: 21.28% completo\n",
      "Cargando: 21.34% completo\n",
      "Cargando: 21.39% completo\n",
      "Cargando: 21.45% completo\n",
      "Cargando: 21.51% completo\n",
      "Cargando: 21.56% completo\n",
      "Cargando: 21.62% completo\n",
      "Cargando: 21.68% completo\n",
      "Cargando: 21.73% completo\n",
      "Cargando: 21.79% completo\n",
      "Cargando: 21.84% completo\n",
      "Cargando: 21.90% completo\n",
      "Cargando: 21.96% completo\n",
      "Cargando: 22.01% completo\n",
      "Cargando: 22.07% completo\n",
      "Cargando: 22.13% completo\n",
      "Cargando: 22.18% completo\n",
      "Cargando: 22.24% completo\n",
      "Cargando: 22.30% completo\n",
      "Cargando: 22.35% completo\n",
      "Cargando: 22.41% completo\n",
      "Cargando: 22.47% completo\n",
      "Cargando: 22.52% completo\n",
      "Cargando: 22.58% completo\n",
      "Cargando: 22.64% completo\n",
      "Cargando: 22.69% completo\n",
      "Cargando: 22.75% completo\n",
      "Cargando: 22.81% completo\n",
      "Cargando: 22.86% completo\n",
      "Cargando: 22.92% completo\n",
      "Cargando: 22.98% completo\n",
      "Cargando: 23.03% completo\n",
      "Cargando: 23.09% completo\n",
      "Cargando: 23.15% completo\n",
      "Cargando: 23.20% completo\n",
      "Cargando: 23.26% completo\n",
      "Cargando: 23.32% completo\n",
      "Cargando: 23.37% completo\n",
      "Cargando: 23.43% completo\n",
      "Cargando: 23.49% completo\n",
      "Cargando: 23.54% completo\n",
      "Cargando: 23.60% completo\n",
      "Cargando: 23.66% completo\n",
      "Cargando: 23.71% completo\n",
      "Cargando: 23.77% completo\n",
      "Cargando: 23.83% completo\n",
      "Cargando: 23.88% completo\n",
      "Cargando: 23.94% completo\n",
      "Cargando: 24.00% completo\n",
      "Cargando: 24.05% completo\n",
      "Cargando: 24.11% completo\n",
      "Cargando: 24.17% completo\n",
      "Cargando: 24.22% completo\n",
      "Cargando: 24.28% completo\n",
      "Cargando: 24.34% completo\n",
      "Cargando: 24.39% completo\n",
      "Cargando: 24.45% completo\n",
      "Cargando: 24.50% completo\n",
      "Cargando: 24.56% completo\n",
      "Cargando: 24.62% completo\n",
      "Cargando: 24.67% completo\n",
      "Cargando: 24.73% completo\n",
      "Cargando: 24.79% completo\n",
      "Cargando: 24.84% completo\n",
      "Cargando: 24.90% completo\n",
      "Cargando: 24.96% completo\n",
      "Cargando: 25.01% completo\n",
      "Cargando: 25.07% completo\n",
      "Cargando: 25.13% completo\n",
      "Cargando: 25.18% completo\n",
      "Cargando: 25.24% completo\n",
      "Cargando: 25.30% completo\n",
      "Cargando: 25.35% completo\n",
      "Cargando: 25.41% completo\n",
      "Cargando: 25.47% completo\n",
      "Cargando: 25.52% completo\n",
      "Cargando: 25.58% completo\n",
      "Cargando: 25.64% completo\n",
      "Cargando: 25.69% completo\n",
      "Cargando: 25.75% completo\n",
      "Cargando: 25.81% completo\n",
      "Cargando: 25.86% completo\n",
      "Cargando: 25.92% completo\n",
      "Cargando: 25.98% completo\n",
      "Cargando: 26.03% completo\n",
      "Cargando: 26.09% completo\n",
      "Cargando: 26.15% completo\n",
      "Cargando: 26.20% completo\n",
      "Cargando: 26.26% completo\n",
      "Cargando: 26.32% completo\n",
      "Cargando: 26.37% completo\n",
      "Cargando: 26.43% completo\n",
      "Cargando: 26.49% completo\n",
      "Cargando: 26.54% completo\n",
      "Cargando: 26.60% completo\n",
      "Cargando: 26.66% completo\n",
      "Cargando: 26.71% completo\n",
      "Cargando: 26.77% completo\n",
      "Cargando: 26.83% completo\n",
      "Cargando: 26.88% completo\n",
      "Cargando: 26.94% completo\n",
      "Cargando: 26.99% completo\n",
      "Cargando: 27.05% completo\n",
      "Cargando: 27.11% completo\n",
      "Cargando: 27.16% completo\n",
      "Cargando: 27.22% completo\n",
      "Cargando: 27.28% completo\n",
      "Cargando: 27.33% completo\n",
      "Cargando: 27.39% completo\n",
      "Cargando: 27.45% completo\n",
      "Cargando: 27.50% completo\n",
      "Cargando: 27.56% completo\n",
      "Cargando: 27.62% completo\n",
      "Cargando: 27.67% completo\n",
      "Cargando: 27.73% completo\n",
      "Cargando: 27.79% completo\n",
      "Cargando: 27.84% completo\n",
      "Cargando: 27.90% completo\n",
      "Cargando: 27.96% completo\n",
      "Cargando: 28.01% completo\n",
      "Cargando: 28.07% completo\n",
      "Cargando: 28.13% completo\n",
      "Cargando: 28.18% completo\n",
      "Cargando: 28.24% completo\n",
      "Cargando: 28.30% completo\n",
      "Cargando: 28.35% completo\n",
      "Cargando: 28.41% completo\n",
      "Cargando: 28.47% completo\n",
      "Cargando: 28.52% completo\n",
      "Cargando: 28.58% completo\n",
      "Cargando: 28.64% completo\n",
      "Cargando: 28.69% completo\n",
      "Cargando: 28.75% completo\n",
      "Cargando: 28.81% completo\n",
      "Cargando: 28.86% completo\n",
      "Cargando: 28.92% completo\n",
      "Cargando: 28.98% completo\n",
      "Cargando: 29.03% completo\n",
      "Cargando: 29.09% completo\n",
      "Cargando: 29.15% completo\n",
      "Cargando: 29.20% completo\n",
      "Cargando: 29.26% completo\n",
      "Cargando: 29.32% completo\n",
      "Cargando: 29.37% completo\n",
      "Cargando: 29.43% completo\n",
      "Cargando: 29.49% completo\n",
      "Cargando: 29.54% completo\n",
      "Cargando: 29.60% completo\n",
      "Cargando: 29.65% completo\n",
      "Cargando: 29.71% completo\n",
      "Cargando: 29.77% completo\n",
      "Cargando: 29.82% completo\n",
      "Cargando: 29.88% completo\n",
      "Cargando: 29.94% completo\n",
      "Cargando: 29.99% completo\n",
      "Cargando: 30.05% completo\n",
      "Cargando: 30.11% completo\n",
      "Cargando: 30.16% completo\n",
      "Cargando: 30.22% completo\n",
      "Cargando: 30.28% completo\n",
      "Cargando: 30.33% completo\n",
      "Cargando: 30.39% completo\n",
      "Cargando: 30.45% completo\n",
      "Cargando: 30.50% completo\n",
      "Cargando: 30.56% completo\n",
      "Cargando: 30.62% completo\n",
      "Cargando: 30.67% completo\n",
      "Cargando: 30.73% completo\n",
      "Cargando: 30.79% completo\n",
      "Cargando: 30.84% completo\n",
      "Cargando: 30.90% completo\n",
      "Cargando: 30.96% completo\n",
      "Cargando: 31.01% completo\n",
      "Cargando: 31.07% completo\n",
      "Cargando: 31.13% completo\n",
      "Cargando: 31.18% completo\n",
      "Cargando: 31.24% completo\n",
      "Cargando: 31.30% completo\n",
      "Cargando: 31.35% completo\n",
      "Cargando: 31.41% completo\n",
      "Cargando: 31.47% completo\n",
      "Cargando: 31.52% completo\n",
      "Cargando: 31.58% completo\n",
      "Cargando: 31.64% completo\n",
      "Cargando: 31.69% completo\n",
      "Cargando: 31.75% completo\n",
      "Cargando: 31.81% completo\n",
      "Cargando: 31.86% completo\n",
      "Cargando: 31.92% completo\n",
      "Cargando: 31.98% completo\n",
      "Cargando: 32.03% completo\n",
      "Cargando: 32.09% completo\n",
      "Cargando: 32.14% completo\n",
      "Cargando: 32.20% completo\n",
      "Cargando: 32.26% completo\n",
      "Cargando: 32.31% completo\n",
      "Cargando: 32.37% completo\n",
      "Cargando: 32.43% completo\n",
      "Cargando: 32.48% completo\n",
      "Cargando: 32.54% completo\n",
      "Cargando: 32.60% completo\n",
      "Cargando: 32.65% completo\n",
      "Cargando: 32.71% completo\n",
      "Cargando: 32.77% completo\n",
      "Cargando: 32.82% completo\n",
      "Cargando: 32.88% completo\n",
      "Cargando: 32.94% completo\n",
      "Cargando: 32.99% completo\n",
      "Cargando: 33.05% completo\n",
      "Cargando: 33.11% completo\n",
      "Cargando: 33.16% completo\n",
      "Cargando: 33.22% completo\n",
      "Cargando: 33.28% completo\n",
      "Cargando: 33.33% completo\n",
      "Cargando: 33.39% completo\n",
      "Cargando: 33.45% completo\n",
      "Cargando: 33.50% completo\n",
      "Cargando: 33.56% completo\n",
      "Cargando: 33.62% completo\n",
      "Cargando: 33.67% completo\n",
      "Cargando: 33.73% completo\n",
      "Cargando: 33.79% completo\n",
      "Cargando: 33.84% completo\n",
      "Cargando: 33.90% completo\n",
      "Cargando: 33.96% completo\n",
      "Cargando: 34.01% completo\n",
      "Cargando: 34.07% completo\n",
      "Cargando: 34.13% completo\n",
      "Cargando: 34.18% completo\n",
      "Cargando: 34.24% completo\n",
      "Cargando: 34.30% completo\n",
      "Cargando: 34.35% completo\n",
      "Cargando: 34.41% completo\n",
      "Cargando: 34.47% completo\n",
      "Cargando: 34.52% completo\n",
      "Cargando: 34.58% completo\n",
      "Cargando: 34.63% completo\n",
      "Cargando: 34.69% completo\n",
      "Cargando: 34.75% completo\n",
      "Cargando: 34.80% completo\n",
      "Cargando: 34.86% completo\n",
      "Cargando: 34.92% completo\n",
      "Cargando: 34.97% completo\n",
      "Cargando: 35.03% completo\n",
      "Cargando: 35.09% completo\n",
      "Cargando: 35.14% completo\n",
      "Cargando: 35.20% completo\n",
      "Cargando: 35.26% completo\n",
      "Cargando: 35.31% completo\n",
      "Cargando: 35.37% completo\n",
      "Cargando: 35.43% completo\n",
      "Cargando: 35.48% completo\n",
      "Cargando: 35.54% completo\n",
      "Cargando: 35.60% completo\n",
      "Cargando: 35.65% completo\n",
      "Cargando: 35.71% completo\n",
      "Cargando: 35.77% completo\n",
      "Cargando: 35.82% completo\n",
      "Cargando: 35.88% completo\n",
      "Cargando: 35.94% completo\n",
      "Cargando: 35.99% completo\n",
      "Cargando: 36.05% completo\n",
      "Cargando: 36.11% completo\n",
      "Cargando: 36.16% completo\n",
      "Cargando: 36.22% completo\n",
      "Cargando: 36.28% completo\n",
      "Cargando: 36.33% completo\n",
      "Cargando: 36.39% completo\n",
      "Cargando: 36.45% completo\n",
      "Cargando: 36.50% completo\n",
      "Cargando: 36.56% completo\n",
      "Cargando: 36.62% completo\n",
      "Cargando: 36.67% completo\n",
      "Cargando: 36.73% completo\n",
      "Cargando: 36.79% completo\n",
      "Cargando: 36.84% completo\n",
      "Cargando: 36.90% completo\n",
      "Cargando: 36.96% completo\n",
      "Cargando: 37.01% completo\n",
      "Cargando: 37.07% completo\n",
      "Cargando: 37.13% completo\n",
      "Cargando: 37.18% completo\n",
      "Cargando: 37.24% completo\n",
      "Cargando: 37.29% completo\n",
      "Cargando: 37.35% completo\n",
      "Cargando: 37.41% completo\n",
      "Cargando: 37.46% completo\n",
      "Cargando: 37.52% completo\n",
      "Cargando: 37.58% completo\n",
      "Cargando: 37.63% completo\n",
      "Cargando: 37.69% completo\n",
      "Cargando: 37.75% completo\n",
      "Cargando: 37.80% completo\n",
      "Cargando: 37.86% completo\n",
      "Cargando: 37.92% completo\n",
      "Cargando: 37.97% completo\n",
      "Cargando: 38.03% completo\n",
      "Cargando: 38.09% completo\n",
      "Cargando: 38.14% completo\n",
      "Cargando: 38.20% completo\n",
      "Cargando: 38.26% completo\n",
      "Cargando: 38.31% completo\n",
      "Cargando: 38.37% completo\n",
      "Cargando: 38.43% completo\n",
      "Cargando: 38.48% completo\n",
      "Cargando: 38.54% completo\n",
      "Cargando: 38.60% completo\n",
      "Cargando: 38.65% completo\n",
      "Cargando: 38.71% completo\n",
      "Cargando: 38.77% completo\n",
      "Cargando: 38.82% completo\n",
      "Cargando: 38.88% completo\n",
      "Cargando: 38.94% completo\n",
      "Cargando: 38.99% completo\n",
      "Cargando: 39.05% completo\n",
      "Cargando: 39.11% completo\n",
      "Cargando: 39.16% completo\n",
      "Cargando: 39.22% completo\n",
      "Cargando: 39.28% completo\n",
      "Cargando: 39.33% completo\n",
      "Cargando: 39.39% completo\n",
      "Cargando: 39.45% completo\n",
      "Cargando: 39.50% completo\n",
      "Cargando: 39.56% completo\n",
      "Cargando: 39.62% completo\n",
      "Cargando: 39.67% completo\n",
      "Cargando: 39.73% completo\n",
      "Cargando: 39.78% completo\n",
      "Cargando: 39.84% completo\n",
      "Cargando: 39.90% completo\n",
      "Cargando: 39.95% completo\n",
      "Cargando: 40.01% completo\n",
      "Cargando: 40.07% completo\n",
      "Cargando: 40.12% completo\n",
      "Cargando: 40.18% completo\n",
      "Cargando: 40.24% completo\n",
      "Cargando: 40.29% completo\n",
      "Cargando: 40.35% completo\n",
      "Cargando: 40.41% completo\n",
      "Cargando: 40.46% completo\n",
      "Cargando: 40.52% completo\n",
      "Cargando: 40.58% completo\n",
      "Cargando: 40.63% completo\n",
      "Cargando: 40.69% completo\n",
      "Cargando: 40.75% completo\n",
      "Cargando: 40.80% completo\n",
      "Cargando: 40.86% completo\n",
      "Cargando: 40.92% completo\n",
      "Cargando: 40.97% completo\n",
      "Cargando: 41.03% completo\n",
      "Cargando: 41.09% completo\n",
      "Cargando: 41.14% completo\n",
      "Cargando: 41.20% completo\n",
      "Cargando: 41.26% completo\n",
      "Cargando: 41.31% completo\n",
      "Cargando: 41.37% completo\n",
      "Cargando: 41.43% completo\n",
      "Cargando: 41.48% completo\n",
      "Cargando: 41.54% completo\n",
      "Cargando: 41.60% completo\n",
      "Cargando: 41.65% completo\n",
      "Cargando: 41.71% completo\n",
      "Cargando: 41.77% completo\n",
      "Cargando: 41.82% completo\n",
      "Cargando: 41.88% completo\n",
      "Cargando: 41.94% completo\n",
      "Cargando: 41.99% completo\n",
      "Cargando: 42.05% completo\n",
      "Cargando: 42.11% completo\n",
      "Cargando: 42.16% completo\n",
      "Cargando: 42.22% completo\n",
      "Cargando: 42.28% completo\n",
      "Cargando: 42.33% completo\n",
      "Cargando: 42.39% completo\n",
      "Cargando: 42.44% completo\n",
      "Cargando: 42.50% completo\n",
      "Cargando: 42.56% completo\n",
      "Cargando: 42.61% completo\n",
      "Cargando: 42.67% completo\n",
      "Cargando: 42.73% completo\n",
      "Cargando: 42.78% completo\n",
      "Cargando: 42.84% completo\n",
      "Cargando: 42.90% completo\n",
      "Cargando: 42.95% completo\n",
      "Cargando: 43.01% completo\n",
      "Cargando: 43.07% completo\n",
      "Cargando: 43.12% completo\n",
      "Cargando: 43.18% completo\n",
      "Cargando: 43.24% completo\n",
      "Cargando: 43.29% completo\n",
      "Cargando: 43.35% completo\n",
      "Cargando: 43.41% completo\n",
      "Cargando: 43.46% completo\n",
      "Cargando: 43.52% completo\n",
      "Cargando: 43.58% completo\n",
      "Cargando: 43.63% completo\n",
      "Cargando: 43.69% completo\n",
      "Cargando: 43.75% completo\n",
      "Cargando: 43.80% completo\n",
      "Cargando: 43.86% completo\n",
      "Cargando: 43.92% completo\n",
      "Cargando: 43.97% completo\n",
      "Cargando: 44.03% completo\n",
      "Cargando: 44.09% completo\n",
      "Cargando: 44.14% completo\n",
      "Cargando: 44.20% completo\n",
      "Cargando: 44.26% completo\n",
      "Cargando: 44.31% completo\n",
      "Cargando: 44.37% completo\n",
      "Cargando: 44.43% completo\n",
      "Cargando: 44.48% completo\n",
      "Cargando: 44.54% completo\n",
      "Cargando: 44.60% completo\n",
      "Cargando: 44.65% completo\n",
      "Cargando: 44.71% completo\n",
      "Cargando: 44.77% completo\n",
      "Cargando: 44.82% completo\n",
      "Cargando: 44.88% completo\n",
      "Cargando: 44.93% completo\n",
      "Cargando: 44.99% completo\n",
      "Cargando: 45.05% completo\n",
      "Cargando: 45.10% completo\n",
      "Cargando: 45.16% completo\n",
      "Cargando: 45.22% completo\n",
      "Cargando: 45.27% completo\n",
      "Cargando: 45.33% completo\n",
      "Cargando: 45.39% completo\n",
      "Cargando: 45.44% completo\n",
      "Cargando: 45.50% completo\n",
      "Cargando: 45.56% completo\n",
      "Cargando: 45.61% completo\n",
      "Cargando: 45.67% completo\n",
      "Cargando: 45.73% completo\n",
      "Cargando: 45.78% completo\n",
      "Cargando: 45.84% completo\n",
      "Cargando: 45.90% completo\n",
      "Cargando: 45.95% completo\n",
      "Cargando: 46.01% completo\n",
      "Cargando: 46.07% completo\n",
      "Cargando: 46.12% completo\n",
      "Cargando: 46.18% completo\n",
      "Cargando: 46.24% completo\n",
      "Cargando: 46.29% completo\n",
      "Cargando: 46.35% completo\n",
      "Cargando: 46.41% completo\n",
      "Cargando: 46.46% completo\n",
      "Cargando: 46.52% completo\n",
      "Cargando: 46.58% completo\n",
      "Cargando: 46.63% completo\n",
      "Cargando: 46.69% completo\n",
      "Cargando: 46.75% completo\n",
      "Cargando: 46.80% completo\n",
      "Cargando: 46.86% completo\n",
      "Cargando: 46.92% completo\n",
      "Cargando: 46.97% completo\n",
      "Cargando: 47.03% completo\n",
      "Cargando: 47.09% completo\n",
      "Cargando: 47.14% completo\n",
      "Cargando: 47.20% completo\n",
      "Cargando: 47.26% completo\n",
      "Cargando: 47.31% completo\n",
      "Cargando: 47.37% completo\n",
      "Cargando: 47.43% completo\n",
      "Cargando: 47.48% completo\n",
      "Cargando: 47.54% completo\n",
      "Cargando: 47.59% completo\n",
      "Cargando: 47.65% completo\n",
      "Cargando: 47.71% completo\n",
      "Cargando: 47.76% completo\n",
      "Cargando: 47.82% completo\n",
      "Cargando: 47.88% completo\n",
      "Cargando: 47.93% completo\n",
      "Cargando: 47.99% completo\n",
      "Cargando: 48.05% completo\n",
      "Cargando: 48.10% completo\n",
      "Cargando: 48.16% completo\n",
      "Cargando: 48.22% completo\n",
      "Cargando: 48.27% completo\n",
      "Cargando: 48.33% completo\n",
      "Cargando: 48.39% completo\n",
      "Cargando: 48.44% completo\n",
      "Cargando: 48.50% completo\n",
      "Cargando: 48.56% completo\n",
      "Cargando: 48.61% completo\n",
      "Cargando: 48.67% completo\n",
      "Cargando: 48.73% completo\n",
      "Cargando: 48.78% completo\n",
      "Cargando: 48.84% completo\n",
      "Cargando: 48.90% completo\n",
      "Cargando: 48.95% completo\n",
      "Cargando: 49.01% completo\n",
      "Cargando: 49.07% completo\n",
      "Cargando: 49.12% completo\n",
      "Cargando: 49.18% completo\n",
      "Cargando: 49.24% completo\n",
      "Cargando: 49.29% completo\n",
      "Cargando: 49.35% completo\n",
      "Cargando: 49.41% completo\n",
      "Cargando: 49.46% completo\n",
      "Cargando: 49.52% completo\n",
      "Cargando: 49.58% completo\n",
      "Cargando: 49.63% completo\n",
      "Cargando: 49.69% completo\n",
      "Cargando: 49.75% completo\n",
      "Cargando: 49.80% completo\n",
      "Cargando: 49.86% completo\n",
      "Cargando: 49.92% completo\n",
      "Cargando: 49.97% completo\n",
      "Cargando: 50.03% completo\n",
      "Cargando: 50.08% completo\n",
      "Cargando: 50.14% completo\n",
      "Cargando: 50.20% completo\n",
      "Cargando: 50.25% completo\n",
      "Cargando: 50.31% completo\n",
      "Cargando: 50.37% completo\n",
      "Cargando: 50.42% completo\n",
      "Cargando: 50.48% completo\n",
      "Cargando: 50.54% completo\n",
      "Cargando: 50.59% completo\n",
      "Cargando: 50.65% completo\n",
      "Cargando: 50.71% completo\n",
      "Cargando: 50.76% completo\n",
      "Cargando: 50.82% completo\n",
      "Cargando: 50.88% completo\n",
      "Cargando: 50.93% completo\n",
      "Cargando: 50.99% completo\n",
      "Cargando: 51.05% completo\n",
      "Cargando: 51.10% completo\n",
      "Cargando: 51.16% completo\n",
      "Cargando: 51.22% completo\n",
      "Cargando: 51.27% completo\n",
      "Cargando: 51.33% completo\n",
      "Cargando: 51.39% completo\n",
      "Cargando: 51.44% completo\n",
      "Cargando: 51.50% completo\n",
      "Cargando: 51.56% completo\n",
      "Cargando: 51.61% completo\n",
      "Cargando: 51.67% completo\n",
      "Cargando: 51.73% completo\n",
      "Cargando: 51.78% completo\n",
      "Cargando: 51.84% completo\n",
      "Cargando: 51.90% completo\n",
      "Cargando: 51.95% completo\n",
      "Cargando: 52.01% completo\n",
      "Cargando: 52.07% completo\n",
      "Cargando: 52.12% completo\n",
      "Cargando: 52.18% completo\n",
      "Cargando: 52.24% completo\n",
      "Cargando: 52.29% completo\n",
      "Cargando: 52.35% completo\n",
      "Cargando: 52.41% completo\n",
      "Cargando: 52.46% completo\n",
      "Cargando: 52.52% completo\n",
      "Cargando: 52.57% completo\n",
      "Cargando: 52.63% completo\n",
      "Cargando: 52.69% completo\n",
      "Cargando: 52.74% completo\n",
      "Cargando: 52.80% completo\n",
      "Cargando: 52.86% completo\n",
      "Cargando: 52.91% completo\n",
      "Cargando: 52.97% completo\n",
      "Cargando: 53.03% completo\n",
      "Cargando: 53.08% completo\n",
      "Cargando: 53.14% completo\n",
      "Cargando: 53.20% completo\n",
      "Cargando: 53.25% completo\n",
      "Cargando: 53.31% completo\n",
      "Cargando: 53.37% completo\n",
      "Cargando: 53.42% completo\n",
      "Cargando: 53.48% completo\n",
      "Cargando: 53.54% completo\n",
      "Cargando: 53.59% completo\n",
      "Cargando: 53.65% completo\n",
      "Cargando: 53.71% completo\n",
      "Cargando: 53.76% completo\n",
      "Cargando: 53.82% completo\n",
      "Cargando: 53.88% completo\n",
      "Cargando: 53.93% completo\n",
      "Cargando: 53.99% completo\n",
      "Cargando: 54.05% completo\n",
      "Cargando: 54.10% completo\n",
      "Cargando: 54.16% completo\n",
      "Cargando: 54.22% completo\n",
      "Cargando: 54.27% completo\n",
      "Cargando: 54.33% completo\n",
      "Cargando: 54.39% completo\n",
      "Cargando: 54.44% completo\n",
      "Cargando: 54.50% completo\n",
      "Cargando: 54.56% completo\n",
      "Cargando: 54.61% completo\n",
      "Cargando: 54.67% completo\n",
      "Cargando: 54.73% completo\n",
      "Cargando: 54.78% completo\n",
      "Cargando: 54.84% completo\n",
      "Cargando: 54.90% completo\n",
      "Cargando: 54.95% completo\n",
      "Cargando: 55.01% completo\n",
      "Cargando: 55.07% completo\n",
      "Cargando: 55.12% completo\n",
      "Cargando: 55.18% completo\n",
      "Cargando: 55.23% completo\n",
      "Cargando: 55.29% completo\n",
      "Cargando: 55.35% completo\n",
      "Cargando: 55.40% completo\n",
      "Cargando: 55.46% completo\n",
      "Cargando: 55.52% completo\n",
      "Cargando: 55.57% completo\n",
      "Cargando: 55.63% completo\n",
      "Cargando: 55.69% completo\n",
      "Cargando: 55.74% completo\n",
      "Cargando: 55.80% completo\n",
      "Cargando: 55.86% completo\n",
      "Cargando: 55.91% completo\n",
      "Cargando: 55.97% completo\n",
      "Cargando: 56.03% completo\n",
      "Cargando: 56.08% completo\n",
      "Cargando: 56.14% completo\n",
      "Cargando: 56.20% completo\n",
      "Cargando: 56.25% completo\n",
      "Cargando: 56.31% completo\n",
      "Cargando: 56.37% completo\n",
      "Cargando: 56.42% completo\n",
      "Cargando: 56.48% completo\n",
      "Cargando: 56.54% completo\n",
      "Cargando: 56.59% completo\n",
      "Cargando: 56.65% completo\n",
      "Cargando: 56.71% completo\n",
      "Cargando: 56.76% completo\n",
      "Cargando: 56.82% completo\n",
      "Cargando: 56.88% completo\n",
      "Cargando: 56.93% completo\n",
      "Cargando: 56.99% completo\n",
      "Cargando: 57.05% completo\n",
      "Cargando: 57.10% completo\n",
      "Cargando: 57.16% completo\n",
      "Cargando: 57.22% completo\n",
      "Cargando: 57.27% completo\n",
      "Cargando: 57.33% completo\n",
      "Cargando: 57.39% completo\n",
      "Cargando: 57.44% completo\n",
      "Cargando: 57.50% completo\n",
      "Cargando: 57.56% completo\n",
      "Cargando: 57.61% completo\n",
      "Cargando: 57.67% completo\n",
      "Cargando: 57.72% completo\n",
      "Cargando: 57.78% completo\n",
      "Cargando: 57.84% completo\n",
      "Cargando: 57.89% completo\n",
      "Cargando: 57.95% completo\n",
      "Cargando: 58.01% completo\n",
      "Cargando: 58.06% completo\n",
      "Cargando: 58.12% completo\n",
      "Cargando: 58.18% completo\n",
      "Cargando: 58.23% completo\n",
      "Cargando: 58.29% completo\n",
      "Cargando: 58.35% completo\n",
      "Cargando: 58.40% completo\n",
      "Cargando: 58.46% completo\n",
      "Cargando: 58.52% completo\n",
      "Cargando: 58.57% completo\n",
      "Cargando: 58.63% completo\n",
      "Cargando: 58.69% completo\n",
      "Cargando: 58.74% completo\n",
      "Cargando: 58.80% completo\n",
      "Cargando: 58.86% completo\n",
      "Cargando: 58.91% completo\n",
      "Cargando: 58.97% completo\n",
      "Cargando: 59.03% completo\n",
      "Cargando: 59.08% completo\n",
      "Cargando: 59.14% completo\n",
      "Cargando: 59.20% completo\n",
      "Cargando: 59.25% completo\n",
      "Cargando: 59.31% completo\n",
      "Cargando: 59.37% completo\n",
      "Cargando: 59.42% completo\n",
      "Cargando: 59.48% completo\n",
      "Cargando: 59.54% completo\n",
      "Cargando: 59.59% completo\n",
      "Cargando: 59.65% completo\n",
      "Cargando: 59.71% completo\n",
      "Cargando: 59.76% completo\n",
      "Cargando: 59.82% completo\n",
      "Cargando: 59.88% completo\n",
      "Cargando: 59.93% completo\n",
      "Cargando: 59.99% completo\n",
      "Cargando: 60.05% completo\n",
      "Cargando: 60.10% completo\n",
      "Cargando: 60.16% completo\n",
      "Cargando: 60.22% completo\n",
      "Cargando: 60.27% completo\n",
      "Cargando: 60.33% completo\n",
      "Cargando: 60.38% completo\n",
      "Cargando: 60.44% completo\n",
      "Cargando: 60.50% completo\n",
      "Cargando: 60.55% completo\n",
      "Cargando: 60.61% completo\n",
      "Cargando: 60.67% completo\n",
      "Cargando: 60.72% completo\n",
      "Cargando: 60.78% completo\n",
      "Cargando: 60.84% completo\n",
      "Cargando: 60.89% completo\n",
      "Cargando: 60.95% completo\n",
      "Cargando: 61.01% completo\n",
      "Cargando: 61.06% completo\n",
      "Cargando: 61.12% completo\n",
      "Cargando: 61.18% completo\n",
      "Cargando: 61.23% completo\n",
      "Cargando: 61.29% completo\n",
      "Cargando: 61.35% completo\n",
      "Cargando: 61.40% completo\n",
      "Cargando: 61.46% completo\n",
      "Cargando: 61.52% completo\n",
      "Cargando: 61.57% completo\n",
      "Cargando: 61.63% completo\n",
      "Cargando: 61.69% completo\n",
      "Cargando: 61.74% completo\n",
      "Cargando: 61.80% completo\n",
      "Cargando: 61.86% completo\n",
      "Cargando: 61.91% completo\n",
      "Cargando: 61.97% completo\n",
      "Cargando: 62.03% completo\n",
      "Cargando: 62.08% completo\n",
      "Cargando: 62.14% completo\n",
      "Cargando: 62.20% completo\n",
      "Cargando: 62.25% completo\n",
      "Cargando: 62.31% completo\n",
      "Cargando: 62.37% completo\n",
      "Cargando: 62.42% completo\n",
      "Cargando: 62.48% completo\n",
      "Cargando: 62.54% completo\n",
      "Cargando: 62.59% completo\n",
      "Cargando: 62.65% completo\n",
      "Cargando: 62.71% completo\n",
      "Cargando: 62.76% completo\n",
      "Cargando: 62.82% completo\n",
      "Cargando: 62.87% completo\n",
      "Cargando: 62.93% completo\n",
      "Cargando: 62.99% completo\n",
      "Cargando: 63.04% completo\n",
      "Cargando: 63.10% completo\n",
      "Cargando: 63.16% completo\n",
      "Cargando: 63.21% completo\n",
      "Cargando: 63.27% completo\n",
      "Cargando: 63.33% completo\n",
      "Cargando: 63.38% completo\n",
      "Cargando: 63.44% completo\n",
      "Cargando: 63.50% completo\n",
      "Cargando: 63.55% completo\n",
      "Cargando: 63.61% completo\n",
      "Cargando: 63.67% completo\n",
      "Cargando: 63.72% completo\n",
      "Cargando: 63.78% completo\n",
      "Cargando: 63.84% completo\n",
      "Cargando: 63.89% completo\n",
      "Cargando: 63.95% completo\n",
      "Cargando: 64.01% completo\n",
      "Cargando: 64.06% completo\n",
      "Cargando: 64.12% completo\n",
      "Cargando: 64.18% completo\n",
      "Cargando: 64.23% completo\n",
      "Cargando: 64.29% completo\n",
      "Cargando: 64.35% completo\n",
      "Cargando: 64.40% completo\n",
      "Cargando: 64.46% completo\n",
      "Cargando: 64.52% completo\n",
      "Cargando: 64.57% completo\n",
      "Cargando: 64.63% completo\n",
      "Cargando: 64.69% completo\n",
      "Cargando: 64.74% completo\n",
      "Cargando: 64.80% completo\n",
      "Cargando: 64.86% completo\n",
      "Cargando: 64.91% completo\n",
      "Cargando: 64.97% completo\n",
      "Cargando: 65.03% completo\n",
      "Cargando: 65.08% completo\n",
      "Cargando: 65.14% completo\n",
      "Cargando: 65.20% completo\n",
      "Cargando: 65.25% completo\n",
      "Cargando: 65.31% completo\n",
      "Cargando: 65.37% completo\n",
      "Cargando: 65.42% completo\n",
      "Cargando: 65.48% completo\n",
      "Cargando: 65.53% completo\n",
      "Cargando: 65.59% completo\n",
      "Cargando: 65.65% completo\n",
      "Cargando: 65.70% completo\n",
      "Cargando: 65.76% completo\n",
      "Cargando: 65.82% completo\n",
      "Cargando: 65.87% completo\n",
      "Cargando: 65.93% completo\n",
      "Cargando: 65.99% completo\n",
      "Cargando: 66.04% completo\n",
      "Cargando: 66.10% completo\n",
      "Cargando: 66.16% completo\n",
      "Cargando: 66.21% completo\n",
      "Cargando: 66.27% completo\n",
      "Cargando: 66.33% completo\n",
      "Cargando: 66.38% completo\n",
      "Cargando: 66.44% completo\n",
      "Cargando: 66.50% completo\n",
      "Cargando: 66.55% completo\n",
      "Cargando: 66.61% completo\n",
      "Cargando: 66.67% completo\n",
      "Cargando: 66.72% completo\n",
      "Cargando: 66.78% completo\n",
      "Cargando: 66.84% completo\n",
      "Cargando: 66.89% completo\n",
      "Cargando: 66.95% completo\n",
      "Cargando: 67.01% completo\n",
      "Cargando: 67.06% completo\n",
      "Cargando: 67.12% completo\n",
      "Cargando: 67.18% completo\n",
      "Cargando: 67.23% completo\n",
      "Cargando: 67.29% completo\n",
      "Cargando: 67.35% completo\n",
      "Cargando: 67.40% completo\n",
      "Cargando: 67.46% completo\n",
      "Cargando: 67.52% completo\n",
      "Cargando: 67.57% completo\n",
      "Cargando: 67.63% completo\n",
      "Cargando: 67.69% completo\n",
      "Cargando: 67.74% completo\n",
      "Cargando: 67.80% completo\n",
      "Cargando: 67.86% completo\n",
      "Cargando: 67.91% completo\n",
      "Cargando: 67.97% completo\n",
      "Cargando: 68.02% completo\n",
      "Cargando: 68.08% completo\n",
      "Cargando: 68.14% completo\n",
      "Cargando: 68.19% completo\n",
      "Cargando: 68.25% completo\n",
      "Cargando: 68.31% completo\n",
      "Cargando: 68.36% completo\n",
      "Cargando: 68.42% completo\n",
      "Cargando: 68.48% completo\n",
      "Cargando: 68.53% completo\n",
      "Cargando: 68.59% completo\n",
      "Cargando: 68.65% completo\n",
      "Cargando: 68.70% completo\n",
      "Cargando: 68.76% completo\n",
      "Cargando: 68.82% completo\n",
      "Cargando: 68.87% completo\n",
      "Cargando: 68.93% completo\n",
      "Cargando: 68.99% completo\n",
      "Cargando: 69.04% completo\n",
      "Cargando: 69.10% completo\n",
      "Cargando: 69.16% completo\n",
      "Cargando: 69.21% completo\n",
      "Cargando: 69.27% completo\n",
      "Cargando: 69.33% completo\n",
      "Cargando: 69.38% completo\n",
      "Cargando: 69.44% completo\n",
      "Cargando: 69.50% completo\n",
      "Cargando: 69.55% completo\n",
      "Cargando: 69.61% completo\n",
      "Cargando: 69.67% completo\n",
      "Cargando: 69.72% completo\n",
      "Cargando: 69.78% completo\n",
      "Cargando: 69.84% completo\n",
      "Cargando: 69.89% completo\n",
      "Cargando: 69.95% completo\n",
      "Cargando: 70.01% completo\n",
      "Cargando: 70.06% completo\n",
      "Cargando: 70.12% completo\n",
      "Cargando: 70.18% completo\n",
      "Cargando: 70.23% completo\n",
      "Cargando: 70.29% completo\n",
      "Cargando: 70.35% completo\n",
      "Cargando: 70.40% completo\n",
      "Cargando: 70.46% completo\n",
      "Cargando: 70.51% completo\n",
      "Cargando: 70.57% completo\n",
      "Cargando: 70.63% completo\n",
      "Cargando: 70.68% completo\n",
      "Cargando: 70.74% completo\n",
      "Cargando: 70.80% completo\n",
      "Cargando: 70.85% completo\n",
      "Cargando: 70.91% completo\n",
      "Cargando: 70.97% completo\n",
      "Cargando: 71.02% completo\n",
      "Cargando: 71.08% completo\n",
      "Cargando: 71.14% completo\n",
      "Cargando: 71.19% completo\n",
      "Cargando: 71.25% completo\n",
      "Cargando: 71.31% completo\n",
      "Cargando: 71.36% completo\n",
      "Cargando: 71.42% completo\n",
      "Cargando: 71.48% completo\n",
      "Cargando: 71.53% completo\n",
      "Cargando: 71.59% completo\n",
      "Cargando: 71.65% completo\n",
      "Cargando: 71.70% completo\n",
      "Cargando: 71.76% completo\n",
      "Cargando: 71.82% completo\n",
      "Cargando: 71.87% completo\n",
      "Cargando: 71.93% completo\n",
      "Cargando: 71.99% completo\n",
      "Cargando: 72.04% completo\n",
      "Cargando: 72.10% completo\n",
      "Cargando: 72.16% completo\n",
      "Cargando: 72.21% completo\n",
      "Cargando: 72.27% completo\n",
      "Cargando: 72.33% completo\n",
      "Cargando: 72.38% completo\n",
      "Cargando: 72.44% completo\n",
      "Cargando: 72.50% completo\n",
      "Cargando: 72.55% completo\n",
      "Cargando: 72.61% completo\n",
      "Cargando: 72.67% completo\n",
      "Cargando: 72.72% completo\n",
      "Cargando: 72.78% completo\n",
      "Cargando: 72.84% completo\n",
      "Cargando: 72.89% completo\n",
      "Cargando: 72.95% completo\n",
      "Cargando: 73.01% completo\n",
      "Cargando: 73.06% completo\n",
      "Cargando: 73.12% completo\n",
      "Cargando: 73.17% completo\n",
      "Cargando: 73.23% completo\n",
      "Cargando: 73.29% completo\n",
      "Cargando: 73.34% completo\n",
      "Cargando: 73.40% completo\n",
      "Cargando: 73.46% completo\n",
      "Cargando: 73.51% completo\n",
      "Cargando: 73.57% completo\n",
      "Cargando: 73.63% completo\n",
      "Cargando: 73.68% completo\n",
      "Cargando: 73.74% completo\n",
      "Cargando: 73.80% completo\n",
      "Cargando: 73.85% completo\n",
      "Cargando: 73.91% completo\n",
      "Cargando: 73.97% completo\n",
      "Cargando: 74.02% completo\n",
      "Cargando: 74.08% completo\n",
      "Cargando: 74.14% completo\n",
      "Cargando: 74.19% completo\n",
      "Cargando: 74.25% completo\n",
      "Cargando: 74.31% completo\n",
      "Cargando: 74.36% completo\n",
      "Cargando: 74.42% completo\n",
      "Cargando: 74.48% completo\n",
      "Cargando: 74.53% completo\n",
      "Cargando: 74.59% completo\n",
      "Cargando: 74.65% completo\n",
      "Cargando: 74.70% completo\n",
      "Cargando: 74.76% completo\n",
      "Cargando: 74.82% completo\n",
      "Cargando: 74.87% completo\n",
      "Cargando: 74.93% completo\n",
      "Cargando: 74.99% completo\n",
      "Cargando: 75.04% completo\n",
      "Cargando: 75.10% completo\n",
      "Cargando: 75.16% completo\n",
      "Cargando: 75.21% completo\n",
      "Cargando: 75.27% completo\n",
      "Cargando: 75.33% completo\n",
      "Cargando: 75.38% completo\n",
      "Cargando: 75.44% completo\n",
      "Cargando: 75.50% completo\n",
      "Cargando: 75.55% completo\n",
      "Cargando: 75.61% completo\n",
      "Cargando: 75.66% completo\n",
      "Cargando: 75.72% completo\n",
      "Cargando: 75.78% completo\n",
      "Cargando: 75.83% completo\n",
      "Cargando: 75.89% completo\n",
      "Cargando: 75.95% completo\n",
      "Cargando: 76.00% completo\n",
      "Cargando: 76.06% completo\n",
      "Cargando: 76.12% completo\n",
      "Cargando: 76.17% completo\n",
      "Cargando: 76.23% completo\n",
      "Cargando: 76.29% completo\n",
      "Cargando: 76.34% completo\n",
      "Cargando: 76.40% completo\n",
      "Cargando: 76.46% completo\n",
      "Cargando: 76.51% completo\n",
      "Cargando: 76.57% completo\n",
      "Cargando: 76.63% completo\n",
      "Cargando: 76.68% completo\n",
      "Cargando: 76.74% completo\n",
      "Cargando: 76.80% completo\n",
      "Cargando: 76.85% completo\n",
      "Cargando: 76.91% completo\n",
      "Cargando: 76.97% completo\n",
      "Cargando: 77.02% completo\n",
      "Cargando: 77.08% completo\n",
      "Cargando: 77.14% completo\n",
      "Cargando: 77.19% completo\n",
      "Cargando: 77.25% completo\n",
      "Cargando: 77.31% completo\n",
      "Cargando: 77.36% completo\n",
      "Cargando: 77.42% completo\n",
      "Cargando: 77.48% completo\n",
      "Cargando: 77.53% completo\n",
      "Cargando: 77.59% completo\n",
      "Cargando: 77.65% completo\n",
      "Cargando: 77.70% completo\n",
      "Cargando: 77.76% completo\n",
      "Cargando: 77.82% completo\n",
      "Cargando: 77.87% completo\n",
      "Cargando: 77.93% completo\n",
      "Cargando: 77.99% completo\n",
      "Cargando: 78.04% completo\n",
      "Cargando: 78.10% completo\n",
      "Cargando: 78.16% completo\n",
      "Cargando: 78.21% completo\n",
      "Cargando: 78.27% completo\n",
      "Cargando: 78.32% completo\n",
      "Cargando: 78.38% completo\n",
      "Cargando: 78.44% completo\n",
      "Cargando: 78.49% completo\n",
      "Cargando: 78.55% completo\n",
      "Cargando: 78.61% completo\n",
      "Cargando: 78.66% completo\n",
      "Cargando: 78.72% completo\n",
      "Cargando: 78.78% completo\n",
      "Cargando: 78.83% completo\n",
      "Cargando: 78.89% completo\n",
      "Cargando: 78.95% completo\n",
      "Cargando: 79.00% completo\n",
      "Cargando: 79.06% completo\n",
      "Cargando: 79.12% completo\n",
      "Cargando: 79.17% completo\n",
      "Cargando: 79.23% completo\n",
      "Cargando: 79.29% completo\n",
      "Cargando: 79.34% completo\n",
      "Cargando: 79.40% completo\n",
      "Cargando: 79.46% completo\n",
      "Cargando: 79.51% completo\n",
      "Cargando: 79.57% completo\n",
      "Cargando: 79.63% completo\n",
      "Cargando: 79.68% completo\n",
      "Cargando: 79.74% completo\n",
      "Cargando: 79.80% completo\n",
      "Cargando: 79.85% completo\n",
      "Cargando: 79.91% completo\n",
      "Cargando: 79.97% completo\n",
      "Cargando: 80.02% completo\n",
      "Cargando: 80.08% completo\n",
      "Cargando: 80.14% completo\n",
      "Cargando: 80.19% completo\n",
      "Cargando: 80.25% completo\n",
      "Cargando: 80.31% completo\n",
      "Cargando: 80.36% completo\n",
      "Cargando: 80.42% completo\n",
      "Cargando: 80.48% completo\n",
      "Cargando: 80.53% completo\n",
      "Cargando: 80.59% completo\n",
      "Cargando: 80.65% completo\n",
      "Cargando: 80.70% completo\n",
      "Cargando: 80.76% completo\n",
      "Cargando: 80.81% completo\n",
      "Cargando: 80.87% completo\n",
      "Cargando: 80.93% completo\n",
      "Cargando: 80.98% completo\n",
      "Cargando: 81.04% completo\n",
      "Cargando: 81.10% completo\n",
      "Cargando: 81.15% completo\n",
      "Cargando: 81.21% completo\n",
      "Cargando: 81.27% completo\n",
      "Cargando: 81.32% completo\n",
      "Cargando: 81.38% completo\n",
      "Cargando: 81.44% completo\n",
      "Cargando: 81.49% completo\n",
      "Cargando: 81.55% completo\n",
      "Cargando: 81.61% completo\n",
      "Cargando: 81.66% completo\n",
      "Cargando: 81.72% completo\n",
      "Cargando: 81.78% completo\n",
      "Cargando: 81.83% completo\n",
      "Cargando: 81.89% completo\n",
      "Cargando: 81.95% completo\n",
      "Cargando: 82.00% completo\n",
      "Cargando: 82.06% completo\n",
      "Cargando: 82.12% completo\n",
      "Cargando: 82.17% completo\n",
      "Cargando: 82.23% completo\n",
      "Cargando: 82.29% completo\n",
      "Cargando: 82.34% completo\n",
      "Cargando: 82.40% completo\n",
      "Cargando: 82.46% completo\n",
      "Cargando: 82.51% completo\n",
      "Cargando: 82.57% completo\n",
      "Cargando: 82.63% completo\n",
      "Cargando: 82.68% completo\n",
      "Cargando: 82.74% completo\n",
      "Cargando: 82.80% completo\n",
      "Cargando: 82.85% completo\n",
      "Cargando: 82.91% completo\n",
      "Cargando: 82.97% completo\n",
      "Cargando: 83.02% completo\n",
      "Cargando: 83.08% completo\n",
      "Cargando: 83.14% completo\n",
      "Cargando: 83.19% completo\n",
      "Cargando: 83.25% completo\n",
      "Cargando: 83.31% completo\n",
      "Cargando: 83.36% completo\n",
      "Cargando: 83.42% completo\n",
      "Cargando: 83.47% completo\n",
      "Cargando: 83.53% completo\n",
      "Cargando: 83.59% completo\n",
      "Cargando: 83.64% completo\n",
      "Cargando: 83.70% completo\n",
      "Cargando: 83.76% completo\n",
      "Cargando: 83.81% completo\n",
      "Cargando: 83.87% completo\n",
      "Cargando: 83.93% completo\n",
      "Cargando: 83.98% completo\n",
      "Cargando: 84.04% completo\n",
      "Cargando: 84.10% completo\n",
      "Cargando: 84.15% completo\n",
      "Cargando: 84.21% completo\n",
      "Cargando: 84.27% completo\n",
      "Cargando: 84.32% completo\n",
      "Cargando: 84.38% completo\n",
      "Cargando: 84.44% completo\n",
      "Cargando: 84.49% completo\n",
      "Cargando: 84.55% completo\n",
      "Cargando: 84.61% completo\n",
      "Cargando: 84.66% completo\n",
      "Cargando: 84.72% completo\n",
      "Cargando: 84.78% completo\n",
      "Cargando: 84.83% completo\n",
      "Cargando: 84.89% completo\n",
      "Cargando: 84.95% completo\n",
      "Cargando: 85.00% completo\n",
      "Cargando: 85.06% completo\n",
      "Cargando: 85.12% completo\n",
      "Cargando: 85.17% completo\n",
      "Cargando: 85.23% completo\n",
      "Cargando: 85.29% completo\n",
      "Cargando: 85.34% completo\n",
      "Cargando: 85.40% completo\n",
      "Cargando: 85.46% completo\n",
      "Cargando: 85.51% completo\n",
      "Cargando: 85.57% completo\n",
      "Cargando: 85.63% completo\n",
      "Cargando: 85.68% completo\n",
      "Cargando: 85.74% completo\n",
      "Cargando: 85.80% completo\n",
      "Cargando: 85.85% completo\n",
      "Cargando: 85.91% completo\n",
      "Cargando: 85.96% completo\n",
      "Cargando: 86.02% completo\n",
      "Cargando: 86.08% completo\n",
      "Cargando: 86.13% completo\n",
      "Cargando: 86.19% completo\n",
      "Cargando: 86.25% completo\n",
      "Cargando: 86.30% completo\n",
      "Cargando: 86.36% completo\n",
      "Cargando: 86.42% completo\n",
      "Cargando: 86.47% completo\n",
      "Cargando: 86.53% completo\n",
      "Cargando: 86.59% completo\n",
      "Cargando: 86.64% completo\n",
      "Cargando: 86.70% completo\n",
      "Cargando: 86.76% completo\n",
      "Cargando: 86.81% completo\n",
      "Cargando: 86.87% completo\n",
      "Cargando: 86.93% completo\n",
      "Cargando: 86.98% completo\n",
      "Cargando: 87.04% completo\n",
      "Cargando: 87.10% completo\n",
      "Cargando: 87.15% completo\n",
      "Cargando: 87.21% completo\n",
      "Cargando: 87.27% completo\n",
      "Cargando: 87.32% completo\n",
      "Cargando: 87.38% completo\n",
      "Cargando: 87.44% completo\n",
      "Cargando: 87.49% completo\n",
      "Cargando: 87.55% completo\n",
      "Cargando: 87.61% completo\n",
      "Cargando: 87.66% completo\n",
      "Cargando: 87.72% completo\n",
      "Cargando: 87.78% completo\n",
      "Cargando: 87.83% completo\n",
      "Cargando: 87.89% completo\n",
      "Cargando: 87.95% completo\n",
      "Cargando: 88.00% completo\n",
      "Cargando: 88.06% completo\n",
      "Cargando: 88.12% completo\n",
      "Cargando: 88.17% completo\n",
      "Cargando: 88.23% completo\n",
      "Cargando: 88.29% completo\n",
      "Cargando: 88.34% completo\n",
      "Cargando: 88.40% completo\n",
      "Cargando: 88.46% completo\n",
      "Cargando: 88.51% completo\n",
      "Cargando: 88.57% completo\n",
      "Cargando: 88.62% completo\n",
      "Cargando: 88.68% completo\n",
      "Cargando: 88.74% completo\n",
      "Cargando: 88.79% completo\n",
      "Cargando: 88.85% completo\n",
      "Cargando: 88.91% completo\n",
      "Cargando: 88.96% completo\n",
      "Cargando: 89.02% completo\n",
      "Cargando: 89.08% completo\n",
      "Cargando: 89.13% completo\n",
      "Cargando: 89.19% completo\n",
      "Cargando: 89.25% completo\n",
      "Cargando: 89.30% completo\n",
      "Cargando: 89.36% completo\n",
      "Cargando: 89.42% completo\n",
      "Cargando: 89.47% completo\n",
      "Cargando: 89.53% completo\n",
      "Cargando: 89.59% completo\n",
      "Cargando: 89.64% completo\n",
      "Cargando: 89.70% completo\n",
      "Cargando: 89.76% completo\n",
      "Cargando: 89.81% completo\n",
      "Cargando: 89.87% completo\n",
      "Cargando: 89.93% completo\n",
      "Cargando: 89.98% completo\n",
      "Cargando: 90.04% completo\n",
      "Cargando: 90.10% completo\n",
      "Cargando: 90.15% completo\n",
      "Cargando: 90.21% completo\n",
      "Cargando: 90.27% completo\n",
      "Cargando: 90.32% completo\n",
      "Cargando: 90.38% completo\n",
      "Cargando: 90.44% completo\n",
      "Cargando: 90.49% completo\n",
      "Cargando: 90.55% completo\n",
      "Cargando: 90.61% completo\n",
      "Cargando: 90.66% completo\n",
      "Cargando: 90.72% completo\n",
      "Cargando: 90.78% completo\n",
      "Cargando: 90.83% completo\n",
      "Cargando: 90.89% completo\n",
      "Cargando: 90.95% completo\n",
      "Cargando: 91.00% completo\n",
      "Cargando: 91.06% completo\n",
      "Cargando: 91.11% completo\n",
      "Cargando: 91.17% completo\n",
      "Cargando: 91.23% completo\n",
      "Cargando: 91.28% completo\n",
      "Cargando: 91.34% completo\n",
      "Cargando: 91.40% completo\n",
      "Cargando: 91.45% completo\n",
      "Cargando: 91.51% completo\n",
      "Cargando: 91.57% completo\n",
      "Cargando: 91.62% completo\n",
      "Cargando: 91.68% completo\n",
      "Cargando: 91.74% completo\n",
      "Cargando: 91.79% completo\n",
      "Cargando: 91.85% completo\n",
      "Cargando: 91.91% completo\n",
      "Cargando: 91.96% completo\n",
      "Cargando: 92.02% completo\n",
      "Cargando: 92.08% completo\n",
      "Cargando: 92.13% completo\n",
      "Cargando: 92.19% completo\n",
      "Cargando: 92.25% completo\n",
      "Cargando: 92.30% completo\n",
      "Cargando: 92.36% completo\n",
      "Cargando: 92.42% completo\n",
      "Cargando: 92.47% completo\n",
      "Cargando: 92.53% completo\n",
      "Cargando: 92.59% completo\n",
      "Cargando: 92.64% completo\n",
      "Cargando: 92.70% completo\n",
      "Cargando: 92.76% completo\n",
      "Cargando: 92.81% completo\n",
      "Cargando: 92.87% completo\n",
      "Cargando: 92.93% completo\n",
      "Cargando: 92.98% completo\n",
      "Cargando: 93.04% completo\n",
      "Cargando: 93.10% completo\n",
      "Cargando: 93.15% completo\n",
      "Cargando: 93.21% completo\n",
      "Cargando: 93.27% completo\n",
      "Cargando: 93.32% completo\n",
      "Cargando: 93.38% completo\n",
      "Cargando: 93.44% completo\n",
      "Cargando: 93.49% completo\n",
      "Cargando: 93.55% completo\n",
      "Cargando: 93.60% completo\n",
      "Cargando: 93.66% completo\n",
      "Cargando: 93.72% completo\n",
      "Cargando: 93.77% completo\n",
      "Cargando: 93.83% completo\n",
      "Cargando: 93.89% completo\n",
      "Cargando: 93.94% completo\n",
      "Cargando: 94.00% completo\n",
      "Cargando: 94.06% completo\n",
      "Cargando: 94.11% completo\n",
      "Cargando: 94.17% completo\n",
      "Cargando: 94.23% completo\n",
      "Cargando: 94.28% completo\n",
      "Cargando: 94.34% completo\n",
      "Cargando: 94.40% completo\n",
      "Cargando: 94.45% completo\n",
      "Cargando: 94.51% completo\n",
      "Cargando: 94.57% completo\n",
      "Cargando: 94.62% completo\n",
      "Cargando: 94.68% completo\n",
      "Cargando: 94.74% completo\n",
      "Cargando: 94.79% completo\n",
      "Cargando: 94.85% completo\n",
      "Cargando: 94.91% completo\n",
      "Cargando: 94.96% completo\n",
      "Cargando: 95.02% completo\n",
      "Cargando: 95.08% completo\n",
      "Cargando: 95.13% completo\n",
      "Cargando: 95.19% completo\n",
      "Cargando: 95.25% completo\n",
      "Cargando: 95.30% completo\n",
      "Cargando: 95.36% completo\n",
      "Cargando: 95.42% completo\n",
      "Cargando: 95.47% completo\n",
      "Cargando: 95.53% completo\n",
      "Cargando: 95.59% completo\n",
      "Cargando: 95.64% completo\n",
      "Cargando: 95.70% completo\n",
      "Cargando: 95.76% completo\n",
      "Cargando: 95.81% completo\n",
      "Cargando: 95.87% completo\n",
      "Cargando: 95.93% completo\n",
      "Cargando: 95.98% completo\n",
      "Cargando: 96.04% completo\n",
      "Cargando: 96.10% completo\n",
      "Cargando: 96.15% completo\n",
      "Cargando: 96.21% completo\n",
      "Cargando: 96.26% completo\n",
      "Cargando: 96.32% completo\n",
      "Cargando: 96.38% completo\n",
      "Cargando: 96.43% completo\n",
      "Cargando: 96.49% completo\n",
      "Cargando: 96.55% completo\n",
      "Cargando: 96.60% completo\n",
      "Cargando: 96.66% completo\n",
      "Cargando: 96.72% completo\n",
      "Cargando: 96.77% completo\n",
      "Cargando: 96.83% completo\n",
      "Cargando: 96.89% completo\n",
      "Cargando: 96.94% completo\n",
      "Cargando: 97.00% completo\n",
      "Cargando: 97.06% completo\n",
      "Cargando: 97.11% completo\n",
      "Cargando: 97.17% completo\n",
      "Cargando: 97.23% completo\n",
      "Cargando: 97.28% completo\n",
      "Cargando: 97.34% completo\n",
      "Cargando: 97.40% completo\n",
      "Cargando: 97.45% completo\n",
      "Cargando: 97.51% completo\n",
      "Cargando: 97.57% completo\n",
      "Cargando: 97.62% completo\n",
      "Cargando: 97.68% completo\n",
      "Cargando: 97.74% completo\n",
      "Cargando: 97.79% completo\n",
      "Cargando: 97.85% completo\n",
      "Cargando: 97.91% completo\n",
      "Cargando: 97.96% completo\n",
      "Cargando: 98.02% completo\n",
      "Cargando: 98.08% completo\n",
      "Cargando: 98.13% completo\n",
      "Cargando: 98.19% completo\n",
      "Cargando: 98.25% completo\n",
      "Cargando: 98.30% completo\n",
      "Cargando: 98.36% completo\n",
      "Cargando: 98.42% completo\n",
      "Cargando: 98.47% completo\n",
      "Cargando: 98.53% completo\n",
      "Cargando: 98.59% completo\n",
      "Cargando: 98.64% completo\n",
      "Cargando: 98.70% completo\n",
      "Cargando: 98.75% completo\n",
      "Cargando: 98.81% completo\n",
      "Cargando: 98.87% completo\n",
      "Cargando: 98.92% completo\n",
      "Cargando: 98.98% completo\n",
      "Cargando: 99.04% completo\n",
      "Cargando: 99.09% completo\n",
      "Cargando: 99.15% completo\n",
      "Cargando: 99.21% completo\n",
      "Cargando: 99.26% completo\n",
      "Cargando: 99.32% completo\n",
      "Cargando: 99.38% completo\n",
      "Cargando: 99.43% completo\n",
      "Cargando: 99.49% completo\n",
      "Cargando: 99.55% completo\n",
      "Cargando: 99.60% completo\n",
      "Cargando: 99.66% completo\n",
      "Cargando: 99.72% completo\n",
      "Cargando: 99.77% completo\n",
      "Cargando: 99.83% completo\n",
      "Cargando: 99.89% completo\n",
      "Cargando: 99.94% completo\n",
      "Cargando: 100.00% completo\n",
      "prestaciones_t2024.db fue un exito\n"
     ]
    }
   ],
   "source": [
    "file_txt_to_sql(\"Prestaciones_Bonificadas_2024t3.txt\", \"prestaciones_t2024.db\", \"tabla2024\")"
   ]
  },
  {
   "cell_type": "code",
   "execution_count": 14,
   "id": "5429e0a2-4734-4f2f-8de6-5bd971e8fefd",
   "metadata": {
    "collapsed": true,
    "jupyter": {
     "outputs_hidden": true
    },
    "scrolled": true
   },
   "outputs": [
    {
     "name": "stderr",
     "output_type": "stream",
     "text": [
      "Procesando prestaciones_t2024.db:   0%|        | 1/1822 [00:00<09:26,  3.22it/s]"
     ]
    },
    {
     "name": "stdout",
     "output_type": "stream",
     "text": [
      "Cargando: 0.05% completo\n"
     ]
    },
    {
     "name": "stderr",
     "output_type": "stream",
     "text": [
      "Procesando prestaciones_t2024.db:   0%|        | 2/1822 [00:00<09:58,  3.04it/s]"
     ]
    },
    {
     "name": "stdout",
     "output_type": "stream",
     "text": [
      "Cargando: 0.11% completo\n"
     ]
    },
    {
     "name": "stderr",
     "output_type": "stream",
     "text": [
      "Procesando prestaciones_t2024.db:   0%|        | 3/1822 [00:00<09:36,  3.16it/s]"
     ]
    },
    {
     "name": "stdout",
     "output_type": "stream",
     "text": [
      "Cargando: 0.16% completo\n"
     ]
    },
    {
     "name": "stderr",
     "output_type": "stream",
     "text": [
      "Procesando prestaciones_t2024.db:   0%|        | 4/1822 [00:01<09:20,  3.24it/s]"
     ]
    },
    {
     "name": "stdout",
     "output_type": "stream",
     "text": [
      "Cargando: 0.22% completo\n"
     ]
    },
    {
     "name": "stderr",
     "output_type": "stream",
     "text": [
      "Procesando prestaciones_t2024.db:   0%|        | 5/1822 [00:01<08:36,  3.52it/s]"
     ]
    },
    {
     "name": "stdout",
     "output_type": "stream",
     "text": [
      "Cargando: 0.27% completo\n"
     ]
    },
    {
     "name": "stderr",
     "output_type": "stream",
     "text": [
      "Procesando prestaciones_t2024.db:   0%|        | 6/1822 [00:01<08:17,  3.65it/s]"
     ]
    },
    {
     "name": "stdout",
     "output_type": "stream",
     "text": [
      "Cargando: 0.33% completo\n"
     ]
    },
    {
     "name": "stderr",
     "output_type": "stream",
     "text": [
      "Procesando prestaciones_t2024.db:   0%|        | 7/1822 [00:02<08:09,  3.71it/s]"
     ]
    },
    {
     "name": "stdout",
     "output_type": "stream",
     "text": [
      "Cargando: 0.38% completo\n"
     ]
    },
    {
     "name": "stderr",
     "output_type": "stream",
     "text": [
      "Procesando prestaciones_t2024.db:   0%|        | 8/1822 [00:02<08:40,  3.49it/s]"
     ]
    },
    {
     "name": "stdout",
     "output_type": "stream",
     "text": [
      "Cargando: 0.44% completo\n"
     ]
    },
    {
     "name": "stderr",
     "output_type": "stream",
     "text": [
      "Procesando prestaciones_t2024.db:   0%|        | 9/1822 [00:02<09:03,  3.33it/s]"
     ]
    },
    {
     "name": "stdout",
     "output_type": "stream",
     "text": [
      "Cargando: 0.49% completo\n"
     ]
    },
    {
     "name": "stderr",
     "output_type": "stream",
     "text": [
      "Procesando prestaciones_t2024.db:   1%|       | 10/1822 [00:03<12:05,  2.50it/s]"
     ]
    },
    {
     "name": "stdout",
     "output_type": "stream",
     "text": [
      "Cargando: 0.55% completo\n"
     ]
    },
    {
     "name": "stderr",
     "output_type": "stream",
     "text": [
      "Procesando prestaciones_t2024.db:   1%|       | 11/1822 [00:03<11:55,  2.53it/s]"
     ]
    },
    {
     "name": "stdout",
     "output_type": "stream",
     "text": [
      "Cargando: 0.60% completo\n"
     ]
    },
    {
     "name": "stderr",
     "output_type": "stream",
     "text": [
      "Procesando prestaciones_t2024.db:   1%|       | 12/1822 [00:03<11:06,  2.71it/s]"
     ]
    },
    {
     "name": "stdout",
     "output_type": "stream",
     "text": [
      "Cargando: 0.66% completo\n"
     ]
    },
    {
     "name": "stderr",
     "output_type": "stream",
     "text": [
      "Procesando prestaciones_t2024.db:   1%|       | 13/1822 [00:04<10:19,  2.92it/s]"
     ]
    },
    {
     "name": "stdout",
     "output_type": "stream",
     "text": [
      "Cargando: 0.71% completo\n"
     ]
    },
    {
     "name": "stderr",
     "output_type": "stream",
     "text": [
      "Procesando prestaciones_t2024.db:   1%|       | 14/1822 [00:04<09:36,  3.14it/s]"
     ]
    },
    {
     "name": "stdout",
     "output_type": "stream",
     "text": [
      "Cargando: 0.77% completo\n"
     ]
    },
    {
     "name": "stderr",
     "output_type": "stream",
     "text": [
      "Procesando prestaciones_t2024.db:   1%|       | 15/1822 [00:04<10:04,  2.99it/s]"
     ]
    },
    {
     "name": "stdout",
     "output_type": "stream",
     "text": [
      "Cargando: 0.82% completo\n"
     ]
    },
    {
     "name": "stderr",
     "output_type": "stream",
     "text": [
      "Procesando prestaciones_t2024.db:   1%|       | 16/1822 [00:05<09:22,  3.21it/s]"
     ]
    },
    {
     "name": "stdout",
     "output_type": "stream",
     "text": [
      "Cargando: 0.88% completo\n"
     ]
    },
    {
     "name": "stderr",
     "output_type": "stream",
     "text": [
      "Procesando prestaciones_t2024.db:   1%|       | 17/1822 [00:05<08:45,  3.44it/s]"
     ]
    },
    {
     "name": "stdout",
     "output_type": "stream",
     "text": [
      "Cargando: 0.93% completo\n"
     ]
    },
    {
     "name": "stderr",
     "output_type": "stream",
     "text": [
      "Procesando prestaciones_t2024.db:   1%|       | 18/1822 [00:05<08:33,  3.51it/s]"
     ]
    },
    {
     "name": "stdout",
     "output_type": "stream",
     "text": [
      "Cargando: 0.99% completo\n"
     ]
    },
    {
     "name": "stderr",
     "output_type": "stream",
     "text": [
      "Procesando prestaciones_t2024.db:   1%|       | 19/1822 [00:05<08:37,  3.48it/s]"
     ]
    },
    {
     "name": "stdout",
     "output_type": "stream",
     "text": [
      "Cargando: 1.04% completo\n"
     ]
    },
    {
     "name": "stderr",
     "output_type": "stream",
     "text": [
      "Procesando prestaciones_t2024.db:   1%|       | 20/1822 [00:06<08:35,  3.49it/s]"
     ]
    },
    {
     "name": "stdout",
     "output_type": "stream",
     "text": [
      "Cargando: 1.10% completo\n"
     ]
    },
    {
     "name": "stderr",
     "output_type": "stream",
     "text": [
      "Procesando prestaciones_t2024.db:   1%|       | 21/1822 [00:06<09:34,  3.13it/s]"
     ]
    },
    {
     "name": "stdout",
     "output_type": "stream",
     "text": [
      "Cargando: 1.15% completo\n"
     ]
    },
    {
     "name": "stderr",
     "output_type": "stream",
     "text": [
      "Procesando prestaciones_t2024.db:   1%|       | 22/1822 [00:06<09:20,  3.21it/s]"
     ]
    },
    {
     "name": "stdout",
     "output_type": "stream",
     "text": [
      "Cargando: 1.21% completo\n"
     ]
    },
    {
     "name": "stderr",
     "output_type": "stream",
     "text": [
      "Procesando prestaciones_t2024.db:   1%|       | 23/1822 [00:07<09:05,  3.30it/s]"
     ]
    },
    {
     "name": "stdout",
     "output_type": "stream",
     "text": [
      "Cargando: 1.26% completo\n"
     ]
    },
    {
     "name": "stderr",
     "output_type": "stream",
     "text": [
      "Procesando prestaciones_t2024.db:   1%|       | 24/1822 [00:07<08:33,  3.50it/s]"
     ]
    },
    {
     "name": "stdout",
     "output_type": "stream",
     "text": [
      "Cargando: 1.32% completo\n"
     ]
    },
    {
     "name": "stderr",
     "output_type": "stream",
     "text": [
      "Procesando prestaciones_t2024.db:   1%|       | 25/1822 [00:07<08:21,  3.58it/s]"
     ]
    },
    {
     "name": "stdout",
     "output_type": "stream",
     "text": [
      "Cargando: 1.37% completo\n"
     ]
    },
    {
     "name": "stderr",
     "output_type": "stream",
     "text": [
      "Procesando prestaciones_t2024.db:   1%|       | 26/1822 [00:08<08:54,  3.36it/s]"
     ]
    },
    {
     "name": "stdout",
     "output_type": "stream",
     "text": [
      "Cargando: 1.43% completo\n"
     ]
    },
    {
     "name": "stderr",
     "output_type": "stream",
     "text": [
      "Procesando prestaciones_t2024.db:   1%|       | 27/1822 [00:08<08:40,  3.45it/s]"
     ]
    },
    {
     "name": "stdout",
     "output_type": "stream",
     "text": [
      "Cargando: 1.48% completo\n"
     ]
    },
    {
     "name": "stderr",
     "output_type": "stream",
     "text": [
      "Procesando prestaciones_t2024.db:   2%|       | 28/1822 [00:08<08:23,  3.56it/s]"
     ]
    },
    {
     "name": "stdout",
     "output_type": "stream",
     "text": [
      "Cargando: 1.54% completo\n"
     ]
    },
    {
     "name": "stderr",
     "output_type": "stream",
     "text": [
      "Procesando prestaciones_t2024.db:   2%|       | 29/1822 [00:08<08:17,  3.60it/s]"
     ]
    },
    {
     "name": "stdout",
     "output_type": "stream",
     "text": [
      "Cargando: 1.59% completo\n"
     ]
    },
    {
     "name": "stderr",
     "output_type": "stream",
     "text": [
      "Procesando prestaciones_t2024.db:   2%|       | 30/1822 [00:09<08:22,  3.56it/s]"
     ]
    },
    {
     "name": "stdout",
     "output_type": "stream",
     "text": [
      "Cargando: 1.65% completo\n"
     ]
    },
    {
     "name": "stderr",
     "output_type": "stream",
     "text": [
      "Procesando prestaciones_t2024.db:   2%|       | 31/1822 [00:09<08:08,  3.67it/s]"
     ]
    },
    {
     "name": "stdout",
     "output_type": "stream",
     "text": [
      "Cargando: 1.70% completo\n"
     ]
    },
    {
     "name": "stderr",
     "output_type": "stream",
     "text": [
      "Procesando prestaciones_t2024.db:   2%|       | 32/1822 [00:09<08:55,  3.34it/s]"
     ]
    },
    {
     "name": "stdout",
     "output_type": "stream",
     "text": [
      "Cargando: 1.76% completo\n"
     ]
    },
    {
     "name": "stderr",
     "output_type": "stream",
     "text": [
      "Procesando prestaciones_t2024.db:   2%|▏      | 33/1822 [00:10<08:33,  3.49it/s]"
     ]
    },
    {
     "name": "stdout",
     "output_type": "stream",
     "text": [
      "Cargando: 1.81% completo\n"
     ]
    },
    {
     "name": "stderr",
     "output_type": "stream",
     "text": [
      "Procesando prestaciones_t2024.db:   2%|▏      | 34/1822 [00:10<08:22,  3.56it/s]"
     ]
    },
    {
     "name": "stdout",
     "output_type": "stream",
     "text": [
      "Cargando: 1.87% completo\n"
     ]
    },
    {
     "name": "stderr",
     "output_type": "stream",
     "text": [
      "Procesando prestaciones_t2024.db:   2%|▏      | 35/1822 [00:10<08:20,  3.57it/s]"
     ]
    },
    {
     "name": "stdout",
     "output_type": "stream",
     "text": [
      "Cargando: 1.92% completo\n"
     ]
    },
    {
     "name": "stderr",
     "output_type": "stream",
     "text": [
      "Procesando prestaciones_t2024.db:   2%|▏      | 36/1822 [00:10<08:18,  3.59it/s]"
     ]
    },
    {
     "name": "stdout",
     "output_type": "stream",
     "text": [
      "Cargando: 1.98% completo\n"
     ]
    },
    {
     "name": "stderr",
     "output_type": "stream",
     "text": [
      "Procesando prestaciones_t2024.db:   2%|▏      | 37/1822 [00:11<09:00,  3.30it/s]"
     ]
    },
    {
     "name": "stdout",
     "output_type": "stream",
     "text": [
      "Cargando: 2.03% completo\n"
     ]
    },
    {
     "name": "stderr",
     "output_type": "stream",
     "text": [
      "Procesando prestaciones_t2024.db:   2%|▏      | 38/1822 [00:11<08:49,  3.37it/s]"
     ]
    },
    {
     "name": "stdout",
     "output_type": "stream",
     "text": [
      "Cargando: 2.09% completo\n"
     ]
    },
    {
     "name": "stderr",
     "output_type": "stream",
     "text": [
      "Procesando prestaciones_t2024.db:   2%|▏      | 39/1822 [00:11<08:29,  3.50it/s]"
     ]
    },
    {
     "name": "stdout",
     "output_type": "stream",
     "text": [
      "Cargando: 2.14% completo\n"
     ]
    },
    {
     "name": "stderr",
     "output_type": "stream",
     "text": [
      "Procesando prestaciones_t2024.db:   2%|▏      | 40/1822 [00:11<08:09,  3.64it/s]"
     ]
    },
    {
     "name": "stdout",
     "output_type": "stream",
     "text": [
      "Cargando: 2.20% completo\n"
     ]
    },
    {
     "name": "stderr",
     "output_type": "stream",
     "text": [
      "Procesando prestaciones_t2024.db:   2%|▏      | 41/1822 [00:12<07:50,  3.79it/s]"
     ]
    },
    {
     "name": "stdout",
     "output_type": "stream",
     "text": [
      "Cargando: 2.25% completo\n"
     ]
    },
    {
     "name": "stderr",
     "output_type": "stream",
     "text": [
      "Procesando prestaciones_t2024.db:   2%|▏      | 42/1822 [00:12<07:56,  3.74it/s]"
     ]
    },
    {
     "name": "stdout",
     "output_type": "stream",
     "text": [
      "Cargando: 2.31% completo\n"
     ]
    },
    {
     "name": "stderr",
     "output_type": "stream",
     "text": [
      "Procesando prestaciones_t2024.db:   2%|▏      | 43/1822 [00:12<09:10,  3.23it/s]"
     ]
    },
    {
     "name": "stdout",
     "output_type": "stream",
     "text": [
      "Cargando: 2.36% completo\n"
     ]
    },
    {
     "name": "stderr",
     "output_type": "stream",
     "text": [
      "Procesando prestaciones_t2024.db:   2%|▏      | 44/1822 [00:13<08:43,  3.40it/s]"
     ]
    },
    {
     "name": "stdout",
     "output_type": "stream",
     "text": [
      "Cargando: 2.41% completo\n"
     ]
    },
    {
     "name": "stderr",
     "output_type": "stream",
     "text": [
      "Procesando prestaciones_t2024.db:   2%|▏      | 45/1822 [00:13<08:31,  3.47it/s]"
     ]
    },
    {
     "name": "stdout",
     "output_type": "stream",
     "text": [
      "Cargando: 2.47% completo\n"
     ]
    },
    {
     "name": "stderr",
     "output_type": "stream",
     "text": [
      "Procesando prestaciones_t2024.db:   3%|▏      | 46/1822 [00:13<08:23,  3.53it/s]"
     ]
    },
    {
     "name": "stdout",
     "output_type": "stream",
     "text": [
      "Cargando: 2.52% completo\n"
     ]
    },
    {
     "name": "stderr",
     "output_type": "stream",
     "text": [
      "Procesando prestaciones_t2024.db:   3%|▏      | 47/1822 [00:13<08:00,  3.70it/s]"
     ]
    },
    {
     "name": "stdout",
     "output_type": "stream",
     "text": [
      "Cargando: 2.58% completo\n"
     ]
    },
    {
     "name": "stderr",
     "output_type": "stream",
     "text": [
      "Procesando prestaciones_t2024.db:   3%|▏      | 48/1822 [00:14<08:10,  3.62it/s]"
     ]
    },
    {
     "name": "stdout",
     "output_type": "stream",
     "text": [
      "Cargando: 2.63% completo\n"
     ]
    },
    {
     "name": "stderr",
     "output_type": "stream",
     "text": [
      "Procesando prestaciones_t2024.db:   3%|▏      | 49/1822 [00:14<08:34,  3.45it/s]"
     ]
    },
    {
     "name": "stdout",
     "output_type": "stream",
     "text": [
      "Cargando: 2.69% completo\n"
     ]
    },
    {
     "name": "stderr",
     "output_type": "stream",
     "text": [
      "Procesando prestaciones_t2024.db:   3%|▏      | 50/1822 [00:14<08:08,  3.63it/s]"
     ]
    },
    {
     "name": "stdout",
     "output_type": "stream",
     "text": [
      "Cargando: 2.74% completo\n"
     ]
    },
    {
     "name": "stderr",
     "output_type": "stream",
     "text": [
      "Procesando prestaciones_t2024.db:   3%|▏      | 51/1822 [00:15<07:48,  3.78it/s]"
     ]
    },
    {
     "name": "stdout",
     "output_type": "stream",
     "text": [
      "Cargando: 2.80% completo\n"
     ]
    },
    {
     "name": "stderr",
     "output_type": "stream",
     "text": [
      "Procesando prestaciones_t2024.db:   3%|▏      | 52/1822 [00:15<07:43,  3.82it/s]"
     ]
    },
    {
     "name": "stdout",
     "output_type": "stream",
     "text": [
      "Cargando: 2.85% completo\n"
     ]
    },
    {
     "name": "stderr",
     "output_type": "stream",
     "text": [
      "Procesando prestaciones_t2024.db:   3%|▏      | 53/1822 [00:15<07:58,  3.69it/s]"
     ]
    },
    {
     "name": "stdout",
     "output_type": "stream",
     "text": [
      "Cargando: 2.91% completo\n"
     ]
    },
    {
     "name": "stderr",
     "output_type": "stream",
     "text": [
      "Procesando prestaciones_t2024.db:   3%|▏      | 54/1822 [00:15<08:11,  3.60it/s]"
     ]
    },
    {
     "name": "stdout",
     "output_type": "stream",
     "text": [
      "Cargando: 2.96% completo\n"
     ]
    },
    {
     "name": "stderr",
     "output_type": "stream",
     "text": [
      "Procesando prestaciones_t2024.db:   3%|▏      | 55/1822 [00:16<09:13,  3.19it/s]"
     ]
    },
    {
     "name": "stdout",
     "output_type": "stream",
     "text": [
      "Cargando: 3.02% completo\n"
     ]
    },
    {
     "name": "stderr",
     "output_type": "stream",
     "text": [
      "Procesando prestaciones_t2024.db:   3%|▏      | 56/1822 [00:16<08:54,  3.31it/s]"
     ]
    },
    {
     "name": "stdout",
     "output_type": "stream",
     "text": [
      "Cargando: 3.07% completo\n"
     ]
    },
    {
     "name": "stderr",
     "output_type": "stream",
     "text": [
      "Procesando prestaciones_t2024.db:   3%|▏      | 57/1822 [00:16<08:27,  3.48it/s]"
     ]
    },
    {
     "name": "stdout",
     "output_type": "stream",
     "text": [
      "Cargando: 3.13% completo\n"
     ]
    },
    {
     "name": "stderr",
     "output_type": "stream",
     "text": [
      "Procesando prestaciones_t2024.db:   3%|▏      | 58/1822 [00:17<08:15,  3.56it/s]"
     ]
    },
    {
     "name": "stdout",
     "output_type": "stream",
     "text": [
      "Cargando: 3.18% completo\n"
     ]
    },
    {
     "name": "stderr",
     "output_type": "stream",
     "text": [
      "Procesando prestaciones_t2024.db:   3%|▏      | 59/1822 [00:17<07:50,  3.75it/s]"
     ]
    },
    {
     "name": "stdout",
     "output_type": "stream",
     "text": [
      "Cargando: 3.24% completo\n"
     ]
    },
    {
     "name": "stderr",
     "output_type": "stream",
     "text": [
      "Procesando prestaciones_t2024.db:   3%|▏      | 60/1822 [00:17<07:35,  3.87it/s]"
     ]
    },
    {
     "name": "stdout",
     "output_type": "stream",
     "text": [
      "Cargando: 3.29% completo\n"
     ]
    },
    {
     "name": "stderr",
     "output_type": "stream",
     "text": [
      "Procesando prestaciones_t2024.db:   3%|▏      | 61/1822 [00:17<08:06,  3.62it/s]"
     ]
    },
    {
     "name": "stdout",
     "output_type": "stream",
     "text": [
      "Cargando: 3.35% completo\n"
     ]
    },
    {
     "name": "stderr",
     "output_type": "stream",
     "text": [
      "Procesando prestaciones_t2024.db:   3%|▏      | 62/1822 [00:18<07:39,  3.83it/s]"
     ]
    },
    {
     "name": "stdout",
     "output_type": "stream",
     "text": [
      "Cargando: 3.40% completo\n"
     ]
    },
    {
     "name": "stderr",
     "output_type": "stream",
     "text": [
      "Procesando prestaciones_t2024.db:   3%|▏      | 63/1822 [00:18<07:19,  4.00it/s]"
     ]
    },
    {
     "name": "stdout",
     "output_type": "stream",
     "text": [
      "Cargando: 3.46% completo\n"
     ]
    },
    {
     "name": "stderr",
     "output_type": "stream",
     "text": [
      "Procesando prestaciones_t2024.db:   4%|▏      | 64/1822 [00:18<07:14,  4.04it/s]"
     ]
    },
    {
     "name": "stdout",
     "output_type": "stream",
     "text": [
      "Cargando: 3.51% completo\n"
     ]
    },
    {
     "name": "stderr",
     "output_type": "stream",
     "text": [
      "Procesando prestaciones_t2024.db:   4%|▏      | 65/1822 [00:18<07:11,  4.07it/s]"
     ]
    },
    {
     "name": "stdout",
     "output_type": "stream",
     "text": [
      "Cargando: 3.57% completo\n"
     ]
    },
    {
     "name": "stderr",
     "output_type": "stream",
     "text": [
      "Procesando prestaciones_t2024.db:   4%|▎      | 66/1822 [00:19<07:10,  4.07it/s]"
     ]
    },
    {
     "name": "stdout",
     "output_type": "stream",
     "text": [
      "Cargando: 3.62% completo\n"
     ]
    },
    {
     "name": "stderr",
     "output_type": "stream",
     "text": [
      "Procesando prestaciones_t2024.db:   4%|▎      | 67/1822 [00:19<07:56,  3.69it/s]"
     ]
    },
    {
     "name": "stdout",
     "output_type": "stream",
     "text": [
      "Cargando: 3.68% completo\n"
     ]
    },
    {
     "name": "stderr",
     "output_type": "stream",
     "text": [
      "Procesando prestaciones_t2024.db:   4%|▎      | 68/1822 [00:19<07:38,  3.82it/s]"
     ]
    },
    {
     "name": "stdout",
     "output_type": "stream",
     "text": [
      "Cargando: 3.73% completo\n"
     ]
    },
    {
     "name": "stderr",
     "output_type": "stream",
     "text": [
      "Procesando prestaciones_t2024.db:   4%|▎      | 69/1822 [00:19<07:21,  3.97it/s]"
     ]
    },
    {
     "name": "stdout",
     "output_type": "stream",
     "text": [
      "Cargando: 3.79% completo\n"
     ]
    },
    {
     "name": "stderr",
     "output_type": "stream",
     "text": [
      "Procesando prestaciones_t2024.db:   4%|▎      | 70/1822 [00:20<07:12,  4.05it/s]"
     ]
    },
    {
     "name": "stdout",
     "output_type": "stream",
     "text": [
      "Cargando: 3.84% completo\n"
     ]
    },
    {
     "name": "stderr",
     "output_type": "stream",
     "text": [
      "Procesando prestaciones_t2024.db:   4%|▎      | 71/1822 [00:20<07:08,  4.08it/s]"
     ]
    },
    {
     "name": "stdout",
     "output_type": "stream",
     "text": [
      "Cargando: 3.90% completo\n"
     ]
    },
    {
     "name": "stderr",
     "output_type": "stream",
     "text": [
      "Procesando prestaciones_t2024.db:   4%|▎      | 72/1822 [00:20<07:13,  4.03it/s]"
     ]
    },
    {
     "name": "stdout",
     "output_type": "stream",
     "text": [
      "Cargando: 3.95% completo\n"
     ]
    },
    {
     "name": "stderr",
     "output_type": "stream",
     "text": [
      "Procesando prestaciones_t2024.db:   4%|▎      | 73/1822 [00:20<07:57,  3.66it/s]"
     ]
    },
    {
     "name": "stdout",
     "output_type": "stream",
     "text": [
      "Cargando: 4.01% completo\n"
     ]
    },
    {
     "name": "stderr",
     "output_type": "stream",
     "text": [
      "Procesando prestaciones_t2024.db:   4%|▎      | 74/1822 [00:21<07:39,  3.80it/s]"
     ]
    },
    {
     "name": "stdout",
     "output_type": "stream",
     "text": [
      "Cargando: 4.06% completo\n"
     ]
    },
    {
     "name": "stderr",
     "output_type": "stream",
     "text": [
      "Procesando prestaciones_t2024.db:   4%|▎      | 75/1822 [00:21<07:30,  3.88it/s]"
     ]
    },
    {
     "name": "stdout",
     "output_type": "stream",
     "text": [
      "Cargando: 4.12% completo\n"
     ]
    },
    {
     "name": "stderr",
     "output_type": "stream",
     "text": [
      "Procesando prestaciones_t2024.db:   4%|▎      | 76/1822 [00:21<07:19,  3.97it/s]"
     ]
    },
    {
     "name": "stdout",
     "output_type": "stream",
     "text": [
      "Cargando: 4.17% completo\n"
     ]
    },
    {
     "name": "stderr",
     "output_type": "stream",
     "text": [
      "Procesando prestaciones_t2024.db:   4%|▎      | 77/1822 [00:21<07:11,  4.04it/s]"
     ]
    },
    {
     "name": "stdout",
     "output_type": "stream",
     "text": [
      "Cargando: 4.23% completo\n"
     ]
    },
    {
     "name": "stderr",
     "output_type": "stream",
     "text": [
      "Procesando prestaciones_t2024.db:   4%|▎      | 78/1822 [00:22<07:07,  4.08it/s]"
     ]
    },
    {
     "name": "stdout",
     "output_type": "stream",
     "text": [
      "Cargando: 4.28% completo\n"
     ]
    },
    {
     "name": "stderr",
     "output_type": "stream",
     "text": [
      "Procesando prestaciones_t2024.db:   4%|▎      | 79/1822 [00:22<07:48,  3.72it/s]"
     ]
    },
    {
     "name": "stdout",
     "output_type": "stream",
     "text": [
      "Cargando: 4.34% completo\n"
     ]
    },
    {
     "name": "stderr",
     "output_type": "stream",
     "text": [
      "Procesando prestaciones_t2024.db:   4%|▎      | 80/1822 [00:22<07:36,  3.81it/s]"
     ]
    },
    {
     "name": "stdout",
     "output_type": "stream",
     "text": [
      "Cargando: 4.39% completo\n"
     ]
    },
    {
     "name": "stderr",
     "output_type": "stream",
     "text": [
      "Procesando prestaciones_t2024.db:   4%|▎      | 81/1822 [00:22<07:27,  3.89it/s]"
     ]
    },
    {
     "name": "stdout",
     "output_type": "stream",
     "text": [
      "Cargando: 4.45% completo\n"
     ]
    },
    {
     "name": "stderr",
     "output_type": "stream",
     "text": [
      "Procesando prestaciones_t2024.db:   5%|▎      | 82/1822 [00:23<07:20,  3.95it/s]"
     ]
    },
    {
     "name": "stdout",
     "output_type": "stream",
     "text": [
      "Cargando: 4.50% completo\n"
     ]
    },
    {
     "name": "stderr",
     "output_type": "stream",
     "text": [
      "Procesando prestaciones_t2024.db:   5%|▎      | 83/1822 [00:23<07:13,  4.01it/s]"
     ]
    },
    {
     "name": "stdout",
     "output_type": "stream",
     "text": [
      "Cargando: 4.56% completo\n"
     ]
    },
    {
     "name": "stderr",
     "output_type": "stream",
     "text": [
      "Procesando prestaciones_t2024.db:   5%|▎      | 84/1822 [00:23<07:11,  4.03it/s]"
     ]
    },
    {
     "name": "stdout",
     "output_type": "stream",
     "text": [
      "Cargando: 4.61% completo\n"
     ]
    },
    {
     "name": "stderr",
     "output_type": "stream",
     "text": [
      "Procesando prestaciones_t2024.db:   5%|▎      | 85/1822 [00:24<07:56,  3.65it/s]"
     ]
    },
    {
     "name": "stdout",
     "output_type": "stream",
     "text": [
      "Cargando: 4.67% completo\n"
     ]
    },
    {
     "name": "stderr",
     "output_type": "stream",
     "text": [
      "Procesando prestaciones_t2024.db:   5%|▎      | 86/1822 [00:24<07:39,  3.78it/s]"
     ]
    },
    {
     "name": "stdout",
     "output_type": "stream",
     "text": [
      "Cargando: 4.72% completo\n"
     ]
    },
    {
     "name": "stderr",
     "output_type": "stream",
     "text": [
      "Procesando prestaciones_t2024.db:   5%|▎      | 87/1822 [00:24<07:30,  3.86it/s]"
     ]
    },
    {
     "name": "stdout",
     "output_type": "stream",
     "text": [
      "Cargando: 4.77% completo\n"
     ]
    },
    {
     "name": "stderr",
     "output_type": "stream",
     "text": [
      "Procesando prestaciones_t2024.db:   5%|▎      | 88/1822 [00:24<07:32,  3.83it/s]"
     ]
    },
    {
     "name": "stdout",
     "output_type": "stream",
     "text": [
      "Cargando: 4.83% completo\n"
     ]
    },
    {
     "name": "stderr",
     "output_type": "stream",
     "text": [
      "Procesando prestaciones_t2024.db:   5%|▎      | 89/1822 [00:25<08:58,  3.22it/s]"
     ]
    },
    {
     "name": "stdout",
     "output_type": "stream",
     "text": [
      "Cargando: 4.88% completo\n"
     ]
    },
    {
     "name": "stderr",
     "output_type": "stream",
     "text": [
      "Procesando prestaciones_t2024.db:   5%|▎      | 90/1822 [00:25<09:00,  3.20it/s]"
     ]
    },
    {
     "name": "stdout",
     "output_type": "stream",
     "text": [
      "Cargando: 4.94% completo\n"
     ]
    },
    {
     "name": "stderr",
     "output_type": "stream",
     "text": [
      "Procesando prestaciones_t2024.db:   5%|▎      | 91/1822 [00:25<08:25,  3.42it/s]"
     ]
    },
    {
     "name": "stdout",
     "output_type": "stream",
     "text": [
      "Cargando: 4.99% completo\n"
     ]
    },
    {
     "name": "stderr",
     "output_type": "stream",
     "text": [
      "Procesando prestaciones_t2024.db:   5%|▎      | 92/1822 [00:26<09:07,  3.16it/s]"
     ]
    },
    {
     "name": "stdout",
     "output_type": "stream",
     "text": [
      "Cargando: 5.05% completo\n"
     ]
    },
    {
     "name": "stderr",
     "output_type": "stream",
     "text": [
      "Procesando prestaciones_t2024.db:   5%|▎      | 93/1822 [00:26<08:54,  3.23it/s]"
     ]
    },
    {
     "name": "stdout",
     "output_type": "stream",
     "text": [
      "Cargando: 5.10% completo\n"
     ]
    },
    {
     "name": "stderr",
     "output_type": "stream",
     "text": [
      "Procesando prestaciones_t2024.db:   5%|▎      | 94/1822 [00:26<08:46,  3.28it/s]"
     ]
    },
    {
     "name": "stdout",
     "output_type": "stream",
     "text": [
      "Cargando: 5.16% completo\n"
     ]
    },
    {
     "name": "stderr",
     "output_type": "stream",
     "text": [
      "Procesando prestaciones_t2024.db:   5%|▎      | 95/1822 [00:27<08:43,  3.30it/s]"
     ]
    },
    {
     "name": "stdout",
     "output_type": "stream",
     "text": [
      "Cargando: 5.21% completo\n"
     ]
    },
    {
     "name": "stderr",
     "output_type": "stream",
     "text": [
      "Procesando prestaciones_t2024.db:   5%|▎      | 96/1822 [00:27<08:44,  3.29it/s]"
     ]
    },
    {
     "name": "stdout",
     "output_type": "stream",
     "text": [
      "Cargando: 5.27% completo\n"
     ]
    },
    {
     "name": "stderr",
     "output_type": "stream",
     "text": [
      "Procesando prestaciones_t2024.db:   5%|▎      | 97/1822 [00:27<08:34,  3.35it/s]"
     ]
    },
    {
     "name": "stdout",
     "output_type": "stream",
     "text": [
      "Cargando: 5.32% completo\n"
     ]
    },
    {
     "name": "stderr",
     "output_type": "stream",
     "text": [
      "Procesando prestaciones_t2024.db:   5%|▍      | 98/1822 [00:27<09:08,  3.14it/s]"
     ]
    },
    {
     "name": "stdout",
     "output_type": "stream",
     "text": [
      "Cargando: 5.38% completo\n"
     ]
    },
    {
     "name": "stderr",
     "output_type": "stream",
     "text": [
      "Procesando prestaciones_t2024.db:   5%|▍      | 99/1822 [00:28<08:18,  3.45it/s]"
     ]
    },
    {
     "name": "stdout",
     "output_type": "stream",
     "text": [
      "Cargando: 5.43% completo\n"
     ]
    },
    {
     "name": "stderr",
     "output_type": "stream",
     "text": [
      "Procesando prestaciones_t2024.db:   5%|▎     | 100/1822 [00:28<08:13,  3.49it/s]"
     ]
    },
    {
     "name": "stdout",
     "output_type": "stream",
     "text": [
      "Cargando: 5.49% completo\n"
     ]
    },
    {
     "name": "stderr",
     "output_type": "stream",
     "text": [
      "Procesando prestaciones_t2024.db:   6%|▎     | 101/1822 [00:28<07:42,  3.72it/s]"
     ]
    },
    {
     "name": "stdout",
     "output_type": "stream",
     "text": [
      "Cargando: 5.54% completo\n"
     ]
    },
    {
     "name": "stderr",
     "output_type": "stream",
     "text": [
      "Procesando prestaciones_t2024.db:   6%|▎     | 102/1822 [00:28<07:58,  3.59it/s]"
     ]
    },
    {
     "name": "stdout",
     "output_type": "stream",
     "text": [
      "Cargando: 5.60% completo\n"
     ]
    },
    {
     "name": "stderr",
     "output_type": "stream",
     "text": [
      "Procesando prestaciones_t2024.db:   6%|▎     | 103/1822 [00:29<07:48,  3.67it/s]"
     ]
    },
    {
     "name": "stdout",
     "output_type": "stream",
     "text": [
      "Cargando: 5.65% completo\n"
     ]
    },
    {
     "name": "stderr",
     "output_type": "stream",
     "text": [
      "Procesando prestaciones_t2024.db:   6%|▎     | 104/1822 [00:29<08:53,  3.22it/s]"
     ]
    },
    {
     "name": "stdout",
     "output_type": "stream",
     "text": [
      "Cargando: 5.71% completo\n"
     ]
    },
    {
     "name": "stderr",
     "output_type": "stream",
     "text": [
      "Procesando prestaciones_t2024.db:   6%|▎     | 105/1822 [00:29<08:32,  3.35it/s]"
     ]
    },
    {
     "name": "stdout",
     "output_type": "stream",
     "text": [
      "Cargando: 5.76% completo\n"
     ]
    },
    {
     "name": "stderr",
     "output_type": "stream",
     "text": [
      "Procesando prestaciones_t2024.db:   6%|▎     | 106/1822 [00:30<08:29,  3.37it/s]"
     ]
    },
    {
     "name": "stdout",
     "output_type": "stream",
     "text": [
      "Cargando: 5.82% completo\n"
     ]
    },
    {
     "name": "stderr",
     "output_type": "stream",
     "text": [
      "Procesando prestaciones_t2024.db:   6%|▎     | 107/1822 [00:30<08:17,  3.45it/s]"
     ]
    },
    {
     "name": "stdout",
     "output_type": "stream",
     "text": [
      "Cargando: 5.87% completo\n"
     ]
    },
    {
     "name": "stderr",
     "output_type": "stream",
     "text": [
      "Procesando prestaciones_t2024.db:   6%|▎     | 108/1822 [00:30<07:55,  3.60it/s]"
     ]
    },
    {
     "name": "stdout",
     "output_type": "stream",
     "text": [
      "Cargando: 5.93% completo\n"
     ]
    },
    {
     "name": "stderr",
     "output_type": "stream",
     "text": [
      "Procesando prestaciones_t2024.db:   6%|▎     | 109/1822 [00:31<07:52,  3.62it/s]"
     ]
    },
    {
     "name": "stdout",
     "output_type": "stream",
     "text": [
      "Cargando: 5.98% completo\n"
     ]
    },
    {
     "name": "stderr",
     "output_type": "stream",
     "text": [
      "Procesando prestaciones_t2024.db:   6%|▎     | 110/1822 [00:31<08:53,  3.21it/s]"
     ]
    },
    {
     "name": "stdout",
     "output_type": "stream",
     "text": [
      "Cargando: 6.04% completo\n"
     ]
    },
    {
     "name": "stderr",
     "output_type": "stream",
     "text": [
      "Procesando prestaciones_t2024.db:   6%|▎     | 111/1822 [00:31<08:20,  3.42it/s]"
     ]
    },
    {
     "name": "stdout",
     "output_type": "stream",
     "text": [
      "Cargando: 6.09% completo\n"
     ]
    },
    {
     "name": "stderr",
     "output_type": "stream",
     "text": [
      "Procesando prestaciones_t2024.db:   6%|▎     | 112/1822 [00:31<08:18,  3.43it/s]"
     ]
    },
    {
     "name": "stdout",
     "output_type": "stream",
     "text": [
      "Cargando: 6.15% completo\n"
     ]
    },
    {
     "name": "stderr",
     "output_type": "stream",
     "text": [
      "Procesando prestaciones_t2024.db:   6%|▎     | 113/1822 [00:32<08:07,  3.50it/s]"
     ]
    },
    {
     "name": "stdout",
     "output_type": "stream",
     "text": [
      "Cargando: 6.20% completo\n"
     ]
    },
    {
     "name": "stderr",
     "output_type": "stream",
     "text": [
      "Procesando prestaciones_t2024.db:   6%|▍     | 114/1822 [00:32<08:09,  3.49it/s]"
     ]
    },
    {
     "name": "stdout",
     "output_type": "stream",
     "text": [
      "Cargando: 6.26% completo\n"
     ]
    },
    {
     "name": "stderr",
     "output_type": "stream",
     "text": [
      "Procesando prestaciones_t2024.db:   6%|▍     | 115/1822 [00:32<08:15,  3.44it/s]"
     ]
    },
    {
     "name": "stdout",
     "output_type": "stream",
     "text": [
      "Cargando: 6.31% completo\n"
     ]
    },
    {
     "name": "stderr",
     "output_type": "stream",
     "text": [
      "Procesando prestaciones_t2024.db:   6%|▍     | 116/1822 [00:33<08:02,  3.53it/s]"
     ]
    },
    {
     "name": "stdout",
     "output_type": "stream",
     "text": [
      "Cargando: 6.37% completo\n"
     ]
    },
    {
     "name": "stderr",
     "output_type": "stream",
     "text": [
      "Procesando prestaciones_t2024.db:   6%|▍     | 117/1822 [00:33<09:04,  3.13it/s]"
     ]
    },
    {
     "name": "stdout",
     "output_type": "stream",
     "text": [
      "Cargando: 6.42% completo\n"
     ]
    },
    {
     "name": "stderr",
     "output_type": "stream",
     "text": [
      "Procesando prestaciones_t2024.db:   6%|▍     | 118/1822 [00:33<09:35,  2.96it/s]"
     ]
    },
    {
     "name": "stdout",
     "output_type": "stream",
     "text": [
      "Cargando: 6.48% completo\n"
     ]
    },
    {
     "name": "stderr",
     "output_type": "stream",
     "text": [
      "Procesando prestaciones_t2024.db:   7%|▍     | 119/1822 [00:34<09:12,  3.08it/s]"
     ]
    },
    {
     "name": "stdout",
     "output_type": "stream",
     "text": [
      "Cargando: 6.53% completo\n"
     ]
    },
    {
     "name": "stderr",
     "output_type": "stream",
     "text": [
      "Procesando prestaciones_t2024.db:   7%|▍     | 120/1822 [00:34<08:47,  3.23it/s]"
     ]
    },
    {
     "name": "stdout",
     "output_type": "stream",
     "text": [
      "Cargando: 6.59% completo\n"
     ]
    },
    {
     "name": "stderr",
     "output_type": "stream",
     "text": [
      "Procesando prestaciones_t2024.db:   7%|▍     | 121/1822 [00:34<08:43,  3.25it/s]"
     ]
    },
    {
     "name": "stdout",
     "output_type": "stream",
     "text": [
      "Cargando: 6.64% completo\n"
     ]
    },
    {
     "name": "stderr",
     "output_type": "stream",
     "text": [
      "Procesando prestaciones_t2024.db:   7%|▍     | 122/1822 [00:34<08:22,  3.39it/s]"
     ]
    },
    {
     "name": "stdout",
     "output_type": "stream",
     "text": [
      "Cargando: 6.70% completo\n"
     ]
    },
    {
     "name": "stderr",
     "output_type": "stream",
     "text": [
      "Procesando prestaciones_t2024.db:   7%|▍     | 123/1822 [00:35<08:13,  3.44it/s]"
     ]
    },
    {
     "name": "stdout",
     "output_type": "stream",
     "text": [
      "Cargando: 6.75% completo\n"
     ]
    },
    {
     "name": "stderr",
     "output_type": "stream",
     "text": [
      "Procesando prestaciones_t2024.db:   7%|▍     | 124/1822 [00:35<08:48,  3.21it/s]"
     ]
    },
    {
     "name": "stdout",
     "output_type": "stream",
     "text": [
      "Cargando: 6.81% completo\n"
     ]
    },
    {
     "name": "stderr",
     "output_type": "stream",
     "text": [
      "Procesando prestaciones_t2024.db:   7%|▍     | 125/1822 [00:35<08:47,  3.22it/s]"
     ]
    },
    {
     "name": "stdout",
     "output_type": "stream",
     "text": [
      "Cargando: 6.86% completo\n"
     ]
    },
    {
     "name": "stderr",
     "output_type": "stream",
     "text": [
      "Procesando prestaciones_t2024.db:   7%|▍     | 126/1822 [00:36<08:16,  3.42it/s]"
     ]
    },
    {
     "name": "stdout",
     "output_type": "stream",
     "text": [
      "Cargando: 6.92% completo\n"
     ]
    },
    {
     "name": "stderr",
     "output_type": "stream",
     "text": [
      "Procesando prestaciones_t2024.db:   7%|▍     | 127/1822 [00:36<08:07,  3.48it/s]"
     ]
    },
    {
     "name": "stdout",
     "output_type": "stream",
     "text": [
      "Cargando: 6.97% completo\n"
     ]
    },
    {
     "name": "stderr",
     "output_type": "stream",
     "text": [
      "Procesando prestaciones_t2024.db:   7%|▍     | 128/1822 [00:36<07:55,  3.56it/s]"
     ]
    },
    {
     "name": "stdout",
     "output_type": "stream",
     "text": [
      "Cargando: 7.03% completo\n"
     ]
    },
    {
     "name": "stderr",
     "output_type": "stream",
     "text": [
      "Procesando prestaciones_t2024.db:   7%|▍     | 129/1822 [00:36<07:43,  3.65it/s]"
     ]
    },
    {
     "name": "stdout",
     "output_type": "stream",
     "text": [
      "Cargando: 7.08% completo\n"
     ]
    },
    {
     "name": "stderr",
     "output_type": "stream",
     "text": [
      "Procesando prestaciones_t2024.db:   7%|▍     | 130/1822 [00:37<08:27,  3.33it/s]"
     ]
    },
    {
     "name": "stdout",
     "output_type": "stream",
     "text": [
      "Cargando: 7.14% completo\n"
     ]
    },
    {
     "name": "stderr",
     "output_type": "stream",
     "text": [
      "Procesando prestaciones_t2024.db:   7%|▍     | 131/1822 [00:37<08:06,  3.48it/s]"
     ]
    },
    {
     "name": "stdout",
     "output_type": "stream",
     "text": [
      "Cargando: 7.19% completo\n"
     ]
    },
    {
     "name": "stderr",
     "output_type": "stream",
     "text": [
      "Procesando prestaciones_t2024.db:   7%|▍     | 132/1822 [00:37<07:39,  3.68it/s]"
     ]
    },
    {
     "name": "stdout",
     "output_type": "stream",
     "text": [
      "Cargando: 7.24% completo\n"
     ]
    },
    {
     "name": "stderr",
     "output_type": "stream",
     "text": [
      "Procesando prestaciones_t2024.db:   7%|▍     | 133/1822 [00:38<07:23,  3.81it/s]"
     ]
    },
    {
     "name": "stdout",
     "output_type": "stream",
     "text": [
      "Cargando: 7.30% completo\n"
     ]
    },
    {
     "name": "stderr",
     "output_type": "stream",
     "text": [
      "Procesando prestaciones_t2024.db:   7%|▍     | 134/1822 [00:38<07:30,  3.75it/s]"
     ]
    },
    {
     "name": "stdout",
     "output_type": "stream",
     "text": [
      "Cargando: 7.35% completo\n"
     ]
    },
    {
     "name": "stderr",
     "output_type": "stream",
     "text": [
      "Procesando prestaciones_t2024.db:   7%|▍     | 135/1822 [00:38<07:32,  3.73it/s]"
     ]
    },
    {
     "name": "stdout",
     "output_type": "stream",
     "text": [
      "Cargando: 7.41% completo\n"
     ]
    },
    {
     "name": "stderr",
     "output_type": "stream",
     "text": [
      "Procesando prestaciones_t2024.db:   7%|▍     | 136/1822 [00:38<07:24,  3.79it/s]"
     ]
    },
    {
     "name": "stdout",
     "output_type": "stream",
     "text": [
      "Cargando: 7.46% completo\n"
     ]
    },
    {
     "name": "stderr",
     "output_type": "stream",
     "text": [
      "Procesando prestaciones_t2024.db:   8%|▍     | 137/1822 [00:39<08:21,  3.36it/s]"
     ]
    },
    {
     "name": "stdout",
     "output_type": "stream",
     "text": [
      "Cargando: 7.52% completo\n"
     ]
    },
    {
     "name": "stderr",
     "output_type": "stream",
     "text": [
      "Procesando prestaciones_t2024.db:   8%|▍     | 138/1822 [00:39<08:02,  3.49it/s]"
     ]
    },
    {
     "name": "stdout",
     "output_type": "stream",
     "text": [
      "Cargando: 7.57% completo\n"
     ]
    },
    {
     "name": "stderr",
     "output_type": "stream",
     "text": [
      "Procesando prestaciones_t2024.db:   8%|▍     | 139/1822 [00:39<07:40,  3.66it/s]"
     ]
    },
    {
     "name": "stdout",
     "output_type": "stream",
     "text": [
      "Cargando: 7.63% completo\n"
     ]
    },
    {
     "name": "stderr",
     "output_type": "stream",
     "text": [
      "Procesando prestaciones_t2024.db:   8%|▍     | 140/1822 [00:39<07:21,  3.81it/s]"
     ]
    },
    {
     "name": "stdout",
     "output_type": "stream",
     "text": [
      "Cargando: 7.68% completo\n"
     ]
    },
    {
     "name": "stderr",
     "output_type": "stream",
     "text": [
      "Procesando prestaciones_t2024.db:   8%|▍     | 141/1822 [00:40<07:17,  3.85it/s]"
     ]
    },
    {
     "name": "stdout",
     "output_type": "stream",
     "text": [
      "Cargando: 7.74% completo\n"
     ]
    },
    {
     "name": "stderr",
     "output_type": "stream",
     "text": [
      "Procesando prestaciones_t2024.db:   8%|▍     | 142/1822 [00:40<07:03,  3.96it/s]"
     ]
    },
    {
     "name": "stdout",
     "output_type": "stream",
     "text": [
      "Cargando: 7.79% completo\n"
     ]
    },
    {
     "name": "stderr",
     "output_type": "stream",
     "text": [
      "Procesando prestaciones_t2024.db:   8%|▍     | 143/1822 [00:40<06:56,  4.03it/s]"
     ]
    },
    {
     "name": "stdout",
     "output_type": "stream",
     "text": [
      "Cargando: 7.85% completo\n"
     ]
    },
    {
     "name": "stderr",
     "output_type": "stream",
     "text": [
      "Procesando prestaciones_t2024.db:   8%|▍     | 144/1822 [00:41<07:45,  3.61it/s]"
     ]
    },
    {
     "name": "stdout",
     "output_type": "stream",
     "text": [
      "Cargando: 7.90% completo\n"
     ]
    },
    {
     "name": "stderr",
     "output_type": "stream",
     "text": [
      "Procesando prestaciones_t2024.db:   8%|▍     | 145/1822 [00:41<07:19,  3.82it/s]"
     ]
    },
    {
     "name": "stdout",
     "output_type": "stream",
     "text": [
      "Cargando: 7.96% completo\n"
     ]
    },
    {
     "name": "stderr",
     "output_type": "stream",
     "text": [
      "Procesando prestaciones_t2024.db:   8%|▍     | 146/1822 [00:41<07:09,  3.90it/s]"
     ]
    },
    {
     "name": "stdout",
     "output_type": "stream",
     "text": [
      "Cargando: 8.01% completo\n"
     ]
    },
    {
     "name": "stderr",
     "output_type": "stream",
     "text": [
      "Procesando prestaciones_t2024.db:   8%|▍     | 147/1822 [00:41<06:55,  4.04it/s]"
     ]
    },
    {
     "name": "stdout",
     "output_type": "stream",
     "text": [
      "Cargando: 8.07% completo\n"
     ]
    },
    {
     "name": "stderr",
     "output_type": "stream",
     "text": [
      "Procesando prestaciones_t2024.db:   8%|▍     | 148/1822 [00:41<06:46,  4.12it/s]"
     ]
    },
    {
     "name": "stdout",
     "output_type": "stream",
     "text": [
      "Cargando: 8.12% completo\n"
     ]
    },
    {
     "name": "stderr",
     "output_type": "stream",
     "text": [
      "Procesando prestaciones_t2024.db:   8%|▍     | 149/1822 [00:42<06:41,  4.17it/s]"
     ]
    },
    {
     "name": "stdout",
     "output_type": "stream",
     "text": [
      "Cargando: 8.18% completo\n"
     ]
    },
    {
     "name": "stderr",
     "output_type": "stream",
     "text": [
      "Procesando prestaciones_t2024.db:   8%|▍     | 150/1822 [00:42<06:39,  4.18it/s]"
     ]
    },
    {
     "name": "stdout",
     "output_type": "stream",
     "text": [
      "Cargando: 8.23% completo\n"
     ]
    },
    {
     "name": "stderr",
     "output_type": "stream",
     "text": [
      "Procesando prestaciones_t2024.db:   8%|▍     | 151/1822 [00:42<07:27,  3.73it/s]"
     ]
    },
    {
     "name": "stdout",
     "output_type": "stream",
     "text": [
      "Cargando: 8.29% completo\n"
     ]
    },
    {
     "name": "stderr",
     "output_type": "stream",
     "text": [
      "Procesando prestaciones_t2024.db:   8%|▌     | 152/1822 [00:43<07:14,  3.84it/s]"
     ]
    },
    {
     "name": "stdout",
     "output_type": "stream",
     "text": [
      "Cargando: 8.34% completo\n"
     ]
    },
    {
     "name": "stderr",
     "output_type": "stream",
     "text": [
      "Procesando prestaciones_t2024.db:   8%|▌     | 153/1822 [00:43<07:00,  3.97it/s]"
     ]
    },
    {
     "name": "stdout",
     "output_type": "stream",
     "text": [
      "Cargando: 8.40% completo\n"
     ]
    },
    {
     "name": "stderr",
     "output_type": "stream",
     "text": [
      "Procesando prestaciones_t2024.db:   8%|▌     | 154/1822 [00:43<06:52,  4.04it/s]"
     ]
    },
    {
     "name": "stdout",
     "output_type": "stream",
     "text": [
      "Cargando: 8.45% completo\n"
     ]
    },
    {
     "name": "stderr",
     "output_type": "stream",
     "text": [
      "Procesando prestaciones_t2024.db:   9%|▌     | 155/1822 [00:43<07:12,  3.86it/s]"
     ]
    },
    {
     "name": "stdout",
     "output_type": "stream",
     "text": [
      "Cargando: 8.51% completo\n"
     ]
    },
    {
     "name": "stderr",
     "output_type": "stream",
     "text": [
      "Procesando prestaciones_t2024.db:   9%|▌     | 156/1822 [00:44<07:16,  3.82it/s]"
     ]
    },
    {
     "name": "stdout",
     "output_type": "stream",
     "text": [
      "Cargando: 8.56% completo\n"
     ]
    },
    {
     "name": "stderr",
     "output_type": "stream",
     "text": [
      "Procesando prestaciones_t2024.db:   9%|▌     | 157/1822 [00:44<07:21,  3.77it/s]"
     ]
    },
    {
     "name": "stdout",
     "output_type": "stream",
     "text": [
      "Cargando: 8.62% completo\n"
     ]
    },
    {
     "name": "stderr",
     "output_type": "stream",
     "text": [
      "Procesando prestaciones_t2024.db:   9%|▌     | 158/1822 [00:44<08:23,  3.31it/s]"
     ]
    },
    {
     "name": "stdout",
     "output_type": "stream",
     "text": [
      "Cargando: 8.67% completo\n"
     ]
    },
    {
     "name": "stderr",
     "output_type": "stream",
     "text": [
      "Procesando prestaciones_t2024.db:   9%|▌     | 159/1822 [00:45<08:15,  3.36it/s]"
     ]
    },
    {
     "name": "stdout",
     "output_type": "stream",
     "text": [
      "Cargando: 8.73% completo\n"
     ]
    },
    {
     "name": "stderr",
     "output_type": "stream",
     "text": [
      "Procesando prestaciones_t2024.db:   9%|▌     | 160/1822 [00:45<08:32,  3.24it/s]"
     ]
    },
    {
     "name": "stdout",
     "output_type": "stream",
     "text": [
      "Cargando: 8.78% completo\n"
     ]
    },
    {
     "name": "stderr",
     "output_type": "stream",
     "text": [
      "Procesando prestaciones_t2024.db:   9%|▌     | 161/1822 [00:45<09:13,  3.00it/s]"
     ]
    },
    {
     "name": "stdout",
     "output_type": "stream",
     "text": [
      "Cargando: 8.84% completo\n"
     ]
    },
    {
     "name": "stderr",
     "output_type": "stream",
     "text": [
      "Procesando prestaciones_t2024.db:   9%|▌     | 162/1822 [00:46<09:55,  2.79it/s]"
     ]
    },
    {
     "name": "stdout",
     "output_type": "stream",
     "text": [
      "Cargando: 8.89% completo\n"
     ]
    },
    {
     "name": "stderr",
     "output_type": "stream",
     "text": [
      "Procesando prestaciones_t2024.db:   9%|▌     | 163/1822 [00:46<09:08,  3.03it/s]"
     ]
    },
    {
     "name": "stdout",
     "output_type": "stream",
     "text": [
      "Cargando: 8.95% completo\n"
     ]
    },
    {
     "name": "stderr",
     "output_type": "stream",
     "text": [
      "Procesando prestaciones_t2024.db:   9%|▌     | 164/1822 [00:46<08:48,  3.14it/s]"
     ]
    },
    {
     "name": "stdout",
     "output_type": "stream",
     "text": [
      "Cargando: 9.00% completo\n"
     ]
    },
    {
     "name": "stderr",
     "output_type": "stream",
     "text": [
      "Procesando prestaciones_t2024.db:   9%|▌     | 165/1822 [00:46<08:17,  3.33it/s]"
     ]
    },
    {
     "name": "stdout",
     "output_type": "stream",
     "text": [
      "Cargando: 9.06% completo\n"
     ]
    },
    {
     "name": "stderr",
     "output_type": "stream",
     "text": [
      "Procesando prestaciones_t2024.db:   9%|▌     | 166/1822 [00:47<08:46,  3.14it/s]"
     ]
    },
    {
     "name": "stdout",
     "output_type": "stream",
     "text": [
      "Cargando: 9.11% completo\n"
     ]
    },
    {
     "name": "stderr",
     "output_type": "stream",
     "text": [
      "Procesando prestaciones_t2024.db:   9%|▌     | 167/1822 [00:47<08:47,  3.14it/s]"
     ]
    },
    {
     "name": "stdout",
     "output_type": "stream",
     "text": [
      "Cargando: 9.17% completo\n"
     ]
    },
    {
     "name": "stderr",
     "output_type": "stream",
     "text": [
      "Procesando prestaciones_t2024.db:   9%|▌     | 168/1822 [00:47<08:53,  3.10it/s]"
     ]
    },
    {
     "name": "stdout",
     "output_type": "stream",
     "text": [
      "Cargando: 9.22% completo\n"
     ]
    },
    {
     "name": "stderr",
     "output_type": "stream",
     "text": [
      "Procesando prestaciones_t2024.db:   9%|▌     | 169/1822 [00:48<08:34,  3.22it/s]"
     ]
    },
    {
     "name": "stdout",
     "output_type": "stream",
     "text": [
      "Cargando: 9.28% completo\n"
     ]
    },
    {
     "name": "stderr",
     "output_type": "stream",
     "text": [
      "Procesando prestaciones_t2024.db:   9%|▌     | 170/1822 [00:48<08:25,  3.27it/s]"
     ]
    },
    {
     "name": "stdout",
     "output_type": "stream",
     "text": [
      "Cargando: 9.33% completo\n"
     ]
    },
    {
     "name": "stderr",
     "output_type": "stream",
     "text": [
      "Procesando prestaciones_t2024.db:   9%|▌     | 171/1822 [00:48<07:53,  3.49it/s]"
     ]
    },
    {
     "name": "stdout",
     "output_type": "stream",
     "text": [
      "Cargando: 9.39% completo\n"
     ]
    },
    {
     "name": "stderr",
     "output_type": "stream",
     "text": [
      "Procesando prestaciones_t2024.db:   9%|▌     | 172/1822 [00:49<07:57,  3.45it/s]"
     ]
    },
    {
     "name": "stdout",
     "output_type": "stream",
     "text": [
      "Cargando: 9.44% completo\n"
     ]
    },
    {
     "name": "stderr",
     "output_type": "stream",
     "text": [
      "Procesando prestaciones_t2024.db:   9%|▌     | 173/1822 [00:49<08:59,  3.06it/s]"
     ]
    },
    {
     "name": "stdout",
     "output_type": "stream",
     "text": [
      "Cargando: 9.50% completo\n"
     ]
    },
    {
     "name": "stderr",
     "output_type": "stream",
     "text": [
      "Procesando prestaciones_t2024.db:  10%|▌     | 174/1822 [00:49<08:24,  3.26it/s]"
     ]
    },
    {
     "name": "stdout",
     "output_type": "stream",
     "text": [
      "Cargando: 9.55% completo\n"
     ]
    },
    {
     "name": "stderr",
     "output_type": "stream",
     "text": [
      "Procesando prestaciones_t2024.db:  10%|▌     | 175/1822 [00:50<07:57,  3.45it/s]"
     ]
    },
    {
     "name": "stdout",
     "output_type": "stream",
     "text": [
      "Cargando: 9.60% completo\n"
     ]
    },
    {
     "name": "stderr",
     "output_type": "stream",
     "text": [
      "Procesando prestaciones_t2024.db:  10%|▌     | 176/1822 [00:50<07:41,  3.57it/s]"
     ]
    },
    {
     "name": "stdout",
     "output_type": "stream",
     "text": [
      "Cargando: 9.66% completo\n"
     ]
    },
    {
     "name": "stderr",
     "output_type": "stream",
     "text": [
      "Procesando prestaciones_t2024.db:  10%|▌     | 177/1822 [00:50<07:23,  3.71it/s]"
     ]
    },
    {
     "name": "stdout",
     "output_type": "stream",
     "text": [
      "Cargando: 9.71% completo\n"
     ]
    },
    {
     "name": "stderr",
     "output_type": "stream",
     "text": [
      "Procesando prestaciones_t2024.db:  10%|▌     | 178/1822 [00:50<07:20,  3.73it/s]"
     ]
    },
    {
     "name": "stdout",
     "output_type": "stream",
     "text": [
      "Cargando: 9.77% completo\n"
     ]
    },
    {
     "name": "stderr",
     "output_type": "stream",
     "text": [
      "Procesando prestaciones_t2024.db:  10%|▌     | 179/1822 [00:51<07:08,  3.84it/s]"
     ]
    },
    {
     "name": "stdout",
     "output_type": "stream",
     "text": [
      "Cargando: 9.82% completo\n"
     ]
    },
    {
     "name": "stderr",
     "output_type": "stream",
     "text": [
      "Procesando prestaciones_t2024.db:  10%|▌     | 180/1822 [00:51<07:59,  3.43it/s]"
     ]
    },
    {
     "name": "stdout",
     "output_type": "stream",
     "text": [
      "Cargando: 9.88% completo\n"
     ]
    },
    {
     "name": "stderr",
     "output_type": "stream",
     "text": [
      "Procesando prestaciones_t2024.db:  10%|▌     | 181/1822 [00:51<07:36,  3.59it/s]"
     ]
    },
    {
     "name": "stdout",
     "output_type": "stream",
     "text": [
      "Cargando: 9.93% completo\n"
     ]
    },
    {
     "name": "stderr",
     "output_type": "stream",
     "text": [
      "Procesando prestaciones_t2024.db:  10%|▌     | 182/1822 [00:51<07:25,  3.68it/s]"
     ]
    },
    {
     "name": "stdout",
     "output_type": "stream",
     "text": [
      "Cargando: 9.99% completo\n"
     ]
    },
    {
     "name": "stderr",
     "output_type": "stream",
     "text": [
      "Procesando prestaciones_t2024.db:  10%|▌     | 183/1822 [00:52<07:25,  3.68it/s]"
     ]
    },
    {
     "name": "stdout",
     "output_type": "stream",
     "text": [
      "Cargando: 10.04% completo\n"
     ]
    },
    {
     "name": "stderr",
     "output_type": "stream",
     "text": [
      "Procesando prestaciones_t2024.db:  10%|▌     | 184/1822 [00:52<07:16,  3.75it/s]"
     ]
    },
    {
     "name": "stdout",
     "output_type": "stream",
     "text": [
      "Cargando: 10.10% completo\n"
     ]
    },
    {
     "name": "stderr",
     "output_type": "stream",
     "text": [
      "Procesando prestaciones_t2024.db:  10%|▌     | 185/1822 [00:52<07:33,  3.61it/s]"
     ]
    },
    {
     "name": "stdout",
     "output_type": "stream",
     "text": [
      "Cargando: 10.15% completo\n"
     ]
    },
    {
     "name": "stderr",
     "output_type": "stream",
     "text": [
      "Procesando prestaciones_t2024.db:  10%|▌     | 186/1822 [00:53<07:52,  3.46it/s]"
     ]
    },
    {
     "name": "stdout",
     "output_type": "stream",
     "text": [
      "Cargando: 10.21% completo\n"
     ]
    },
    {
     "name": "stderr",
     "output_type": "stream",
     "text": [
      "Procesando prestaciones_t2024.db:  10%|▌     | 187/1822 [00:53<09:01,  3.02it/s]"
     ]
    },
    {
     "name": "stdout",
     "output_type": "stream",
     "text": [
      "Cargando: 10.26% completo\n"
     ]
    },
    {
     "name": "stderr",
     "output_type": "stream",
     "text": [
      "Procesando prestaciones_t2024.db:  10%|▌     | 188/1822 [00:53<08:49,  3.08it/s]"
     ]
    },
    {
     "name": "stdout",
     "output_type": "stream",
     "text": [
      "Cargando: 10.32% completo\n"
     ]
    },
    {
     "name": "stderr",
     "output_type": "stream",
     "text": [
      "Procesando prestaciones_t2024.db:  10%|▌     | 189/1822 [00:54<08:20,  3.26it/s]"
     ]
    },
    {
     "name": "stdout",
     "output_type": "stream",
     "text": [
      "Cargando: 10.37% completo\n"
     ]
    },
    {
     "name": "stderr",
     "output_type": "stream",
     "text": [
      "Procesando prestaciones_t2024.db:  10%|▋     | 190/1822 [00:54<07:53,  3.45it/s]"
     ]
    },
    {
     "name": "stdout",
     "output_type": "stream",
     "text": [
      "Cargando: 10.43% completo\n"
     ]
    },
    {
     "name": "stderr",
     "output_type": "stream",
     "text": [
      "Procesando prestaciones_t2024.db:  10%|▋     | 191/1822 [00:54<07:36,  3.57it/s]"
     ]
    },
    {
     "name": "stdout",
     "output_type": "stream",
     "text": [
      "Cargando: 10.48% completo\n"
     ]
    },
    {
     "name": "stderr",
     "output_type": "stream",
     "text": [
      "Procesando prestaciones_t2024.db:  11%|▋     | 192/1822 [00:54<07:23,  3.67it/s]"
     ]
    },
    {
     "name": "stdout",
     "output_type": "stream",
     "text": [
      "Cargando: 10.54% completo\n"
     ]
    },
    {
     "name": "stderr",
     "output_type": "stream",
     "text": [
      "Procesando prestaciones_t2024.db:  11%|▋     | 193/1822 [00:55<07:13,  3.76it/s]"
     ]
    },
    {
     "name": "stdout",
     "output_type": "stream",
     "text": [
      "Cargando: 10.59% completo\n"
     ]
    },
    {
     "name": "stderr",
     "output_type": "stream",
     "text": [
      "Procesando prestaciones_t2024.db:  11%|▋     | 194/1822 [00:55<07:12,  3.77it/s]"
     ]
    },
    {
     "name": "stdout",
     "output_type": "stream",
     "text": [
      "Cargando: 10.65% completo\n"
     ]
    },
    {
     "name": "stderr",
     "output_type": "stream",
     "text": [
      "Procesando prestaciones_t2024.db:  11%|▋     | 195/1822 [00:55<08:04,  3.36it/s]"
     ]
    },
    {
     "name": "stdout",
     "output_type": "stream",
     "text": [
      "Cargando: 10.70% completo\n"
     ]
    },
    {
     "name": "stderr",
     "output_type": "stream",
     "text": [
      "Procesando prestaciones_t2024.db:  11%|▋     | 196/1822 [00:55<07:48,  3.47it/s]"
     ]
    },
    {
     "name": "stdout",
     "output_type": "stream",
     "text": [
      "Cargando: 10.76% completo\n"
     ]
    },
    {
     "name": "stderr",
     "output_type": "stream",
     "text": [
      "Procesando prestaciones_t2024.db:  11%|▋     | 197/1822 [00:56<08:08,  3.32it/s]"
     ]
    },
    {
     "name": "stdout",
     "output_type": "stream",
     "text": [
      "Cargando: 10.81% completo\n"
     ]
    },
    {
     "name": "stderr",
     "output_type": "stream",
     "text": [
      "Procesando prestaciones_t2024.db:  11%|▋     | 198/1822 [00:56<08:12,  3.30it/s]"
     ]
    },
    {
     "name": "stdout",
     "output_type": "stream",
     "text": [
      "Cargando: 10.87% completo\n"
     ]
    },
    {
     "name": "stderr",
     "output_type": "stream",
     "text": [
      "Procesando prestaciones_t2024.db:  11%|▋     | 199/1822 [00:56<08:08,  3.32it/s]"
     ]
    },
    {
     "name": "stdout",
     "output_type": "stream",
     "text": [
      "Cargando: 10.92% completo\n"
     ]
    },
    {
     "name": "stderr",
     "output_type": "stream",
     "text": [
      "Procesando prestaciones_t2024.db:  11%|▋     | 200/1822 [00:57<08:10,  3.31it/s]"
     ]
    },
    {
     "name": "stdout",
     "output_type": "stream",
     "text": [
      "Cargando: 10.98% completo\n"
     ]
    },
    {
     "name": "stderr",
     "output_type": "stream",
     "text": [
      "Procesando prestaciones_t2024.db:  11%|▋     | 201/1822 [00:57<07:56,  3.40it/s]"
     ]
    },
    {
     "name": "stdout",
     "output_type": "stream",
     "text": [
      "Cargando: 11.03% completo\n"
     ]
    },
    {
     "name": "stderr",
     "output_type": "stream",
     "text": [
      "Procesando prestaciones_t2024.db:  11%|▋     | 202/1822 [00:57<07:54,  3.41it/s]"
     ]
    },
    {
     "name": "stdout",
     "output_type": "stream",
     "text": [
      "Cargando: 11.09% completo\n"
     ]
    },
    {
     "name": "stderr",
     "output_type": "stream",
     "text": [
      "Procesando prestaciones_t2024.db:  11%|▋     | 203/1822 [00:58<09:13,  2.92it/s]"
     ]
    },
    {
     "name": "stdout",
     "output_type": "stream",
     "text": [
      "Cargando: 11.14% completo\n"
     ]
    },
    {
     "name": "stderr",
     "output_type": "stream",
     "text": [
      "Procesando prestaciones_t2024.db:  11%|▋     | 204/1822 [00:58<08:50,  3.05it/s]"
     ]
    },
    {
     "name": "stdout",
     "output_type": "stream",
     "text": [
      "Cargando: 11.20% completo\n"
     ]
    },
    {
     "name": "stderr",
     "output_type": "stream",
     "text": [
      "Procesando prestaciones_t2024.db:  11%|▋     | 205/1822 [00:58<08:28,  3.18it/s]"
     ]
    },
    {
     "name": "stdout",
     "output_type": "stream",
     "text": [
      "Cargando: 11.25% completo\n"
     ]
    },
    {
     "name": "stderr",
     "output_type": "stream",
     "text": [
      "Procesando prestaciones_t2024.db:  11%|▋     | 206/1822 [00:59<08:17,  3.25it/s]"
     ]
    },
    {
     "name": "stdout",
     "output_type": "stream",
     "text": [
      "Cargando: 11.31% completo\n"
     ]
    },
    {
     "name": "stderr",
     "output_type": "stream",
     "text": [
      "Procesando prestaciones_t2024.db:  11%|▋     | 207/1822 [00:59<07:57,  3.39it/s]"
     ]
    },
    {
     "name": "stdout",
     "output_type": "stream",
     "text": [
      "Cargando: 11.36% completo\n"
     ]
    },
    {
     "name": "stderr",
     "output_type": "stream",
     "text": [
      "Procesando prestaciones_t2024.db:  11%|▋     | 208/1822 [00:59<07:45,  3.47it/s]"
     ]
    },
    {
     "name": "stdout",
     "output_type": "stream",
     "text": [
      "Cargando: 11.42% completo\n"
     ]
    },
    {
     "name": "stderr",
     "output_type": "stream",
     "text": [
      "Procesando prestaciones_t2024.db:  11%|▋     | 209/1822 [00:59<07:34,  3.55it/s]"
     ]
    },
    {
     "name": "stdout",
     "output_type": "stream",
     "text": [
      "Cargando: 11.47% completo\n"
     ]
    },
    {
     "name": "stderr",
     "output_type": "stream",
     "text": [
      "Procesando prestaciones_t2024.db:  12%|▋     | 210/1822 [01:00<07:39,  3.51it/s]"
     ]
    },
    {
     "name": "stdout",
     "output_type": "stream",
     "text": [
      "Cargando: 11.53% completo\n"
     ]
    },
    {
     "name": "stderr",
     "output_type": "stream",
     "text": [
      "Procesando prestaciones_t2024.db:  12%|▋     | 211/1822 [01:00<08:28,  3.17it/s]"
     ]
    },
    {
     "name": "stdout",
     "output_type": "stream",
     "text": [
      "Cargando: 11.58% completo\n"
     ]
    },
    {
     "name": "stderr",
     "output_type": "stream",
     "text": [
      "Procesando prestaciones_t2024.db:  12%|▋     | 212/1822 [01:00<08:02,  3.34it/s]"
     ]
    },
    {
     "name": "stdout",
     "output_type": "stream",
     "text": [
      "Cargando: 11.64% completo\n"
     ]
    },
    {
     "name": "stderr",
     "output_type": "stream",
     "text": [
      "Procesando prestaciones_t2024.db:  12%|▋     | 213/1822 [01:01<07:46,  3.45it/s]"
     ]
    },
    {
     "name": "stdout",
     "output_type": "stream",
     "text": [
      "Cargando: 11.69% completo\n"
     ]
    },
    {
     "name": "stderr",
     "output_type": "stream",
     "text": [
      "Procesando prestaciones_t2024.db:  12%|▋     | 214/1822 [01:01<08:00,  3.35it/s]"
     ]
    },
    {
     "name": "stdout",
     "output_type": "stream",
     "text": [
      "Cargando: 11.75% completo\n"
     ]
    },
    {
     "name": "stderr",
     "output_type": "stream",
     "text": [
      "Procesando prestaciones_t2024.db:  12%|▋     | 215/1822 [01:01<08:15,  3.24it/s]"
     ]
    },
    {
     "name": "stdout",
     "output_type": "stream",
     "text": [
      "Cargando: 11.80% completo\n"
     ]
    },
    {
     "name": "stderr",
     "output_type": "stream",
     "text": [
      "Procesando prestaciones_t2024.db:  12%|▋     | 216/1822 [01:02<08:07,  3.29it/s]"
     ]
    },
    {
     "name": "stdout",
     "output_type": "stream",
     "text": [
      "Cargando: 11.86% completo\n"
     ]
    },
    {
     "name": "stderr",
     "output_type": "stream",
     "text": [
      "Procesando prestaciones_t2024.db:  12%|▋     | 217/1822 [01:02<08:02,  3.33it/s]"
     ]
    },
    {
     "name": "stdout",
     "output_type": "stream",
     "text": [
      "Cargando: 11.91% completo\n"
     ]
    },
    {
     "name": "stderr",
     "output_type": "stream",
     "text": [
      "Procesando prestaciones_t2024.db:  12%|▋     | 218/1822 [01:02<09:44,  2.74it/s]"
     ]
    },
    {
     "name": "stdout",
     "output_type": "stream",
     "text": [
      "Cargando: 11.96% completo\n"
     ]
    },
    {
     "name": "stderr",
     "output_type": "stream",
     "text": [
      "Procesando prestaciones_t2024.db:  12%|▋     | 219/1822 [01:03<09:04,  2.95it/s]"
     ]
    },
    {
     "name": "stdout",
     "output_type": "stream",
     "text": [
      "Cargando: 12.02% completo\n"
     ]
    },
    {
     "name": "stderr",
     "output_type": "stream",
     "text": [
      "Procesando prestaciones_t2024.db:  12%|▋     | 220/1822 [01:03<09:30,  2.81it/s]"
     ]
    },
    {
     "name": "stdout",
     "output_type": "stream",
     "text": [
      "Cargando: 12.07% completo\n"
     ]
    },
    {
     "name": "stderr",
     "output_type": "stream",
     "text": [
      "Procesando prestaciones_t2024.db:  12%|▋     | 221/1822 [01:03<08:38,  3.09it/s]"
     ]
    },
    {
     "name": "stdout",
     "output_type": "stream",
     "text": [
      "Cargando: 12.13% completo\n"
     ]
    },
    {
     "name": "stderr",
     "output_type": "stream",
     "text": [
      "Procesando prestaciones_t2024.db:  12%|▋     | 222/1822 [01:04<08:39,  3.08it/s]"
     ]
    },
    {
     "name": "stdout",
     "output_type": "stream",
     "text": [
      "Cargando: 12.18% completo\n"
     ]
    },
    {
     "name": "stderr",
     "output_type": "stream",
     "text": [
      "Procesando prestaciones_t2024.db:  12%|▋     | 223/1822 [01:04<08:05,  3.29it/s]"
     ]
    },
    {
     "name": "stdout",
     "output_type": "stream",
     "text": [
      "Cargando: 12.24% completo\n"
     ]
    },
    {
     "name": "stderr",
     "output_type": "stream",
     "text": [
      "Procesando prestaciones_t2024.db:  12%|▋     | 224/1822 [01:04<07:45,  3.43it/s]"
     ]
    },
    {
     "name": "stdout",
     "output_type": "stream",
     "text": [
      "Cargando: 12.29% completo\n"
     ]
    },
    {
     "name": "stderr",
     "output_type": "stream",
     "text": [
      "Procesando prestaciones_t2024.db:  12%|▋     | 225/1822 [01:04<07:21,  3.61it/s]"
     ]
    },
    {
     "name": "stdout",
     "output_type": "stream",
     "text": [
      "Cargando: 12.35% completo\n"
     ]
    },
    {
     "name": "stderr",
     "output_type": "stream",
     "text": [
      "Procesando prestaciones_t2024.db:  12%|▋     | 226/1822 [01:05<08:20,  3.19it/s]"
     ]
    },
    {
     "name": "stdout",
     "output_type": "stream",
     "text": [
      "Cargando: 12.40% completo\n"
     ]
    },
    {
     "name": "stderr",
     "output_type": "stream",
     "text": [
      "Procesando prestaciones_t2024.db:  12%|▋     | 227/1822 [01:05<08:11,  3.24it/s]"
     ]
    },
    {
     "name": "stdout",
     "output_type": "stream",
     "text": [
      "Cargando: 12.46% completo\n"
     ]
    },
    {
     "name": "stderr",
     "output_type": "stream",
     "text": [
      "Procesando prestaciones_t2024.db:  13%|▊     | 228/1822 [01:05<08:05,  3.28it/s]"
     ]
    },
    {
     "name": "stdout",
     "output_type": "stream",
     "text": [
      "Cargando: 12.51% completo\n"
     ]
    },
    {
     "name": "stderr",
     "output_type": "stream",
     "text": [
      "Procesando prestaciones_t2024.db:  13%|▊     | 229/1822 [01:06<07:51,  3.38it/s]"
     ]
    },
    {
     "name": "stdout",
     "output_type": "stream",
     "text": [
      "Cargando: 12.57% completo\n"
     ]
    },
    {
     "name": "stderr",
     "output_type": "stream",
     "text": [
      "Procesando prestaciones_t2024.db:  13%|▊     | 230/1822 [01:06<07:55,  3.35it/s]"
     ]
    },
    {
     "name": "stdout",
     "output_type": "stream",
     "text": [
      "Cargando: 12.62% completo\n"
     ]
    },
    {
     "name": "stderr",
     "output_type": "stream",
     "text": [
      "Procesando prestaciones_t2024.db:  13%|▊     | 231/1822 [01:06<07:41,  3.45it/s]"
     ]
    },
    {
     "name": "stdout",
     "output_type": "stream",
     "text": [
      "Cargando: 12.68% completo\n"
     ]
    },
    {
     "name": "stderr",
     "output_type": "stream",
     "text": [
      "Procesando prestaciones_t2024.db:  13%|▊     | 232/1822 [01:07<08:05,  3.28it/s]"
     ]
    },
    {
     "name": "stdout",
     "output_type": "stream",
     "text": [
      "Cargando: 12.73% completo\n"
     ]
    },
    {
     "name": "stderr",
     "output_type": "stream",
     "text": [
      "Procesando prestaciones_t2024.db:  13%|▊     | 233/1822 [01:07<08:02,  3.29it/s]"
     ]
    },
    {
     "name": "stdout",
     "output_type": "stream",
     "text": [
      "Cargando: 12.79% completo\n"
     ]
    },
    {
     "name": "stderr",
     "output_type": "stream",
     "text": [
      "Procesando prestaciones_t2024.db:  13%|▊     | 234/1822 [01:07<07:54,  3.35it/s]"
     ]
    },
    {
     "name": "stdout",
     "output_type": "stream",
     "text": [
      "Cargando: 12.84% completo\n"
     ]
    },
    {
     "name": "stderr",
     "output_type": "stream",
     "text": [
      "Procesando prestaciones_t2024.db:  13%|▊     | 235/1822 [01:08<08:34,  3.08it/s]"
     ]
    },
    {
     "name": "stdout",
     "output_type": "stream",
     "text": [
      "Cargando: 12.90% completo\n"
     ]
    },
    {
     "name": "stderr",
     "output_type": "stream",
     "text": [
      "Procesando prestaciones_t2024.db:  13%|▊     | 236/1822 [01:08<08:05,  3.26it/s]"
     ]
    },
    {
     "name": "stdout",
     "output_type": "stream",
     "text": [
      "Cargando: 12.95% completo\n"
     ]
    },
    {
     "name": "stderr",
     "output_type": "stream",
     "text": [
      "Procesando prestaciones_t2024.db:  13%|▊     | 237/1822 [01:08<08:12,  3.22it/s]"
     ]
    },
    {
     "name": "stdout",
     "output_type": "stream",
     "text": [
      "Cargando: 13.01% completo\n"
     ]
    },
    {
     "name": "stderr",
     "output_type": "stream",
     "text": [
      "Procesando prestaciones_t2024.db:  13%|▊     | 238/1822 [01:08<08:02,  3.28it/s]"
     ]
    },
    {
     "name": "stdout",
     "output_type": "stream",
     "text": [
      "Cargando: 13.06% completo\n"
     ]
    },
    {
     "name": "stderr",
     "output_type": "stream",
     "text": [
      "Procesando prestaciones_t2024.db:  13%|▊     | 239/1822 [01:09<09:03,  2.91it/s]"
     ]
    },
    {
     "name": "stdout",
     "output_type": "stream",
     "text": [
      "Cargando: 13.12% completo\n"
     ]
    },
    {
     "name": "stderr",
     "output_type": "stream",
     "text": [
      "Procesando prestaciones_t2024.db:  13%|▊     | 240/1822 [01:09<08:40,  3.04it/s]"
     ]
    },
    {
     "name": "stdout",
     "output_type": "stream",
     "text": [
      "Cargando: 13.17% completo\n"
     ]
    },
    {
     "name": "stderr",
     "output_type": "stream",
     "text": [
      "Procesando prestaciones_t2024.db:  13%|▊     | 241/1822 [01:09<08:02,  3.28it/s]"
     ]
    },
    {
     "name": "stdout",
     "output_type": "stream",
     "text": [
      "Cargando: 13.23% completo\n"
     ]
    },
    {
     "name": "stderr",
     "output_type": "stream",
     "text": [
      "Procesando prestaciones_t2024.db:  13%|▊     | 242/1822 [01:10<07:35,  3.47it/s]"
     ]
    },
    {
     "name": "stdout",
     "output_type": "stream",
     "text": [
      "Cargando: 13.28% completo\n"
     ]
    },
    {
     "name": "stderr",
     "output_type": "stream",
     "text": [
      "Procesando prestaciones_t2024.db:  13%|▊     | 243/1822 [01:10<08:04,  3.26it/s]"
     ]
    },
    {
     "name": "stdout",
     "output_type": "stream",
     "text": [
      "Cargando: 13.34% completo\n"
     ]
    },
    {
     "name": "stderr",
     "output_type": "stream",
     "text": [
      "Procesando prestaciones_t2024.db:  13%|▊     | 244/1822 [01:10<07:32,  3.48it/s]"
     ]
    },
    {
     "name": "stdout",
     "output_type": "stream",
     "text": [
      "Cargando: 13.39% completo\n"
     ]
    },
    {
     "name": "stderr",
     "output_type": "stream",
     "text": [
      "Procesando prestaciones_t2024.db:  13%|▊     | 245/1822 [01:10<07:09,  3.67it/s]"
     ]
    },
    {
     "name": "stdout",
     "output_type": "stream",
     "text": [
      "Cargando: 13.45% completo\n"
     ]
    },
    {
     "name": "stderr",
     "output_type": "stream",
     "text": [
      "Procesando prestaciones_t2024.db:  14%|▊     | 246/1822 [01:11<06:58,  3.77it/s]"
     ]
    },
    {
     "name": "stdout",
     "output_type": "stream",
     "text": [
      "Cargando: 13.50% completo\n"
     ]
    },
    {
     "name": "stderr",
     "output_type": "stream",
     "text": [
      "Procesando prestaciones_t2024.db:  14%|▊     | 247/1822 [01:11<06:49,  3.85it/s]"
     ]
    },
    {
     "name": "stdout",
     "output_type": "stream",
     "text": [
      "Cargando: 13.56% completo\n"
     ]
    },
    {
     "name": "stderr",
     "output_type": "stream",
     "text": [
      "Procesando prestaciones_t2024.db:  14%|▊     | 248/1822 [01:11<06:44,  3.89it/s]"
     ]
    },
    {
     "name": "stdout",
     "output_type": "stream",
     "text": [
      "Cargando: 13.61% completo\n"
     ]
    },
    {
     "name": "stderr",
     "output_type": "stream",
     "text": [
      "Procesando prestaciones_t2024.db:  14%|▊     | 249/1822 [01:11<06:50,  3.84it/s]"
     ]
    },
    {
     "name": "stdout",
     "output_type": "stream",
     "text": [
      "Cargando: 13.67% completo\n"
     ]
    },
    {
     "name": "stderr",
     "output_type": "stream",
     "text": [
      "Procesando prestaciones_t2024.db:  14%|▊     | 250/1822 [01:12<07:01,  3.73it/s]"
     ]
    },
    {
     "name": "stdout",
     "output_type": "stream",
     "text": [
      "Cargando: 13.72% completo\n"
     ]
    },
    {
     "name": "stderr",
     "output_type": "stream",
     "text": [
      "Procesando prestaciones_t2024.db:  14%|▊     | 251/1822 [01:12<08:20,  3.14it/s]"
     ]
    },
    {
     "name": "stdout",
     "output_type": "stream",
     "text": [
      "Cargando: 13.78% completo\n"
     ]
    },
    {
     "name": "stderr",
     "output_type": "stream",
     "text": [
      "Procesando prestaciones_t2024.db:  14%|▊     | 252/1822 [01:12<07:47,  3.36it/s]"
     ]
    },
    {
     "name": "stdout",
     "output_type": "stream",
     "text": [
      "Cargando: 13.83% completo\n"
     ]
    },
    {
     "name": "stderr",
     "output_type": "stream",
     "text": [
      "Procesando prestaciones_t2024.db:  14%|▊     | 253/1822 [01:13<07:36,  3.44it/s]"
     ]
    },
    {
     "name": "stdout",
     "output_type": "stream",
     "text": [
      "Cargando: 13.89% completo\n"
     ]
    },
    {
     "name": "stderr",
     "output_type": "stream",
     "text": [
      "Procesando prestaciones_t2024.db:  14%|▊     | 254/1822 [01:13<07:26,  3.51it/s]"
     ]
    },
    {
     "name": "stdout",
     "output_type": "stream",
     "text": [
      "Cargando: 13.94% completo\n"
     ]
    },
    {
     "name": "stderr",
     "output_type": "stream",
     "text": [
      "Procesando prestaciones_t2024.db:  14%|▊     | 255/1822 [01:13<07:11,  3.63it/s]"
     ]
    },
    {
     "name": "stdout",
     "output_type": "stream",
     "text": [
      "Cargando: 14.00% completo\n"
     ]
    },
    {
     "name": "stderr",
     "output_type": "stream",
     "text": [
      "Procesando prestaciones_t2024.db:  14%|▊     | 256/1822 [01:14<07:00,  3.73it/s]"
     ]
    },
    {
     "name": "stdout",
     "output_type": "stream",
     "text": [
      "Cargando: 14.05% completo\n"
     ]
    },
    {
     "name": "stderr",
     "output_type": "stream",
     "text": [
      "Procesando prestaciones_t2024.db:  14%|▊     | 257/1822 [01:14<06:53,  3.78it/s]"
     ]
    },
    {
     "name": "stdout",
     "output_type": "stream",
     "text": [
      "Cargando: 14.11% completo\n"
     ]
    },
    {
     "name": "stderr",
     "output_type": "stream",
     "text": [
      "Procesando prestaciones_t2024.db:  14%|▊     | 258/1822 [01:14<06:44,  3.87it/s]"
     ]
    },
    {
     "name": "stdout",
     "output_type": "stream",
     "text": [
      "Cargando: 14.16% completo\n"
     ]
    },
    {
     "name": "stderr",
     "output_type": "stream",
     "text": [
      "Procesando prestaciones_t2024.db:  14%|▊     | 259/1822 [01:14<06:39,  3.91it/s]"
     ]
    },
    {
     "name": "stdout",
     "output_type": "stream",
     "text": [
      "Cargando: 14.22% completo\n"
     ]
    },
    {
     "name": "stderr",
     "output_type": "stream",
     "text": [
      "Procesando prestaciones_t2024.db:  14%|▊     | 260/1822 [01:15<07:36,  3.42it/s]"
     ]
    },
    {
     "name": "stdout",
     "output_type": "stream",
     "text": [
      "Cargando: 14.27% completo\n"
     ]
    },
    {
     "name": "stderr",
     "output_type": "stream",
     "text": [
      "Procesando prestaciones_t2024.db:  14%|▊     | 261/1822 [01:15<07:41,  3.38it/s]"
     ]
    },
    {
     "name": "stdout",
     "output_type": "stream",
     "text": [
      "Cargando: 14.32% completo\n"
     ]
    },
    {
     "name": "stderr",
     "output_type": "stream",
     "text": [
      "Procesando prestaciones_t2024.db:  14%|▊     | 262/1822 [01:15<07:25,  3.50it/s]"
     ]
    },
    {
     "name": "stdout",
     "output_type": "stream",
     "text": [
      "Cargando: 14.38% completo\n"
     ]
    },
    {
     "name": "stderr",
     "output_type": "stream",
     "text": [
      "Procesando prestaciones_t2024.db:  14%|▊     | 263/1822 [01:15<07:29,  3.47it/s]"
     ]
    },
    {
     "name": "stdout",
     "output_type": "stream",
     "text": [
      "Cargando: 14.43% completo\n"
     ]
    },
    {
     "name": "stderr",
     "output_type": "stream",
     "text": [
      "Procesando prestaciones_t2024.db:  14%|▊     | 264/1822 [01:16<07:20,  3.54it/s]"
     ]
    },
    {
     "name": "stdout",
     "output_type": "stream",
     "text": [
      "Cargando: 14.49% completo\n"
     ]
    },
    {
     "name": "stderr",
     "output_type": "stream",
     "text": [
      "Procesando prestaciones_t2024.db:  15%|▊     | 265/1822 [01:16<07:13,  3.59it/s]"
     ]
    },
    {
     "name": "stdout",
     "output_type": "stream",
     "text": [
      "Cargando: 14.54% completo\n"
     ]
    },
    {
     "name": "stderr",
     "output_type": "stream",
     "text": [
      "Procesando prestaciones_t2024.db:  15%|▉     | 266/1822 [01:16<07:30,  3.45it/s]"
     ]
    },
    {
     "name": "stdout",
     "output_type": "stream",
     "text": [
      "Cargando: 14.60% completo\n"
     ]
    },
    {
     "name": "stderr",
     "output_type": "stream",
     "text": [
      "Procesando prestaciones_t2024.db:  15%|▉     | 267/1822 [01:17<07:07,  3.64it/s]"
     ]
    },
    {
     "name": "stdout",
     "output_type": "stream",
     "text": [
      "Cargando: 14.65% completo\n"
     ]
    },
    {
     "name": "stderr",
     "output_type": "stream",
     "text": [
      "Procesando prestaciones_t2024.db:  15%|▉     | 268/1822 [01:17<07:14,  3.58it/s]"
     ]
    },
    {
     "name": "stdout",
     "output_type": "stream",
     "text": [
      "Cargando: 14.71% completo\n"
     ]
    },
    {
     "name": "stderr",
     "output_type": "stream",
     "text": [
      "Procesando prestaciones_t2024.db:  15%|▉     | 269/1822 [01:17<08:02,  3.22it/s]"
     ]
    },
    {
     "name": "stdout",
     "output_type": "stream",
     "text": [
      "Cargando: 14.76% completo\n"
     ]
    },
    {
     "name": "stderr",
     "output_type": "stream",
     "text": [
      "Procesando prestaciones_t2024.db:  15%|▉     | 270/1822 [01:18<07:31,  3.44it/s]"
     ]
    },
    {
     "name": "stdout",
     "output_type": "stream",
     "text": [
      "Cargando: 14.82% completo\n"
     ]
    },
    {
     "name": "stderr",
     "output_type": "stream",
     "text": [
      "Procesando prestaciones_t2024.db:  15%|▉     | 271/1822 [01:18<07:47,  3.32it/s]"
     ]
    },
    {
     "name": "stdout",
     "output_type": "stream",
     "text": [
      "Cargando: 14.87% completo\n"
     ]
    },
    {
     "name": "stderr",
     "output_type": "stream",
     "text": [
      "Procesando prestaciones_t2024.db:  15%|▉     | 272/1822 [01:18<07:22,  3.50it/s]"
     ]
    },
    {
     "name": "stdout",
     "output_type": "stream",
     "text": [
      "Cargando: 14.93% completo\n"
     ]
    },
    {
     "name": "stderr",
     "output_type": "stream",
     "text": [
      "Procesando prestaciones_t2024.db:  15%|▉     | 273/1822 [01:18<07:02,  3.67it/s]"
     ]
    },
    {
     "name": "stdout",
     "output_type": "stream",
     "text": [
      "Cargando: 14.98% completo\n"
     ]
    },
    {
     "name": "stderr",
     "output_type": "stream",
     "text": [
      "Procesando prestaciones_t2024.db:  15%|▉     | 274/1822 [01:19<06:50,  3.77it/s]"
     ]
    },
    {
     "name": "stdout",
     "output_type": "stream",
     "text": [
      "Cargando: 15.04% completo\n"
     ]
    },
    {
     "name": "stderr",
     "output_type": "stream",
     "text": [
      "Procesando prestaciones_t2024.db:  15%|▉     | 275/1822 [01:19<06:41,  3.85it/s]"
     ]
    },
    {
     "name": "stdout",
     "output_type": "stream",
     "text": [
      "Cargando: 15.09% completo\n"
     ]
    },
    {
     "name": "stderr",
     "output_type": "stream",
     "text": [
      "Procesando prestaciones_t2024.db:  15%|▉     | 276/1822 [01:19<06:50,  3.77it/s]"
     ]
    },
    {
     "name": "stdout",
     "output_type": "stream",
     "text": [
      "Cargando: 15.15% completo\n"
     ]
    },
    {
     "name": "stderr",
     "output_type": "stream",
     "text": [
      "Procesando prestaciones_t2024.db:  15%|▉     | 277/1822 [01:19<06:49,  3.77it/s]"
     ]
    },
    {
     "name": "stdout",
     "output_type": "stream",
     "text": [
      "Cargando: 15.20% completo\n"
     ]
    },
    {
     "name": "stderr",
     "output_type": "stream",
     "text": [
      "Procesando prestaciones_t2024.db:  15%|▉     | 278/1822 [01:20<07:56,  3.24it/s]"
     ]
    },
    {
     "name": "stdout",
     "output_type": "stream",
     "text": [
      "Cargando: 15.26% completo\n"
     ]
    },
    {
     "name": "stderr",
     "output_type": "stream",
     "text": [
      "Procesando prestaciones_t2024.db:  15%|▉     | 279/1822 [01:20<07:39,  3.36it/s]"
     ]
    },
    {
     "name": "stdout",
     "output_type": "stream",
     "text": [
      "Cargando: 15.31% completo\n"
     ]
    },
    {
     "name": "stderr",
     "output_type": "stream",
     "text": [
      "Procesando prestaciones_t2024.db:  15%|▉     | 280/1822 [01:20<07:11,  3.57it/s]"
     ]
    },
    {
     "name": "stdout",
     "output_type": "stream",
     "text": [
      "Cargando: 15.37% completo\n"
     ]
    },
    {
     "name": "stderr",
     "output_type": "stream",
     "text": [
      "Procesando prestaciones_t2024.db:  15%|▉     | 281/1822 [01:21<06:52,  3.74it/s]"
     ]
    },
    {
     "name": "stdout",
     "output_type": "stream",
     "text": [
      "Cargando: 15.42% completo\n"
     ]
    },
    {
     "name": "stderr",
     "output_type": "stream",
     "text": [
      "Procesando prestaciones_t2024.db:  15%|▉     | 282/1822 [01:21<06:40,  3.84it/s]"
     ]
    },
    {
     "name": "stdout",
     "output_type": "stream",
     "text": [
      "Cargando: 15.48% completo\n"
     ]
    },
    {
     "name": "stderr",
     "output_type": "stream",
     "text": [
      "Procesando prestaciones_t2024.db:  16%|▉     | 283/1822 [01:21<06:45,  3.80it/s]"
     ]
    },
    {
     "name": "stdout",
     "output_type": "stream",
     "text": [
      "Cargando: 15.53% completo\n"
     ]
    },
    {
     "name": "stderr",
     "output_type": "stream",
     "text": [
      "Procesando prestaciones_t2024.db:  16%|▉     | 284/1822 [01:21<06:52,  3.73it/s]"
     ]
    },
    {
     "name": "stdout",
     "output_type": "stream",
     "text": [
      "Cargando: 15.59% completo\n"
     ]
    },
    {
     "name": "stderr",
     "output_type": "stream",
     "text": [
      "Procesando prestaciones_t2024.db:  16%|▉     | 285/1822 [01:22<06:44,  3.80it/s]"
     ]
    },
    {
     "name": "stdout",
     "output_type": "stream",
     "text": [
      "Cargando: 15.64% completo\n"
     ]
    },
    {
     "name": "stderr",
     "output_type": "stream",
     "text": [
      "Procesando prestaciones_t2024.db:  16%|▉     | 286/1822 [01:22<06:49,  3.75it/s]"
     ]
    },
    {
     "name": "stdout",
     "output_type": "stream",
     "text": [
      "Cargando: 15.70% completo\n"
     ]
    },
    {
     "name": "stderr",
     "output_type": "stream",
     "text": [
      "Procesando prestaciones_t2024.db:  16%|▉     | 287/1822 [01:22<07:50,  3.26it/s]"
     ]
    },
    {
     "name": "stdout",
     "output_type": "stream",
     "text": [
      "Cargando: 15.75% completo\n"
     ]
    },
    {
     "name": "stderr",
     "output_type": "stream",
     "text": [
      "Procesando prestaciones_t2024.db:  16%|▉     | 288/1822 [01:23<07:33,  3.38it/s]"
     ]
    },
    {
     "name": "stdout",
     "output_type": "stream",
     "text": [
      "Cargando: 15.81% completo\n"
     ]
    },
    {
     "name": "stderr",
     "output_type": "stream",
     "text": [
      "Procesando prestaciones_t2024.db:  16%|▉     | 289/1822 [01:23<07:21,  3.47it/s]"
     ]
    },
    {
     "name": "stdout",
     "output_type": "stream",
     "text": [
      "Cargando: 15.86% completo\n"
     ]
    },
    {
     "name": "stderr",
     "output_type": "stream",
     "text": [
      "Procesando prestaciones_t2024.db:  16%|▉     | 290/1822 [01:23<07:14,  3.53it/s]"
     ]
    },
    {
     "name": "stdout",
     "output_type": "stream",
     "text": [
      "Cargando: 15.92% completo\n"
     ]
    },
    {
     "name": "stderr",
     "output_type": "stream",
     "text": [
      "Procesando prestaciones_t2024.db:  16%|▉     | 291/1822 [01:23<07:01,  3.63it/s]"
     ]
    },
    {
     "name": "stdout",
     "output_type": "stream",
     "text": [
      "Cargando: 15.97% completo\n"
     ]
    },
    {
     "name": "stderr",
     "output_type": "stream",
     "text": [
      "Procesando prestaciones_t2024.db:  16%|▉     | 292/1822 [01:24<06:53,  3.70it/s]"
     ]
    },
    {
     "name": "stdout",
     "output_type": "stream",
     "text": [
      "Cargando: 16.03% completo\n"
     ]
    },
    {
     "name": "stderr",
     "output_type": "stream",
     "text": [
      "Procesando prestaciones_t2024.db:  16%|▉     | 293/1822 [01:24<06:45,  3.77it/s]"
     ]
    },
    {
     "name": "stdout",
     "output_type": "stream",
     "text": [
      "Cargando: 16.08% completo\n"
     ]
    },
    {
     "name": "stderr",
     "output_type": "stream",
     "text": [
      "Procesando prestaciones_t2024.db:  16%|▉     | 294/1822 [01:24<06:54,  3.68it/s]"
     ]
    },
    {
     "name": "stdout",
     "output_type": "stream",
     "text": [
      "Cargando: 16.14% completo\n"
     ]
    },
    {
     "name": "stderr",
     "output_type": "stream",
     "text": [
      "Procesando prestaciones_t2024.db:  16%|▉     | 295/1822 [01:24<07:00,  3.64it/s]"
     ]
    },
    {
     "name": "stdout",
     "output_type": "stream",
     "text": [
      "Cargando: 16.19% completo\n"
     ]
    },
    {
     "name": "stderr",
     "output_type": "stream",
     "text": [
      "Procesando prestaciones_t2024.db:  16%|▉     | 296/1822 [01:25<08:04,  3.15it/s]"
     ]
    },
    {
     "name": "stdout",
     "output_type": "stream",
     "text": [
      "Cargando: 16.25% completo\n"
     ]
    },
    {
     "name": "stderr",
     "output_type": "stream",
     "text": [
      "Procesando prestaciones_t2024.db:  16%|▉     | 297/1822 [01:25<07:41,  3.31it/s]"
     ]
    },
    {
     "name": "stdout",
     "output_type": "stream",
     "text": [
      "Cargando: 16.30% completo\n"
     ]
    },
    {
     "name": "stderr",
     "output_type": "stream",
     "text": [
      "Procesando prestaciones_t2024.db:  16%|▉     | 298/1822 [01:25<07:18,  3.48it/s]"
     ]
    },
    {
     "name": "stdout",
     "output_type": "stream",
     "text": [
      "Cargando: 16.36% completo\n"
     ]
    },
    {
     "name": "stderr",
     "output_type": "stream",
     "text": [
      "Procesando prestaciones_t2024.db:  16%|▉     | 299/1822 [01:26<07:01,  3.61it/s]"
     ]
    },
    {
     "name": "stdout",
     "output_type": "stream",
     "text": [
      "Cargando: 16.41% completo\n"
     ]
    },
    {
     "name": "stderr",
     "output_type": "stream",
     "text": [
      "Procesando prestaciones_t2024.db:  16%|▉     | 300/1822 [01:26<06:48,  3.73it/s]"
     ]
    },
    {
     "name": "stdout",
     "output_type": "stream",
     "text": [
      "Cargando: 16.47% completo\n"
     ]
    },
    {
     "name": "stderr",
     "output_type": "stream",
     "text": [
      "Procesando prestaciones_t2024.db:  17%|▉     | 301/1822 [01:26<06:40,  3.80it/s]"
     ]
    },
    {
     "name": "stdout",
     "output_type": "stream",
     "text": [
      "Cargando: 16.52% completo\n"
     ]
    },
    {
     "name": "stderr",
     "output_type": "stream",
     "text": [
      "Procesando prestaciones_t2024.db:  17%|▉     | 302/1822 [01:26<06:38,  3.81it/s]"
     ]
    },
    {
     "name": "stdout",
     "output_type": "stream",
     "text": [
      "Cargando: 16.58% completo\n"
     ]
    },
    {
     "name": "stderr",
     "output_type": "stream",
     "text": [
      "Procesando prestaciones_t2024.db:  17%|▉     | 303/1822 [01:27<06:34,  3.85it/s]"
     ]
    },
    {
     "name": "stdout",
     "output_type": "stream",
     "text": [
      "Cargando: 16.63% completo\n"
     ]
    },
    {
     "name": "stderr",
     "output_type": "stream",
     "text": [
      "Procesando prestaciones_t2024.db:  17%|█     | 304/1822 [01:27<06:38,  3.81it/s]"
     ]
    },
    {
     "name": "stdout",
     "output_type": "stream",
     "text": [
      "Cargando: 16.68% completo\n"
     ]
    },
    {
     "name": "stderr",
     "output_type": "stream",
     "text": [
      "Procesando prestaciones_t2024.db:  17%|█     | 305/1822 [01:27<06:41,  3.78it/s]"
     ]
    },
    {
     "name": "stdout",
     "output_type": "stream",
     "text": [
      "Cargando: 16.74% completo\n"
     ]
    },
    {
     "name": "stderr",
     "output_type": "stream",
     "text": [
      "Procesando prestaciones_t2024.db:  17%|█     | 306/1822 [01:28<08:22,  3.02it/s]"
     ]
    },
    {
     "name": "stdout",
     "output_type": "stream",
     "text": [
      "Cargando: 16.79% completo\n"
     ]
    },
    {
     "name": "stderr",
     "output_type": "stream",
     "text": [
      "Procesando prestaciones_t2024.db:  17%|█     | 307/1822 [01:28<08:21,  3.02it/s]"
     ]
    },
    {
     "name": "stdout",
     "output_type": "stream",
     "text": [
      "Cargando: 16.85% completo\n"
     ]
    },
    {
     "name": "stderr",
     "output_type": "stream",
     "text": [
      "Procesando prestaciones_t2024.db:  17%|█     | 308/1822 [01:28<08:18,  3.04it/s]"
     ]
    },
    {
     "name": "stdout",
     "output_type": "stream",
     "text": [
      "Cargando: 16.90% completo\n"
     ]
    },
    {
     "name": "stderr",
     "output_type": "stream",
     "text": [
      "Procesando prestaciones_t2024.db:  17%|█     | 309/1822 [01:29<08:12,  3.07it/s]"
     ]
    },
    {
     "name": "stdout",
     "output_type": "stream",
     "text": [
      "Cargando: 16.96% completo\n"
     ]
    },
    {
     "name": "stderr",
     "output_type": "stream",
     "text": [
      "Procesando prestaciones_t2024.db:  17%|█     | 310/1822 [01:29<08:17,  3.04it/s]"
     ]
    },
    {
     "name": "stdout",
     "output_type": "stream",
     "text": [
      "Cargando: 17.01% completo\n"
     ]
    },
    {
     "name": "stderr",
     "output_type": "stream",
     "text": [
      "Procesando prestaciones_t2024.db:  17%|█     | 311/1822 [01:29<08:13,  3.06it/s]"
     ]
    },
    {
     "name": "stdout",
     "output_type": "stream",
     "text": [
      "Cargando: 17.07% completo\n"
     ]
    },
    {
     "name": "stderr",
     "output_type": "stream",
     "text": [
      "Procesando prestaciones_t2024.db:  17%|█     | 312/1822 [01:30<08:41,  2.90it/s]"
     ]
    },
    {
     "name": "stdout",
     "output_type": "stream",
     "text": [
      "Cargando: 17.12% completo\n"
     ]
    },
    {
     "name": "stderr",
     "output_type": "stream",
     "text": [
      "Procesando prestaciones_t2024.db:  17%|█     | 313/1822 [01:30<08:09,  3.09it/s]"
     ]
    },
    {
     "name": "stdout",
     "output_type": "stream",
     "text": [
      "Cargando: 17.18% completo\n"
     ]
    },
    {
     "name": "stderr",
     "output_type": "stream",
     "text": [
      "Procesando prestaciones_t2024.db:  17%|█     | 314/1822 [01:30<08:45,  2.87it/s]"
     ]
    },
    {
     "name": "stdout",
     "output_type": "stream",
     "text": [
      "Cargando: 17.23% completo\n"
     ]
    },
    {
     "name": "stderr",
     "output_type": "stream",
     "text": [
      "Procesando prestaciones_t2024.db:  17%|█     | 315/1822 [01:31<08:20,  3.01it/s]"
     ]
    },
    {
     "name": "stdout",
     "output_type": "stream",
     "text": [
      "Cargando: 17.29% completo\n"
     ]
    },
    {
     "name": "stderr",
     "output_type": "stream",
     "text": [
      "Procesando prestaciones_t2024.db:  17%|█     | 316/1822 [01:31<08:41,  2.89it/s]"
     ]
    },
    {
     "name": "stdout",
     "output_type": "stream",
     "text": [
      "Cargando: 17.34% completo\n"
     ]
    },
    {
     "name": "stderr",
     "output_type": "stream",
     "text": [
      "Procesando prestaciones_t2024.db:  17%|█     | 317/1822 [01:31<08:27,  2.96it/s]"
     ]
    },
    {
     "name": "stdout",
     "output_type": "stream",
     "text": [
      "Cargando: 17.40% completo\n"
     ]
    },
    {
     "name": "stderr",
     "output_type": "stream",
     "text": [
      "Procesando prestaciones_t2024.db:  17%|█     | 318/1822 [01:32<08:20,  3.01it/s]"
     ]
    },
    {
     "name": "stdout",
     "output_type": "stream",
     "text": [
      "Cargando: 17.45% completo\n"
     ]
    },
    {
     "name": "stderr",
     "output_type": "stream",
     "text": [
      "Procesando prestaciones_t2024.db:  18%|█     | 319/1822 [01:32<08:28,  2.96it/s]"
     ]
    },
    {
     "name": "stdout",
     "output_type": "stream",
     "text": [
      "Cargando: 17.51% completo\n"
     ]
    },
    {
     "name": "stderr",
     "output_type": "stream",
     "text": [
      "Procesando prestaciones_t2024.db:  18%|█     | 320/1822 [01:32<08:30,  2.94it/s]"
     ]
    },
    {
     "name": "stdout",
     "output_type": "stream",
     "text": [
      "Cargando: 17.56% completo\n"
     ]
    },
    {
     "name": "stderr",
     "output_type": "stream",
     "text": [
      "Procesando prestaciones_t2024.db:  18%|█     | 321/1822 [01:33<08:50,  2.83it/s]"
     ]
    },
    {
     "name": "stdout",
     "output_type": "stream",
     "text": [
      "Cargando: 17.62% completo\n"
     ]
    },
    {
     "name": "stderr",
     "output_type": "stream",
     "text": [
      "Procesando prestaciones_t2024.db:  18%|█     | 322/1822 [01:33<08:18,  3.01it/s]"
     ]
    },
    {
     "name": "stdout",
     "output_type": "stream",
     "text": [
      "Cargando: 17.67% completo\n"
     ]
    },
    {
     "name": "stderr",
     "output_type": "stream",
     "text": [
      "Procesando prestaciones_t2024.db:  18%|█     | 323/1822 [01:33<08:08,  3.07it/s]"
     ]
    },
    {
     "name": "stdout",
     "output_type": "stream",
     "text": [
      "Cargando: 17.73% completo\n"
     ]
    },
    {
     "name": "stderr",
     "output_type": "stream",
     "text": [
      "Procesando prestaciones_t2024.db:  18%|█     | 324/1822 [01:34<08:46,  2.85it/s]"
     ]
    },
    {
     "name": "stdout",
     "output_type": "stream",
     "text": [
      "Cargando: 17.78% completo\n"
     ]
    },
    {
     "name": "stderr",
     "output_type": "stream",
     "text": [
      "Procesando prestaciones_t2024.db:  18%|█     | 325/1822 [01:34<08:00,  3.11it/s]"
     ]
    },
    {
     "name": "stdout",
     "output_type": "stream",
     "text": [
      "Cargando: 17.84% completo\n"
     ]
    },
    {
     "name": "stderr",
     "output_type": "stream",
     "text": [
      "Procesando prestaciones_t2024.db:  18%|█     | 326/1822 [01:34<07:27,  3.34it/s]"
     ]
    },
    {
     "name": "stdout",
     "output_type": "stream",
     "text": [
      "Cargando: 17.89% completo\n"
     ]
    },
    {
     "name": "stderr",
     "output_type": "stream",
     "text": [
      "Procesando prestaciones_t2024.db:  18%|█     | 327/1822 [01:34<07:04,  3.52it/s]"
     ]
    },
    {
     "name": "stdout",
     "output_type": "stream",
     "text": [
      "Cargando: 17.95% completo\n"
     ]
    },
    {
     "name": "stderr",
     "output_type": "stream",
     "text": [
      "Procesando prestaciones_t2024.db:  18%|█     | 328/1822 [01:35<07:12,  3.46it/s]"
     ]
    },
    {
     "name": "stdout",
     "output_type": "stream",
     "text": [
      "Cargando: 18.00% completo\n"
     ]
    },
    {
     "name": "stderr",
     "output_type": "stream",
     "text": [
      "Procesando prestaciones_t2024.db:  18%|█     | 329/1822 [01:35<06:55,  3.59it/s]"
     ]
    },
    {
     "name": "stdout",
     "output_type": "stream",
     "text": [
      "Cargando: 18.06% completo\n"
     ]
    },
    {
     "name": "stderr",
     "output_type": "stream",
     "text": [
      "Procesando prestaciones_t2024.db:  18%|█     | 330/1822 [01:35<06:47,  3.66it/s]"
     ]
    },
    {
     "name": "stdout",
     "output_type": "stream",
     "text": [
      "Cargando: 18.11% completo\n"
     ]
    },
    {
     "name": "stderr",
     "output_type": "stream",
     "text": [
      "Procesando prestaciones_t2024.db:  18%|█     | 331/1822 [01:36<06:52,  3.62it/s]"
     ]
    },
    {
     "name": "stdout",
     "output_type": "stream",
     "text": [
      "Cargando: 18.17% completo\n"
     ]
    },
    {
     "name": "stderr",
     "output_type": "stream",
     "text": [
      "Procesando prestaciones_t2024.db:  18%|█     | 332/1822 [01:36<06:44,  3.69it/s]"
     ]
    },
    {
     "name": "stdout",
     "output_type": "stream",
     "text": [
      "Cargando: 18.22% completo\n"
     ]
    },
    {
     "name": "stderr",
     "output_type": "stream",
     "text": [
      "Procesando prestaciones_t2024.db:  18%|█     | 333/1822 [01:36<06:33,  3.79it/s]"
     ]
    },
    {
     "name": "stdout",
     "output_type": "stream",
     "text": [
      "Cargando: 18.28% completo\n"
     ]
    },
    {
     "name": "stderr",
     "output_type": "stream",
     "text": [
      "Procesando prestaciones_t2024.db:  18%|█     | 334/1822 [01:36<07:33,  3.28it/s]"
     ]
    },
    {
     "name": "stdout",
     "output_type": "stream",
     "text": [
      "Cargando: 18.33% completo\n"
     ]
    },
    {
     "name": "stderr",
     "output_type": "stream",
     "text": [
      "Procesando prestaciones_t2024.db:  18%|█     | 335/1822 [01:37<07:16,  3.41it/s]"
     ]
    },
    {
     "name": "stdout",
     "output_type": "stream",
     "text": [
      "Cargando: 18.39% completo\n"
     ]
    },
    {
     "name": "stderr",
     "output_type": "stream",
     "text": [
      "Procesando prestaciones_t2024.db:  18%|█     | 336/1822 [01:37<06:59,  3.54it/s]"
     ]
    },
    {
     "name": "stdout",
     "output_type": "stream",
     "text": [
      "Cargando: 18.44% completo\n"
     ]
    },
    {
     "name": "stderr",
     "output_type": "stream",
     "text": [
      "Procesando prestaciones_t2024.db:  18%|█     | 337/1822 [01:37<07:04,  3.49it/s]"
     ]
    },
    {
     "name": "stdout",
     "output_type": "stream",
     "text": [
      "Cargando: 18.50% completo\n"
     ]
    },
    {
     "name": "stderr",
     "output_type": "stream",
     "text": [
      "Procesando prestaciones_t2024.db:  19%|█     | 338/1822 [01:38<06:49,  3.62it/s]"
     ]
    },
    {
     "name": "stdout",
     "output_type": "stream",
     "text": [
      "Cargando: 18.55% completo\n"
     ]
    },
    {
     "name": "stderr",
     "output_type": "stream",
     "text": [
      "Procesando prestaciones_t2024.db:  19%|█     | 339/1822 [01:38<06:32,  3.78it/s]"
     ]
    },
    {
     "name": "stdout",
     "output_type": "stream",
     "text": [
      "Cargando: 18.61% completo\n"
     ]
    },
    {
     "name": "stderr",
     "output_type": "stream",
     "text": [
      "Procesando prestaciones_t2024.db:  19%|█     | 340/1822 [01:38<06:22,  3.87it/s]"
     ]
    },
    {
     "name": "stdout",
     "output_type": "stream",
     "text": [
      "Cargando: 18.66% completo\n"
     ]
    },
    {
     "name": "stderr",
     "output_type": "stream",
     "text": [
      "Procesando prestaciones_t2024.db:  19%|█     | 341/1822 [01:38<06:50,  3.61it/s]"
     ]
    },
    {
     "name": "stdout",
     "output_type": "stream",
     "text": [
      "Cargando: 18.72% completo\n"
     ]
    },
    {
     "name": "stderr",
     "output_type": "stream",
     "text": [
      "Procesando prestaciones_t2024.db:  19%|█▏    | 342/1822 [01:39<07:14,  3.40it/s]"
     ]
    },
    {
     "name": "stdout",
     "output_type": "stream",
     "text": [
      "Cargando: 18.77% completo\n"
     ]
    },
    {
     "name": "stderr",
     "output_type": "stream",
     "text": [
      "Procesando prestaciones_t2024.db:  19%|█▏    | 343/1822 [01:39<08:09,  3.02it/s]"
     ]
    },
    {
     "name": "stdout",
     "output_type": "stream",
     "text": [
      "Cargando: 18.83% completo\n"
     ]
    },
    {
     "name": "stderr",
     "output_type": "stream",
     "text": [
      "Procesando prestaciones_t2024.db:  19%|█▏    | 344/1822 [01:39<07:48,  3.16it/s]"
     ]
    },
    {
     "name": "stdout",
     "output_type": "stream",
     "text": [
      "Cargando: 18.88% completo\n"
     ]
    },
    {
     "name": "stderr",
     "output_type": "stream",
     "text": [
      "Procesando prestaciones_t2024.db:  19%|█▏    | 345/1822 [01:40<07:22,  3.34it/s]"
     ]
    },
    {
     "name": "stdout",
     "output_type": "stream",
     "text": [
      "Cargando: 18.94% completo\n"
     ]
    },
    {
     "name": "stderr",
     "output_type": "stream",
     "text": [
      "Procesando prestaciones_t2024.db:  19%|█▏    | 346/1822 [01:40<07:24,  3.32it/s]"
     ]
    },
    {
     "name": "stdout",
     "output_type": "stream",
     "text": [
      "Cargando: 18.99% completo\n"
     ]
    },
    {
     "name": "stderr",
     "output_type": "stream",
     "text": [
      "Procesando prestaciones_t2024.db:  19%|█▏    | 347/1822 [01:40<07:14,  3.39it/s]"
     ]
    },
    {
     "name": "stdout",
     "output_type": "stream",
     "text": [
      "Cargando: 19.05% completo\n"
     ]
    },
    {
     "name": "stderr",
     "output_type": "stream",
     "text": [
      "Procesando prestaciones_t2024.db:  19%|█▏    | 348/1822 [01:40<06:54,  3.55it/s]"
     ]
    },
    {
     "name": "stdout",
     "output_type": "stream",
     "text": [
      "Cargando: 19.10% completo\n"
     ]
    },
    {
     "name": "stderr",
     "output_type": "stream",
     "text": [
      "Procesando prestaciones_t2024.db:  19%|█▏    | 349/1822 [01:41<06:42,  3.66it/s]"
     ]
    },
    {
     "name": "stdout",
     "output_type": "stream",
     "text": [
      "Cargando: 19.15% completo\n"
     ]
    },
    {
     "name": "stderr",
     "output_type": "stream",
     "text": [
      "Procesando prestaciones_t2024.db:  19%|█▏    | 350/1822 [01:41<06:30,  3.77it/s]"
     ]
    },
    {
     "name": "stdout",
     "output_type": "stream",
     "text": [
      "Cargando: 19.21% completo\n"
     ]
    },
    {
     "name": "stderr",
     "output_type": "stream",
     "text": [
      "Procesando prestaciones_t2024.db:  19%|█▏    | 351/1822 [01:41<06:40,  3.67it/s]"
     ]
    },
    {
     "name": "stdout",
     "output_type": "stream",
     "text": [
      "Cargando: 19.26% completo\n"
     ]
    },
    {
     "name": "stderr",
     "output_type": "stream",
     "text": [
      "Procesando prestaciones_t2024.db:  19%|█▏    | 352/1822 [01:42<07:24,  3.31it/s]"
     ]
    },
    {
     "name": "stdout",
     "output_type": "stream",
     "text": [
      "Cargando: 19.32% completo\n"
     ]
    },
    {
     "name": "stderr",
     "output_type": "stream",
     "text": [
      "Procesando prestaciones_t2024.db:  19%|█▏    | 353/1822 [01:42<08:26,  2.90it/s]"
     ]
    },
    {
     "name": "stdout",
     "output_type": "stream",
     "text": [
      "Cargando: 19.37% completo\n"
     ]
    },
    {
     "name": "stderr",
     "output_type": "stream",
     "text": [
      "Procesando prestaciones_t2024.db:  19%|█▏    | 354/1822 [01:42<08:12,  2.98it/s]"
     ]
    },
    {
     "name": "stdout",
     "output_type": "stream",
     "text": [
      "Cargando: 19.43% completo\n"
     ]
    },
    {
     "name": "stderr",
     "output_type": "stream",
     "text": [
      "Procesando prestaciones_t2024.db:  19%|█▏    | 355/1822 [01:43<07:37,  3.21it/s]"
     ]
    },
    {
     "name": "stdout",
     "output_type": "stream",
     "text": [
      "Cargando: 19.48% completo\n"
     ]
    },
    {
     "name": "stderr",
     "output_type": "stream",
     "text": [
      "Procesando prestaciones_t2024.db:  20%|█▏    | 356/1822 [01:43<07:37,  3.20it/s]"
     ]
    },
    {
     "name": "stdout",
     "output_type": "stream",
     "text": [
      "Cargando: 19.54% completo\n"
     ]
    },
    {
     "name": "stderr",
     "output_type": "stream",
     "text": [
      "Procesando prestaciones_t2024.db:  20%|█▏    | 357/1822 [01:43<07:30,  3.25it/s]"
     ]
    },
    {
     "name": "stdout",
     "output_type": "stream",
     "text": [
      "Cargando: 19.59% completo\n"
     ]
    },
    {
     "name": "stderr",
     "output_type": "stream",
     "text": [
      "Procesando prestaciones_t2024.db:  20%|█▏    | 358/1822 [01:44<07:16,  3.36it/s]"
     ]
    },
    {
     "name": "stdout",
     "output_type": "stream",
     "text": [
      "Cargando: 19.65% completo\n"
     ]
    },
    {
     "name": "stderr",
     "output_type": "stream",
     "text": [
      "Procesando prestaciones_t2024.db:  20%|█▏    | 359/1822 [01:44<06:58,  3.50it/s]"
     ]
    },
    {
     "name": "stdout",
     "output_type": "stream",
     "text": [
      "Cargando: 19.70% completo\n"
     ]
    },
    {
     "name": "stderr",
     "output_type": "stream",
     "text": [
      "Procesando prestaciones_t2024.db:  20%|█▏    | 360/1822 [01:44<06:55,  3.52it/s]"
     ]
    },
    {
     "name": "stdout",
     "output_type": "stream",
     "text": [
      "Cargando: 19.76% completo\n"
     ]
    },
    {
     "name": "stderr",
     "output_type": "stream",
     "text": [
      "Procesando prestaciones_t2024.db:  20%|█▏    | 361/1822 [01:44<06:46,  3.60it/s]"
     ]
    },
    {
     "name": "stdout",
     "output_type": "stream",
     "text": [
      "Cargando: 19.81% completo\n"
     ]
    },
    {
     "name": "stderr",
     "output_type": "stream",
     "text": [
      "Procesando prestaciones_t2024.db:  20%|█▏    | 362/1822 [01:45<07:17,  3.34it/s]"
     ]
    },
    {
     "name": "stdout",
     "output_type": "stream",
     "text": [
      "Cargando: 19.87% completo\n"
     ]
    },
    {
     "name": "stderr",
     "output_type": "stream",
     "text": [
      "Procesando prestaciones_t2024.db:  20%|█▏    | 363/1822 [01:45<08:13,  2.95it/s]"
     ]
    },
    {
     "name": "stdout",
     "output_type": "stream",
     "text": [
      "Cargando: 19.92% completo\n"
     ]
    },
    {
     "name": "stderr",
     "output_type": "stream",
     "text": [
      "Procesando prestaciones_t2024.db:  20%|█▏    | 364/1822 [01:45<08:07,  2.99it/s]"
     ]
    },
    {
     "name": "stdout",
     "output_type": "stream",
     "text": [
      "Cargando: 19.98% completo\n"
     ]
    },
    {
     "name": "stderr",
     "output_type": "stream",
     "text": [
      "Procesando prestaciones_t2024.db:  20%|█▏    | 365/1822 [01:46<07:35,  3.20it/s]"
     ]
    },
    {
     "name": "stdout",
     "output_type": "stream",
     "text": [
      "Cargando: 20.03% completo\n"
     ]
    },
    {
     "name": "stderr",
     "output_type": "stream",
     "text": [
      "Procesando prestaciones_t2024.db:  20%|█▏    | 366/1822 [01:46<07:19,  3.32it/s]"
     ]
    },
    {
     "name": "stdout",
     "output_type": "stream",
     "text": [
      "Cargando: 20.09% completo\n"
     ]
    },
    {
     "name": "stderr",
     "output_type": "stream",
     "text": [
      "Procesando prestaciones_t2024.db:  20%|█▏    | 367/1822 [01:46<06:56,  3.49it/s]"
     ]
    },
    {
     "name": "stdout",
     "output_type": "stream",
     "text": [
      "Cargando: 20.14% completo\n"
     ]
    },
    {
     "name": "stderr",
     "output_type": "stream",
     "text": [
      "Procesando prestaciones_t2024.db:  20%|█▏    | 368/1822 [01:47<06:59,  3.47it/s]"
     ]
    },
    {
     "name": "stdout",
     "output_type": "stream",
     "text": [
      "Cargando: 20.20% completo\n"
     ]
    },
    {
     "name": "stderr",
     "output_type": "stream",
     "text": [
      "Procesando prestaciones_t2024.db:  20%|█▏    | 369/1822 [01:47<07:38,  3.17it/s]"
     ]
    },
    {
     "name": "stdout",
     "output_type": "stream",
     "text": [
      "Cargando: 20.25% completo\n"
     ]
    },
    {
     "name": "stderr",
     "output_type": "stream",
     "text": [
      "Procesando prestaciones_t2024.db:  20%|█▏    | 370/1822 [01:47<07:39,  3.16it/s]"
     ]
    },
    {
     "name": "stdout",
     "output_type": "stream",
     "text": [
      "Cargando: 20.31% completo\n"
     ]
    },
    {
     "name": "stderr",
     "output_type": "stream",
     "text": [
      "Procesando prestaciones_t2024.db:  20%|█▏    | 371/1822 [01:48<07:30,  3.22it/s]"
     ]
    },
    {
     "name": "stdout",
     "output_type": "stream",
     "text": [
      "Cargando: 20.36% completo\n"
     ]
    },
    {
     "name": "stderr",
     "output_type": "stream",
     "text": [
      "Procesando prestaciones_t2024.db:  20%|█▏    | 372/1822 [01:48<07:31,  3.21it/s]"
     ]
    },
    {
     "name": "stdout",
     "output_type": "stream",
     "text": [
      "Cargando: 20.42% completo\n"
     ]
    },
    {
     "name": "stderr",
     "output_type": "stream",
     "text": [
      "Procesando prestaciones_t2024.db:  20%|█▏    | 373/1822 [01:48<08:25,  2.87it/s]"
     ]
    },
    {
     "name": "stdout",
     "output_type": "stream",
     "text": [
      "Cargando: 20.47% completo\n"
     ]
    },
    {
     "name": "stderr",
     "output_type": "stream",
     "text": [
      "Procesando prestaciones_t2024.db:  21%|█▏    | 374/1822 [01:49<08:10,  2.95it/s]"
     ]
    },
    {
     "name": "stdout",
     "output_type": "stream",
     "text": [
      "Cargando: 20.53% completo\n"
     ]
    },
    {
     "name": "stderr",
     "output_type": "stream",
     "text": [
      "Procesando prestaciones_t2024.db:  21%|█▏    | 375/1822 [01:49<07:46,  3.10it/s]"
     ]
    },
    {
     "name": "stdout",
     "output_type": "stream",
     "text": [
      "Cargando: 20.58% completo\n"
     ]
    },
    {
     "name": "stderr",
     "output_type": "stream",
     "text": [
      "Procesando prestaciones_t2024.db:  21%|█▏    | 376/1822 [01:49<07:26,  3.24it/s]"
     ]
    },
    {
     "name": "stdout",
     "output_type": "stream",
     "text": [
      "Cargando: 20.64% completo\n"
     ]
    },
    {
     "name": "stderr",
     "output_type": "stream",
     "text": [
      "Procesando prestaciones_t2024.db:  21%|█▏    | 377/1822 [01:49<07:21,  3.27it/s]"
     ]
    },
    {
     "name": "stdout",
     "output_type": "stream",
     "text": [
      "Cargando: 20.69% completo\n"
     ]
    },
    {
     "name": "stderr",
     "output_type": "stream",
     "text": [
      "Procesando prestaciones_t2024.db:  21%|█▏    | 378/1822 [01:50<07:11,  3.34it/s]"
     ]
    },
    {
     "name": "stdout",
     "output_type": "stream",
     "text": [
      "Cargando: 20.75% completo\n"
     ]
    },
    {
     "name": "stderr",
     "output_type": "stream",
     "text": [
      "Procesando prestaciones_t2024.db:  21%|█▏    | 379/1822 [01:50<07:04,  3.40it/s]"
     ]
    },
    {
     "name": "stdout",
     "output_type": "stream",
     "text": [
      "Cargando: 20.80% completo\n"
     ]
    },
    {
     "name": "stderr",
     "output_type": "stream",
     "text": [
      "Procesando prestaciones_t2024.db:  21%|█▎    | 380/1822 [01:50<07:12,  3.34it/s]"
     ]
    },
    {
     "name": "stdout",
     "output_type": "stream",
     "text": [
      "Cargando: 20.86% completo\n"
     ]
    },
    {
     "name": "stderr",
     "output_type": "stream",
     "text": [
      "Procesando prestaciones_t2024.db:  21%|█▎    | 381/1822 [01:51<07:03,  3.40it/s]"
     ]
    },
    {
     "name": "stdout",
     "output_type": "stream",
     "text": [
      "Cargando: 20.91% completo\n"
     ]
    },
    {
     "name": "stderr",
     "output_type": "stream",
     "text": [
      "Procesando prestaciones_t2024.db:  21%|█▎    | 382/1822 [01:51<06:43,  3.57it/s]"
     ]
    },
    {
     "name": "stdout",
     "output_type": "stream",
     "text": [
      "Cargando: 20.97% completo\n"
     ]
    },
    {
     "name": "stderr",
     "output_type": "stream",
     "text": [
      "Procesando prestaciones_t2024.db:  21%|█▎    | 383/1822 [01:51<06:44,  3.56it/s]"
     ]
    },
    {
     "name": "stdout",
     "output_type": "stream",
     "text": [
      "Cargando: 21.02% completo\n"
     ]
    },
    {
     "name": "stderr",
     "output_type": "stream",
     "text": [
      "Procesando prestaciones_t2024.db:  21%|█▎    | 384/1822 [01:52<08:24,  2.85it/s]"
     ]
    },
    {
     "name": "stdout",
     "output_type": "stream",
     "text": [
      "Cargando: 21.08% completo\n"
     ]
    },
    {
     "name": "stderr",
     "output_type": "stream",
     "text": [
      "Procesando prestaciones_t2024.db:  21%|█▎    | 385/1822 [01:52<08:20,  2.87it/s]"
     ]
    },
    {
     "name": "stdout",
     "output_type": "stream",
     "text": [
      "Cargando: 21.13% completo\n"
     ]
    },
    {
     "name": "stderr",
     "output_type": "stream",
     "text": [
      "Procesando prestaciones_t2024.db:  21%|█▎    | 386/1822 [01:52<07:48,  3.07it/s]"
     ]
    },
    {
     "name": "stdout",
     "output_type": "stream",
     "text": [
      "Cargando: 21.19% completo\n"
     ]
    },
    {
     "name": "stderr",
     "output_type": "stream",
     "text": [
      "Procesando prestaciones_t2024.db:  21%|█▎    | 387/1822 [01:53<07:16,  3.29it/s]"
     ]
    },
    {
     "name": "stdout",
     "output_type": "stream",
     "text": [
      "Cargando: 21.24% completo\n"
     ]
    },
    {
     "name": "stderr",
     "output_type": "stream",
     "text": [
      "Procesando prestaciones_t2024.db:  21%|█▎    | 388/1822 [01:53<06:56,  3.45it/s]"
     ]
    },
    {
     "name": "stdout",
     "output_type": "stream",
     "text": [
      "Cargando: 21.30% completo\n"
     ]
    },
    {
     "name": "stderr",
     "output_type": "stream",
     "text": [
      "Procesando prestaciones_t2024.db:  21%|█▎    | 389/1822 [01:53<06:55,  3.45it/s]"
     ]
    },
    {
     "name": "stdout",
     "output_type": "stream",
     "text": [
      "Cargando: 21.35% completo\n"
     ]
    },
    {
     "name": "stderr",
     "output_type": "stream",
     "text": [
      "Procesando prestaciones_t2024.db:  21%|█▎    | 390/1822 [01:53<06:55,  3.45it/s]"
     ]
    },
    {
     "name": "stdout",
     "output_type": "stream",
     "text": [
      "Cargando: 21.41% completo\n"
     ]
    },
    {
     "name": "stderr",
     "output_type": "stream",
     "text": [
      "Procesando prestaciones_t2024.db:  21%|█▎    | 391/1822 [01:54<06:52,  3.47it/s]"
     ]
    },
    {
     "name": "stdout",
     "output_type": "stream",
     "text": [
      "Cargando: 21.46% completo\n"
     ]
    },
    {
     "name": "stderr",
     "output_type": "stream",
     "text": [
      "Procesando prestaciones_t2024.db:  22%|█▎    | 392/1822 [01:54<06:51,  3.48it/s]"
     ]
    },
    {
     "name": "stdout",
     "output_type": "stream",
     "text": [
      "Cargando: 21.51% completo\n"
     ]
    },
    {
     "name": "stderr",
     "output_type": "stream",
     "text": [
      "Procesando prestaciones_t2024.db:  22%|█▎    | 393/1822 [01:54<06:49,  3.49it/s]"
     ]
    },
    {
     "name": "stdout",
     "output_type": "stream",
     "text": [
      "Cargando: 21.57% completo\n"
     ]
    },
    {
     "name": "stderr",
     "output_type": "stream",
     "text": [
      "Procesando prestaciones_t2024.db:  22%|█▎    | 394/1822 [01:55<07:51,  3.03it/s]"
     ]
    },
    {
     "name": "stdout",
     "output_type": "stream",
     "text": [
      "Cargando: 21.62% completo\n"
     ]
    },
    {
     "name": "stderr",
     "output_type": "stream",
     "text": [
      "Procesando prestaciones_t2024.db:  22%|█▎    | 395/1822 [01:55<07:19,  3.25it/s]"
     ]
    },
    {
     "name": "stdout",
     "output_type": "stream",
     "text": [
      "Cargando: 21.68% completo\n"
     ]
    },
    {
     "name": "stderr",
     "output_type": "stream",
     "text": [
      "Procesando prestaciones_t2024.db:  22%|█▎    | 396/1822 [01:55<07:10,  3.31it/s]"
     ]
    },
    {
     "name": "stdout",
     "output_type": "stream",
     "text": [
      "Cargando: 21.73% completo\n"
     ]
    },
    {
     "name": "stderr",
     "output_type": "stream",
     "text": [
      "Procesando prestaciones_t2024.db:  22%|█▎    | 397/1822 [01:55<06:50,  3.47it/s]"
     ]
    },
    {
     "name": "stdout",
     "output_type": "stream",
     "text": [
      "Cargando: 21.79% completo\n"
     ]
    },
    {
     "name": "stderr",
     "output_type": "stream",
     "text": [
      "Procesando prestaciones_t2024.db:  22%|█▎    | 398/1822 [01:56<06:37,  3.58it/s]"
     ]
    },
    {
     "name": "stdout",
     "output_type": "stream",
     "text": [
      "Cargando: 21.84% completo\n"
     ]
    },
    {
     "name": "stderr",
     "output_type": "stream",
     "text": [
      "Procesando prestaciones_t2024.db:  22%|█▎    | 399/1822 [01:56<06:17,  3.77it/s]"
     ]
    },
    {
     "name": "stdout",
     "output_type": "stream",
     "text": [
      "Cargando: 21.90% completo\n"
     ]
    },
    {
     "name": "stderr",
     "output_type": "stream",
     "text": [
      "Procesando prestaciones_t2024.db:  22%|█▎    | 400/1822 [01:56<06:15,  3.79it/s]"
     ]
    },
    {
     "name": "stdout",
     "output_type": "stream",
     "text": [
      "Cargando: 21.95% completo\n"
     ]
    },
    {
     "name": "stderr",
     "output_type": "stream",
     "text": [
      "Procesando prestaciones_t2024.db:  22%|█▎    | 401/1822 [01:56<06:26,  3.67it/s]"
     ]
    },
    {
     "name": "stdout",
     "output_type": "stream",
     "text": [
      "Cargando: 22.01% completo\n"
     ]
    },
    {
     "name": "stderr",
     "output_type": "stream",
     "text": [
      "Procesando prestaciones_t2024.db:  22%|█▎    | 402/1822 [01:57<06:25,  3.69it/s]"
     ]
    },
    {
     "name": "stdout",
     "output_type": "stream",
     "text": [
      "Cargando: 22.06% completo\n"
     ]
    },
    {
     "name": "stderr",
     "output_type": "stream",
     "text": [
      "Procesando prestaciones_t2024.db:  22%|█▎    | 403/1822 [01:57<06:17,  3.76it/s]"
     ]
    },
    {
     "name": "stdout",
     "output_type": "stream",
     "text": [
      "Cargando: 22.12% completo\n"
     ]
    },
    {
     "name": "stderr",
     "output_type": "stream",
     "text": [
      "Procesando prestaciones_t2024.db:  22%|█▎    | 404/1822 [01:57<07:38,  3.09it/s]"
     ]
    },
    {
     "name": "stdout",
     "output_type": "stream",
     "text": [
      "Cargando: 22.17% completo\n"
     ]
    },
    {
     "name": "stderr",
     "output_type": "stream",
     "text": [
      "Procesando prestaciones_t2024.db:  22%|█▎    | 405/1822 [01:58<07:22,  3.20it/s]"
     ]
    },
    {
     "name": "stdout",
     "output_type": "stream",
     "text": [
      "Cargando: 22.23% completo\n"
     ]
    },
    {
     "name": "stderr",
     "output_type": "stream",
     "text": [
      "Procesando prestaciones_t2024.db:  22%|█▎    | 406/1822 [01:58<07:16,  3.25it/s]"
     ]
    },
    {
     "name": "stdout",
     "output_type": "stream",
     "text": [
      "Cargando: 22.28% completo\n"
     ]
    },
    {
     "name": "stderr",
     "output_type": "stream",
     "text": [
      "Procesando prestaciones_t2024.db:  22%|█▎    | 407/1822 [01:58<07:10,  3.29it/s]"
     ]
    },
    {
     "name": "stdout",
     "output_type": "stream",
     "text": [
      "Cargando: 22.34% completo\n"
     ]
    },
    {
     "name": "stderr",
     "output_type": "stream",
     "text": [
      "Procesando prestaciones_t2024.db:  22%|█▎    | 408/1822 [01:59<06:51,  3.43it/s]"
     ]
    },
    {
     "name": "stdout",
     "output_type": "stream",
     "text": [
      "Cargando: 22.39% completo\n"
     ]
    },
    {
     "name": "stderr",
     "output_type": "stream",
     "text": [
      "Procesando prestaciones_t2024.db:  22%|█▎    | 409/1822 [01:59<06:33,  3.59it/s]"
     ]
    },
    {
     "name": "stdout",
     "output_type": "stream",
     "text": [
      "Cargando: 22.45% completo\n"
     ]
    },
    {
     "name": "stderr",
     "output_type": "stream",
     "text": [
      "Procesando prestaciones_t2024.db:  23%|█▎    | 410/1822 [01:59<06:36,  3.56it/s]"
     ]
    },
    {
     "name": "stdout",
     "output_type": "stream",
     "text": [
      "Cargando: 22.50% completo\n"
     ]
    },
    {
     "name": "stderr",
     "output_type": "stream",
     "text": [
      "Procesando prestaciones_t2024.db:  23%|█▎    | 411/1822 [01:59<06:30,  3.61it/s]"
     ]
    },
    {
     "name": "stdout",
     "output_type": "stream",
     "text": [
      "Cargando: 22.56% completo\n"
     ]
    },
    {
     "name": "stderr",
     "output_type": "stream",
     "text": [
      "Procesando prestaciones_t2024.db:  23%|█▎    | 412/1822 [02:00<07:09,  3.29it/s]"
     ]
    },
    {
     "name": "stdout",
     "output_type": "stream",
     "text": [
      "Cargando: 22.61% completo\n"
     ]
    },
    {
     "name": "stderr",
     "output_type": "stream",
     "text": [
      "Procesando prestaciones_t2024.db:  23%|█▎    | 413/1822 [02:00<07:11,  3.26it/s]"
     ]
    },
    {
     "name": "stdout",
     "output_type": "stream",
     "text": [
      "Cargando: 22.67% completo\n"
     ]
    },
    {
     "name": "stderr",
     "output_type": "stream",
     "text": [
      "Procesando prestaciones_t2024.db:  23%|█▎    | 414/1822 [02:01<08:40,  2.71it/s]"
     ]
    },
    {
     "name": "stdout",
     "output_type": "stream",
     "text": [
      "Cargando: 22.72% completo\n"
     ]
    },
    {
     "name": "stderr",
     "output_type": "stream",
     "text": [
      "Procesando prestaciones_t2024.db:  23%|█▎    | 415/1822 [02:01<07:55,  2.96it/s]"
     ]
    },
    {
     "name": "stdout",
     "output_type": "stream",
     "text": [
      "Cargando: 22.78% completo\n"
     ]
    },
    {
     "name": "stderr",
     "output_type": "stream",
     "text": [
      "Procesando prestaciones_t2024.db:  23%|█▎    | 416/1822 [02:01<07:22,  3.18it/s]"
     ]
    },
    {
     "name": "stdout",
     "output_type": "stream",
     "text": [
      "Cargando: 22.83% completo\n"
     ]
    },
    {
     "name": "stderr",
     "output_type": "stream",
     "text": [
      "Procesando prestaciones_t2024.db:  23%|█▎    | 417/1822 [02:01<07:09,  3.27it/s]"
     ]
    },
    {
     "name": "stdout",
     "output_type": "stream",
     "text": [
      "Cargando: 22.89% completo\n"
     ]
    },
    {
     "name": "stderr",
     "output_type": "stream",
     "text": [
      "Procesando prestaciones_t2024.db:  23%|█▍    | 418/1822 [02:02<06:51,  3.41it/s]"
     ]
    },
    {
     "name": "stdout",
     "output_type": "stream",
     "text": [
      "Cargando: 22.94% completo\n"
     ]
    },
    {
     "name": "stderr",
     "output_type": "stream",
     "text": [
      "Procesando prestaciones_t2024.db:  23%|█▍    | 419/1822 [02:02<06:52,  3.40it/s]"
     ]
    },
    {
     "name": "stdout",
     "output_type": "stream",
     "text": [
      "Cargando: 23.00% completo\n"
     ]
    },
    {
     "name": "stderr",
     "output_type": "stream",
     "text": [
      "Procesando prestaciones_t2024.db:  23%|█▍    | 420/1822 [02:02<06:45,  3.46it/s]"
     ]
    },
    {
     "name": "stdout",
     "output_type": "stream",
     "text": [
      "Cargando: 23.05% completo\n"
     ]
    },
    {
     "name": "stderr",
     "output_type": "stream",
     "text": [
      "Procesando prestaciones_t2024.db:  23%|█▍    | 421/1822 [02:03<06:37,  3.53it/s]"
     ]
    },
    {
     "name": "stdout",
     "output_type": "stream",
     "text": [
      "Cargando: 23.11% completo\n"
     ]
    },
    {
     "name": "stderr",
     "output_type": "stream",
     "text": [
      "Procesando prestaciones_t2024.db:  23%|█▍    | 422/1822 [02:03<06:32,  3.57it/s]"
     ]
    },
    {
     "name": "stdout",
     "output_type": "stream",
     "text": [
      "Cargando: 23.16% completo\n"
     ]
    },
    {
     "name": "stderr",
     "output_type": "stream",
     "text": [
      "Procesando prestaciones_t2024.db:  23%|█▍    | 423/1822 [02:03<06:25,  3.63it/s]"
     ]
    },
    {
     "name": "stdout",
     "output_type": "stream",
     "text": [
      "Cargando: 23.22% completo\n"
     ]
    },
    {
     "name": "stderr",
     "output_type": "stream",
     "text": [
      "Procesando prestaciones_t2024.db:  23%|█▍    | 424/1822 [02:03<06:22,  3.66it/s]"
     ]
    },
    {
     "name": "stdout",
     "output_type": "stream",
     "text": [
      "Cargando: 23.27% completo\n"
     ]
    },
    {
     "name": "stderr",
     "output_type": "stream",
     "text": [
      "Procesando prestaciones_t2024.db:  23%|█▍    | 425/1822 [02:04<07:26,  3.13it/s]"
     ]
    },
    {
     "name": "stdout",
     "output_type": "stream",
     "text": [
      "Cargando: 23.33% completo\n"
     ]
    },
    {
     "name": "stderr",
     "output_type": "stream",
     "text": [
      "Procesando prestaciones_t2024.db:  23%|█▍    | 426/1822 [02:04<07:04,  3.29it/s]"
     ]
    },
    {
     "name": "stdout",
     "output_type": "stream",
     "text": [
      "Cargando: 23.38% completo\n"
     ]
    },
    {
     "name": "stderr",
     "output_type": "stream",
     "text": [
      "Procesando prestaciones_t2024.db:  23%|█▍    | 427/1822 [02:04<06:47,  3.43it/s]"
     ]
    },
    {
     "name": "stdout",
     "output_type": "stream",
     "text": [
      "Cargando: 23.44% completo\n"
     ]
    },
    {
     "name": "stderr",
     "output_type": "stream",
     "text": [
      "Procesando prestaciones_t2024.db:  23%|█▍    | 428/1822 [02:05<06:31,  3.56it/s]"
     ]
    },
    {
     "name": "stdout",
     "output_type": "stream",
     "text": [
      "Cargando: 23.49% completo\n"
     ]
    },
    {
     "name": "stderr",
     "output_type": "stream",
     "text": [
      "Procesando prestaciones_t2024.db:  24%|█▍    | 429/1822 [02:05<06:26,  3.60it/s]"
     ]
    },
    {
     "name": "stdout",
     "output_type": "stream",
     "text": [
      "Cargando: 23.55% completo\n"
     ]
    },
    {
     "name": "stderr",
     "output_type": "stream",
     "text": [
      "Procesando prestaciones_t2024.db:  24%|█▍    | 430/1822 [02:05<06:22,  3.64it/s]"
     ]
    },
    {
     "name": "stdout",
     "output_type": "stream",
     "text": [
      "Cargando: 23.60% completo\n"
     ]
    },
    {
     "name": "stderr",
     "output_type": "stream",
     "text": [
      "Procesando prestaciones_t2024.db:  24%|█▍    | 431/1822 [02:05<06:22,  3.64it/s]"
     ]
    },
    {
     "name": "stdout",
     "output_type": "stream",
     "text": [
      "Cargando: 23.66% completo\n"
     ]
    },
    {
     "name": "stderr",
     "output_type": "stream",
     "text": [
      "Procesando prestaciones_t2024.db:  24%|█▍    | 432/1822 [02:06<06:25,  3.60it/s]"
     ]
    },
    {
     "name": "stdout",
     "output_type": "stream",
     "text": [
      "Cargando: 23.71% completo\n"
     ]
    },
    {
     "name": "stderr",
     "output_type": "stream",
     "text": [
      "Procesando prestaciones_t2024.db:  24%|█▍    | 433/1822 [02:06<06:21,  3.64it/s]"
     ]
    },
    {
     "name": "stdout",
     "output_type": "stream",
     "text": [
      "Cargando: 23.77% completo\n"
     ]
    },
    {
     "name": "stderr",
     "output_type": "stream",
     "text": [
      "Procesando prestaciones_t2024.db:  24%|█▍    | 434/1822 [02:06<06:19,  3.66it/s]"
     ]
    },
    {
     "name": "stdout",
     "output_type": "stream",
     "text": [
      "Cargando: 23.82% completo\n"
     ]
    },
    {
     "name": "stderr",
     "output_type": "stream",
     "text": [
      "Procesando prestaciones_t2024.db:  24%|█▍    | 435/1822 [02:06<06:09,  3.76it/s]"
     ]
    },
    {
     "name": "stdout",
     "output_type": "stream",
     "text": [
      "Cargando: 23.87% completo\n"
     ]
    },
    {
     "name": "stderr",
     "output_type": "stream",
     "text": [
      "Procesando prestaciones_t2024.db:  24%|█▍    | 436/1822 [02:07<07:16,  3.17it/s]"
     ]
    },
    {
     "name": "stdout",
     "output_type": "stream",
     "text": [
      "Cargando: 23.93% completo\n"
     ]
    },
    {
     "name": "stderr",
     "output_type": "stream",
     "text": [
      "Procesando prestaciones_t2024.db:  24%|█▍    | 437/1822 [02:07<06:48,  3.39it/s]"
     ]
    },
    {
     "name": "stdout",
     "output_type": "stream",
     "text": [
      "Cargando: 23.98% completo\n"
     ]
    },
    {
     "name": "stderr",
     "output_type": "stream",
     "text": [
      "Procesando prestaciones_t2024.db:  24%|█▍    | 438/1822 [02:07<06:28,  3.56it/s]"
     ]
    },
    {
     "name": "stdout",
     "output_type": "stream",
     "text": [
      "Cargando: 24.04% completo\n"
     ]
    },
    {
     "name": "stderr",
     "output_type": "stream",
     "text": [
      "Procesando prestaciones_t2024.db:  24%|█▍    | 439/1822 [02:08<06:14,  3.70it/s]"
     ]
    },
    {
     "name": "stdout",
     "output_type": "stream",
     "text": [
      "Cargando: 24.09% completo\n"
     ]
    },
    {
     "name": "stderr",
     "output_type": "stream",
     "text": [
      "Procesando prestaciones_t2024.db:  24%|█▍    | 440/1822 [02:08<06:22,  3.61it/s]"
     ]
    },
    {
     "name": "stdout",
     "output_type": "stream",
     "text": [
      "Cargando: 24.15% completo\n"
     ]
    },
    {
     "name": "stderr",
     "output_type": "stream",
     "text": [
      "Procesando prestaciones_t2024.db:  24%|█▍    | 441/1822 [02:08<06:16,  3.66it/s]"
     ]
    },
    {
     "name": "stdout",
     "output_type": "stream",
     "text": [
      "Cargando: 24.20% completo\n"
     ]
    },
    {
     "name": "stderr",
     "output_type": "stream",
     "text": [
      "Procesando prestaciones_t2024.db:  24%|█▍    | 442/1822 [02:08<06:16,  3.67it/s]"
     ]
    },
    {
     "name": "stdout",
     "output_type": "stream",
     "text": [
      "Cargando: 24.26% completo\n"
     ]
    },
    {
     "name": "stderr",
     "output_type": "stream",
     "text": [
      "Procesando prestaciones_t2024.db:  24%|█▍    | 443/1822 [02:09<06:11,  3.71it/s]"
     ]
    },
    {
     "name": "stdout",
     "output_type": "stream",
     "text": [
      "Cargando: 24.31% completo\n"
     ]
    },
    {
     "name": "stderr",
     "output_type": "stream",
     "text": [
      "Procesando prestaciones_t2024.db:  24%|█▍    | 444/1822 [02:09<06:08,  3.74it/s]"
     ]
    },
    {
     "name": "stdout",
     "output_type": "stream",
     "text": [
      "Cargando: 24.37% completo\n"
     ]
    },
    {
     "name": "stderr",
     "output_type": "stream",
     "text": [
      "Procesando prestaciones_t2024.db:  24%|█▍    | 445/1822 [02:09<06:04,  3.78it/s]"
     ]
    },
    {
     "name": "stdout",
     "output_type": "stream",
     "text": [
      "Cargando: 24.42% completo\n"
     ]
    },
    {
     "name": "stderr",
     "output_type": "stream",
     "text": [
      "Procesando prestaciones_t2024.db:  24%|█▍    | 446/1822 [02:10<06:25,  3.57it/s]"
     ]
    },
    {
     "name": "stdout",
     "output_type": "stream",
     "text": [
      "Cargando: 24.48% completo\n"
     ]
    },
    {
     "name": "stderr",
     "output_type": "stream",
     "text": [
      "Procesando prestaciones_t2024.db:  25%|█▍    | 447/1822 [02:10<07:30,  3.05it/s]"
     ]
    },
    {
     "name": "stdout",
     "output_type": "stream",
     "text": [
      "Cargando: 24.53% completo\n"
     ]
    },
    {
     "name": "stderr",
     "output_type": "stream",
     "text": [
      "Procesando prestaciones_t2024.db:  25%|█▍    | 448/1822 [02:10<07:06,  3.23it/s]"
     ]
    },
    {
     "name": "stdout",
     "output_type": "stream",
     "text": [
      "Cargando: 24.59% completo\n"
     ]
    },
    {
     "name": "stderr",
     "output_type": "stream",
     "text": [
      "Procesando prestaciones_t2024.db:  25%|█▍    | 449/1822 [02:11<07:01,  3.26it/s]"
     ]
    },
    {
     "name": "stdout",
     "output_type": "stream",
     "text": [
      "Cargando: 24.64% completo\n"
     ]
    },
    {
     "name": "stderr",
     "output_type": "stream",
     "text": [
      "Procesando prestaciones_t2024.db:  25%|█▍    | 450/1822 [02:11<06:46,  3.37it/s]"
     ]
    },
    {
     "name": "stdout",
     "output_type": "stream",
     "text": [
      "Cargando: 24.70% completo\n"
     ]
    },
    {
     "name": "stderr",
     "output_type": "stream",
     "text": [
      "Procesando prestaciones_t2024.db:  25%|█▍    | 451/1822 [02:11<06:39,  3.43it/s]"
     ]
    },
    {
     "name": "stdout",
     "output_type": "stream",
     "text": [
      "Cargando: 24.75% completo\n"
     ]
    },
    {
     "name": "stderr",
     "output_type": "stream",
     "text": [
      "Procesando prestaciones_t2024.db:  25%|█▍    | 452/1822 [02:11<06:31,  3.50it/s]"
     ]
    },
    {
     "name": "stdout",
     "output_type": "stream",
     "text": [
      "Cargando: 24.81% completo\n"
     ]
    },
    {
     "name": "stderr",
     "output_type": "stream",
     "text": [
      "Procesando prestaciones_t2024.db:  25%|█▍    | 453/1822 [02:12<06:30,  3.51it/s]"
     ]
    },
    {
     "name": "stdout",
     "output_type": "stream",
     "text": [
      "Cargando: 24.86% completo\n"
     ]
    },
    {
     "name": "stderr",
     "output_type": "stream",
     "text": [
      "Procesando prestaciones_t2024.db:  25%|█▍    | 454/1822 [02:12<06:27,  3.53it/s]"
     ]
    },
    {
     "name": "stdout",
     "output_type": "stream",
     "text": [
      "Cargando: 24.92% completo\n"
     ]
    },
    {
     "name": "stderr",
     "output_type": "stream",
     "text": [
      "Procesando prestaciones_t2024.db:  25%|█▍    | 455/1822 [02:12<06:23,  3.57it/s]"
     ]
    },
    {
     "name": "stdout",
     "output_type": "stream",
     "text": [
      "Cargando: 24.97% completo\n"
     ]
    },
    {
     "name": "stderr",
     "output_type": "stream",
     "text": [
      "Procesando prestaciones_t2024.db:  25%|█▌    | 456/1822 [02:12<06:14,  3.64it/s]"
     ]
    },
    {
     "name": "stdout",
     "output_type": "stream",
     "text": [
      "Cargando: 25.03% completo\n"
     ]
    },
    {
     "name": "stderr",
     "output_type": "stream",
     "text": [
      "Procesando prestaciones_t2024.db:  25%|█▌    | 457/1822 [02:13<06:19,  3.60it/s]"
     ]
    },
    {
     "name": "stdout",
     "output_type": "stream",
     "text": [
      "Cargando: 25.08% completo\n"
     ]
    },
    {
     "name": "stderr",
     "output_type": "stream",
     "text": [
      "Procesando prestaciones_t2024.db:  25%|█▌    | 458/1822 [02:13<06:33,  3.47it/s]"
     ]
    },
    {
     "name": "stdout",
     "output_type": "stream",
     "text": [
      "Cargando: 25.14% completo\n"
     ]
    },
    {
     "name": "stderr",
     "output_type": "stream",
     "text": [
      "Procesando prestaciones_t2024.db:  25%|█▌    | 459/1822 [02:14<07:44,  2.93it/s]"
     ]
    },
    {
     "name": "stdout",
     "output_type": "stream",
     "text": [
      "Cargando: 25.19% completo\n"
     ]
    },
    {
     "name": "stderr",
     "output_type": "stream",
     "text": [
      "Procesando prestaciones_t2024.db:  25%|█▌    | 460/1822 [02:14<07:16,  3.12it/s]"
     ]
    },
    {
     "name": "stdout",
     "output_type": "stream",
     "text": [
      "Cargando: 25.25% completo\n"
     ]
    },
    {
     "name": "stderr",
     "output_type": "stream",
     "text": [
      "Procesando prestaciones_t2024.db:  25%|█▌    | 461/1822 [02:14<07:04,  3.21it/s]"
     ]
    },
    {
     "name": "stdout",
     "output_type": "stream",
     "text": [
      "Cargando: 25.30% completo\n"
     ]
    },
    {
     "name": "stderr",
     "output_type": "stream",
     "text": [
      "Procesando prestaciones_t2024.db:  25%|█▌    | 462/1822 [02:14<07:25,  3.05it/s]"
     ]
    },
    {
     "name": "stdout",
     "output_type": "stream",
     "text": [
      "Cargando: 25.36% completo\n"
     ]
    },
    {
     "name": "stderr",
     "output_type": "stream",
     "text": [
      "Procesando prestaciones_t2024.db:  25%|█▌    | 463/1822 [02:15<06:52,  3.29it/s]"
     ]
    },
    {
     "name": "stdout",
     "output_type": "stream",
     "text": [
      "Cargando: 25.41% completo\n"
     ]
    },
    {
     "name": "stderr",
     "output_type": "stream",
     "text": [
      "Procesando prestaciones_t2024.db:  25%|█▌    | 464/1822 [02:15<06:36,  3.43it/s]"
     ]
    },
    {
     "name": "stdout",
     "output_type": "stream",
     "text": [
      "Cargando: 25.47% completo\n"
     ]
    },
    {
     "name": "stderr",
     "output_type": "stream",
     "text": [
      "Procesando prestaciones_t2024.db:  26%|█▌    | 465/1822 [02:15<06:17,  3.60it/s]"
     ]
    },
    {
     "name": "stdout",
     "output_type": "stream",
     "text": [
      "Cargando: 25.52% completo\n"
     ]
    },
    {
     "name": "stderr",
     "output_type": "stream",
     "text": [
      "Procesando prestaciones_t2024.db:  26%|█▌    | 466/1822 [02:15<06:05,  3.71it/s]"
     ]
    },
    {
     "name": "stdout",
     "output_type": "stream",
     "text": [
      "Cargando: 25.58% completo\n"
     ]
    },
    {
     "name": "stderr",
     "output_type": "stream",
     "text": [
      "Procesando prestaciones_t2024.db:  26%|█▌    | 467/1822 [02:16<05:53,  3.84it/s]"
     ]
    },
    {
     "name": "stdout",
     "output_type": "stream",
     "text": [
      "Cargando: 25.63% completo\n"
     ]
    },
    {
     "name": "stderr",
     "output_type": "stream",
     "text": [
      "Procesando prestaciones_t2024.db:  26%|█▌    | 468/1822 [02:16<05:43,  3.94it/s]"
     ]
    },
    {
     "name": "stdout",
     "output_type": "stream",
     "text": [
      "Cargando: 25.69% completo\n"
     ]
    },
    {
     "name": "stderr",
     "output_type": "stream",
     "text": [
      "Procesando prestaciones_t2024.db:  26%|█▌    | 469/1822 [02:16<05:48,  3.88it/s]"
     ]
    },
    {
     "name": "stdout",
     "output_type": "stream",
     "text": [
      "Cargando: 25.74% completo\n"
     ]
    },
    {
     "name": "stderr",
     "output_type": "stream",
     "text": [
      "Procesando prestaciones_t2024.db:  26%|█▌    | 470/1822 [02:17<07:11,  3.13it/s]"
     ]
    },
    {
     "name": "stdout",
     "output_type": "stream",
     "text": [
      "Cargando: 25.80% completo\n"
     ]
    },
    {
     "name": "stderr",
     "output_type": "stream",
     "text": [
      "Procesando prestaciones_t2024.db:  26%|█▌    | 471/1822 [02:17<06:53,  3.26it/s]"
     ]
    },
    {
     "name": "stdout",
     "output_type": "stream",
     "text": [
      "Cargando: 25.85% completo\n"
     ]
    },
    {
     "name": "stderr",
     "output_type": "stream",
     "text": [
      "Procesando prestaciones_t2024.db:  26%|█▌    | 472/1822 [02:17<06:40,  3.37it/s]"
     ]
    },
    {
     "name": "stdout",
     "output_type": "stream",
     "text": [
      "Cargando: 25.91% completo\n"
     ]
    },
    {
     "name": "stderr",
     "output_type": "stream",
     "text": [
      "Procesando prestaciones_t2024.db:  26%|█▌    | 473/1822 [02:17<06:21,  3.54it/s]"
     ]
    },
    {
     "name": "stdout",
     "output_type": "stream",
     "text": [
      "Cargando: 25.96% completo\n"
     ]
    },
    {
     "name": "stderr",
     "output_type": "stream",
     "text": [
      "Procesando prestaciones_t2024.db:  26%|█▌    | 474/1822 [02:18<06:27,  3.47it/s]"
     ]
    },
    {
     "name": "stdout",
     "output_type": "stream",
     "text": [
      "Cargando: 26.02% completo\n"
     ]
    },
    {
     "name": "stderr",
     "output_type": "stream",
     "text": [
      "Procesando prestaciones_t2024.db:  26%|█▌    | 475/1822 [02:18<06:24,  3.50it/s]"
     ]
    },
    {
     "name": "stdout",
     "output_type": "stream",
     "text": [
      "Cargando: 26.07% completo\n"
     ]
    },
    {
     "name": "stderr",
     "output_type": "stream",
     "text": [
      "Procesando prestaciones_t2024.db:  26%|█▌    | 476/1822 [02:18<06:23,  3.51it/s]"
     ]
    },
    {
     "name": "stdout",
     "output_type": "stream",
     "text": [
      "Cargando: 26.13% completo\n"
     ]
    },
    {
     "name": "stderr",
     "output_type": "stream",
     "text": [
      "Procesando prestaciones_t2024.db:  26%|█▌    | 477/1822 [02:19<06:21,  3.53it/s]"
     ]
    },
    {
     "name": "stdout",
     "output_type": "stream",
     "text": [
      "Cargando: 26.18% completo\n"
     ]
    },
    {
     "name": "stderr",
     "output_type": "stream",
     "text": [
      "Procesando prestaciones_t2024.db:  26%|█▌    | 478/1822 [02:19<06:19,  3.54it/s]"
     ]
    },
    {
     "name": "stdout",
     "output_type": "stream",
     "text": [
      "Cargando: 26.23% completo\n"
     ]
    },
    {
     "name": "stderr",
     "output_type": "stream",
     "text": [
      "Procesando prestaciones_t2024.db:  26%|█▌    | 479/1822 [02:19<06:08,  3.64it/s]"
     ]
    },
    {
     "name": "stdout",
     "output_type": "stream",
     "text": [
      "Cargando: 26.29% completo\n"
     ]
    },
    {
     "name": "stderr",
     "output_type": "stream",
     "text": [
      "Procesando prestaciones_t2024.db:  26%|█▌    | 480/1822 [02:19<06:10,  3.62it/s]"
     ]
    },
    {
     "name": "stdout",
     "output_type": "stream",
     "text": [
      "Cargando: 26.34% completo\n"
     ]
    },
    {
     "name": "stderr",
     "output_type": "stream",
     "text": [
      "Procesando prestaciones_t2024.db:  26%|█▌    | 481/1822 [02:20<06:13,  3.59it/s]"
     ]
    },
    {
     "name": "stdout",
     "output_type": "stream",
     "text": [
      "Cargando: 26.40% completo\n"
     ]
    },
    {
     "name": "stderr",
     "output_type": "stream",
     "text": [
      "Procesando prestaciones_t2024.db:  26%|█▌    | 482/1822 [02:20<07:25,  3.01it/s]"
     ]
    },
    {
     "name": "stdout",
     "output_type": "stream",
     "text": [
      "Cargando: 26.45% completo\n"
     ]
    },
    {
     "name": "stderr",
     "output_type": "stream",
     "text": [
      "Procesando prestaciones_t2024.db:  27%|█▌    | 483/1822 [02:20<06:59,  3.19it/s]"
     ]
    },
    {
     "name": "stdout",
     "output_type": "stream",
     "text": [
      "Cargando: 26.51% completo\n"
     ]
    },
    {
     "name": "stderr",
     "output_type": "stream",
     "text": [
      "Procesando prestaciones_t2024.db:  27%|█▌    | 484/1822 [02:21<06:33,  3.40it/s]"
     ]
    },
    {
     "name": "stdout",
     "output_type": "stream",
     "text": [
      "Cargando: 26.56% completo\n"
     ]
    },
    {
     "name": "stderr",
     "output_type": "stream",
     "text": [
      "Procesando prestaciones_t2024.db:  27%|█▌    | 485/1822 [02:21<06:17,  3.54it/s]"
     ]
    },
    {
     "name": "stdout",
     "output_type": "stream",
     "text": [
      "Cargando: 26.62% completo\n"
     ]
    },
    {
     "name": "stderr",
     "output_type": "stream",
     "text": [
      "Procesando prestaciones_t2024.db:  27%|█▌    | 486/1822 [02:21<06:12,  3.58it/s]"
     ]
    },
    {
     "name": "stdout",
     "output_type": "stream",
     "text": [
      "Cargando: 26.67% completo\n"
     ]
    },
    {
     "name": "stderr",
     "output_type": "stream",
     "text": [
      "Procesando prestaciones_t2024.db:  27%|█▌    | 487/1822 [02:21<06:18,  3.52it/s]"
     ]
    },
    {
     "name": "stdout",
     "output_type": "stream",
     "text": [
      "Cargando: 26.73% completo\n"
     ]
    },
    {
     "name": "stderr",
     "output_type": "stream",
     "text": [
      "Procesando prestaciones_t2024.db:  27%|█▌    | 488/1822 [02:22<06:07,  3.63it/s]"
     ]
    },
    {
     "name": "stdout",
     "output_type": "stream",
     "text": [
      "Cargando: 26.78% completo\n"
     ]
    },
    {
     "name": "stderr",
     "output_type": "stream",
     "text": [
      "Procesando prestaciones_t2024.db:  27%|█▌    | 489/1822 [02:22<05:51,  3.79it/s]"
     ]
    },
    {
     "name": "stdout",
     "output_type": "stream",
     "text": [
      "Cargando: 26.84% completo\n"
     ]
    },
    {
     "name": "stderr",
     "output_type": "stream",
     "text": [
      "Procesando prestaciones_t2024.db:  27%|█▌    | 490/1822 [02:22<06:00,  3.69it/s]"
     ]
    },
    {
     "name": "stdout",
     "output_type": "stream",
     "text": [
      "Cargando: 26.89% completo\n"
     ]
    },
    {
     "name": "stderr",
     "output_type": "stream",
     "text": [
      "Procesando prestaciones_t2024.db:  27%|█▌    | 491/1822 [02:23<05:51,  3.78it/s]"
     ]
    },
    {
     "name": "stdout",
     "output_type": "stream",
     "text": [
      "Cargando: 26.95% completo\n"
     ]
    },
    {
     "name": "stderr",
     "output_type": "stream",
     "text": [
      "Procesando prestaciones_t2024.db:  27%|█▌    | 492/1822 [02:23<05:45,  3.85it/s]"
     ]
    },
    {
     "name": "stdout",
     "output_type": "stream",
     "text": [
      "Cargando: 27.00% completo\n"
     ]
    },
    {
     "name": "stderr",
     "output_type": "stream",
     "text": [
      "Procesando prestaciones_t2024.db:  27%|█▌    | 493/1822 [02:23<06:51,  3.23it/s]"
     ]
    },
    {
     "name": "stdout",
     "output_type": "stream",
     "text": [
      "Cargando: 27.06% completo\n"
     ]
    },
    {
     "name": "stderr",
     "output_type": "stream",
     "text": [
      "Procesando prestaciones_t2024.db:  27%|█▋    | 494/1822 [02:23<06:38,  3.33it/s]"
     ]
    },
    {
     "name": "stdout",
     "output_type": "stream",
     "text": [
      "Cargando: 27.11% completo\n"
     ]
    },
    {
     "name": "stderr",
     "output_type": "stream",
     "text": [
      "Procesando prestaciones_t2024.db:  27%|█▋    | 495/1822 [02:24<06:28,  3.42it/s]"
     ]
    },
    {
     "name": "stdout",
     "output_type": "stream",
     "text": [
      "Cargando: 27.17% completo\n"
     ]
    },
    {
     "name": "stderr",
     "output_type": "stream",
     "text": [
      "Procesando prestaciones_t2024.db:  27%|█▋    | 496/1822 [02:24<06:18,  3.50it/s]"
     ]
    },
    {
     "name": "stdout",
     "output_type": "stream",
     "text": [
      "Cargando: 27.22% completo\n"
     ]
    },
    {
     "name": "stderr",
     "output_type": "stream",
     "text": [
      "Procesando prestaciones_t2024.db:  27%|█▋    | 497/1822 [02:24<06:04,  3.64it/s]"
     ]
    },
    {
     "name": "stdout",
     "output_type": "stream",
     "text": [
      "Cargando: 27.28% completo\n"
     ]
    },
    {
     "name": "stderr",
     "output_type": "stream",
     "text": [
      "Procesando prestaciones_t2024.db:  27%|█▋    | 498/1822 [02:25<05:51,  3.76it/s]"
     ]
    },
    {
     "name": "stdout",
     "output_type": "stream",
     "text": [
      "Cargando: 27.33% completo\n"
     ]
    },
    {
     "name": "stderr",
     "output_type": "stream",
     "text": [
      "Procesando prestaciones_t2024.db:  27%|█▋    | 499/1822 [02:25<05:42,  3.86it/s]"
     ]
    },
    {
     "name": "stdout",
     "output_type": "stream",
     "text": [
      "Cargando: 27.39% completo\n"
     ]
    },
    {
     "name": "stderr",
     "output_type": "stream",
     "text": [
      "Procesando prestaciones_t2024.db:  27%|█▋    | 500/1822 [02:25<05:32,  3.97it/s]"
     ]
    },
    {
     "name": "stdout",
     "output_type": "stream",
     "text": [
      "Cargando: 27.44% completo\n"
     ]
    },
    {
     "name": "stderr",
     "output_type": "stream",
     "text": [
      "Procesando prestaciones_t2024.db:  27%|█▋    | 501/1822 [02:25<05:35,  3.94it/s]"
     ]
    },
    {
     "name": "stdout",
     "output_type": "stream",
     "text": [
      "Cargando: 27.50% completo\n"
     ]
    },
    {
     "name": "stderr",
     "output_type": "stream",
     "text": [
      "Procesando prestaciones_t2024.db:  28%|█▋    | 502/1822 [02:26<05:37,  3.91it/s]"
     ]
    },
    {
     "name": "stdout",
     "output_type": "stream",
     "text": [
      "Cargando: 27.55% completo\n"
     ]
    },
    {
     "name": "stderr",
     "output_type": "stream",
     "text": [
      "Procesando prestaciones_t2024.db:  28%|█▋    | 503/1822 [02:26<05:38,  3.89it/s]"
     ]
    },
    {
     "name": "stdout",
     "output_type": "stream",
     "text": [
      "Cargando: 27.61% completo\n"
     ]
    },
    {
     "name": "stderr",
     "output_type": "stream",
     "text": [
      "Procesando prestaciones_t2024.db:  28%|█▋    | 504/1822 [02:26<05:49,  3.77it/s]"
     ]
    },
    {
     "name": "stdout",
     "output_type": "stream",
     "text": [
      "Cargando: 27.66% completo\n"
     ]
    },
    {
     "name": "stderr",
     "output_type": "stream",
     "text": [
      "Procesando prestaciones_t2024.db:  28%|█▋    | 505/1822 [02:27<07:07,  3.08it/s]"
     ]
    },
    {
     "name": "stdout",
     "output_type": "stream",
     "text": [
      "Cargando: 27.72% completo\n"
     ]
    },
    {
     "name": "stderr",
     "output_type": "stream",
     "text": [
      "Procesando prestaciones_t2024.db:  28%|█▋    | 506/1822 [02:27<06:43,  3.26it/s]"
     ]
    },
    {
     "name": "stdout",
     "output_type": "stream",
     "text": [
      "Cargando: 27.77% completo\n"
     ]
    },
    {
     "name": "stderr",
     "output_type": "stream",
     "text": [
      "Procesando prestaciones_t2024.db:  28%|█▋    | 507/1822 [02:27<06:17,  3.48it/s]"
     ]
    },
    {
     "name": "stdout",
     "output_type": "stream",
     "text": [
      "Cargando: 27.83% completo\n"
     ]
    },
    {
     "name": "stderr",
     "output_type": "stream",
     "text": [
      "Procesando prestaciones_t2024.db:  28%|█▋    | 508/1822 [02:27<06:43,  3.26it/s]"
     ]
    },
    {
     "name": "stdout",
     "output_type": "stream",
     "text": [
      "Cargando: 27.88% completo\n"
     ]
    },
    {
     "name": "stderr",
     "output_type": "stream",
     "text": [
      "Procesando prestaciones_t2024.db:  28%|█▋    | 509/1822 [02:28<06:32,  3.34it/s]"
     ]
    },
    {
     "name": "stdout",
     "output_type": "stream",
     "text": [
      "Cargando: 27.94% completo\n"
     ]
    },
    {
     "name": "stderr",
     "output_type": "stream",
     "text": [
      "Procesando prestaciones_t2024.db:  28%|█▋    | 510/1822 [02:28<06:16,  3.48it/s]"
     ]
    },
    {
     "name": "stdout",
     "output_type": "stream",
     "text": [
      "Cargando: 27.99% completo\n"
     ]
    },
    {
     "name": "stderr",
     "output_type": "stream",
     "text": [
      "Procesando prestaciones_t2024.db:  28%|█▋    | 511/1822 [02:28<06:12,  3.52it/s]"
     ]
    },
    {
     "name": "stdout",
     "output_type": "stream",
     "text": [
      "Cargando: 28.05% completo\n"
     ]
    },
    {
     "name": "stderr",
     "output_type": "stream",
     "text": [
      "Procesando prestaciones_t2024.db:  28%|█▋    | 512/1822 [02:28<06:10,  3.54it/s]"
     ]
    },
    {
     "name": "stdout",
     "output_type": "stream",
     "text": [
      "Cargando: 28.10% completo\n"
     ]
    },
    {
     "name": "stderr",
     "output_type": "stream",
     "text": [
      "Procesando prestaciones_t2024.db:  28%|█▋    | 513/1822 [02:29<05:56,  3.67it/s]"
     ]
    },
    {
     "name": "stdout",
     "output_type": "stream",
     "text": [
      "Cargando: 28.16% completo\n"
     ]
    },
    {
     "name": "stderr",
     "output_type": "stream",
     "text": [
      "Procesando prestaciones_t2024.db:  28%|█▋    | 514/1822 [02:29<05:51,  3.72it/s]"
     ]
    },
    {
     "name": "stdout",
     "output_type": "stream",
     "text": [
      "Cargando: 28.21% completo\n"
     ]
    },
    {
     "name": "stderr",
     "output_type": "stream",
     "text": [
      "Procesando prestaciones_t2024.db:  28%|█▋    | 515/1822 [02:29<05:41,  3.82it/s]"
     ]
    },
    {
     "name": "stdout",
     "output_type": "stream",
     "text": [
      "Cargando: 28.27% completo\n"
     ]
    },
    {
     "name": "stderr",
     "output_type": "stream",
     "text": [
      "Procesando prestaciones_t2024.db:  28%|█▋    | 516/1822 [02:29<05:40,  3.83it/s]"
     ]
    },
    {
     "name": "stdout",
     "output_type": "stream",
     "text": [
      "Cargando: 28.32% completo\n"
     ]
    },
    {
     "name": "stderr",
     "output_type": "stream",
     "text": [
      "Procesando prestaciones_t2024.db:  28%|█▋    | 517/1822 [02:30<06:43,  3.24it/s]"
     ]
    },
    {
     "name": "stdout",
     "output_type": "stream",
     "text": [
      "Cargando: 28.38% completo\n"
     ]
    },
    {
     "name": "stderr",
     "output_type": "stream",
     "text": [
      "Procesando prestaciones_t2024.db:  28%|█▋    | 518/1822 [02:30<06:22,  3.41it/s]"
     ]
    },
    {
     "name": "stdout",
     "output_type": "stream",
     "text": [
      "Cargando: 28.43% completo\n"
     ]
    },
    {
     "name": "stderr",
     "output_type": "stream",
     "text": [
      "Procesando prestaciones_t2024.db:  28%|█▋    | 519/1822 [02:30<06:03,  3.59it/s]"
     ]
    },
    {
     "name": "stdout",
     "output_type": "stream",
     "text": [
      "Cargando: 28.49% completo\n"
     ]
    },
    {
     "name": "stderr",
     "output_type": "stream",
     "text": [
      "Procesando prestaciones_t2024.db:  29%|█▋    | 520/1822 [02:31<05:50,  3.71it/s]"
     ]
    },
    {
     "name": "stdout",
     "output_type": "stream",
     "text": [
      "Cargando: 28.54% completo\n"
     ]
    },
    {
     "name": "stderr",
     "output_type": "stream",
     "text": [
      "Procesando prestaciones_t2024.db:  29%|█▋    | 521/1822 [02:31<05:41,  3.81it/s]"
     ]
    },
    {
     "name": "stdout",
     "output_type": "stream",
     "text": [
      "Cargando: 28.59% completo\n"
     ]
    },
    {
     "name": "stderr",
     "output_type": "stream",
     "text": [
      "Procesando prestaciones_t2024.db:  29%|█▋    | 522/1822 [02:31<05:36,  3.86it/s]"
     ]
    },
    {
     "name": "stdout",
     "output_type": "stream",
     "text": [
      "Cargando: 28.65% completo\n"
     ]
    },
    {
     "name": "stderr",
     "output_type": "stream",
     "text": [
      "Procesando prestaciones_t2024.db:  29%|█▋    | 523/1822 [02:31<05:48,  3.73it/s]"
     ]
    },
    {
     "name": "stdout",
     "output_type": "stream",
     "text": [
      "Cargando: 28.70% completo\n"
     ]
    },
    {
     "name": "stderr",
     "output_type": "stream",
     "text": [
      "Procesando prestaciones_t2024.db:  29%|█▋    | 524/1822 [02:32<05:44,  3.77it/s]"
     ]
    },
    {
     "name": "stdout",
     "output_type": "stream",
     "text": [
      "Cargando: 28.76% completo\n"
     ]
    },
    {
     "name": "stderr",
     "output_type": "stream",
     "text": [
      "Procesando prestaciones_t2024.db:  29%|█▋    | 525/1822 [02:32<05:42,  3.79it/s]"
     ]
    },
    {
     "name": "stdout",
     "output_type": "stream",
     "text": [
      "Cargando: 28.81% completo\n"
     ]
    },
    {
     "name": "stderr",
     "output_type": "stream",
     "text": [
      "Procesando prestaciones_t2024.db:  29%|█▋    | 526/1822 [02:32<05:40,  3.81it/s]"
     ]
    },
    {
     "name": "stdout",
     "output_type": "stream",
     "text": [
      "Cargando: 28.87% completo\n"
     ]
    },
    {
     "name": "stderr",
     "output_type": "stream",
     "text": [
      "Procesando prestaciones_t2024.db:  29%|█▋    | 527/1822 [02:32<05:42,  3.78it/s]"
     ]
    },
    {
     "name": "stdout",
     "output_type": "stream",
     "text": [
      "Cargando: 28.92% completo\n"
     ]
    },
    {
     "name": "stderr",
     "output_type": "stream",
     "text": [
      "Procesando prestaciones_t2024.db:  29%|█▋    | 528/1822 [02:33<05:34,  3.87it/s]"
     ]
    },
    {
     "name": "stdout",
     "output_type": "stream",
     "text": [
      "Cargando: 28.98% completo\n"
     ]
    },
    {
     "name": "stderr",
     "output_type": "stream",
     "text": [
      "Procesando prestaciones_t2024.db:  29%|█▋    | 529/1822 [02:33<06:33,  3.29it/s]"
     ]
    },
    {
     "name": "stdout",
     "output_type": "stream",
     "text": [
      "Cargando: 29.03% completo\n"
     ]
    },
    {
     "name": "stderr",
     "output_type": "stream",
     "text": [
      "Procesando prestaciones_t2024.db:  29%|█▋    | 530/1822 [02:33<06:23,  3.37it/s]"
     ]
    },
    {
     "name": "stdout",
     "output_type": "stream",
     "text": [
      "Cargando: 29.09% completo\n"
     ]
    },
    {
     "name": "stderr",
     "output_type": "stream",
     "text": [
      "Procesando prestaciones_t2024.db:  29%|█▋    | 531/1822 [02:34<06:32,  3.29it/s]"
     ]
    },
    {
     "name": "stdout",
     "output_type": "stream",
     "text": [
      "Cargando: 29.14% completo\n"
     ]
    },
    {
     "name": "stderr",
     "output_type": "stream",
     "text": [
      "Procesando prestaciones_t2024.db:  29%|█▊    | 532/1822 [02:34<06:15,  3.44it/s]"
     ]
    },
    {
     "name": "stdout",
     "output_type": "stream",
     "text": [
      "Cargando: 29.20% completo\n"
     ]
    },
    {
     "name": "stderr",
     "output_type": "stream",
     "text": [
      "Procesando prestaciones_t2024.db:  29%|█▊    | 533/1822 [02:34<05:57,  3.60it/s]"
     ]
    },
    {
     "name": "stdout",
     "output_type": "stream",
     "text": [
      "Cargando: 29.25% completo\n"
     ]
    },
    {
     "name": "stderr",
     "output_type": "stream",
     "text": [
      "Procesando prestaciones_t2024.db:  29%|█▊    | 534/1822 [02:35<05:49,  3.69it/s]"
     ]
    },
    {
     "name": "stdout",
     "output_type": "stream",
     "text": [
      "Cargando: 29.31% completo\n"
     ]
    },
    {
     "name": "stderr",
     "output_type": "stream",
     "text": [
      "Procesando prestaciones_t2024.db:  29%|█▊    | 535/1822 [02:35<05:42,  3.75it/s]"
     ]
    },
    {
     "name": "stdout",
     "output_type": "stream",
     "text": [
      "Cargando: 29.36% completo\n"
     ]
    },
    {
     "name": "stderr",
     "output_type": "stream",
     "text": [
      "Procesando prestaciones_t2024.db:  29%|█▊    | 536/1822 [02:35<05:33,  3.86it/s]"
     ]
    },
    {
     "name": "stdout",
     "output_type": "stream",
     "text": [
      "Cargando: 29.42% completo\n"
     ]
    },
    {
     "name": "stderr",
     "output_type": "stream",
     "text": [
      "Procesando prestaciones_t2024.db:  29%|█▊    | 537/1822 [02:35<05:28,  3.91it/s]"
     ]
    },
    {
     "name": "stdout",
     "output_type": "stream",
     "text": [
      "Cargando: 29.47% completo\n"
     ]
    },
    {
     "name": "stderr",
     "output_type": "stream",
     "text": [
      "Procesando prestaciones_t2024.db:  30%|█▊    | 538/1822 [02:36<05:25,  3.94it/s]"
     ]
    },
    {
     "name": "stdout",
     "output_type": "stream",
     "text": [
      "Cargando: 29.53% completo\n"
     ]
    },
    {
     "name": "stderr",
     "output_type": "stream",
     "text": [
      "Procesando prestaciones_t2024.db:  30%|█▊    | 539/1822 [02:36<05:15,  4.06it/s]"
     ]
    },
    {
     "name": "stdout",
     "output_type": "stream",
     "text": [
      "Cargando: 29.58% completo\n"
     ]
    },
    {
     "name": "stderr",
     "output_type": "stream",
     "text": [
      "Procesando prestaciones_t2024.db:  30%|█▊    | 540/1822 [02:36<05:19,  4.01it/s]"
     ]
    },
    {
     "name": "stdout",
     "output_type": "stream",
     "text": [
      "Cargando: 29.64% completo\n"
     ]
    },
    {
     "name": "stderr",
     "output_type": "stream",
     "text": [
      "Procesando prestaciones_t2024.db:  30%|█▊    | 541/1822 [02:36<06:25,  3.32it/s]"
     ]
    },
    {
     "name": "stdout",
     "output_type": "stream",
     "text": [
      "Cargando: 29.69% completo\n"
     ]
    },
    {
     "name": "stderr",
     "output_type": "stream",
     "text": [
      "Procesando prestaciones_t2024.db:  30%|█▊    | 542/1822 [02:37<06:06,  3.49it/s]"
     ]
    },
    {
     "name": "stdout",
     "output_type": "stream",
     "text": [
      "Cargando: 29.75% completo\n"
     ]
    },
    {
     "name": "stderr",
     "output_type": "stream",
     "text": [
      "Procesando prestaciones_t2024.db:  30%|█▊    | 543/1822 [02:37<05:51,  3.64it/s]"
     ]
    },
    {
     "name": "stdout",
     "output_type": "stream",
     "text": [
      "Cargando: 29.80% completo\n"
     ]
    },
    {
     "name": "stderr",
     "output_type": "stream",
     "text": [
      "Procesando prestaciones_t2024.db:  30%|█▊    | 544/1822 [02:37<05:41,  3.75it/s]"
     ]
    },
    {
     "name": "stdout",
     "output_type": "stream",
     "text": [
      "Cargando: 29.86% completo\n"
     ]
    },
    {
     "name": "stderr",
     "output_type": "stream",
     "text": [
      "Procesando prestaciones_t2024.db:  30%|█▊    | 545/1822 [02:37<05:35,  3.80it/s]"
     ]
    },
    {
     "name": "stdout",
     "output_type": "stream",
     "text": [
      "Cargando: 29.91% completo\n"
     ]
    },
    {
     "name": "stderr",
     "output_type": "stream",
     "text": [
      "Procesando prestaciones_t2024.db:  30%|█▊    | 546/1822 [02:38<05:33,  3.83it/s]"
     ]
    },
    {
     "name": "stdout",
     "output_type": "stream",
     "text": [
      "Cargando: 29.97% completo\n"
     ]
    },
    {
     "name": "stderr",
     "output_type": "stream",
     "text": [
      "Procesando prestaciones_t2024.db:  30%|█▊    | 547/1822 [02:38<05:48,  3.66it/s]"
     ]
    },
    {
     "name": "stdout",
     "output_type": "stream",
     "text": [
      "Cargando: 30.02% completo\n"
     ]
    },
    {
     "name": "stderr",
     "output_type": "stream",
     "text": [
      "Procesando prestaciones_t2024.db:  30%|█▊    | 548/1822 [02:38<05:47,  3.67it/s]"
     ]
    },
    {
     "name": "stdout",
     "output_type": "stream",
     "text": [
      "Cargando: 30.08% completo\n"
     ]
    },
    {
     "name": "stderr",
     "output_type": "stream",
     "text": [
      "Procesando prestaciones_t2024.db:  30%|█▊    | 549/1822 [02:39<05:46,  3.68it/s]"
     ]
    },
    {
     "name": "stdout",
     "output_type": "stream",
     "text": [
      "Cargando: 30.13% completo\n"
     ]
    },
    {
     "name": "stderr",
     "output_type": "stream",
     "text": [
      "Procesando prestaciones_t2024.db:  30%|█▊    | 550/1822 [02:39<05:49,  3.64it/s]"
     ]
    },
    {
     "name": "stdout",
     "output_type": "stream",
     "text": [
      "Cargando: 30.19% completo\n"
     ]
    },
    {
     "name": "stderr",
     "output_type": "stream",
     "text": [
      "Procesando prestaciones_t2024.db:  30%|█▊    | 551/1822 [02:39<05:37,  3.76it/s]"
     ]
    },
    {
     "name": "stdout",
     "output_type": "stream",
     "text": [
      "Cargando: 30.24% completo\n"
     ]
    },
    {
     "name": "stderr",
     "output_type": "stream",
     "text": [
      "Procesando prestaciones_t2024.db:  30%|█▊    | 552/1822 [02:39<05:39,  3.74it/s]"
     ]
    },
    {
     "name": "stdout",
     "output_type": "stream",
     "text": [
      "Cargando: 30.30% completo\n"
     ]
    },
    {
     "name": "stderr",
     "output_type": "stream",
     "text": [
      "Procesando prestaciones_t2024.db:  30%|█▊    | 553/1822 [02:40<05:34,  3.79it/s]"
     ]
    },
    {
     "name": "stdout",
     "output_type": "stream",
     "text": [
      "Cargando: 30.35% completo\n"
     ]
    },
    {
     "name": "stderr",
     "output_type": "stream",
     "text": [
      "Procesando prestaciones_t2024.db:  30%|█▊    | 554/1822 [02:40<06:35,  3.20it/s]"
     ]
    },
    {
     "name": "stdout",
     "output_type": "stream",
     "text": [
      "Cargando: 30.41% completo\n"
     ]
    },
    {
     "name": "stderr",
     "output_type": "stream",
     "text": [
      "Procesando prestaciones_t2024.db:  30%|█▊    | 555/1822 [02:40<06:15,  3.38it/s]"
     ]
    },
    {
     "name": "stdout",
     "output_type": "stream",
     "text": [
      "Cargando: 30.46% completo\n"
     ]
    },
    {
     "name": "stderr",
     "output_type": "stream",
     "text": [
      "Procesando prestaciones_t2024.db:  31%|█▊    | 556/1822 [02:41<06:06,  3.46it/s]"
     ]
    },
    {
     "name": "stdout",
     "output_type": "stream",
     "text": [
      "Cargando: 30.52% completo\n"
     ]
    },
    {
     "name": "stderr",
     "output_type": "stream",
     "text": [
      "Procesando prestaciones_t2024.db:  31%|█▊    | 557/1822 [02:41<05:53,  3.58it/s]"
     ]
    },
    {
     "name": "stdout",
     "output_type": "stream",
     "text": [
      "Cargando: 30.57% completo\n"
     ]
    },
    {
     "name": "stderr",
     "output_type": "stream",
     "text": [
      "Procesando prestaciones_t2024.db:  31%|█▊    | 558/1822 [02:41<06:22,  3.30it/s]"
     ]
    },
    {
     "name": "stdout",
     "output_type": "stream",
     "text": [
      "Cargando: 30.63% completo\n"
     ]
    },
    {
     "name": "stderr",
     "output_type": "stream",
     "text": [
      "Procesando prestaciones_t2024.db:  31%|█▊    | 559/1822 [02:41<06:13,  3.38it/s]"
     ]
    },
    {
     "name": "stdout",
     "output_type": "stream",
     "text": [
      "Cargando: 30.68% completo\n"
     ]
    },
    {
     "name": "stderr",
     "output_type": "stream",
     "text": [
      "Procesando prestaciones_t2024.db:  31%|█▊    | 560/1822 [02:42<06:07,  3.43it/s]"
     ]
    },
    {
     "name": "stdout",
     "output_type": "stream",
     "text": [
      "Cargando: 30.74% completo\n"
     ]
    },
    {
     "name": "stderr",
     "output_type": "stream",
     "text": [
      "Procesando prestaciones_t2024.db:  31%|█▊    | 561/1822 [02:42<06:16,  3.35it/s]"
     ]
    },
    {
     "name": "stdout",
     "output_type": "stream",
     "text": [
      "Cargando: 30.79% completo\n"
     ]
    },
    {
     "name": "stderr",
     "output_type": "stream",
     "text": [
      "Procesando prestaciones_t2024.db:  31%|█▊    | 562/1822 [02:42<06:03,  3.47it/s]"
     ]
    },
    {
     "name": "stdout",
     "output_type": "stream",
     "text": [
      "Cargando: 30.85% completo\n"
     ]
    },
    {
     "name": "stderr",
     "output_type": "stream",
     "text": [
      "Procesando prestaciones_t2024.db:  31%|█▊    | 563/1822 [02:43<05:42,  3.68it/s]"
     ]
    },
    {
     "name": "stdout",
     "output_type": "stream",
     "text": [
      "Cargando: 30.90% completo\n"
     ]
    },
    {
     "name": "stderr",
     "output_type": "stream",
     "text": [
      "Procesando prestaciones_t2024.db:  31%|█▊    | 564/1822 [02:43<05:45,  3.64it/s]"
     ]
    },
    {
     "name": "stdout",
     "output_type": "stream",
     "text": [
      "Cargando: 30.95% completo\n"
     ]
    },
    {
     "name": "stderr",
     "output_type": "stream",
     "text": [
      "Procesando prestaciones_t2024.db:  31%|█▊    | 565/1822 [02:43<05:44,  3.65it/s]"
     ]
    },
    {
     "name": "stdout",
     "output_type": "stream",
     "text": [
      "Cargando: 31.01% completo\n"
     ]
    },
    {
     "name": "stderr",
     "output_type": "stream",
     "text": [
      "Procesando prestaciones_t2024.db:  31%|█▊    | 566/1822 [02:43<05:45,  3.63it/s]"
     ]
    },
    {
     "name": "stdout",
     "output_type": "stream",
     "text": [
      "Cargando: 31.06% completo\n"
     ]
    },
    {
     "name": "stderr",
     "output_type": "stream",
     "text": [
      "Procesando prestaciones_t2024.db:  31%|█▊    | 567/1822 [02:44<06:56,  3.01it/s]"
     ]
    },
    {
     "name": "stdout",
     "output_type": "stream",
     "text": [
      "Cargando: 31.12% completo\n"
     ]
    },
    {
     "name": "stderr",
     "output_type": "stream",
     "text": [
      "Procesando prestaciones_t2024.db:  31%|█▊    | 568/1822 [02:44<06:23,  3.27it/s]"
     ]
    },
    {
     "name": "stdout",
     "output_type": "stream",
     "text": [
      "Cargando: 31.17% completo\n"
     ]
    },
    {
     "name": "stderr",
     "output_type": "stream",
     "text": [
      "Procesando prestaciones_t2024.db:  31%|█▊    | 569/1822 [02:44<06:04,  3.44it/s]"
     ]
    },
    {
     "name": "stdout",
     "output_type": "stream",
     "text": [
      "Cargando: 31.23% completo\n"
     ]
    },
    {
     "name": "stderr",
     "output_type": "stream",
     "text": [
      "Procesando prestaciones_t2024.db:  31%|█▉    | 570/1822 [02:45<05:45,  3.63it/s]"
     ]
    },
    {
     "name": "stdout",
     "output_type": "stream",
     "text": [
      "Cargando: 31.28% completo\n"
     ]
    },
    {
     "name": "stderr",
     "output_type": "stream",
     "text": [
      "Procesando prestaciones_t2024.db:  31%|█▉    | 571/1822 [02:45<05:39,  3.68it/s]"
     ]
    },
    {
     "name": "stdout",
     "output_type": "stream",
     "text": [
      "Cargando: 31.34% completo\n"
     ]
    },
    {
     "name": "stderr",
     "output_type": "stream",
     "text": [
      "Procesando prestaciones_t2024.db:  31%|█▉    | 572/1822 [02:45<05:37,  3.70it/s]"
     ]
    },
    {
     "name": "stdout",
     "output_type": "stream",
     "text": [
      "Cargando: 31.39% completo\n"
     ]
    },
    {
     "name": "stderr",
     "output_type": "stream",
     "text": [
      "Procesando prestaciones_t2024.db:  31%|█▉    | 573/1822 [02:45<05:23,  3.86it/s]"
     ]
    },
    {
     "name": "stdout",
     "output_type": "stream",
     "text": [
      "Cargando: 31.45% completo\n"
     ]
    },
    {
     "name": "stderr",
     "output_type": "stream",
     "text": [
      "Procesando prestaciones_t2024.db:  32%|█▉    | 574/1822 [02:46<05:33,  3.74it/s]"
     ]
    },
    {
     "name": "stdout",
     "output_type": "stream",
     "text": [
      "Cargando: 31.50% completo\n"
     ]
    },
    {
     "name": "stderr",
     "output_type": "stream",
     "text": [
      "Procesando prestaciones_t2024.db:  32%|█▉    | 575/1822 [02:46<05:51,  3.54it/s]"
     ]
    },
    {
     "name": "stdout",
     "output_type": "stream",
     "text": [
      "Cargando: 31.56% completo\n"
     ]
    },
    {
     "name": "stderr",
     "output_type": "stream",
     "text": [
      "Procesando prestaciones_t2024.db:  32%|█▉    | 576/1822 [02:46<06:11,  3.35it/s]"
     ]
    },
    {
     "name": "stdout",
     "output_type": "stream",
     "text": [
      "Cargando: 31.61% completo\n"
     ]
    },
    {
     "name": "stderr",
     "output_type": "stream",
     "text": [
      "Procesando prestaciones_t2024.db:  32%|█▉    | 577/1822 [02:47<06:04,  3.42it/s]"
     ]
    },
    {
     "name": "stdout",
     "output_type": "stream",
     "text": [
      "Cargando: 31.67% completo\n"
     ]
    },
    {
     "name": "stderr",
     "output_type": "stream",
     "text": [
      "Procesando prestaciones_t2024.db:  32%|█▉    | 578/1822 [02:47<06:07,  3.38it/s]"
     ]
    },
    {
     "name": "stdout",
     "output_type": "stream",
     "text": [
      "Cargando: 31.72% completo\n"
     ]
    },
    {
     "name": "stderr",
     "output_type": "stream",
     "text": [
      "Procesando prestaciones_t2024.db:  32%|█▉    | 579/1822 [02:47<05:59,  3.46it/s]"
     ]
    },
    {
     "name": "stdout",
     "output_type": "stream",
     "text": [
      "Cargando: 31.78% completo\n"
     ]
    },
    {
     "name": "stderr",
     "output_type": "stream",
     "text": [
      "Procesando prestaciones_t2024.db:  32%|█▉    | 580/1822 [02:48<07:25,  2.79it/s]"
     ]
    },
    {
     "name": "stdout",
     "output_type": "stream",
     "text": [
      "Cargando: 31.83% completo\n"
     ]
    },
    {
     "name": "stderr",
     "output_type": "stream",
     "text": [
      "Procesando prestaciones_t2024.db:  32%|█▉    | 581/1822 [02:48<07:16,  2.84it/s]"
     ]
    },
    {
     "name": "stdout",
     "output_type": "stream",
     "text": [
      "Cargando: 31.89% completo\n"
     ]
    },
    {
     "name": "stderr",
     "output_type": "stream",
     "text": [
      "Procesando prestaciones_t2024.db:  32%|█▉    | 582/1822 [02:48<07:00,  2.95it/s]"
     ]
    },
    {
     "name": "stdout",
     "output_type": "stream",
     "text": [
      "Cargando: 31.94% completo\n"
     ]
    },
    {
     "name": "stderr",
     "output_type": "stream",
     "text": [
      "Procesando prestaciones_t2024.db:  32%|█▉    | 583/1822 [02:49<06:37,  3.12it/s]"
     ]
    },
    {
     "name": "stdout",
     "output_type": "stream",
     "text": [
      "Cargando: 32.00% completo\n"
     ]
    },
    {
     "name": "stderr",
     "output_type": "stream",
     "text": [
      "Procesando prestaciones_t2024.db:  32%|█▉    | 584/1822 [02:49<06:31,  3.17it/s]"
     ]
    },
    {
     "name": "stdout",
     "output_type": "stream",
     "text": [
      "Cargando: 32.05% completo\n"
     ]
    },
    {
     "name": "stderr",
     "output_type": "stream",
     "text": [
      "Procesando prestaciones_t2024.db:  32%|█▉    | 585/1822 [02:49<06:12,  3.32it/s]"
     ]
    },
    {
     "name": "stdout",
     "output_type": "stream",
     "text": [
      "Cargando: 32.11% completo\n"
     ]
    },
    {
     "name": "stderr",
     "output_type": "stream",
     "text": [
      "Procesando prestaciones_t2024.db:  32%|█▉    | 586/1822 [02:49<06:13,  3.31it/s]"
     ]
    },
    {
     "name": "stdout",
     "output_type": "stream",
     "text": [
      "Cargando: 32.16% completo\n"
     ]
    },
    {
     "name": "stderr",
     "output_type": "stream",
     "text": [
      "Procesando prestaciones_t2024.db:  32%|█▉    | 587/1822 [02:50<06:10,  3.33it/s]"
     ]
    },
    {
     "name": "stdout",
     "output_type": "stream",
     "text": [
      "Cargando: 32.22% completo\n"
     ]
    },
    {
     "name": "stderr",
     "output_type": "stream",
     "text": [
      "Procesando prestaciones_t2024.db:  32%|█▉    | 588/1822 [02:50<06:15,  3.29it/s]"
     ]
    },
    {
     "name": "stdout",
     "output_type": "stream",
     "text": [
      "Cargando: 32.27% completo\n"
     ]
    },
    {
     "name": "stderr",
     "output_type": "stream",
     "text": [
      "Procesando prestaciones_t2024.db:  32%|█▉    | 589/1822 [02:50<06:17,  3.27it/s]"
     ]
    },
    {
     "name": "stdout",
     "output_type": "stream",
     "text": [
      "Cargando: 32.33% completo\n"
     ]
    },
    {
     "name": "stderr",
     "output_type": "stream",
     "text": [
      "Procesando prestaciones_t2024.db:  32%|█▉    | 590/1822 [02:51<06:14,  3.29it/s]"
     ]
    },
    {
     "name": "stdout",
     "output_type": "stream",
     "text": [
      "Cargando: 32.38% completo\n"
     ]
    },
    {
     "name": "stderr",
     "output_type": "stream",
     "text": [
      "Procesando prestaciones_t2024.db:  32%|█▉    | 591/1822 [02:51<06:13,  3.30it/s]"
     ]
    },
    {
     "name": "stdout",
     "output_type": "stream",
     "text": [
      "Cargando: 32.44% completo\n"
     ]
    },
    {
     "name": "stderr",
     "output_type": "stream",
     "text": [
      "Procesando prestaciones_t2024.db:  32%|█▉    | 592/1822 [02:51<06:05,  3.37it/s]"
     ]
    },
    {
     "name": "stdout",
     "output_type": "stream",
     "text": [
      "Cargando: 32.49% completo\n"
     ]
    },
    {
     "name": "stderr",
     "output_type": "stream",
     "text": [
      "Procesando prestaciones_t2024.db:  33%|█▉    | 593/1822 [02:52<07:08,  2.87it/s]"
     ]
    },
    {
     "name": "stdout",
     "output_type": "stream",
     "text": [
      "Cargando: 32.55% completo\n"
     ]
    },
    {
     "name": "stderr",
     "output_type": "stream",
     "text": [
      "Procesando prestaciones_t2024.db:  33%|█▉    | 594/1822 [02:52<06:45,  3.03it/s]"
     ]
    },
    {
     "name": "stdout",
     "output_type": "stream",
     "text": [
      "Cargando: 32.60% completo\n"
     ]
    },
    {
     "name": "stderr",
     "output_type": "stream",
     "text": [
      "Procesando prestaciones_t2024.db:  33%|█▉    | 595/1822 [02:52<06:47,  3.01it/s]"
     ]
    },
    {
     "name": "stdout",
     "output_type": "stream",
     "text": [
      "Cargando: 32.66% completo\n"
     ]
    },
    {
     "name": "stderr",
     "output_type": "stream",
     "text": [
      "Procesando prestaciones_t2024.db:  33%|█▉    | 596/1822 [02:53<06:26,  3.17it/s]"
     ]
    },
    {
     "name": "stdout",
     "output_type": "stream",
     "text": [
      "Cargando: 32.71% completo\n"
     ]
    },
    {
     "name": "stderr",
     "output_type": "stream",
     "text": [
      "Procesando prestaciones_t2024.db:  33%|█▉    | 597/1822 [02:53<06:02,  3.38it/s]"
     ]
    },
    {
     "name": "stdout",
     "output_type": "stream",
     "text": [
      "Cargando: 32.77% completo\n"
     ]
    },
    {
     "name": "stderr",
     "output_type": "stream",
     "text": [
      "Procesando prestaciones_t2024.db:  33%|█▉    | 598/1822 [02:53<05:56,  3.43it/s]"
     ]
    },
    {
     "name": "stdout",
     "output_type": "stream",
     "text": [
      "Cargando: 32.82% completo\n"
     ]
    },
    {
     "name": "stderr",
     "output_type": "stream",
     "text": [
      "Procesando prestaciones_t2024.db:  33%|█▉    | 599/1822 [02:53<05:58,  3.42it/s]"
     ]
    },
    {
     "name": "stdout",
     "output_type": "stream",
     "text": [
      "Cargando: 32.88% completo\n"
     ]
    },
    {
     "name": "stderr",
     "output_type": "stream",
     "text": [
      "Procesando prestaciones_t2024.db:  33%|█▉    | 600/1822 [02:54<05:46,  3.53it/s]"
     ]
    },
    {
     "name": "stdout",
     "output_type": "stream",
     "text": [
      "Cargando: 32.93% completo\n"
     ]
    },
    {
     "name": "stderr",
     "output_type": "stream",
     "text": [
      "Procesando prestaciones_t2024.db:  33%|█▉    | 601/1822 [02:54<05:44,  3.54it/s]"
     ]
    },
    {
     "name": "stdout",
     "output_type": "stream",
     "text": [
      "Cargando: 32.99% completo\n"
     ]
    },
    {
     "name": "stderr",
     "output_type": "stream",
     "text": [
      "Procesando prestaciones_t2024.db:  33%|█▉    | 602/1822 [02:54<06:03,  3.36it/s]"
     ]
    },
    {
     "name": "stdout",
     "output_type": "stream",
     "text": [
      "Cargando: 33.04% completo\n"
     ]
    },
    {
     "name": "stderr",
     "output_type": "stream",
     "text": [
      "Procesando prestaciones_t2024.db:  33%|█▉    | 603/1822 [02:55<05:56,  3.42it/s]"
     ]
    },
    {
     "name": "stdout",
     "output_type": "stream",
     "text": [
      "Cargando: 33.10% completo\n"
     ]
    },
    {
     "name": "stderr",
     "output_type": "stream",
     "text": [
      "Procesando prestaciones_t2024.db:  33%|█▉    | 604/1822 [02:55<05:55,  3.43it/s]"
     ]
    },
    {
     "name": "stdout",
     "output_type": "stream",
     "text": [
      "Cargando: 33.15% completo\n"
     ]
    },
    {
     "name": "stderr",
     "output_type": "stream",
     "text": [
      "Procesando prestaciones_t2024.db:  33%|█▉    | 605/1822 [02:55<05:42,  3.55it/s]"
     ]
    },
    {
     "name": "stdout",
     "output_type": "stream",
     "text": [
      "Cargando: 33.21% completo\n"
     ]
    },
    {
     "name": "stderr",
     "output_type": "stream",
     "text": [
      "Procesando prestaciones_t2024.db:  33%|█▉    | 606/1822 [02:55<05:29,  3.69it/s]"
     ]
    },
    {
     "name": "stdout",
     "output_type": "stream",
     "text": [
      "Cargando: 33.26% completo\n"
     ]
    },
    {
     "name": "stderr",
     "output_type": "stream",
     "text": [
      "Procesando prestaciones_t2024.db:  33%|█▉    | 607/1822 [02:56<06:21,  3.18it/s]"
     ]
    },
    {
     "name": "stdout",
     "output_type": "stream",
     "text": [
      "Cargando: 33.32% completo\n"
     ]
    },
    {
     "name": "stderr",
     "output_type": "stream",
     "text": [
      "Procesando prestaciones_t2024.db:  33%|██    | 608/1822 [02:56<06:05,  3.32it/s]"
     ]
    },
    {
     "name": "stdout",
     "output_type": "stream",
     "text": [
      "Cargando: 33.37% completo\n"
     ]
    },
    {
     "name": "stderr",
     "output_type": "stream",
     "text": [
      "Procesando prestaciones_t2024.db:  33%|██    | 609/1822 [02:56<05:56,  3.40it/s]"
     ]
    },
    {
     "name": "stdout",
     "output_type": "stream",
     "text": [
      "Cargando: 33.42% completo\n"
     ]
    },
    {
     "name": "stderr",
     "output_type": "stream",
     "text": [
      "Procesando prestaciones_t2024.db:  33%|██    | 610/1822 [02:57<05:53,  3.43it/s]"
     ]
    },
    {
     "name": "stdout",
     "output_type": "stream",
     "text": [
      "Cargando: 33.48% completo\n"
     ]
    },
    {
     "name": "stderr",
     "output_type": "stream",
     "text": [
      "Procesando prestaciones_t2024.db:  34%|██    | 611/1822 [02:57<05:49,  3.47it/s]"
     ]
    },
    {
     "name": "stdout",
     "output_type": "stream",
     "text": [
      "Cargando: 33.53% completo\n"
     ]
    },
    {
     "name": "stderr",
     "output_type": "stream",
     "text": [
      "Procesando prestaciones_t2024.db:  34%|██    | 612/1822 [02:57<05:49,  3.47it/s]"
     ]
    },
    {
     "name": "stdout",
     "output_type": "stream",
     "text": [
      "Cargando: 33.59% completo\n"
     ]
    },
    {
     "name": "stderr",
     "output_type": "stream",
     "text": [
      "Procesando prestaciones_t2024.db:  34%|██    | 613/1822 [02:57<05:40,  3.55it/s]"
     ]
    },
    {
     "name": "stdout",
     "output_type": "stream",
     "text": [
      "Cargando: 33.64% completo\n"
     ]
    },
    {
     "name": "stderr",
     "output_type": "stream",
     "text": [
      "Procesando prestaciones_t2024.db:  34%|██    | 614/1822 [02:58<05:39,  3.56it/s]"
     ]
    },
    {
     "name": "stdout",
     "output_type": "stream",
     "text": [
      "Cargando: 33.70% completo\n"
     ]
    },
    {
     "name": "stderr",
     "output_type": "stream",
     "text": [
      "Procesando prestaciones_t2024.db:  34%|██    | 615/1822 [02:58<05:44,  3.50it/s]"
     ]
    },
    {
     "name": "stdout",
     "output_type": "stream",
     "text": [
      "Cargando: 33.75% completo\n"
     ]
    },
    {
     "name": "stderr",
     "output_type": "stream",
     "text": [
      "Procesando prestaciones_t2024.db:  34%|██    | 616/1822 [02:58<05:41,  3.53it/s]"
     ]
    },
    {
     "name": "stdout",
     "output_type": "stream",
     "text": [
      "Cargando: 33.81% completo\n"
     ]
    },
    {
     "name": "stderr",
     "output_type": "stream",
     "text": [
      "Procesando prestaciones_t2024.db:  34%|██    | 617/1822 [02:59<05:29,  3.66it/s]"
     ]
    },
    {
     "name": "stdout",
     "output_type": "stream",
     "text": [
      "Cargando: 33.86% completo\n"
     ]
    },
    {
     "name": "stderr",
     "output_type": "stream",
     "text": [
      "Procesando prestaciones_t2024.db:  34%|██    | 618/1822 [02:59<05:24,  3.71it/s]"
     ]
    },
    {
     "name": "stdout",
     "output_type": "stream",
     "text": [
      "Cargando: 33.92% completo\n"
     ]
    },
    {
     "name": "stderr",
     "output_type": "stream",
     "text": [
      "Procesando prestaciones_t2024.db:  34%|██    | 619/1822 [02:59<05:33,  3.61it/s]"
     ]
    },
    {
     "name": "stdout",
     "output_type": "stream",
     "text": [
      "Cargando: 33.97% completo\n"
     ]
    },
    {
     "name": "stderr",
     "output_type": "stream",
     "text": [
      "Procesando prestaciones_t2024.db:  34%|██    | 620/1822 [03:00<06:37,  3.02it/s]"
     ]
    },
    {
     "name": "stdout",
     "output_type": "stream",
     "text": [
      "Cargando: 34.03% completo\n"
     ]
    },
    {
     "name": "stderr",
     "output_type": "stream",
     "text": [
      "Procesando prestaciones_t2024.db:  34%|██    | 621/1822 [03:00<06:22,  3.14it/s]"
     ]
    },
    {
     "name": "stdout",
     "output_type": "stream",
     "text": [
      "Cargando: 34.08% completo\n"
     ]
    },
    {
     "name": "stderr",
     "output_type": "stream",
     "text": [
      "Procesando prestaciones_t2024.db:  34%|██    | 622/1822 [03:00<06:04,  3.29it/s]"
     ]
    },
    {
     "name": "stdout",
     "output_type": "stream",
     "text": [
      "Cargando: 34.14% completo\n"
     ]
    },
    {
     "name": "stderr",
     "output_type": "stream",
     "text": [
      "Procesando prestaciones_t2024.db:  34%|██    | 623/1822 [03:00<05:54,  3.38it/s]"
     ]
    },
    {
     "name": "stdout",
     "output_type": "stream",
     "text": [
      "Cargando: 34.19% completo\n"
     ]
    },
    {
     "name": "stderr",
     "output_type": "stream",
     "text": [
      "Procesando prestaciones_t2024.db:  34%|██    | 624/1822 [03:01<05:40,  3.52it/s]"
     ]
    },
    {
     "name": "stdout",
     "output_type": "stream",
     "text": [
      "Cargando: 34.25% completo\n"
     ]
    },
    {
     "name": "stderr",
     "output_type": "stream",
     "text": [
      "Procesando prestaciones_t2024.db:  34%|██    | 625/1822 [03:01<05:25,  3.68it/s]"
     ]
    },
    {
     "name": "stdout",
     "output_type": "stream",
     "text": [
      "Cargando: 34.30% completo\n"
     ]
    },
    {
     "name": "stderr",
     "output_type": "stream",
     "text": [
      "Procesando prestaciones_t2024.db:  34%|██    | 626/1822 [03:01<05:15,  3.79it/s]"
     ]
    },
    {
     "name": "stdout",
     "output_type": "stream",
     "text": [
      "Cargando: 34.36% completo\n"
     ]
    },
    {
     "name": "stderr",
     "output_type": "stream",
     "text": [
      "Procesando prestaciones_t2024.db:  34%|██    | 627/1822 [03:01<05:08,  3.87it/s]"
     ]
    },
    {
     "name": "stdout",
     "output_type": "stream",
     "text": [
      "Cargando: 34.41% completo\n"
     ]
    },
    {
     "name": "stderr",
     "output_type": "stream",
     "text": [
      "Procesando prestaciones_t2024.db:  34%|██    | 628/1822 [03:02<05:09,  3.86it/s]"
     ]
    },
    {
     "name": "stdout",
     "output_type": "stream",
     "text": [
      "Cargando: 34.47% completo\n"
     ]
    },
    {
     "name": "stderr",
     "output_type": "stream",
     "text": [
      "Procesando prestaciones_t2024.db:  35%|██    | 629/1822 [03:02<05:04,  3.91it/s]"
     ]
    },
    {
     "name": "stdout",
     "output_type": "stream",
     "text": [
      "Cargando: 34.52% completo\n"
     ]
    },
    {
     "name": "stderr",
     "output_type": "stream",
     "text": [
      "Procesando prestaciones_t2024.db:  35%|██    | 630/1822 [03:02<05:02,  3.94it/s]"
     ]
    },
    {
     "name": "stdout",
     "output_type": "stream",
     "text": [
      "Cargando: 34.58% completo\n"
     ]
    },
    {
     "name": "stderr",
     "output_type": "stream",
     "text": [
      "Procesando prestaciones_t2024.db:  35%|██    | 631/1822 [03:02<05:12,  3.82it/s]"
     ]
    },
    {
     "name": "stdout",
     "output_type": "stream",
     "text": [
      "Cargando: 34.63% completo\n"
     ]
    },
    {
     "name": "stderr",
     "output_type": "stream",
     "text": [
      "Procesando prestaciones_t2024.db:  35%|██    | 632/1822 [03:03<05:16,  3.76it/s]"
     ]
    },
    {
     "name": "stdout",
     "output_type": "stream",
     "text": [
      "Cargando: 34.69% completo\n"
     ]
    },
    {
     "name": "stderr",
     "output_type": "stream",
     "text": [
      "Procesando prestaciones_t2024.db:  35%|██    | 633/1822 [03:03<05:19,  3.72it/s]"
     ]
    },
    {
     "name": "stdout",
     "output_type": "stream",
     "text": [
      "Cargando: 34.74% completo\n"
     ]
    },
    {
     "name": "stderr",
     "output_type": "stream",
     "text": [
      "Procesando prestaciones_t2024.db:  35%|██    | 634/1822 [03:03<06:41,  2.96it/s]"
     ]
    },
    {
     "name": "stdout",
     "output_type": "stream",
     "text": [
      "Cargando: 34.80% completo\n"
     ]
    },
    {
     "name": "stderr",
     "output_type": "stream",
     "text": [
      "Procesando prestaciones_t2024.db:  35%|██    | 635/1822 [03:04<06:13,  3.18it/s]"
     ]
    },
    {
     "name": "stdout",
     "output_type": "stream",
     "text": [
      "Cargando: 34.85% completo\n"
     ]
    },
    {
     "name": "stderr",
     "output_type": "stream",
     "text": [
      "Procesando prestaciones_t2024.db:  35%|██    | 636/1822 [03:04<05:47,  3.41it/s]"
     ]
    },
    {
     "name": "stdout",
     "output_type": "stream",
     "text": [
      "Cargando: 34.91% completo\n"
     ]
    },
    {
     "name": "stderr",
     "output_type": "stream",
     "text": [
      "Procesando prestaciones_t2024.db:  35%|██    | 637/1822 [03:04<05:41,  3.47it/s]"
     ]
    },
    {
     "name": "stdout",
     "output_type": "stream",
     "text": [
      "Cargando: 34.96% completo\n"
     ]
    },
    {
     "name": "stderr",
     "output_type": "stream",
     "text": [
      "Procesando prestaciones_t2024.db:  35%|██    | 638/1822 [03:05<05:30,  3.58it/s]"
     ]
    },
    {
     "name": "stdout",
     "output_type": "stream",
     "text": [
      "Cargando: 35.02% completo\n"
     ]
    },
    {
     "name": "stderr",
     "output_type": "stream",
     "text": [
      "Procesando prestaciones_t2024.db:  35%|██    | 639/1822 [03:05<05:19,  3.70it/s]"
     ]
    },
    {
     "name": "stdout",
     "output_type": "stream",
     "text": [
      "Cargando: 35.07% completo\n"
     ]
    },
    {
     "name": "stderr",
     "output_type": "stream",
     "text": [
      "Procesando prestaciones_t2024.db:  35%|██    | 640/1822 [03:05<05:10,  3.81it/s]"
     ]
    },
    {
     "name": "stdout",
     "output_type": "stream",
     "text": [
      "Cargando: 35.13% completo\n"
     ]
    },
    {
     "name": "stderr",
     "output_type": "stream",
     "text": [
      "Procesando prestaciones_t2024.db:  35%|██    | 641/1822 [03:05<05:05,  3.87it/s]"
     ]
    },
    {
     "name": "stdout",
     "output_type": "stream",
     "text": [
      "Cargando: 35.18% completo\n"
     ]
    },
    {
     "name": "stderr",
     "output_type": "stream",
     "text": [
      "Procesando prestaciones_t2024.db:  35%|██    | 642/1822 [03:06<04:58,  3.95it/s]"
     ]
    },
    {
     "name": "stdout",
     "output_type": "stream",
     "text": [
      "Cargando: 35.24% completo\n"
     ]
    },
    {
     "name": "stderr",
     "output_type": "stream",
     "text": [
      "Procesando prestaciones_t2024.db:  35%|██    | 643/1822 [03:06<05:00,  3.93it/s]"
     ]
    },
    {
     "name": "stdout",
     "output_type": "stream",
     "text": [
      "Cargando: 35.29% completo\n"
     ]
    },
    {
     "name": "stderr",
     "output_type": "stream",
     "text": [
      "Procesando prestaciones_t2024.db:  35%|██    | 644/1822 [03:06<05:30,  3.57it/s]"
     ]
    },
    {
     "name": "stdout",
     "output_type": "stream",
     "text": [
      "Cargando: 35.35% completo\n"
     ]
    },
    {
     "name": "stderr",
     "output_type": "stream",
     "text": [
      "Procesando prestaciones_t2024.db:  35%|██    | 645/1822 [03:06<05:17,  3.70it/s]"
     ]
    },
    {
     "name": "stdout",
     "output_type": "stream",
     "text": [
      "Cargando: 35.40% completo\n"
     ]
    },
    {
     "name": "stderr",
     "output_type": "stream",
     "text": [
      "Procesando prestaciones_t2024.db:  35%|██▏   | 646/1822 [03:07<05:11,  3.78it/s]"
     ]
    },
    {
     "name": "stdout",
     "output_type": "stream",
     "text": [
      "Cargando: 35.46% completo\n"
     ]
    },
    {
     "name": "stderr",
     "output_type": "stream",
     "text": [
      "Procesando prestaciones_t2024.db:  36%|██▏   | 647/1822 [03:07<05:07,  3.82it/s]"
     ]
    },
    {
     "name": "stdout",
     "output_type": "stream",
     "text": [
      "Cargando: 35.51% completo\n"
     ]
    },
    {
     "name": "stderr",
     "output_type": "stream",
     "text": [
      "Procesando prestaciones_t2024.db:  36%|██▏   | 648/1822 [03:07<06:04,  3.22it/s]"
     ]
    },
    {
     "name": "stdout",
     "output_type": "stream",
     "text": [
      "Cargando: 35.57% completo\n"
     ]
    },
    {
     "name": "stderr",
     "output_type": "stream",
     "text": [
      "Procesando prestaciones_t2024.db:  36%|██▏   | 649/1822 [03:08<05:39,  3.46it/s]"
     ]
    },
    {
     "name": "stdout",
     "output_type": "stream",
     "text": [
      "Cargando: 35.62% completo\n"
     ]
    },
    {
     "name": "stderr",
     "output_type": "stream",
     "text": [
      "Procesando prestaciones_t2024.db:  36%|██▏   | 650/1822 [03:08<05:26,  3.59it/s]"
     ]
    },
    {
     "name": "stdout",
     "output_type": "stream",
     "text": [
      "Cargando: 35.68% completo\n"
     ]
    },
    {
     "name": "stderr",
     "output_type": "stream",
     "text": [
      "Procesando prestaciones_t2024.db:  36%|██▏   | 651/1822 [03:08<05:18,  3.68it/s]"
     ]
    },
    {
     "name": "stdout",
     "output_type": "stream",
     "text": [
      "Cargando: 35.73% completo\n"
     ]
    },
    {
     "name": "stderr",
     "output_type": "stream",
     "text": [
      "Procesando prestaciones_t2024.db:  36%|██▏   | 652/1822 [03:08<05:09,  3.78it/s]"
     ]
    },
    {
     "name": "stdout",
     "output_type": "stream",
     "text": [
      "Cargando: 35.78% completo\n"
     ]
    },
    {
     "name": "stderr",
     "output_type": "stream",
     "text": [
      "Procesando prestaciones_t2024.db:  36%|██▏   | 653/1822 [03:09<05:08,  3.79it/s]"
     ]
    },
    {
     "name": "stdout",
     "output_type": "stream",
     "text": [
      "Cargando: 35.84% completo\n"
     ]
    },
    {
     "name": "stderr",
     "output_type": "stream",
     "text": [
      "Procesando prestaciones_t2024.db:  36%|██▏   | 654/1822 [03:09<05:01,  3.87it/s]"
     ]
    },
    {
     "name": "stdout",
     "output_type": "stream",
     "text": [
      "Cargando: 35.89% completo\n"
     ]
    },
    {
     "name": "stderr",
     "output_type": "stream",
     "text": [
      "Procesando prestaciones_t2024.db:  36%|██▏   | 655/1822 [03:09<05:02,  3.86it/s]"
     ]
    },
    {
     "name": "stdout",
     "output_type": "stream",
     "text": [
      "Cargando: 35.95% completo\n"
     ]
    },
    {
     "name": "stderr",
     "output_type": "stream",
     "text": [
      "Procesando prestaciones_t2024.db:  36%|██▏   | 656/1822 [03:09<04:55,  3.95it/s]"
     ]
    },
    {
     "name": "stdout",
     "output_type": "stream",
     "text": [
      "Cargando: 36.00% completo\n"
     ]
    },
    {
     "name": "stderr",
     "output_type": "stream",
     "text": [
      "Procesando prestaciones_t2024.db:  36%|██▏   | 657/1822 [03:10<05:01,  3.86it/s]"
     ]
    },
    {
     "name": "stdout",
     "output_type": "stream",
     "text": [
      "Cargando: 36.06% completo\n"
     ]
    },
    {
     "name": "stderr",
     "output_type": "stream",
     "text": [
      "Procesando prestaciones_t2024.db:  36%|██▏   | 658/1822 [03:10<05:00,  3.88it/s]"
     ]
    },
    {
     "name": "stdout",
     "output_type": "stream",
     "text": [
      "Cargando: 36.11% completo\n"
     ]
    },
    {
     "name": "stderr",
     "output_type": "stream",
     "text": [
      "Procesando prestaciones_t2024.db:  36%|██▏   | 659/1822 [03:10<05:07,  3.79it/s]"
     ]
    },
    {
     "name": "stdout",
     "output_type": "stream",
     "text": [
      "Cargando: 36.17% completo\n"
     ]
    },
    {
     "name": "stderr",
     "output_type": "stream",
     "text": [
      "Procesando prestaciones_t2024.db:  36%|██▏   | 660/1822 [03:10<05:11,  3.73it/s]"
     ]
    },
    {
     "name": "stdout",
     "output_type": "stream",
     "text": [
      "Cargando: 36.22% completo\n"
     ]
    },
    {
     "name": "stderr",
     "output_type": "stream",
     "text": [
      "Procesando prestaciones_t2024.db:  36%|██▏   | 661/1822 [03:11<05:36,  3.45it/s]"
     ]
    },
    {
     "name": "stdout",
     "output_type": "stream",
     "text": [
      "Cargando: 36.28% completo\n"
     ]
    },
    {
     "name": "stderr",
     "output_type": "stream",
     "text": [
      "Procesando prestaciones_t2024.db:  36%|██▏   | 662/1822 [03:11<07:00,  2.76it/s]"
     ]
    },
    {
     "name": "stdout",
     "output_type": "stream",
     "text": [
      "Cargando: 36.33% completo\n"
     ]
    },
    {
     "name": "stderr",
     "output_type": "stream",
     "text": [
      "Procesando prestaciones_t2024.db:  36%|██▏   | 663/1822 [03:12<06:30,  2.97it/s]"
     ]
    },
    {
     "name": "stdout",
     "output_type": "stream",
     "text": [
      "Cargando: 36.39% completo\n"
     ]
    },
    {
     "name": "stderr",
     "output_type": "stream",
     "text": [
      "Procesando prestaciones_t2024.db:  36%|██▏   | 664/1822 [03:12<06:10,  3.13it/s]"
     ]
    },
    {
     "name": "stdout",
     "output_type": "stream",
     "text": [
      "Cargando: 36.44% completo\n"
     ]
    },
    {
     "name": "stderr",
     "output_type": "stream",
     "text": [
      "Procesando prestaciones_t2024.db:  36%|██▏   | 665/1822 [03:12<05:52,  3.28it/s]"
     ]
    },
    {
     "name": "stdout",
     "output_type": "stream",
     "text": [
      "Cargando: 36.50% completo\n"
     ]
    },
    {
     "name": "stderr",
     "output_type": "stream",
     "text": [
      "Procesando prestaciones_t2024.db:  37%|██▏   | 666/1822 [03:12<05:39,  3.40it/s]"
     ]
    },
    {
     "name": "stdout",
     "output_type": "stream",
     "text": [
      "Cargando: 36.55% completo\n"
     ]
    },
    {
     "name": "stderr",
     "output_type": "stream",
     "text": [
      "Procesando prestaciones_t2024.db:  37%|██▏   | 667/1822 [03:13<05:29,  3.51it/s]"
     ]
    },
    {
     "name": "stdout",
     "output_type": "stream",
     "text": [
      "Cargando: 36.61% completo\n"
     ]
    },
    {
     "name": "stderr",
     "output_type": "stream",
     "text": [
      "Procesando prestaciones_t2024.db:  37%|██▏   | 668/1822 [03:13<05:15,  3.65it/s]"
     ]
    },
    {
     "name": "stdout",
     "output_type": "stream",
     "text": [
      "Cargando: 36.66% completo\n"
     ]
    },
    {
     "name": "stderr",
     "output_type": "stream",
     "text": [
      "Procesando prestaciones_t2024.db:  37%|██▏   | 669/1822 [03:13<05:07,  3.75it/s]"
     ]
    },
    {
     "name": "stdout",
     "output_type": "stream",
     "text": [
      "Cargando: 36.72% completo\n"
     ]
    },
    {
     "name": "stderr",
     "output_type": "stream",
     "text": [
      "Procesando prestaciones_t2024.db:  37%|██▏   | 670/1822 [03:13<05:11,  3.70it/s]"
     ]
    },
    {
     "name": "stdout",
     "output_type": "stream",
     "text": [
      "Cargando: 36.77% completo\n"
     ]
    },
    {
     "name": "stderr",
     "output_type": "stream",
     "text": [
      "Procesando prestaciones_t2024.db:  37%|██▏   | 671/1822 [03:14<05:19,  3.61it/s]"
     ]
    },
    {
     "name": "stdout",
     "output_type": "stream",
     "text": [
      "Cargando: 36.83% completo\n"
     ]
    },
    {
     "name": "stderr",
     "output_type": "stream",
     "text": [
      "Procesando prestaciones_t2024.db:  37%|██▏   | 672/1822 [03:14<05:08,  3.72it/s]"
     ]
    },
    {
     "name": "stdout",
     "output_type": "stream",
     "text": [
      "Cargando: 36.88% completo\n"
     ]
    },
    {
     "name": "stderr",
     "output_type": "stream",
     "text": [
      "Procesando prestaciones_t2024.db:  37%|██▏   | 673/1822 [03:14<05:02,  3.80it/s]"
     ]
    },
    {
     "name": "stdout",
     "output_type": "stream",
     "text": [
      "Cargando: 36.94% completo\n"
     ]
    },
    {
     "name": "stderr",
     "output_type": "stream",
     "text": [
      "Procesando prestaciones_t2024.db:  37%|██▏   | 674/1822 [03:14<04:53,  3.91it/s]"
     ]
    },
    {
     "name": "stdout",
     "output_type": "stream",
     "text": [
      "Cargando: 36.99% completo\n"
     ]
    },
    {
     "name": "stderr",
     "output_type": "stream",
     "text": [
      "Procesando prestaciones_t2024.db:  37%|██▏   | 675/1822 [03:15<06:10,  3.09it/s]"
     ]
    },
    {
     "name": "stdout",
     "output_type": "stream",
     "text": [
      "Cargando: 37.05% completo\n"
     ]
    },
    {
     "name": "stderr",
     "output_type": "stream",
     "text": [
      "Procesando prestaciones_t2024.db:  37%|██▏   | 676/1822 [03:15<05:50,  3.27it/s]"
     ]
    },
    {
     "name": "stdout",
     "output_type": "stream",
     "text": [
      "Cargando: 37.10% completo\n"
     ]
    },
    {
     "name": "stderr",
     "output_type": "stream",
     "text": [
      "Procesando prestaciones_t2024.db:  37%|██▏   | 677/1822 [03:15<05:28,  3.49it/s]"
     ]
    },
    {
     "name": "stdout",
     "output_type": "stream",
     "text": [
      "Cargando: 37.16% completo\n"
     ]
    },
    {
     "name": "stderr",
     "output_type": "stream",
     "text": [
      "Procesando prestaciones_t2024.db:  37%|██▏   | 678/1822 [03:16<05:15,  3.63it/s]"
     ]
    },
    {
     "name": "stdout",
     "output_type": "stream",
     "text": [
      "Cargando: 37.21% completo\n"
     ]
    },
    {
     "name": "stderr",
     "output_type": "stream",
     "text": [
      "Procesando prestaciones_t2024.db:  37%|██▏   | 679/1822 [03:16<05:07,  3.72it/s]"
     ]
    },
    {
     "name": "stdout",
     "output_type": "stream",
     "text": [
      "Cargando: 37.27% completo\n"
     ]
    },
    {
     "name": "stderr",
     "output_type": "stream",
     "text": [
      "Procesando prestaciones_t2024.db:  37%|██▏   | 680/1822 [03:16<05:00,  3.80it/s]"
     ]
    },
    {
     "name": "stdout",
     "output_type": "stream",
     "text": [
      "Cargando: 37.32% completo\n"
     ]
    },
    {
     "name": "stderr",
     "output_type": "stream",
     "text": [
      "Procesando prestaciones_t2024.db:  37%|██▏   | 681/1822 [03:16<04:53,  3.89it/s]"
     ]
    },
    {
     "name": "stdout",
     "output_type": "stream",
     "text": [
      "Cargando: 37.38% completo\n"
     ]
    },
    {
     "name": "stderr",
     "output_type": "stream",
     "text": [
      "Procesando prestaciones_t2024.db:  37%|██▏   | 682/1822 [03:17<04:55,  3.86it/s]"
     ]
    },
    {
     "name": "stdout",
     "output_type": "stream",
     "text": [
      "Cargando: 37.43% completo\n"
     ]
    },
    {
     "name": "stderr",
     "output_type": "stream",
     "text": [
      "Procesando prestaciones_t2024.db:  37%|██▏   | 683/1822 [03:17<05:04,  3.74it/s]"
     ]
    },
    {
     "name": "stdout",
     "output_type": "stream",
     "text": [
      "Cargando: 37.49% completo\n"
     ]
    },
    {
     "name": "stderr",
     "output_type": "stream",
     "text": [
      "Procesando prestaciones_t2024.db:  38%|██▎   | 684/1822 [03:17<04:58,  3.81it/s]"
     ]
    },
    {
     "name": "stdout",
     "output_type": "stream",
     "text": [
      "Cargando: 37.54% completo\n"
     ]
    },
    {
     "name": "stderr",
     "output_type": "stream",
     "text": [
      "Procesando prestaciones_t2024.db:  38%|██▎   | 685/1822 [03:17<04:59,  3.80it/s]"
     ]
    },
    {
     "name": "stdout",
     "output_type": "stream",
     "text": [
      "Cargando: 37.60% completo\n"
     ]
    },
    {
     "name": "stderr",
     "output_type": "stream",
     "text": [
      "Procesando prestaciones_t2024.db:  38%|██▎   | 686/1822 [03:18<05:49,  3.25it/s]"
     ]
    },
    {
     "name": "stdout",
     "output_type": "stream",
     "text": [
      "Cargando: 37.65% completo\n"
     ]
    },
    {
     "name": "stderr",
     "output_type": "stream",
     "text": [
      "Procesando prestaciones_t2024.db:  38%|██▎   | 687/1822 [03:18<05:37,  3.36it/s]"
     ]
    },
    {
     "name": "stdout",
     "output_type": "stream",
     "text": [
      "Cargando: 37.71% completo\n"
     ]
    },
    {
     "name": "stderr",
     "output_type": "stream",
     "text": [
      "Procesando prestaciones_t2024.db:  38%|██▎   | 688/1822 [03:18<05:28,  3.45it/s]"
     ]
    },
    {
     "name": "stdout",
     "output_type": "stream",
     "text": [
      "Cargando: 37.76% completo\n"
     ]
    },
    {
     "name": "stderr",
     "output_type": "stream",
     "text": [
      "Procesando prestaciones_t2024.db:  38%|██▎   | 689/1822 [03:19<05:32,  3.41it/s]"
     ]
    },
    {
     "name": "stdout",
     "output_type": "stream",
     "text": [
      "Cargando: 37.82% completo\n"
     ]
    },
    {
     "name": "stderr",
     "output_type": "stream",
     "text": [
      "Procesando prestaciones_t2024.db:  38%|██▎   | 690/1822 [03:19<06:58,  2.70it/s]"
     ]
    },
    {
     "name": "stdout",
     "output_type": "stream",
     "text": [
      "Cargando: 37.87% completo\n"
     ]
    },
    {
     "name": "stderr",
     "output_type": "stream",
     "text": [
      "Procesando prestaciones_t2024.db:  38%|██▎   | 691/1822 [03:20<06:35,  2.86it/s]"
     ]
    },
    {
     "name": "stdout",
     "output_type": "stream",
     "text": [
      "Cargando: 37.93% completo\n"
     ]
    },
    {
     "name": "stderr",
     "output_type": "stream",
     "text": [
      "Procesando prestaciones_t2024.db:  38%|██▎   | 692/1822 [03:20<06:17,  2.99it/s]"
     ]
    },
    {
     "name": "stdout",
     "output_type": "stream",
     "text": [
      "Cargando: 37.98% completo\n"
     ]
    },
    {
     "name": "stderr",
     "output_type": "stream",
     "text": [
      "Procesando prestaciones_t2024.db:  38%|██▎   | 693/1822 [03:20<06:06,  3.08it/s]"
     ]
    },
    {
     "name": "stdout",
     "output_type": "stream",
     "text": [
      "Cargando: 38.04% completo\n"
     ]
    },
    {
     "name": "stderr",
     "output_type": "stream",
     "text": [
      "Procesando prestaciones_t2024.db:  38%|██▎   | 694/1822 [03:20<05:57,  3.15it/s]"
     ]
    },
    {
     "name": "stdout",
     "output_type": "stream",
     "text": [
      "Cargando: 38.09% completo\n"
     ]
    },
    {
     "name": "stderr",
     "output_type": "stream",
     "text": [
      "Procesando prestaciones_t2024.db:  38%|██▎   | 695/1822 [03:21<05:55,  3.17it/s]"
     ]
    },
    {
     "name": "stdout",
     "output_type": "stream",
     "text": [
      "Cargando: 38.14% completo\n"
     ]
    },
    {
     "name": "stderr",
     "output_type": "stream",
     "text": [
      "Procesando prestaciones_t2024.db:  38%|██▎   | 696/1822 [03:21<05:50,  3.21it/s]"
     ]
    },
    {
     "name": "stdout",
     "output_type": "stream",
     "text": [
      "Cargando: 38.20% completo\n"
     ]
    },
    {
     "name": "stderr",
     "output_type": "stream",
     "text": [
      "Procesando prestaciones_t2024.db:  38%|██▎   | 697/1822 [03:21<05:46,  3.25it/s]"
     ]
    },
    {
     "name": "stdout",
     "output_type": "stream",
     "text": [
      "Cargando: 38.25% completo\n"
     ]
    },
    {
     "name": "stderr",
     "output_type": "stream",
     "text": [
      "Procesando prestaciones_t2024.db:  38%|██▎   | 698/1822 [03:22<05:43,  3.27it/s]"
     ]
    },
    {
     "name": "stdout",
     "output_type": "stream",
     "text": [
      "Cargando: 38.31% completo\n"
     ]
    },
    {
     "name": "stderr",
     "output_type": "stream",
     "text": [
      "Procesando prestaciones_t2024.db:  38%|██▎   | 699/1822 [03:22<05:42,  3.28it/s]"
     ]
    },
    {
     "name": "stdout",
     "output_type": "stream",
     "text": [
      "Cargando: 38.36% completo\n"
     ]
    },
    {
     "name": "stderr",
     "output_type": "stream",
     "text": [
      "Procesando prestaciones_t2024.db:  38%|██▎   | 700/1822 [03:22<05:25,  3.44it/s]"
     ]
    },
    {
     "name": "stdout",
     "output_type": "stream",
     "text": [
      "Cargando: 38.42% completo\n"
     ]
    },
    {
     "name": "stderr",
     "output_type": "stream",
     "text": [
      "Procesando prestaciones_t2024.db:  38%|██▎   | 701/1822 [03:23<05:16,  3.54it/s]"
     ]
    },
    {
     "name": "stdout",
     "output_type": "stream",
     "text": [
      "Cargando: 38.47% completo\n"
     ]
    },
    {
     "name": "stderr",
     "output_type": "stream",
     "text": [
      "Procesando prestaciones_t2024.db:  39%|██▎   | 702/1822 [03:23<05:11,  3.60it/s]"
     ]
    },
    {
     "name": "stdout",
     "output_type": "stream",
     "text": [
      "Cargando: 38.53% completo\n"
     ]
    },
    {
     "name": "stderr",
     "output_type": "stream",
     "text": [
      "Procesando prestaciones_t2024.db:  39%|██▎   | 703/1822 [03:23<05:04,  3.67it/s]"
     ]
    },
    {
     "name": "stdout",
     "output_type": "stream",
     "text": [
      "Cargando: 38.58% completo\n"
     ]
    },
    {
     "name": "stderr",
     "output_type": "stream",
     "text": [
      "Procesando prestaciones_t2024.db:  39%|██▎   | 704/1822 [03:23<06:07,  3.04it/s]"
     ]
    },
    {
     "name": "stdout",
     "output_type": "stream",
     "text": [
      "Cargando: 38.64% completo\n"
     ]
    },
    {
     "name": "stderr",
     "output_type": "stream",
     "text": [
      "Procesando prestaciones_t2024.db:  39%|██▎   | 705/1822 [03:24<05:40,  3.28it/s]"
     ]
    },
    {
     "name": "stdout",
     "output_type": "stream",
     "text": [
      "Cargando: 38.69% completo\n"
     ]
    },
    {
     "name": "stderr",
     "output_type": "stream",
     "text": [
      "Procesando prestaciones_t2024.db:  39%|██▎   | 706/1822 [03:24<05:23,  3.45it/s]"
     ]
    },
    {
     "name": "stdout",
     "output_type": "stream",
     "text": [
      "Cargando: 38.75% completo\n"
     ]
    },
    {
     "name": "stderr",
     "output_type": "stream",
     "text": [
      "Procesando prestaciones_t2024.db:  39%|██▎   | 707/1822 [03:24<05:11,  3.58it/s]"
     ]
    },
    {
     "name": "stdout",
     "output_type": "stream",
     "text": [
      "Cargando: 38.80% completo\n"
     ]
    },
    {
     "name": "stderr",
     "output_type": "stream",
     "text": [
      "Procesando prestaciones_t2024.db:  39%|██▎   | 708/1822 [03:24<04:59,  3.72it/s]"
     ]
    },
    {
     "name": "stdout",
     "output_type": "stream",
     "text": [
      "Cargando: 38.86% completo\n"
     ]
    },
    {
     "name": "stderr",
     "output_type": "stream",
     "text": [
      "Procesando prestaciones_t2024.db:  39%|██▎   | 709/1822 [03:25<04:52,  3.80it/s]"
     ]
    },
    {
     "name": "stdout",
     "output_type": "stream",
     "text": [
      "Cargando: 38.91% completo\n"
     ]
    },
    {
     "name": "stderr",
     "output_type": "stream",
     "text": [
      "Procesando prestaciones_t2024.db:  39%|██▎   | 710/1822 [03:25<04:47,  3.87it/s]"
     ]
    },
    {
     "name": "stdout",
     "output_type": "stream",
     "text": [
      "Cargando: 38.97% completo\n"
     ]
    },
    {
     "name": "stderr",
     "output_type": "stream",
     "text": [
      "Procesando prestaciones_t2024.db:  39%|██▎   | 711/1822 [03:25<04:46,  3.88it/s]"
     ]
    },
    {
     "name": "stdout",
     "output_type": "stream",
     "text": [
      "Cargando: 39.02% completo\n"
     ]
    },
    {
     "name": "stderr",
     "output_type": "stream",
     "text": [
      "Procesando prestaciones_t2024.db:  39%|██▎   | 712/1822 [03:26<04:45,  3.89it/s]"
     ]
    },
    {
     "name": "stdout",
     "output_type": "stream",
     "text": [
      "Cargando: 39.08% completo\n"
     ]
    },
    {
     "name": "stderr",
     "output_type": "stream",
     "text": [
      "Procesando prestaciones_t2024.db:  39%|██▎   | 713/1822 [03:26<05:07,  3.60it/s]"
     ]
    },
    {
     "name": "stdout",
     "output_type": "stream",
     "text": [
      "Cargando: 39.13% completo\n"
     ]
    },
    {
     "name": "stderr",
     "output_type": "stream",
     "text": [
      "Procesando prestaciones_t2024.db:  39%|██▎   | 714/1822 [03:26<05:08,  3.60it/s]"
     ]
    },
    {
     "name": "stdout",
     "output_type": "stream",
     "text": [
      "Cargando: 39.19% completo\n"
     ]
    },
    {
     "name": "stderr",
     "output_type": "stream",
     "text": [
      "Procesando prestaciones_t2024.db:  39%|██▎   | 715/1822 [03:26<05:08,  3.59it/s]"
     ]
    },
    {
     "name": "stdout",
     "output_type": "stream",
     "text": [
      "Cargando: 39.24% completo\n"
     ]
    },
    {
     "name": "stderr",
     "output_type": "stream",
     "text": [
      "Procesando prestaciones_t2024.db:  39%|██▎   | 716/1822 [03:27<05:03,  3.65it/s]"
     ]
    },
    {
     "name": "stdout",
     "output_type": "stream",
     "text": [
      "Cargando: 39.30% completo\n"
     ]
    },
    {
     "name": "stderr",
     "output_type": "stream",
     "text": [
      "Procesando prestaciones_t2024.db:  39%|██▎   | 717/1822 [03:27<05:07,  3.59it/s]"
     ]
    },
    {
     "name": "stdout",
     "output_type": "stream",
     "text": [
      "Cargando: 39.35% completo\n"
     ]
    },
    {
     "name": "stderr",
     "output_type": "stream",
     "text": [
      "Procesando prestaciones_t2024.db:  39%|██▎   | 718/1822 [03:27<05:00,  3.68it/s]"
     ]
    },
    {
     "name": "stdout",
     "output_type": "stream",
     "text": [
      "Cargando: 39.41% completo\n"
     ]
    },
    {
     "name": "stderr",
     "output_type": "stream",
     "text": [
      "Procesando prestaciones_t2024.db:  39%|██▎   | 719/1822 [03:28<06:19,  2.91it/s]"
     ]
    },
    {
     "name": "stdout",
     "output_type": "stream",
     "text": [
      "Cargando: 39.46% completo\n"
     ]
    },
    {
     "name": "stderr",
     "output_type": "stream",
     "text": [
      "Procesando prestaciones_t2024.db:  40%|██▎   | 720/1822 [03:28<05:52,  3.12it/s]"
     ]
    },
    {
     "name": "stdout",
     "output_type": "stream",
     "text": [
      "Cargando: 39.52% completo\n"
     ]
    },
    {
     "name": "stderr",
     "output_type": "stream",
     "text": [
      "Procesando prestaciones_t2024.db:  40%|██▎   | 721/1822 [03:28<05:34,  3.29it/s]"
     ]
    },
    {
     "name": "stdout",
     "output_type": "stream",
     "text": [
      "Cargando: 39.57% completo\n"
     ]
    },
    {
     "name": "stderr",
     "output_type": "stream",
     "text": [
      "Procesando prestaciones_t2024.db:  40%|██▍   | 722/1822 [03:29<05:25,  3.38it/s]"
     ]
    },
    {
     "name": "stdout",
     "output_type": "stream",
     "text": [
      "Cargando: 39.63% completo\n"
     ]
    },
    {
     "name": "stderr",
     "output_type": "stream",
     "text": [
      "Procesando prestaciones_t2024.db:  40%|██▍   | 723/1822 [03:29<05:16,  3.47it/s]"
     ]
    },
    {
     "name": "stdout",
     "output_type": "stream",
     "text": [
      "Cargando: 39.68% completo\n"
     ]
    },
    {
     "name": "stderr",
     "output_type": "stream",
     "text": [
      "Procesando prestaciones_t2024.db:  40%|██▍   | 724/1822 [03:29<05:15,  3.48it/s]"
     ]
    },
    {
     "name": "stdout",
     "output_type": "stream",
     "text": [
      "Cargando: 39.74% completo\n"
     ]
    },
    {
     "name": "stderr",
     "output_type": "stream",
     "text": [
      "Procesando prestaciones_t2024.db:  40%|██▍   | 725/1822 [03:29<05:15,  3.48it/s]"
     ]
    },
    {
     "name": "stdout",
     "output_type": "stream",
     "text": [
      "Cargando: 39.79% completo\n"
     ]
    },
    {
     "name": "stderr",
     "output_type": "stream",
     "text": [
      "Procesando prestaciones_t2024.db:  40%|██▍   | 726/1822 [03:30<05:05,  3.58it/s]"
     ]
    },
    {
     "name": "stdout",
     "output_type": "stream",
     "text": [
      "Cargando: 39.85% completo\n"
     ]
    },
    {
     "name": "stderr",
     "output_type": "stream",
     "text": [
      "Procesando prestaciones_t2024.db:  40%|██▍   | 727/1822 [03:30<05:05,  3.58it/s]"
     ]
    },
    {
     "name": "stdout",
     "output_type": "stream",
     "text": [
      "Cargando: 39.90% completo\n"
     ]
    },
    {
     "name": "stderr",
     "output_type": "stream",
     "text": [
      "Procesando prestaciones_t2024.db:  40%|██▍   | 728/1822 [03:30<04:59,  3.65it/s]"
     ]
    },
    {
     "name": "stdout",
     "output_type": "stream",
     "text": [
      "Cargando: 39.96% completo\n"
     ]
    },
    {
     "name": "stderr",
     "output_type": "stream",
     "text": [
      "Procesando prestaciones_t2024.db:  40%|██▍   | 729/1822 [03:30<04:58,  3.66it/s]"
     ]
    },
    {
     "name": "stdout",
     "output_type": "stream",
     "text": [
      "Cargando: 40.01% completo\n"
     ]
    },
    {
     "name": "stderr",
     "output_type": "stream",
     "text": [
      "Procesando prestaciones_t2024.db:  40%|██▍   | 730/1822 [03:31<05:01,  3.62it/s]"
     ]
    },
    {
     "name": "stdout",
     "output_type": "stream",
     "text": [
      "Cargando: 40.07% completo\n"
     ]
    },
    {
     "name": "stderr",
     "output_type": "stream",
     "text": [
      "Procesando prestaciones_t2024.db:  40%|██▍   | 731/1822 [03:31<04:59,  3.64it/s]"
     ]
    },
    {
     "name": "stdout",
     "output_type": "stream",
     "text": [
      "Cargando: 40.12% completo\n"
     ]
    },
    {
     "name": "stderr",
     "output_type": "stream",
     "text": [
      "Procesando prestaciones_t2024.db:  40%|██▍   | 732/1822 [03:31<04:54,  3.70it/s]"
     ]
    },
    {
     "name": "stdout",
     "output_type": "stream",
     "text": [
      "Cargando: 40.18% completo\n"
     ]
    },
    {
     "name": "stderr",
     "output_type": "stream",
     "text": [
      "Procesando prestaciones_t2024.db:  40%|██▍   | 733/1822 [03:32<05:04,  3.57it/s]"
     ]
    },
    {
     "name": "stdout",
     "output_type": "stream",
     "text": [
      "Cargando: 40.23% completo\n"
     ]
    },
    {
     "name": "stderr",
     "output_type": "stream",
     "text": [
      "Procesando prestaciones_t2024.db:  40%|██▍   | 734/1822 [03:32<06:23,  2.84it/s]"
     ]
    },
    {
     "name": "stdout",
     "output_type": "stream",
     "text": [
      "Cargando: 40.29% completo\n"
     ]
    },
    {
     "name": "stderr",
     "output_type": "stream",
     "text": [
      "Procesando prestaciones_t2024.db:  40%|██▍   | 735/1822 [03:32<06:25,  2.82it/s]"
     ]
    },
    {
     "name": "stdout",
     "output_type": "stream",
     "text": [
      "Cargando: 40.34% completo\n"
     ]
    },
    {
     "name": "stderr",
     "output_type": "stream",
     "text": [
      "Procesando prestaciones_t2024.db:  40%|██▍   | 736/1822 [03:33<06:07,  2.96it/s]"
     ]
    },
    {
     "name": "stdout",
     "output_type": "stream",
     "text": [
      "Cargando: 40.40% completo\n"
     ]
    },
    {
     "name": "stderr",
     "output_type": "stream",
     "text": [
      "Procesando prestaciones_t2024.db:  40%|██▍   | 737/1822 [03:33<05:55,  3.05it/s]"
     ]
    },
    {
     "name": "stdout",
     "output_type": "stream",
     "text": [
      "Cargando: 40.45% completo\n"
     ]
    },
    {
     "name": "stderr",
     "output_type": "stream",
     "text": [
      "Procesando prestaciones_t2024.db:  41%|██▍   | 738/1822 [03:33<05:55,  3.05it/s]"
     ]
    },
    {
     "name": "stdout",
     "output_type": "stream",
     "text": [
      "Cargando: 40.50% completo\n"
     ]
    },
    {
     "name": "stderr",
     "output_type": "stream",
     "text": [
      "Procesando prestaciones_t2024.db:  41%|██▍   | 739/1822 [03:34<05:52,  3.07it/s]"
     ]
    },
    {
     "name": "stdout",
     "output_type": "stream",
     "text": [
      "Cargando: 40.56% completo\n"
     ]
    },
    {
     "name": "stderr",
     "output_type": "stream",
     "text": [
      "Procesando prestaciones_t2024.db:  41%|██▍   | 740/1822 [03:34<05:55,  3.04it/s]"
     ]
    },
    {
     "name": "stdout",
     "output_type": "stream",
     "text": [
      "Cargando: 40.61% completo\n"
     ]
    },
    {
     "name": "stderr",
     "output_type": "stream",
     "text": [
      "Procesando prestaciones_t2024.db:  41%|██▍   | 741/1822 [03:34<05:56,  3.04it/s]"
     ]
    },
    {
     "name": "stdout",
     "output_type": "stream",
     "text": [
      "Cargando: 40.67% completo\n"
     ]
    },
    {
     "name": "stderr",
     "output_type": "stream",
     "text": [
      "Procesando prestaciones_t2024.db:  41%|██▍   | 742/1822 [03:35<05:44,  3.13it/s]"
     ]
    },
    {
     "name": "stdout",
     "output_type": "stream",
     "text": [
      "Cargando: 40.72% completo\n"
     ]
    },
    {
     "name": "stderr",
     "output_type": "stream",
     "text": [
      "Procesando prestaciones_t2024.db:  41%|██▍   | 743/1822 [03:35<05:57,  3.02it/s]"
     ]
    },
    {
     "name": "stdout",
     "output_type": "stream",
     "text": [
      "Cargando: 40.78% completo\n"
     ]
    },
    {
     "name": "stderr",
     "output_type": "stream",
     "text": [
      "Procesando prestaciones_t2024.db:  41%|██▍   | 744/1822 [03:35<05:55,  3.04it/s]"
     ]
    },
    {
     "name": "stdout",
     "output_type": "stream",
     "text": [
      "Cargando: 40.83% completo\n"
     ]
    },
    {
     "name": "stderr",
     "output_type": "stream",
     "text": [
      "Procesando prestaciones_t2024.db:  41%|██▍   | 745/1822 [03:36<05:40,  3.17it/s]"
     ]
    },
    {
     "name": "stdout",
     "output_type": "stream",
     "text": [
      "Cargando: 40.89% completo\n"
     ]
    },
    {
     "name": "stderr",
     "output_type": "stream",
     "text": [
      "Procesando prestaciones_t2024.db:  41%|██▍   | 746/1822 [03:36<05:27,  3.29it/s]"
     ]
    },
    {
     "name": "stdout",
     "output_type": "stream",
     "text": [
      "Cargando: 40.94% completo\n"
     ]
    },
    {
     "name": "stderr",
     "output_type": "stream",
     "text": [
      "Procesando prestaciones_t2024.db:  41%|██▍   | 747/1822 [03:36<05:20,  3.35it/s]"
     ]
    },
    {
     "name": "stdout",
     "output_type": "stream",
     "text": [
      "Cargando: 41.00% completo\n"
     ]
    },
    {
     "name": "stderr",
     "output_type": "stream",
     "text": [
      "Procesando prestaciones_t2024.db:  41%|██▍   | 748/1822 [03:36<05:02,  3.56it/s]"
     ]
    },
    {
     "name": "stdout",
     "output_type": "stream",
     "text": [
      "Cargando: 41.05% completo\n"
     ]
    },
    {
     "name": "stderr",
     "output_type": "stream",
     "text": [
      "Procesando prestaciones_t2024.db:  41%|██▍   | 749/1822 [03:37<04:48,  3.71it/s]"
     ]
    },
    {
     "name": "stdout",
     "output_type": "stream",
     "text": [
      "Cargando: 41.11% completo\n"
     ]
    },
    {
     "name": "stderr",
     "output_type": "stream",
     "text": [
      "Procesando prestaciones_t2024.db:  41%|██▍   | 750/1822 [03:37<06:16,  2.85it/s]"
     ]
    },
    {
     "name": "stdout",
     "output_type": "stream",
     "text": [
      "Cargando: 41.16% completo\n"
     ]
    },
    {
     "name": "stderr",
     "output_type": "stream",
     "text": [
      "Procesando prestaciones_t2024.db:  41%|██▍   | 751/1822 [03:37<05:42,  3.13it/s]"
     ]
    },
    {
     "name": "stdout",
     "output_type": "stream",
     "text": [
      "Cargando: 41.22% completo\n"
     ]
    },
    {
     "name": "stderr",
     "output_type": "stream",
     "text": [
      "Procesando prestaciones_t2024.db:  41%|██▍   | 752/1822 [03:38<05:24,  3.30it/s]"
     ]
    },
    {
     "name": "stdout",
     "output_type": "stream",
     "text": [
      "Cargando: 41.27% completo\n"
     ]
    },
    {
     "name": "stderr",
     "output_type": "stream",
     "text": [
      "Procesando prestaciones_t2024.db:  41%|██▍   | 753/1822 [03:38<05:09,  3.46it/s]"
     ]
    },
    {
     "name": "stdout",
     "output_type": "stream",
     "text": [
      "Cargando: 41.33% completo\n"
     ]
    },
    {
     "name": "stderr",
     "output_type": "stream",
     "text": [
      "Procesando prestaciones_t2024.db:  41%|██▍   | 754/1822 [03:38<04:50,  3.67it/s]"
     ]
    },
    {
     "name": "stdout",
     "output_type": "stream",
     "text": [
      "Cargando: 41.38% completo\n"
     ]
    },
    {
     "name": "stderr",
     "output_type": "stream",
     "text": [
      "Procesando prestaciones_t2024.db:  41%|██▍   | 755/1822 [03:38<04:46,  3.73it/s]"
     ]
    },
    {
     "name": "stdout",
     "output_type": "stream",
     "text": [
      "Cargando: 41.44% completo\n"
     ]
    },
    {
     "name": "stderr",
     "output_type": "stream",
     "text": [
      "Procesando prestaciones_t2024.db:  41%|██▍   | 756/1822 [03:39<04:45,  3.73it/s]"
     ]
    },
    {
     "name": "stdout",
     "output_type": "stream",
     "text": [
      "Cargando: 41.49% completo\n"
     ]
    },
    {
     "name": "stderr",
     "output_type": "stream",
     "text": [
      "Procesando prestaciones_t2024.db:  42%|██▍   | 757/1822 [03:39<04:41,  3.78it/s]"
     ]
    },
    {
     "name": "stdout",
     "output_type": "stream",
     "text": [
      "Cargando: 41.55% completo\n"
     ]
    },
    {
     "name": "stderr",
     "output_type": "stream",
     "text": [
      "Procesando prestaciones_t2024.db:  42%|██▍   | 758/1822 [03:39<04:44,  3.74it/s]"
     ]
    },
    {
     "name": "stdout",
     "output_type": "stream",
     "text": [
      "Cargando: 41.60% completo\n"
     ]
    },
    {
     "name": "stderr",
     "output_type": "stream",
     "text": [
      "Procesando prestaciones_t2024.db:  42%|██▍   | 759/1822 [03:40<04:37,  3.83it/s]"
     ]
    },
    {
     "name": "stdout",
     "output_type": "stream",
     "text": [
      "Cargando: 41.66% completo\n"
     ]
    },
    {
     "name": "stderr",
     "output_type": "stream",
     "text": [
      "Procesando prestaciones_t2024.db:  42%|██▌   | 760/1822 [03:40<04:42,  3.76it/s]"
     ]
    },
    {
     "name": "stdout",
     "output_type": "stream",
     "text": [
      "Cargando: 41.71% completo\n"
     ]
    },
    {
     "name": "stderr",
     "output_type": "stream",
     "text": [
      "Procesando prestaciones_t2024.db:  42%|██▌   | 761/1822 [03:40<04:45,  3.72it/s]"
     ]
    },
    {
     "name": "stdout",
     "output_type": "stream",
     "text": [
      "Cargando: 41.77% completo\n"
     ]
    },
    {
     "name": "stderr",
     "output_type": "stream",
     "text": [
      "Procesando prestaciones_t2024.db:  42%|██▌   | 762/1822 [03:40<04:38,  3.80it/s]"
     ]
    },
    {
     "name": "stdout",
     "output_type": "stream",
     "text": [
      "Cargando: 41.82% completo\n"
     ]
    },
    {
     "name": "stderr",
     "output_type": "stream",
     "text": [
      "Procesando prestaciones_t2024.db:  42%|██▌   | 763/1822 [03:41<04:32,  3.89it/s]"
     ]
    },
    {
     "name": "stdout",
     "output_type": "stream",
     "text": [
      "Cargando: 41.88% completo\n"
     ]
    },
    {
     "name": "stderr",
     "output_type": "stream",
     "text": [
      "Procesando prestaciones_t2024.db:  42%|██▌   | 764/1822 [03:41<04:26,  3.97it/s]"
     ]
    },
    {
     "name": "stdout",
     "output_type": "stream",
     "text": [
      "Cargando: 41.93% completo\n"
     ]
    },
    {
     "name": "stderr",
     "output_type": "stream",
     "text": [
      "Procesando prestaciones_t2024.db:  42%|██▌   | 765/1822 [03:41<05:52,  3.00it/s]"
     ]
    },
    {
     "name": "stdout",
     "output_type": "stream",
     "text": [
      "Cargando: 41.99% completo\n"
     ]
    },
    {
     "name": "stderr",
     "output_type": "stream",
     "text": [
      "Procesando prestaciones_t2024.db:  42%|██▌   | 766/1822 [03:42<05:19,  3.30it/s]"
     ]
    },
    {
     "name": "stdout",
     "output_type": "stream",
     "text": [
      "Cargando: 42.04% completo\n"
     ]
    },
    {
     "name": "stderr",
     "output_type": "stream",
     "text": [
      "Procesando prestaciones_t2024.db:  42%|██▌   | 767/1822 [03:42<05:02,  3.48it/s]"
     ]
    },
    {
     "name": "stdout",
     "output_type": "stream",
     "text": [
      "Cargando: 42.10% completo\n"
     ]
    },
    {
     "name": "stderr",
     "output_type": "stream",
     "text": [
      "Procesando prestaciones_t2024.db:  42%|██▌   | 768/1822 [03:42<04:47,  3.66it/s]"
     ]
    },
    {
     "name": "stdout",
     "output_type": "stream",
     "text": [
      "Cargando: 42.15% completo\n"
     ]
    },
    {
     "name": "stderr",
     "output_type": "stream",
     "text": [
      "Procesando prestaciones_t2024.db:  42%|██▌   | 769/1822 [03:42<04:37,  3.80it/s]"
     ]
    },
    {
     "name": "stdout",
     "output_type": "stream",
     "text": [
      "Cargando: 42.21% completo\n"
     ]
    },
    {
     "name": "stderr",
     "output_type": "stream",
     "text": [
      "Procesando prestaciones_t2024.db:  42%|██▌   | 770/1822 [03:43<04:28,  3.92it/s]"
     ]
    },
    {
     "name": "stdout",
     "output_type": "stream",
     "text": [
      "Cargando: 42.26% completo\n"
     ]
    },
    {
     "name": "stderr",
     "output_type": "stream",
     "text": [
      "Procesando prestaciones_t2024.db:  42%|██▌   | 771/1822 [03:43<04:21,  4.03it/s]"
     ]
    },
    {
     "name": "stdout",
     "output_type": "stream",
     "text": [
      "Cargando: 42.32% completo\n"
     ]
    },
    {
     "name": "stderr",
     "output_type": "stream",
     "text": [
      "Procesando prestaciones_t2024.db:  42%|██▌   | 772/1822 [03:43<04:18,  4.06it/s]"
     ]
    },
    {
     "name": "stdout",
     "output_type": "stream",
     "text": [
      "Cargando: 42.37% completo\n"
     ]
    },
    {
     "name": "stderr",
     "output_type": "stream",
     "text": [
      "Procesando prestaciones_t2024.db:  42%|██▌   | 773/1822 [03:43<04:24,  3.96it/s]"
     ]
    },
    {
     "name": "stdout",
     "output_type": "stream",
     "text": [
      "Cargando: 42.43% completo\n"
     ]
    },
    {
     "name": "stderr",
     "output_type": "stream",
     "text": [
      "Procesando prestaciones_t2024.db:  42%|██▌   | 774/1822 [03:44<04:26,  3.93it/s]"
     ]
    },
    {
     "name": "stdout",
     "output_type": "stream",
     "text": [
      "Cargando: 42.48% completo\n"
     ]
    },
    {
     "name": "stderr",
     "output_type": "stream",
     "text": [
      "Procesando prestaciones_t2024.db:  43%|██▌   | 775/1822 [03:44<04:24,  3.96it/s]"
     ]
    },
    {
     "name": "stdout",
     "output_type": "stream",
     "text": [
      "Cargando: 42.54% completo\n"
     ]
    },
    {
     "name": "stderr",
     "output_type": "stream",
     "text": [
      "Procesando prestaciones_t2024.db:  43%|██▌   | 776/1822 [03:44<04:20,  4.01it/s]"
     ]
    },
    {
     "name": "stdout",
     "output_type": "stream",
     "text": [
      "Cargando: 42.59% completo\n"
     ]
    },
    {
     "name": "stderr",
     "output_type": "stream",
     "text": [
      "Procesando prestaciones_t2024.db:  43%|██▌   | 777/1822 [03:44<04:21,  4.00it/s]"
     ]
    },
    {
     "name": "stdout",
     "output_type": "stream",
     "text": [
      "Cargando: 42.65% completo\n"
     ]
    },
    {
     "name": "stderr",
     "output_type": "stream",
     "text": [
      "Procesando prestaciones_t2024.db:  43%|██▌   | 778/1822 [03:45<05:14,  3.32it/s]"
     ]
    },
    {
     "name": "stdout",
     "output_type": "stream",
     "text": [
      "Cargando: 42.70% completo\n"
     ]
    },
    {
     "name": "stderr",
     "output_type": "stream",
     "text": [
      "Procesando prestaciones_t2024.db:  43%|██▌   | 779/1822 [03:45<04:57,  3.51it/s]"
     ]
    },
    {
     "name": "stdout",
     "output_type": "stream",
     "text": [
      "Cargando: 42.76% completo\n"
     ]
    },
    {
     "name": "stderr",
     "output_type": "stream",
     "text": [
      "Procesando prestaciones_t2024.db:  43%|██▌   | 780/1822 [03:45<04:47,  3.63it/s]"
     ]
    },
    {
     "name": "stdout",
     "output_type": "stream",
     "text": [
      "Cargando: 42.81% completo\n"
     ]
    },
    {
     "name": "stderr",
     "output_type": "stream",
     "text": [
      "Procesando prestaciones_t2024.db:  43%|██▌   | 781/1822 [03:45<04:46,  3.63it/s]"
     ]
    },
    {
     "name": "stdout",
     "output_type": "stream",
     "text": [
      "Cargando: 42.86% completo\n"
     ]
    },
    {
     "name": "stderr",
     "output_type": "stream",
     "text": [
      "Procesando prestaciones_t2024.db:  43%|██▌   | 782/1822 [03:46<04:34,  3.79it/s]"
     ]
    },
    {
     "name": "stdout",
     "output_type": "stream",
     "text": [
      "Cargando: 42.92% completo\n"
     ]
    },
    {
     "name": "stderr",
     "output_type": "stream",
     "text": [
      "Procesando prestaciones_t2024.db:  43%|██▌   | 783/1822 [03:46<04:28,  3.86it/s]"
     ]
    },
    {
     "name": "stdout",
     "output_type": "stream",
     "text": [
      "Cargando: 42.97% completo\n"
     ]
    },
    {
     "name": "stderr",
     "output_type": "stream",
     "text": [
      "Procesando prestaciones_t2024.db:  43%|██▌   | 784/1822 [03:46<04:23,  3.94it/s]"
     ]
    },
    {
     "name": "stdout",
     "output_type": "stream",
     "text": [
      "Cargando: 43.03% completo\n"
     ]
    },
    {
     "name": "stderr",
     "output_type": "stream",
     "text": [
      "Procesando prestaciones_t2024.db:  43%|██▌   | 785/1822 [03:46<04:18,  4.01it/s]"
     ]
    },
    {
     "name": "stdout",
     "output_type": "stream",
     "text": [
      "Cargando: 43.08% completo\n"
     ]
    },
    {
     "name": "stderr",
     "output_type": "stream",
     "text": [
      "Procesando prestaciones_t2024.db:  43%|██▌   | 786/1822 [03:47<04:17,  4.02it/s]"
     ]
    },
    {
     "name": "stdout",
     "output_type": "stream",
     "text": [
      "Cargando: 43.14% completo\n"
     ]
    },
    {
     "name": "stderr",
     "output_type": "stream",
     "text": [
      "Procesando prestaciones_t2024.db:  43%|██▌   | 787/1822 [03:47<04:19,  3.99it/s]"
     ]
    },
    {
     "name": "stdout",
     "output_type": "stream",
     "text": [
      "Cargando: 43.19% completo\n"
     ]
    },
    {
     "name": "stderr",
     "output_type": "stream",
     "text": [
      "Procesando prestaciones_t2024.db:  43%|██▌   | 788/1822 [03:47<04:24,  3.92it/s]"
     ]
    },
    {
     "name": "stdout",
     "output_type": "stream",
     "text": [
      "Cargando: 43.25% completo\n"
     ]
    },
    {
     "name": "stderr",
     "output_type": "stream",
     "text": [
      "Procesando prestaciones_t2024.db:  43%|██▌   | 789/1822 [03:47<04:30,  3.82it/s]"
     ]
    },
    {
     "name": "stdout",
     "output_type": "stream",
     "text": [
      "Cargando: 43.30% completo\n"
     ]
    },
    {
     "name": "stderr",
     "output_type": "stream",
     "text": [
      "Procesando prestaciones_t2024.db:  43%|██▌   | 790/1822 [03:48<04:29,  3.83it/s]"
     ]
    },
    {
     "name": "stdout",
     "output_type": "stream",
     "text": [
      "Cargando: 43.36% completo\n"
     ]
    },
    {
     "name": "stderr",
     "output_type": "stream",
     "text": [
      "Procesando prestaciones_t2024.db:  43%|██▌   | 791/1822 [03:48<05:33,  3.09it/s]"
     ]
    },
    {
     "name": "stdout",
     "output_type": "stream",
     "text": [
      "Cargando: 43.41% completo\n"
     ]
    },
    {
     "name": "stderr",
     "output_type": "stream",
     "text": [
      "Procesando prestaciones_t2024.db:  43%|██▌   | 792/1822 [03:48<05:17,  3.25it/s]"
     ]
    },
    {
     "name": "stdout",
     "output_type": "stream",
     "text": [
      "Cargando: 43.47% completo\n"
     ]
    },
    {
     "name": "stderr",
     "output_type": "stream",
     "text": [
      "Procesando prestaciones_t2024.db:  44%|██▌   | 793/1822 [03:49<05:01,  3.41it/s]"
     ]
    },
    {
     "name": "stdout",
     "output_type": "stream",
     "text": [
      "Cargando: 43.52% completo\n"
     ]
    },
    {
     "name": "stderr",
     "output_type": "stream",
     "text": [
      "Procesando prestaciones_t2024.db:  44%|██▌   | 794/1822 [03:49<04:55,  3.48it/s]"
     ]
    },
    {
     "name": "stdout",
     "output_type": "stream",
     "text": [
      "Cargando: 43.58% completo\n"
     ]
    },
    {
     "name": "stderr",
     "output_type": "stream",
     "text": [
      "Procesando prestaciones_t2024.db:  44%|██▌   | 795/1822 [03:49<04:44,  3.61it/s]"
     ]
    },
    {
     "name": "stdout",
     "output_type": "stream",
     "text": [
      "Cargando: 43.63% completo\n"
     ]
    },
    {
     "name": "stderr",
     "output_type": "stream",
     "text": [
      "Procesando prestaciones_t2024.db:  44%|██▌   | 796/1822 [03:50<04:45,  3.60it/s]"
     ]
    },
    {
     "name": "stdout",
     "output_type": "stream",
     "text": [
      "Cargando: 43.69% completo\n"
     ]
    },
    {
     "name": "stderr",
     "output_type": "stream",
     "text": [
      "Procesando prestaciones_t2024.db:  44%|██▌   | 797/1822 [03:50<04:42,  3.62it/s]"
     ]
    },
    {
     "name": "stdout",
     "output_type": "stream",
     "text": [
      "Cargando: 43.74% completo\n"
     ]
    },
    {
     "name": "stderr",
     "output_type": "stream",
     "text": [
      "Procesando prestaciones_t2024.db:  44%|██▋   | 798/1822 [03:50<04:35,  3.71it/s]"
     ]
    },
    {
     "name": "stdout",
     "output_type": "stream",
     "text": [
      "Cargando: 43.80% completo\n"
     ]
    },
    {
     "name": "stderr",
     "output_type": "stream",
     "text": [
      "Procesando prestaciones_t2024.db:  44%|██▋   | 799/1822 [03:50<04:28,  3.80it/s]"
     ]
    },
    {
     "name": "stdout",
     "output_type": "stream",
     "text": [
      "Cargando: 43.85% completo\n"
     ]
    },
    {
     "name": "stderr",
     "output_type": "stream",
     "text": [
      "Procesando prestaciones_t2024.db:  44%|██▋   | 800/1822 [03:51<04:21,  3.91it/s]"
     ]
    },
    {
     "name": "stdout",
     "output_type": "stream",
     "text": [
      "Cargando: 43.91% completo\n"
     ]
    },
    {
     "name": "stderr",
     "output_type": "stream",
     "text": [
      "Procesando prestaciones_t2024.db:  44%|██▋   | 801/1822 [03:51<04:17,  3.97it/s]"
     ]
    },
    {
     "name": "stdout",
     "output_type": "stream",
     "text": [
      "Cargando: 43.96% completo\n"
     ]
    },
    {
     "name": "stderr",
     "output_type": "stream",
     "text": [
      "Procesando prestaciones_t2024.db:  44%|██▋   | 802/1822 [03:51<04:21,  3.90it/s]"
     ]
    },
    {
     "name": "stdout",
     "output_type": "stream",
     "text": [
      "Cargando: 44.02% completo\n"
     ]
    },
    {
     "name": "stderr",
     "output_type": "stream",
     "text": [
      "Procesando prestaciones_t2024.db:  44%|██▋   | 803/1822 [03:51<04:36,  3.69it/s]"
     ]
    },
    {
     "name": "stdout",
     "output_type": "stream",
     "text": [
      "Cargando: 44.07% completo\n"
     ]
    },
    {
     "name": "stderr",
     "output_type": "stream",
     "text": [
      "Procesando prestaciones_t2024.db:  44%|██▋   | 804/1822 [03:52<05:42,  2.97it/s]"
     ]
    },
    {
     "name": "stdout",
     "output_type": "stream",
     "text": [
      "Cargando: 44.13% completo\n"
     ]
    },
    {
     "name": "stderr",
     "output_type": "stream",
     "text": [
      "Procesando prestaciones_t2024.db:  44%|██▋   | 805/1822 [03:52<05:22,  3.15it/s]"
     ]
    },
    {
     "name": "stdout",
     "output_type": "stream",
     "text": [
      "Cargando: 44.18% completo\n"
     ]
    },
    {
     "name": "stderr",
     "output_type": "stream",
     "text": [
      "Procesando prestaciones_t2024.db:  44%|██▋   | 806/1822 [03:52<05:00,  3.39it/s]"
     ]
    },
    {
     "name": "stdout",
     "output_type": "stream",
     "text": [
      "Cargando: 44.24% completo\n"
     ]
    },
    {
     "name": "stderr",
     "output_type": "stream",
     "text": [
      "Procesando prestaciones_t2024.db:  44%|██▋   | 807/1822 [03:53<04:48,  3.52it/s]"
     ]
    },
    {
     "name": "stdout",
     "output_type": "stream",
     "text": [
      "Cargando: 44.29% completo\n"
     ]
    },
    {
     "name": "stderr",
     "output_type": "stream",
     "text": [
      "Procesando prestaciones_t2024.db:  44%|██▋   | 808/1822 [03:53<04:34,  3.70it/s]"
     ]
    },
    {
     "name": "stdout",
     "output_type": "stream",
     "text": [
      "Cargando: 44.35% completo\n"
     ]
    },
    {
     "name": "stderr",
     "output_type": "stream",
     "text": [
      "Procesando prestaciones_t2024.db:  44%|██▋   | 809/1822 [03:53<04:29,  3.75it/s]"
     ]
    },
    {
     "name": "stdout",
     "output_type": "stream",
     "text": [
      "Cargando: 44.40% completo\n"
     ]
    },
    {
     "name": "stderr",
     "output_type": "stream",
     "text": [
      "Procesando prestaciones_t2024.db:  44%|██▋   | 810/1822 [03:53<04:25,  3.81it/s]"
     ]
    },
    {
     "name": "stdout",
     "output_type": "stream",
     "text": [
      "Cargando: 44.46% completo\n"
     ]
    },
    {
     "name": "stderr",
     "output_type": "stream",
     "text": [
      "Procesando prestaciones_t2024.db:  45%|██▋   | 811/1822 [03:54<04:25,  3.81it/s]"
     ]
    },
    {
     "name": "stdout",
     "output_type": "stream",
     "text": [
      "Cargando: 44.51% completo\n"
     ]
    },
    {
     "name": "stderr",
     "output_type": "stream",
     "text": [
      "Procesando prestaciones_t2024.db:  45%|██▋   | 812/1822 [03:54<04:35,  3.67it/s]"
     ]
    },
    {
     "name": "stdout",
     "output_type": "stream",
     "text": [
      "Cargando: 44.57% completo\n"
     ]
    },
    {
     "name": "stderr",
     "output_type": "stream",
     "text": [
      "Procesando prestaciones_t2024.db:  45%|██▋   | 813/1822 [03:54<04:39,  3.61it/s]"
     ]
    },
    {
     "name": "stdout",
     "output_type": "stream",
     "text": [
      "Cargando: 44.62% completo\n"
     ]
    },
    {
     "name": "stderr",
     "output_type": "stream",
     "text": [
      "Procesando prestaciones_t2024.db:  45%|██▋   | 814/1822 [03:55<04:44,  3.55it/s]"
     ]
    },
    {
     "name": "stdout",
     "output_type": "stream",
     "text": [
      "Cargando: 44.68% completo\n"
     ]
    },
    {
     "name": "stderr",
     "output_type": "stream",
     "text": [
      "Procesando prestaciones_t2024.db:  45%|██▋   | 815/1822 [03:55<05:17,  3.17it/s]"
     ]
    },
    {
     "name": "stdout",
     "output_type": "stream",
     "text": [
      "Cargando: 44.73% completo\n"
     ]
    },
    {
     "name": "stderr",
     "output_type": "stream",
     "text": [
      "Procesando prestaciones_t2024.db:  45%|██▋   | 816/1822 [03:55<06:30,  2.57it/s]"
     ]
    },
    {
     "name": "stdout",
     "output_type": "stream",
     "text": [
      "Cargando: 44.79% completo\n"
     ]
    },
    {
     "name": "stderr",
     "output_type": "stream",
     "text": [
      "Procesando prestaciones_t2024.db:  45%|██▋   | 817/1822 [03:56<05:57,  2.81it/s]"
     ]
    },
    {
     "name": "stdout",
     "output_type": "stream",
     "text": [
      "Cargando: 44.84% completo\n"
     ]
    },
    {
     "name": "stderr",
     "output_type": "stream",
     "text": [
      "Procesando prestaciones_t2024.db:  45%|██▋   | 818/1822 [03:56<05:40,  2.95it/s]"
     ]
    },
    {
     "name": "stdout",
     "output_type": "stream",
     "text": [
      "Cargando: 44.90% completo\n"
     ]
    },
    {
     "name": "stderr",
     "output_type": "stream",
     "text": [
      "Procesando prestaciones_t2024.db:  45%|██▋   | 819/1822 [03:56<05:50,  2.86it/s]"
     ]
    },
    {
     "name": "stdout",
     "output_type": "stream",
     "text": [
      "Cargando: 44.95% completo\n"
     ]
    },
    {
     "name": "stderr",
     "output_type": "stream",
     "text": [
      "Procesando prestaciones_t2024.db:  45%|██▋   | 820/1822 [03:57<05:25,  3.08it/s]"
     ]
    },
    {
     "name": "stdout",
     "output_type": "stream",
     "text": [
      "Cargando: 45.01% completo\n"
     ]
    },
    {
     "name": "stderr",
     "output_type": "stream",
     "text": [
      "Procesando prestaciones_t2024.db:  45%|██▋   | 821/1822 [03:57<05:13,  3.19it/s]"
     ]
    },
    {
     "name": "stdout",
     "output_type": "stream",
     "text": [
      "Cargando: 45.06% completo\n"
     ]
    },
    {
     "name": "stderr",
     "output_type": "stream",
     "text": [
      "Procesando prestaciones_t2024.db:  45%|██▋   | 822/1822 [03:57<04:58,  3.35it/s]"
     ]
    },
    {
     "name": "stdout",
     "output_type": "stream",
     "text": [
      "Cargando: 45.12% completo\n"
     ]
    },
    {
     "name": "stderr",
     "output_type": "stream",
     "text": [
      "Procesando prestaciones_t2024.db:  45%|██▋   | 823/1822 [03:58<04:51,  3.43it/s]"
     ]
    },
    {
     "name": "stdout",
     "output_type": "stream",
     "text": [
      "Cargando: 45.17% completo\n"
     ]
    },
    {
     "name": "stderr",
     "output_type": "stream",
     "text": [
      "Procesando prestaciones_t2024.db:  45%|██▋   | 824/1822 [03:58<04:46,  3.48it/s]"
     ]
    },
    {
     "name": "stdout",
     "output_type": "stream",
     "text": [
      "Cargando: 45.23% completo\n"
     ]
    },
    {
     "name": "stderr",
     "output_type": "stream",
     "text": [
      "Procesando prestaciones_t2024.db:  45%|██▋   | 825/1822 [03:58<04:41,  3.55it/s]"
     ]
    },
    {
     "name": "stdout",
     "output_type": "stream",
     "text": [
      "Cargando: 45.28% completo\n"
     ]
    },
    {
     "name": "stderr",
     "output_type": "stream",
     "text": [
      "Procesando prestaciones_t2024.db:  45%|██▋   | 826/1822 [03:58<04:38,  3.57it/s]"
     ]
    },
    {
     "name": "stdout",
     "output_type": "stream",
     "text": [
      "Cargando: 45.33% completo\n"
     ]
    },
    {
     "name": "stderr",
     "output_type": "stream",
     "text": [
      "Procesando prestaciones_t2024.db:  45%|██▋   | 827/1822 [03:59<04:44,  3.50it/s]"
     ]
    },
    {
     "name": "stdout",
     "output_type": "stream",
     "text": [
      "Cargando: 45.39% completo\n"
     ]
    },
    {
     "name": "stderr",
     "output_type": "stream",
     "text": [
      "Procesando prestaciones_t2024.db:  45%|██▋   | 828/1822 [03:59<04:53,  3.39it/s]"
     ]
    },
    {
     "name": "stdout",
     "output_type": "stream",
     "text": [
      "Cargando: 45.44% completo\n"
     ]
    },
    {
     "name": "stderr",
     "output_type": "stream",
     "text": [
      "Procesando prestaciones_t2024.db:  45%|██▋   | 829/1822 [03:59<06:03,  2.73it/s]"
     ]
    },
    {
     "name": "stdout",
     "output_type": "stream",
     "text": [
      "Cargando: 45.50% completo\n"
     ]
    },
    {
     "name": "stderr",
     "output_type": "stream",
     "text": [
      "Procesando prestaciones_t2024.db:  46%|██▋   | 830/1822 [04:00<05:43,  2.89it/s]"
     ]
    },
    {
     "name": "stdout",
     "output_type": "stream",
     "text": [
      "Cargando: 45.55% completo\n"
     ]
    },
    {
     "name": "stderr",
     "output_type": "stream",
     "text": [
      "Procesando prestaciones_t2024.db:  46%|██▋   | 831/1822 [04:00<05:24,  3.05it/s]"
     ]
    },
    {
     "name": "stdout",
     "output_type": "stream",
     "text": [
      "Cargando: 45.61% completo\n"
     ]
    },
    {
     "name": "stderr",
     "output_type": "stream",
     "text": [
      "Procesando prestaciones_t2024.db:  46%|██▋   | 832/1822 [04:00<05:43,  2.88it/s]"
     ]
    },
    {
     "name": "stdout",
     "output_type": "stream",
     "text": [
      "Cargando: 45.66% completo\n"
     ]
    },
    {
     "name": "stderr",
     "output_type": "stream",
     "text": [
      "Procesando prestaciones_t2024.db:  46%|██▋   | 833/1822 [04:01<05:21,  3.08it/s]"
     ]
    },
    {
     "name": "stdout",
     "output_type": "stream",
     "text": [
      "Cargando: 45.72% completo\n"
     ]
    },
    {
     "name": "stderr",
     "output_type": "stream",
     "text": [
      "Procesando prestaciones_t2024.db:  46%|██▋   | 834/1822 [04:01<05:11,  3.17it/s]"
     ]
    },
    {
     "name": "stdout",
     "output_type": "stream",
     "text": [
      "Cargando: 45.77% completo\n"
     ]
    },
    {
     "name": "stderr",
     "output_type": "stream",
     "text": [
      "Procesando prestaciones_t2024.db:  46%|██▋   | 835/1822 [04:01<05:03,  3.25it/s]"
     ]
    },
    {
     "name": "stdout",
     "output_type": "stream",
     "text": [
      "Cargando: 45.83% completo\n"
     ]
    },
    {
     "name": "stderr",
     "output_type": "stream",
     "text": [
      "Procesando prestaciones_t2024.db:  46%|██▊   | 836/1822 [04:02<04:58,  3.30it/s]"
     ]
    },
    {
     "name": "stdout",
     "output_type": "stream",
     "text": [
      "Cargando: 45.88% completo\n"
     ]
    },
    {
     "name": "stderr",
     "output_type": "stream",
     "text": [
      "Procesando prestaciones_t2024.db:  46%|██▊   | 837/1822 [04:02<04:48,  3.41it/s]"
     ]
    },
    {
     "name": "stdout",
     "output_type": "stream",
     "text": [
      "Cargando: 45.94% completo\n"
     ]
    },
    {
     "name": "stderr",
     "output_type": "stream",
     "text": [
      "Procesando prestaciones_t2024.db:  46%|██▊   | 838/1822 [04:02<04:39,  3.52it/s]"
     ]
    },
    {
     "name": "stdout",
     "output_type": "stream",
     "text": [
      "Cargando: 45.99% completo\n"
     ]
    },
    {
     "name": "stderr",
     "output_type": "stream",
     "text": [
      "Procesando prestaciones_t2024.db:  46%|██▊   | 839/1822 [04:02<04:34,  3.58it/s]"
     ]
    },
    {
     "name": "stdout",
     "output_type": "stream",
     "text": [
      "Cargando: 46.05% completo\n"
     ]
    },
    {
     "name": "stderr",
     "output_type": "stream",
     "text": [
      "Procesando prestaciones_t2024.db:  46%|██▊   | 840/1822 [04:03<04:28,  3.65it/s]"
     ]
    },
    {
     "name": "stdout",
     "output_type": "stream",
     "text": [
      "Cargando: 46.10% completo\n"
     ]
    },
    {
     "name": "stderr",
     "output_type": "stream",
     "text": [
      "Procesando prestaciones_t2024.db:  46%|██▊   | 841/1822 [04:03<04:29,  3.64it/s]"
     ]
    },
    {
     "name": "stdout",
     "output_type": "stream",
     "text": [
      "Cargando: 46.16% completo\n"
     ]
    },
    {
     "name": "stderr",
     "output_type": "stream",
     "text": [
      "Procesando prestaciones_t2024.db:  46%|██▊   | 842/1822 [04:03<05:15,  3.11it/s]"
     ]
    },
    {
     "name": "stdout",
     "output_type": "stream",
     "text": [
      "Cargando: 46.21% completo\n"
     ]
    },
    {
     "name": "stderr",
     "output_type": "stream",
     "text": [
      "Procesando prestaciones_t2024.db:  46%|██▊   | 843/1822 [04:04<04:55,  3.31it/s]"
     ]
    },
    {
     "name": "stdout",
     "output_type": "stream",
     "text": [
      "Cargando: 46.27% completo\n"
     ]
    },
    {
     "name": "stderr",
     "output_type": "stream",
     "text": [
      "Procesando prestaciones_t2024.db:  46%|██▊   | 844/1822 [04:04<04:53,  3.33it/s]"
     ]
    },
    {
     "name": "stdout",
     "output_type": "stream",
     "text": [
      "Cargando: 46.32% completo\n"
     ]
    },
    {
     "name": "stderr",
     "output_type": "stream",
     "text": [
      "Procesando prestaciones_t2024.db:  46%|██▊   | 845/1822 [04:04<05:04,  3.21it/s]"
     ]
    },
    {
     "name": "stdout",
     "output_type": "stream",
     "text": [
      "Cargando: 46.38% completo\n"
     ]
    },
    {
     "name": "stderr",
     "output_type": "stream",
     "text": [
      "Procesando prestaciones_t2024.db:  46%|██▊   | 846/1822 [04:05<04:55,  3.30it/s]"
     ]
    },
    {
     "name": "stdout",
     "output_type": "stream",
     "text": [
      "Cargando: 46.43% completo\n"
     ]
    },
    {
     "name": "stderr",
     "output_type": "stream",
     "text": [
      "Procesando prestaciones_t2024.db:  46%|██▊   | 847/1822 [04:05<04:48,  3.38it/s]"
     ]
    },
    {
     "name": "stdout",
     "output_type": "stream",
     "text": [
      "Cargando: 46.49% completo\n"
     ]
    },
    {
     "name": "stderr",
     "output_type": "stream",
     "text": [
      "Procesando prestaciones_t2024.db:  47%|██▊   | 848/1822 [04:05<04:45,  3.41it/s]"
     ]
    },
    {
     "name": "stdout",
     "output_type": "stream",
     "text": [
      "Cargando: 46.54% completo\n"
     ]
    },
    {
     "name": "stderr",
     "output_type": "stream",
     "text": [
      "Procesando prestaciones_t2024.db:  47%|██▊   | 849/1822 [04:05<04:38,  3.50it/s]"
     ]
    },
    {
     "name": "stdout",
     "output_type": "stream",
     "text": [
      "Cargando: 46.60% completo\n"
     ]
    },
    {
     "name": "stderr",
     "output_type": "stream",
     "text": [
      "Procesando prestaciones_t2024.db:  47%|██▊   | 850/1822 [04:06<04:33,  3.56it/s]"
     ]
    },
    {
     "name": "stdout",
     "output_type": "stream",
     "text": [
      "Cargando: 46.65% completo\n"
     ]
    },
    {
     "name": "stderr",
     "output_type": "stream",
     "text": [
      "Procesando prestaciones_t2024.db:  47%|██▊   | 851/1822 [04:06<04:28,  3.62it/s]"
     ]
    },
    {
     "name": "stdout",
     "output_type": "stream",
     "text": [
      "Cargando: 46.71% completo\n"
     ]
    },
    {
     "name": "stderr",
     "output_type": "stream",
     "text": [
      "Procesando prestaciones_t2024.db:  47%|██▊   | 852/1822 [04:06<04:27,  3.62it/s]"
     ]
    },
    {
     "name": "stdout",
     "output_type": "stream",
     "text": [
      "Cargando: 46.76% completo\n"
     ]
    },
    {
     "name": "stderr",
     "output_type": "stream",
     "text": [
      "Procesando prestaciones_t2024.db:  47%|██▊   | 853/1822 [04:06<04:27,  3.62it/s]"
     ]
    },
    {
     "name": "stdout",
     "output_type": "stream",
     "text": [
      "Cargando: 46.82% completo\n"
     ]
    },
    {
     "name": "stderr",
     "output_type": "stream",
     "text": [
      "Procesando prestaciones_t2024.db:  47%|██▊   | 854/1822 [04:07<04:19,  3.73it/s]"
     ]
    },
    {
     "name": "stdout",
     "output_type": "stream",
     "text": [
      "Cargando: 46.87% completo\n"
     ]
    },
    {
     "name": "stderr",
     "output_type": "stream",
     "text": [
      "Procesando prestaciones_t2024.db:  47%|██▊   | 855/1822 [04:07<04:23,  3.67it/s]"
     ]
    },
    {
     "name": "stdout",
     "output_type": "stream",
     "text": [
      "Cargando: 46.93% completo\n"
     ]
    },
    {
     "name": "stderr",
     "output_type": "stream",
     "text": [
      "Procesando prestaciones_t2024.db:  47%|██▊   | 856/1822 [04:07<05:12,  3.09it/s]"
     ]
    },
    {
     "name": "stdout",
     "output_type": "stream",
     "text": [
      "Cargando: 46.98% completo\n"
     ]
    },
    {
     "name": "stderr",
     "output_type": "stream",
     "text": [
      "Procesando prestaciones_t2024.db:  47%|██▊   | 857/1822 [04:08<04:51,  3.32it/s]"
     ]
    },
    {
     "name": "stdout",
     "output_type": "stream",
     "text": [
      "Cargando: 47.04% completo\n"
     ]
    },
    {
     "name": "stderr",
     "output_type": "stream",
     "text": [
      "Procesando prestaciones_t2024.db:  47%|██▊   | 858/1822 [04:08<04:34,  3.52it/s]"
     ]
    },
    {
     "name": "stdout",
     "output_type": "stream",
     "text": [
      "Cargando: 47.09% completo\n"
     ]
    },
    {
     "name": "stderr",
     "output_type": "stream",
     "text": [
      "Procesando prestaciones_t2024.db:  47%|██▊   | 859/1822 [04:08<04:22,  3.67it/s]"
     ]
    },
    {
     "name": "stdout",
     "output_type": "stream",
     "text": [
      "Cargando: 47.15% completo\n"
     ]
    },
    {
     "name": "stderr",
     "output_type": "stream",
     "text": [
      "Procesando prestaciones_t2024.db:  47%|██▊   | 860/1822 [04:08<04:15,  3.77it/s]"
     ]
    },
    {
     "name": "stdout",
     "output_type": "stream",
     "text": [
      "Cargando: 47.20% completo\n"
     ]
    },
    {
     "name": "stderr",
     "output_type": "stream",
     "text": [
      "Procesando prestaciones_t2024.db:  47%|██▊   | 861/1822 [04:09<04:12,  3.81it/s]"
     ]
    },
    {
     "name": "stdout",
     "output_type": "stream",
     "text": [
      "Cargando: 47.26% completo\n"
     ]
    },
    {
     "name": "stderr",
     "output_type": "stream",
     "text": [
      "Procesando prestaciones_t2024.db:  47%|██▊   | 862/1822 [04:09<04:02,  3.96it/s]"
     ]
    },
    {
     "name": "stdout",
     "output_type": "stream",
     "text": [
      "Cargando: 47.31% completo\n"
     ]
    },
    {
     "name": "stderr",
     "output_type": "stream",
     "text": [
      "Procesando prestaciones_t2024.db:  47%|██▊   | 863/1822 [04:09<04:07,  3.88it/s]"
     ]
    },
    {
     "name": "stdout",
     "output_type": "stream",
     "text": [
      "Cargando: 47.37% completo\n"
     ]
    },
    {
     "name": "stderr",
     "output_type": "stream",
     "text": [
      "Procesando prestaciones_t2024.db:  47%|██▊   | 864/1822 [04:09<04:05,  3.91it/s]"
     ]
    },
    {
     "name": "stdout",
     "output_type": "stream",
     "text": [
      "Cargando: 47.42% completo\n"
     ]
    },
    {
     "name": "stderr",
     "output_type": "stream",
     "text": [
      "Procesando prestaciones_t2024.db:  47%|██▊   | 865/1822 [04:10<04:05,  3.90it/s]"
     ]
    },
    {
     "name": "stdout",
     "output_type": "stream",
     "text": [
      "Cargando: 47.48% completo\n"
     ]
    },
    {
     "name": "stderr",
     "output_type": "stream",
     "text": [
      "Procesando prestaciones_t2024.db:  48%|██▊   | 866/1822 [04:10<04:00,  3.97it/s]"
     ]
    },
    {
     "name": "stdout",
     "output_type": "stream",
     "text": [
      "Cargando: 47.53% completo\n"
     ]
    },
    {
     "name": "stderr",
     "output_type": "stream",
     "text": [
      "Procesando prestaciones_t2024.db:  48%|██▊   | 867/1822 [04:10<04:05,  3.89it/s]"
     ]
    },
    {
     "name": "stdout",
     "output_type": "stream",
     "text": [
      "Cargando: 47.59% completo\n"
     ]
    },
    {
     "name": "stderr",
     "output_type": "stream",
     "text": [
      "Procesando prestaciones_t2024.db:  48%|██▊   | 868/1822 [04:10<04:01,  3.94it/s]"
     ]
    },
    {
     "name": "stdout",
     "output_type": "stream",
     "text": [
      "Cargando: 47.64% completo\n"
     ]
    },
    {
     "name": "stderr",
     "output_type": "stream",
     "text": [
      "Procesando prestaciones_t2024.db:  48%|██▊   | 869/1822 [04:11<05:16,  3.01it/s]"
     ]
    },
    {
     "name": "stdout",
     "output_type": "stream",
     "text": [
      "Cargando: 47.69% completo\n"
     ]
    },
    {
     "name": "stderr",
     "output_type": "stream",
     "text": [
      "Procesando prestaciones_t2024.db:  48%|██▊   | 870/1822 [04:11<04:50,  3.28it/s]"
     ]
    },
    {
     "name": "stdout",
     "output_type": "stream",
     "text": [
      "Cargando: 47.75% completo\n"
     ]
    },
    {
     "name": "stderr",
     "output_type": "stream",
     "text": [
      "Procesando prestaciones_t2024.db:  48%|██▊   | 871/1822 [04:11<04:33,  3.47it/s]"
     ]
    },
    {
     "name": "stdout",
     "output_type": "stream",
     "text": [
      "Cargando: 47.80% completo\n"
     ]
    },
    {
     "name": "stderr",
     "output_type": "stream",
     "text": [
      "Procesando prestaciones_t2024.db:  48%|██▊   | 872/1822 [04:12<04:23,  3.61it/s]"
     ]
    },
    {
     "name": "stdout",
     "output_type": "stream",
     "text": [
      "Cargando: 47.86% completo\n"
     ]
    },
    {
     "name": "stderr",
     "output_type": "stream",
     "text": [
      "Procesando prestaciones_t2024.db:  48%|██▊   | 873/1822 [04:12<04:16,  3.70it/s]"
     ]
    },
    {
     "name": "stdout",
     "output_type": "stream",
     "text": [
      "Cargando: 47.91% completo\n"
     ]
    },
    {
     "name": "stderr",
     "output_type": "stream",
     "text": [
      "Procesando prestaciones_t2024.db:  48%|██▉   | 874/1822 [04:12<04:12,  3.75it/s]"
     ]
    },
    {
     "name": "stdout",
     "output_type": "stream",
     "text": [
      "Cargando: 47.97% completo\n"
     ]
    },
    {
     "name": "stderr",
     "output_type": "stream",
     "text": [
      "Procesando prestaciones_t2024.db:  48%|██▉   | 875/1822 [04:13<04:40,  3.37it/s]"
     ]
    },
    {
     "name": "stdout",
     "output_type": "stream",
     "text": [
      "Cargando: 48.02% completo\n"
     ]
    },
    {
     "name": "stderr",
     "output_type": "stream",
     "text": [
      "Procesando prestaciones_t2024.db:  48%|██▉   | 876/1822 [04:13<04:34,  3.45it/s]"
     ]
    },
    {
     "name": "stdout",
     "output_type": "stream",
     "text": [
      "Cargando: 48.08% completo\n"
     ]
    },
    {
     "name": "stderr",
     "output_type": "stream",
     "text": [
      "Procesando prestaciones_t2024.db:  48%|██▉   | 877/1822 [04:13<04:34,  3.45it/s]"
     ]
    },
    {
     "name": "stdout",
     "output_type": "stream",
     "text": [
      "Cargando: 48.13% completo\n"
     ]
    },
    {
     "name": "stderr",
     "output_type": "stream",
     "text": [
      "Procesando prestaciones_t2024.db:  48%|██▉   | 878/1822 [04:13<04:32,  3.47it/s]"
     ]
    },
    {
     "name": "stdout",
     "output_type": "stream",
     "text": [
      "Cargando: 48.19% completo\n"
     ]
    },
    {
     "name": "stderr",
     "output_type": "stream",
     "text": [
      "Procesando prestaciones_t2024.db:  48%|██▉   | 879/1822 [04:14<04:31,  3.47it/s]"
     ]
    },
    {
     "name": "stdout",
     "output_type": "stream",
     "text": [
      "Cargando: 48.24% completo\n"
     ]
    },
    {
     "name": "stderr",
     "output_type": "stream",
     "text": [
      "Procesando prestaciones_t2024.db:  48%|██▉   | 880/1822 [04:14<04:29,  3.49it/s]"
     ]
    },
    {
     "name": "stdout",
     "output_type": "stream",
     "text": [
      "Cargando: 48.30% completo\n"
     ]
    },
    {
     "name": "stderr",
     "output_type": "stream",
     "text": [
      "Procesando prestaciones_t2024.db:  48%|██▉   | 881/1822 [04:14<04:29,  3.49it/s]"
     ]
    },
    {
     "name": "stdout",
     "output_type": "stream",
     "text": [
      "Cargando: 48.35% completo\n"
     ]
    },
    {
     "name": "stderr",
     "output_type": "stream",
     "text": [
      "Procesando prestaciones_t2024.db:  48%|██▉   | 882/1822 [04:15<05:29,  2.86it/s]"
     ]
    },
    {
     "name": "stdout",
     "output_type": "stream",
     "text": [
      "Cargando: 48.41% completo\n"
     ]
    },
    {
     "name": "stderr",
     "output_type": "stream",
     "text": [
      "Procesando prestaciones_t2024.db:  48%|██▉   | 883/1822 [04:15<05:05,  3.07it/s]"
     ]
    },
    {
     "name": "stdout",
     "output_type": "stream",
     "text": [
      "Cargando: 48.46% completo\n"
     ]
    },
    {
     "name": "stderr",
     "output_type": "stream",
     "text": [
      "Procesando prestaciones_t2024.db:  49%|██▉   | 884/1822 [04:15<04:47,  3.27it/s]"
     ]
    },
    {
     "name": "stdout",
     "output_type": "stream",
     "text": [
      "Cargando: 48.52% completo\n"
     ]
    },
    {
     "name": "stderr",
     "output_type": "stream",
     "text": [
      "Procesando prestaciones_t2024.db:  49%|██▉   | 885/1822 [04:16<04:42,  3.31it/s]"
     ]
    },
    {
     "name": "stdout",
     "output_type": "stream",
     "text": [
      "Cargando: 48.57% completo\n"
     ]
    },
    {
     "name": "stderr",
     "output_type": "stream",
     "text": [
      "Procesando prestaciones_t2024.db:  49%|██▉   | 886/1822 [04:16<04:33,  3.42it/s]"
     ]
    },
    {
     "name": "stdout",
     "output_type": "stream",
     "text": [
      "Cargando: 48.63% completo\n"
     ]
    },
    {
     "name": "stderr",
     "output_type": "stream",
     "text": [
      "Procesando prestaciones_t2024.db:  49%|██▉   | 887/1822 [04:16<04:27,  3.50it/s]"
     ]
    },
    {
     "name": "stdout",
     "output_type": "stream",
     "text": [
      "Cargando: 48.68% completo\n"
     ]
    },
    {
     "name": "stderr",
     "output_type": "stream",
     "text": [
      "Procesando prestaciones_t2024.db:  49%|██▉   | 888/1822 [04:16<04:20,  3.58it/s]"
     ]
    },
    {
     "name": "stdout",
     "output_type": "stream",
     "text": [
      "Cargando: 48.74% completo\n"
     ]
    },
    {
     "name": "stderr",
     "output_type": "stream",
     "text": [
      "Procesando prestaciones_t2024.db:  49%|██▉   | 889/1822 [04:17<04:13,  3.67it/s]"
     ]
    },
    {
     "name": "stdout",
     "output_type": "stream",
     "text": [
      "Cargando: 48.79% completo\n"
     ]
    },
    {
     "name": "stderr",
     "output_type": "stream",
     "text": [
      "Procesando prestaciones_t2024.db:  49%|██▉   | 890/1822 [04:17<04:09,  3.74it/s]"
     ]
    },
    {
     "name": "stdout",
     "output_type": "stream",
     "text": [
      "Cargando: 48.85% completo\n"
     ]
    },
    {
     "name": "stderr",
     "output_type": "stream",
     "text": [
      "Procesando prestaciones_t2024.db:  49%|██▉   | 891/1822 [04:17<04:08,  3.75it/s]"
     ]
    },
    {
     "name": "stdout",
     "output_type": "stream",
     "text": [
      "Cargando: 48.90% completo\n"
     ]
    },
    {
     "name": "stderr",
     "output_type": "stream",
     "text": [
      "Procesando prestaciones_t2024.db:  49%|██▉   | 892/1822 [04:17<04:00,  3.86it/s]"
     ]
    },
    {
     "name": "stdout",
     "output_type": "stream",
     "text": [
      "Cargando: 48.96% completo\n"
     ]
    },
    {
     "name": "stderr",
     "output_type": "stream",
     "text": [
      "Procesando prestaciones_t2024.db:  49%|██▉   | 893/1822 [04:18<04:01,  3.85it/s]"
     ]
    },
    {
     "name": "stdout",
     "output_type": "stream",
     "text": [
      "Cargando: 49.01% completo\n"
     ]
    },
    {
     "name": "stderr",
     "output_type": "stream",
     "text": [
      "Procesando prestaciones_t2024.db:  49%|██▉   | 894/1822 [04:18<03:59,  3.87it/s]"
     ]
    },
    {
     "name": "stdout",
     "output_type": "stream",
     "text": [
      "Cargando: 49.07% completo\n"
     ]
    },
    {
     "name": "stderr",
     "output_type": "stream",
     "text": [
      "Procesando prestaciones_t2024.db:  49%|██▉   | 895/1822 [04:18<03:59,  3.86it/s]"
     ]
    },
    {
     "name": "stdout",
     "output_type": "stream",
     "text": [
      "Cargando: 49.12% completo\n"
     ]
    },
    {
     "name": "stderr",
     "output_type": "stream",
     "text": [
      "Procesando prestaciones_t2024.db:  49%|██▉   | 896/1822 [04:19<04:58,  3.10it/s]"
     ]
    },
    {
     "name": "stdout",
     "output_type": "stream",
     "text": [
      "Cargando: 49.18% completo\n"
     ]
    },
    {
     "name": "stderr",
     "output_type": "stream",
     "text": [
      "Procesando prestaciones_t2024.db:  49%|██▉   | 897/1822 [04:19<04:47,  3.22it/s]"
     ]
    },
    {
     "name": "stdout",
     "output_type": "stream",
     "text": [
      "Cargando: 49.23% completo\n"
     ]
    },
    {
     "name": "stderr",
     "output_type": "stream",
     "text": [
      "Procesando prestaciones_t2024.db:  49%|██▉   | 898/1822 [04:19<04:33,  3.38it/s]"
     ]
    },
    {
     "name": "stdout",
     "output_type": "stream",
     "text": [
      "Cargando: 49.29% completo\n"
     ]
    },
    {
     "name": "stderr",
     "output_type": "stream",
     "text": [
      "Procesando prestaciones_t2024.db:  49%|██▉   | 899/1822 [04:20<04:26,  3.46it/s]"
     ]
    },
    {
     "name": "stdout",
     "output_type": "stream",
     "text": [
      "Cargando: 49.34% completo\n"
     ]
    },
    {
     "name": "stderr",
     "output_type": "stream",
     "text": [
      "Procesando prestaciones_t2024.db:  49%|██▉   | 900/1822 [04:20<04:13,  3.64it/s]"
     ]
    },
    {
     "name": "stdout",
     "output_type": "stream",
     "text": [
      "Cargando: 49.40% completo\n"
     ]
    },
    {
     "name": "stderr",
     "output_type": "stream",
     "text": [
      "Procesando prestaciones_t2024.db:  49%|██▉   | 901/1822 [04:20<04:05,  3.75it/s]"
     ]
    },
    {
     "name": "stdout",
     "output_type": "stream",
     "text": [
      "Cargando: 49.45% completo\n"
     ]
    },
    {
     "name": "stderr",
     "output_type": "stream",
     "text": [
      "Procesando prestaciones_t2024.db:  50%|██▉   | 902/1822 [04:20<03:59,  3.83it/s]"
     ]
    },
    {
     "name": "stdout",
     "output_type": "stream",
     "text": [
      "Cargando: 49.51% completo\n"
     ]
    },
    {
     "name": "stderr",
     "output_type": "stream",
     "text": [
      "Procesando prestaciones_t2024.db:  50%|██▉   | 903/1822 [04:20<03:55,  3.90it/s]"
     ]
    },
    {
     "name": "stdout",
     "output_type": "stream",
     "text": [
      "Cargando: 49.56% completo\n"
     ]
    },
    {
     "name": "stderr",
     "output_type": "stream",
     "text": [
      "Procesando prestaciones_t2024.db:  50%|██▉   | 904/1822 [04:21<03:54,  3.92it/s]"
     ]
    },
    {
     "name": "stdout",
     "output_type": "stream",
     "text": [
      "Cargando: 49.62% completo\n"
     ]
    },
    {
     "name": "stderr",
     "output_type": "stream",
     "text": [
      "Procesando prestaciones_t2024.db:  50%|██▉   | 905/1822 [04:21<03:52,  3.95it/s]"
     ]
    },
    {
     "name": "stdout",
     "output_type": "stream",
     "text": [
      "Cargando: 49.67% completo\n"
     ]
    },
    {
     "name": "stderr",
     "output_type": "stream",
     "text": [
      "Procesando prestaciones_t2024.db:  50%|██▉   | 906/1822 [04:21<03:50,  3.97it/s]"
     ]
    },
    {
     "name": "stdout",
     "output_type": "stream",
     "text": [
      "Cargando: 49.73% completo\n"
     ]
    },
    {
     "name": "stderr",
     "output_type": "stream",
     "text": [
      "Procesando prestaciones_t2024.db:  50%|██▉   | 907/1822 [04:21<03:50,  3.97it/s]"
     ]
    },
    {
     "name": "stdout",
     "output_type": "stream",
     "text": [
      "Cargando: 49.78% completo\n"
     ]
    },
    {
     "name": "stderr",
     "output_type": "stream",
     "text": [
      "Procesando prestaciones_t2024.db:  50%|██▉   | 908/1822 [04:22<03:49,  3.99it/s]"
     ]
    },
    {
     "name": "stdout",
     "output_type": "stream",
     "text": [
      "Cargando: 49.84% completo\n"
     ]
    },
    {
     "name": "stderr",
     "output_type": "stream",
     "text": [
      "Procesando prestaciones_t2024.db:  50%|██▉   | 909/1822 [04:22<03:50,  3.96it/s]"
     ]
    },
    {
     "name": "stdout",
     "output_type": "stream",
     "text": [
      "Cargando: 49.89% completo\n"
     ]
    },
    {
     "name": "stderr",
     "output_type": "stream",
     "text": [
      "Procesando prestaciones_t2024.db:  50%|██▉   | 910/1822 [04:22<04:42,  3.23it/s]"
     ]
    },
    {
     "name": "stdout",
     "output_type": "stream",
     "text": [
      "Cargando: 49.95% completo\n"
     ]
    },
    {
     "name": "stderr",
     "output_type": "stream",
     "text": [
      "Procesando prestaciones_t2024.db:  50%|███   | 911/1822 [04:23<04:27,  3.41it/s]"
     ]
    },
    {
     "name": "stdout",
     "output_type": "stream",
     "text": [
      "Cargando: 50.00% completo\n"
     ]
    },
    {
     "name": "stderr",
     "output_type": "stream",
     "text": [
      "Procesando prestaciones_t2024.db:  50%|███   | 912/1822 [04:23<04:14,  3.58it/s]"
     ]
    },
    {
     "name": "stdout",
     "output_type": "stream",
     "text": [
      "Cargando: 50.05% completo\n"
     ]
    },
    {
     "name": "stderr",
     "output_type": "stream",
     "text": [
      "Procesando prestaciones_t2024.db:  50%|███   | 913/1822 [04:23<04:06,  3.69it/s]"
     ]
    },
    {
     "name": "stdout",
     "output_type": "stream",
     "text": [
      "Cargando: 50.11% completo\n"
     ]
    },
    {
     "name": "stderr",
     "output_type": "stream",
     "text": [
      "Procesando prestaciones_t2024.db:  50%|███   | 914/1822 [04:23<04:00,  3.77it/s]"
     ]
    },
    {
     "name": "stdout",
     "output_type": "stream",
     "text": [
      "Cargando: 50.16% completo\n"
     ]
    },
    {
     "name": "stderr",
     "output_type": "stream",
     "text": [
      "Procesando prestaciones_t2024.db:  50%|███   | 915/1822 [04:24<03:56,  3.83it/s]"
     ]
    },
    {
     "name": "stdout",
     "output_type": "stream",
     "text": [
      "Cargando: 50.22% completo\n"
     ]
    },
    {
     "name": "stderr",
     "output_type": "stream",
     "text": [
      "Procesando prestaciones_t2024.db:  50%|███   | 916/1822 [04:24<03:53,  3.88it/s]"
     ]
    },
    {
     "name": "stdout",
     "output_type": "stream",
     "text": [
      "Cargando: 50.27% completo\n"
     ]
    },
    {
     "name": "stderr",
     "output_type": "stream",
     "text": [
      "Procesando prestaciones_t2024.db:  50%|███   | 917/1822 [04:24<03:52,  3.90it/s]"
     ]
    },
    {
     "name": "stdout",
     "output_type": "stream",
     "text": [
      "Cargando: 50.33% completo\n"
     ]
    },
    {
     "name": "stderr",
     "output_type": "stream",
     "text": [
      "Procesando prestaciones_t2024.db:  50%|███   | 918/1822 [04:24<03:51,  3.90it/s]"
     ]
    },
    {
     "name": "stdout",
     "output_type": "stream",
     "text": [
      "Cargando: 50.38% completo\n"
     ]
    },
    {
     "name": "stderr",
     "output_type": "stream",
     "text": [
      "Procesando prestaciones_t2024.db:  50%|███   | 919/1822 [04:25<03:51,  3.90it/s]"
     ]
    },
    {
     "name": "stdout",
     "output_type": "stream",
     "text": [
      "Cargando: 50.44% completo\n"
     ]
    },
    {
     "name": "stderr",
     "output_type": "stream",
     "text": [
      "Procesando prestaciones_t2024.db:  50%|███   | 920/1822 [04:25<03:50,  3.91it/s]"
     ]
    },
    {
     "name": "stdout",
     "output_type": "stream",
     "text": [
      "Cargando: 50.49% completo\n"
     ]
    },
    {
     "name": "stderr",
     "output_type": "stream",
     "text": [
      "Procesando prestaciones_t2024.db:  51%|███   | 921/1822 [04:25<04:11,  3.58it/s]"
     ]
    },
    {
     "name": "stdout",
     "output_type": "stream",
     "text": [
      "Cargando: 50.55% completo\n"
     ]
    },
    {
     "name": "stderr",
     "output_type": "stream",
     "text": [
      "Procesando prestaciones_t2024.db:  51%|███   | 922/1822 [04:26<04:01,  3.73it/s]"
     ]
    },
    {
     "name": "stdout",
     "output_type": "stream",
     "text": [
      "Cargando: 50.60% completo\n"
     ]
    },
    {
     "name": "stderr",
     "output_type": "stream",
     "text": [
      "Procesando prestaciones_t2024.db:  51%|███   | 923/1822 [04:26<03:56,  3.81it/s]"
     ]
    },
    {
     "name": "stdout",
     "output_type": "stream",
     "text": [
      "Cargando: 50.66% completo\n"
     ]
    },
    {
     "name": "stderr",
     "output_type": "stream",
     "text": [
      "Procesando prestaciones_t2024.db:  51%|███   | 924/1822 [04:26<03:52,  3.86it/s]"
     ]
    },
    {
     "name": "stdout",
     "output_type": "stream",
     "text": [
      "Cargando: 50.71% completo\n"
     ]
    },
    {
     "name": "stderr",
     "output_type": "stream",
     "text": [
      "Procesando prestaciones_t2024.db:  51%|███   | 925/1822 [04:27<05:03,  2.95it/s]"
     ]
    },
    {
     "name": "stdout",
     "output_type": "stream",
     "text": [
      "Cargando: 50.77% completo\n"
     ]
    },
    {
     "name": "stderr",
     "output_type": "stream",
     "text": [
      "Procesando prestaciones_t2024.db:  51%|███   | 926/1822 [04:27<04:47,  3.12it/s]"
     ]
    },
    {
     "name": "stdout",
     "output_type": "stream",
     "text": [
      "Cargando: 50.82% completo\n"
     ]
    },
    {
     "name": "stderr",
     "output_type": "stream",
     "text": [
      "Procesando prestaciones_t2024.db:  51%|███   | 927/1822 [04:27<04:38,  3.22it/s]"
     ]
    },
    {
     "name": "stdout",
     "output_type": "stream",
     "text": [
      "Cargando: 50.88% completo\n"
     ]
    },
    {
     "name": "stderr",
     "output_type": "stream",
     "text": [
      "Procesando prestaciones_t2024.db:  51%|███   | 928/1822 [04:27<04:30,  3.31it/s]"
     ]
    },
    {
     "name": "stdout",
     "output_type": "stream",
     "text": [
      "Cargando: 50.93% completo\n"
     ]
    },
    {
     "name": "stderr",
     "output_type": "stream",
     "text": [
      "Procesando prestaciones_t2024.db:  51%|███   | 929/1822 [04:28<04:22,  3.40it/s]"
     ]
    },
    {
     "name": "stdout",
     "output_type": "stream",
     "text": [
      "Cargando: 50.99% completo\n"
     ]
    },
    {
     "name": "stderr",
     "output_type": "stream",
     "text": [
      "Procesando prestaciones_t2024.db:  51%|███   | 930/1822 [04:28<04:14,  3.51it/s]"
     ]
    },
    {
     "name": "stdout",
     "output_type": "stream",
     "text": [
      "Cargando: 51.04% completo\n"
     ]
    },
    {
     "name": "stderr",
     "output_type": "stream",
     "text": [
      "Procesando prestaciones_t2024.db:  51%|███   | 931/1822 [04:28<04:20,  3.42it/s]"
     ]
    },
    {
     "name": "stdout",
     "output_type": "stream",
     "text": [
      "Cargando: 51.10% completo\n"
     ]
    },
    {
     "name": "stderr",
     "output_type": "stream",
     "text": [
      "Procesando prestaciones_t2024.db:  51%|███   | 932/1822 [04:29<04:20,  3.42it/s]"
     ]
    },
    {
     "name": "stdout",
     "output_type": "stream",
     "text": [
      "Cargando: 51.15% completo\n"
     ]
    },
    {
     "name": "stderr",
     "output_type": "stream",
     "text": [
      "Procesando prestaciones_t2024.db:  51%|███   | 933/1822 [04:29<04:24,  3.36it/s]"
     ]
    },
    {
     "name": "stdout",
     "output_type": "stream",
     "text": [
      "Cargando: 51.21% completo\n"
     ]
    },
    {
     "name": "stderr",
     "output_type": "stream",
     "text": [
      "Procesando prestaciones_t2024.db:  51%|███   | 934/1822 [04:29<04:23,  3.37it/s]"
     ]
    },
    {
     "name": "stdout",
     "output_type": "stream",
     "text": [
      "Cargando: 51.26% completo\n"
     ]
    },
    {
     "name": "stderr",
     "output_type": "stream",
     "text": [
      "Procesando prestaciones_t2024.db:  51%|███   | 935/1822 [04:29<04:15,  3.48it/s]"
     ]
    },
    {
     "name": "stdout",
     "output_type": "stream",
     "text": [
      "Cargando: 51.32% completo\n"
     ]
    },
    {
     "name": "stderr",
     "output_type": "stream",
     "text": [
      "Procesando prestaciones_t2024.db:  51%|███   | 936/1822 [04:30<04:12,  3.51it/s]"
     ]
    },
    {
     "name": "stdout",
     "output_type": "stream",
     "text": [
      "Cargando: 51.37% completo\n"
     ]
    },
    {
     "name": "stderr",
     "output_type": "stream",
     "text": [
      "Procesando prestaciones_t2024.db:  51%|███   | 937/1822 [04:30<04:06,  3.60it/s]"
     ]
    },
    {
     "name": "stdout",
     "output_type": "stream",
     "text": [
      "Cargando: 51.43% completo\n"
     ]
    },
    {
     "name": "stderr",
     "output_type": "stream",
     "text": [
      "Procesando prestaciones_t2024.db:  51%|███   | 938/1822 [04:30<04:07,  3.58it/s]"
     ]
    },
    {
     "name": "stdout",
     "output_type": "stream",
     "text": [
      "Cargando: 51.48% completo\n"
     ]
    },
    {
     "name": "stderr",
     "output_type": "stream",
     "text": [
      "Procesando prestaciones_t2024.db:  52%|███   | 939/1822 [04:31<05:11,  2.84it/s]"
     ]
    },
    {
     "name": "stdout",
     "output_type": "stream",
     "text": [
      "Cargando: 51.54% completo\n"
     ]
    },
    {
     "name": "stderr",
     "output_type": "stream",
     "text": [
      "Procesando prestaciones_t2024.db:  52%|███   | 940/1822 [04:31<04:49,  3.05it/s]"
     ]
    },
    {
     "name": "stdout",
     "output_type": "stream",
     "text": [
      "Cargando: 51.59% completo\n"
     ]
    },
    {
     "name": "stderr",
     "output_type": "stream",
     "text": [
      "Procesando prestaciones_t2024.db:  52%|███   | 941/1822 [04:31<04:35,  3.19it/s]"
     ]
    },
    {
     "name": "stdout",
     "output_type": "stream",
     "text": [
      "Cargando: 51.65% completo\n"
     ]
    },
    {
     "name": "stderr",
     "output_type": "stream",
     "text": [
      "Procesando prestaciones_t2024.db:  52%|███   | 942/1822 [04:32<04:25,  3.31it/s]"
     ]
    },
    {
     "name": "stdout",
     "output_type": "stream",
     "text": [
      "Cargando: 51.70% completo\n"
     ]
    },
    {
     "name": "stderr",
     "output_type": "stream",
     "text": [
      "Procesando prestaciones_t2024.db:  52%|███   | 943/1822 [04:32<04:26,  3.30it/s]"
     ]
    },
    {
     "name": "stdout",
     "output_type": "stream",
     "text": [
      "Cargando: 51.76% completo\n"
     ]
    },
    {
     "name": "stderr",
     "output_type": "stream",
     "text": [
      "Procesando prestaciones_t2024.db:  52%|███   | 944/1822 [04:32<04:23,  3.34it/s]"
     ]
    },
    {
     "name": "stdout",
     "output_type": "stream",
     "text": [
      "Cargando: 51.81% completo\n"
     ]
    },
    {
     "name": "stderr",
     "output_type": "stream",
     "text": [
      "Procesando prestaciones_t2024.db:  52%|███   | 945/1822 [04:33<04:25,  3.30it/s]"
     ]
    },
    {
     "name": "stdout",
     "output_type": "stream",
     "text": [
      "Cargando: 51.87% completo\n"
     ]
    },
    {
     "name": "stderr",
     "output_type": "stream",
     "text": [
      "Procesando prestaciones_t2024.db:  52%|███   | 946/1822 [04:33<04:17,  3.40it/s]"
     ]
    },
    {
     "name": "stdout",
     "output_type": "stream",
     "text": [
      "Cargando: 51.92% completo\n"
     ]
    },
    {
     "name": "stderr",
     "output_type": "stream",
     "text": [
      "Procesando prestaciones_t2024.db:  52%|███   | 947/1822 [04:33<04:14,  3.44it/s]"
     ]
    },
    {
     "name": "stdout",
     "output_type": "stream",
     "text": [
      "Cargando: 51.98% completo\n"
     ]
    },
    {
     "name": "stderr",
     "output_type": "stream",
     "text": [
      "Procesando prestaciones_t2024.db:  52%|███   | 948/1822 [04:33<04:11,  3.48it/s]"
     ]
    },
    {
     "name": "stdout",
     "output_type": "stream",
     "text": [
      "Cargando: 52.03% completo\n"
     ]
    },
    {
     "name": "stderr",
     "output_type": "stream",
     "text": [
      "Procesando prestaciones_t2024.db:  52%|███▏  | 949/1822 [04:34<04:08,  3.51it/s]"
     ]
    },
    {
     "name": "stdout",
     "output_type": "stream",
     "text": [
      "Cargando: 52.09% completo\n"
     ]
    },
    {
     "name": "stderr",
     "output_type": "stream",
     "text": [
      "Procesando prestaciones_t2024.db:  52%|███▏  | 950/1822 [04:34<04:13,  3.44it/s]"
     ]
    },
    {
     "name": "stdout",
     "output_type": "stream",
     "text": [
      "Cargando: 52.14% completo\n"
     ]
    },
    {
     "name": "stderr",
     "output_type": "stream",
     "text": [
      "Procesando prestaciones_t2024.db:  52%|███▏  | 951/1822 [04:34<04:12,  3.46it/s]"
     ]
    },
    {
     "name": "stdout",
     "output_type": "stream",
     "text": [
      "Cargando: 52.20% completo\n"
     ]
    },
    {
     "name": "stderr",
     "output_type": "stream",
     "text": [
      "Procesando prestaciones_t2024.db:  52%|███▏  | 952/1822 [04:35<04:13,  3.43it/s]"
     ]
    },
    {
     "name": "stdout",
     "output_type": "stream",
     "text": [
      "Cargando: 52.25% completo\n"
     ]
    },
    {
     "name": "stderr",
     "output_type": "stream",
     "text": [
      "Procesando prestaciones_t2024.db:  52%|███▏  | 953/1822 [04:35<05:37,  2.57it/s]"
     ]
    },
    {
     "name": "stdout",
     "output_type": "stream",
     "text": [
      "Cargando: 52.31% completo\n"
     ]
    },
    {
     "name": "stderr",
     "output_type": "stream",
     "text": [
      "Procesando prestaciones_t2024.db:  52%|███▏  | 954/1822 [04:35<05:03,  2.86it/s]"
     ]
    },
    {
     "name": "stdout",
     "output_type": "stream",
     "text": [
      "Cargando: 52.36% completo\n"
     ]
    },
    {
     "name": "stderr",
     "output_type": "stream",
     "text": [
      "Procesando prestaciones_t2024.db:  52%|███▏  | 955/1822 [04:36<04:47,  3.02it/s]"
     ]
    },
    {
     "name": "stdout",
     "output_type": "stream",
     "text": [
      "Cargando: 52.41% completo\n"
     ]
    },
    {
     "name": "stderr",
     "output_type": "stream",
     "text": [
      "Procesando prestaciones_t2024.db:  52%|███▏  | 956/1822 [04:36<04:25,  3.26it/s]"
     ]
    },
    {
     "name": "stdout",
     "output_type": "stream",
     "text": [
      "Cargando: 52.47% completo\n"
     ]
    },
    {
     "name": "stderr",
     "output_type": "stream",
     "text": [
      "Procesando prestaciones_t2024.db:  53%|███▏  | 957/1822 [04:36<04:17,  3.35it/s]"
     ]
    },
    {
     "name": "stdout",
     "output_type": "stream",
     "text": [
      "Cargando: 52.52% completo\n"
     ]
    },
    {
     "name": "stderr",
     "output_type": "stream",
     "text": [
      "Procesando prestaciones_t2024.db:  53%|███▏  | 958/1822 [04:36<04:09,  3.46it/s]"
     ]
    },
    {
     "name": "stdout",
     "output_type": "stream",
     "text": [
      "Cargando: 52.58% completo\n"
     ]
    },
    {
     "name": "stderr",
     "output_type": "stream",
     "text": [
      "Procesando prestaciones_t2024.db:  53%|███▏  | 959/1822 [04:37<04:01,  3.57it/s]"
     ]
    },
    {
     "name": "stdout",
     "output_type": "stream",
     "text": [
      "Cargando: 52.63% completo\n"
     ]
    },
    {
     "name": "stderr",
     "output_type": "stream",
     "text": [
      "Procesando prestaciones_t2024.db:  53%|███▏  | 960/1822 [04:37<03:55,  3.66it/s]"
     ]
    },
    {
     "name": "stdout",
     "output_type": "stream",
     "text": [
      "Cargando: 52.69% completo\n"
     ]
    },
    {
     "name": "stderr",
     "output_type": "stream",
     "text": [
      "Procesando prestaciones_t2024.db:  53%|███▏  | 961/1822 [04:37<03:54,  3.67it/s]"
     ]
    },
    {
     "name": "stdout",
     "output_type": "stream",
     "text": [
      "Cargando: 52.74% completo\n"
     ]
    },
    {
     "name": "stderr",
     "output_type": "stream",
     "text": [
      "Procesando prestaciones_t2024.db:  53%|███▏  | 962/1822 [04:37<03:47,  3.79it/s]"
     ]
    },
    {
     "name": "stdout",
     "output_type": "stream",
     "text": [
      "Cargando: 52.80% completo\n"
     ]
    },
    {
     "name": "stderr",
     "output_type": "stream",
     "text": [
      "Procesando prestaciones_t2024.db:  53%|███▏  | 963/1822 [04:38<03:42,  3.85it/s]"
     ]
    },
    {
     "name": "stdout",
     "output_type": "stream",
     "text": [
      "Cargando: 52.85% completo\n"
     ]
    },
    {
     "name": "stderr",
     "output_type": "stream",
     "text": [
      "Procesando prestaciones_t2024.db:  53%|███▏  | 964/1822 [04:38<03:39,  3.91it/s]"
     ]
    },
    {
     "name": "stdout",
     "output_type": "stream",
     "text": [
      "Cargando: 52.91% completo\n"
     ]
    },
    {
     "name": "stderr",
     "output_type": "stream",
     "text": [
      "Procesando prestaciones_t2024.db:  53%|███▏  | 965/1822 [04:38<03:36,  3.96it/s]"
     ]
    },
    {
     "name": "stdout",
     "output_type": "stream",
     "text": [
      "Cargando: 52.96% completo\n"
     ]
    },
    {
     "name": "stderr",
     "output_type": "stream",
     "text": [
      "Procesando prestaciones_t2024.db:  53%|███▏  | 966/1822 [04:38<03:36,  3.95it/s]"
     ]
    },
    {
     "name": "stdout",
     "output_type": "stream",
     "text": [
      "Cargando: 53.02% completo\n"
     ]
    },
    {
     "name": "stderr",
     "output_type": "stream",
     "text": [
      "Procesando prestaciones_t2024.db:  53%|███▏  | 967/1822 [04:39<03:36,  3.96it/s]"
     ]
    },
    {
     "name": "stdout",
     "output_type": "stream",
     "text": [
      "Cargando: 53.07% completo\n"
     ]
    },
    {
     "name": "stderr",
     "output_type": "stream",
     "text": [
      "Procesando prestaciones_t2024.db:  53%|███▏  | 968/1822 [04:39<04:30,  3.16it/s]"
     ]
    },
    {
     "name": "stdout",
     "output_type": "stream",
     "text": [
      "Cargando: 53.13% completo\n"
     ]
    },
    {
     "name": "stderr",
     "output_type": "stream",
     "text": [
      "Procesando prestaciones_t2024.db:  53%|███▏  | 969/1822 [04:39<04:11,  3.39it/s]"
     ]
    },
    {
     "name": "stdout",
     "output_type": "stream",
     "text": [
      "Cargando: 53.18% completo\n"
     ]
    },
    {
     "name": "stderr",
     "output_type": "stream",
     "text": [
      "Procesando prestaciones_t2024.db:  53%|███▏  | 970/1822 [04:40<03:59,  3.56it/s]"
     ]
    },
    {
     "name": "stdout",
     "output_type": "stream",
     "text": [
      "Cargando: 53.24% completo\n"
     ]
    },
    {
     "name": "stderr",
     "output_type": "stream",
     "text": [
      "Procesando prestaciones_t2024.db:  53%|███▏  | 971/1822 [04:40<03:52,  3.67it/s]"
     ]
    },
    {
     "name": "stdout",
     "output_type": "stream",
     "text": [
      "Cargando: 53.29% completo\n"
     ]
    },
    {
     "name": "stderr",
     "output_type": "stream",
     "text": [
      "Procesando prestaciones_t2024.db:  53%|███▏  | 972/1822 [04:40<03:45,  3.76it/s]"
     ]
    },
    {
     "name": "stdout",
     "output_type": "stream",
     "text": [
      "Cargando: 53.35% completo\n"
     ]
    },
    {
     "name": "stderr",
     "output_type": "stream",
     "text": [
      "Procesando prestaciones_t2024.db:  53%|███▏  | 973/1822 [04:40<03:42,  3.82it/s]"
     ]
    },
    {
     "name": "stdout",
     "output_type": "stream",
     "text": [
      "Cargando: 53.40% completo\n"
     ]
    },
    {
     "name": "stderr",
     "output_type": "stream",
     "text": [
      "Procesando prestaciones_t2024.db:  53%|███▏  | 974/1822 [04:41<03:37,  3.91it/s]"
     ]
    },
    {
     "name": "stdout",
     "output_type": "stream",
     "text": [
      "Cargando: 53.46% completo\n"
     ]
    },
    {
     "name": "stderr",
     "output_type": "stream",
     "text": [
      "Procesando prestaciones_t2024.db:  54%|███▏  | 975/1822 [04:41<03:38,  3.88it/s]"
     ]
    },
    {
     "name": "stdout",
     "output_type": "stream",
     "text": [
      "Cargando: 53.51% completo\n"
     ]
    },
    {
     "name": "stderr",
     "output_type": "stream",
     "text": [
      "Procesando prestaciones_t2024.db:  54%|███▏  | 976/1822 [04:41<03:34,  3.94it/s]"
     ]
    },
    {
     "name": "stdout",
     "output_type": "stream",
     "text": [
      "Cargando: 53.57% completo\n"
     ]
    },
    {
     "name": "stderr",
     "output_type": "stream",
     "text": [
      "Procesando prestaciones_t2024.db:  54%|███▏  | 977/1822 [04:41<03:32,  3.97it/s]"
     ]
    },
    {
     "name": "stdout",
     "output_type": "stream",
     "text": [
      "Cargando: 53.62% completo\n"
     ]
    },
    {
     "name": "stderr",
     "output_type": "stream",
     "text": [
      "Procesando prestaciones_t2024.db:  54%|███▏  | 978/1822 [04:42<03:31,  3.99it/s]"
     ]
    },
    {
     "name": "stdout",
     "output_type": "stream",
     "text": [
      "Cargando: 53.68% completo\n"
     ]
    },
    {
     "name": "stderr",
     "output_type": "stream",
     "text": [
      "Procesando prestaciones_t2024.db:  54%|███▏  | 979/1822 [04:42<03:31,  3.98it/s]"
     ]
    },
    {
     "name": "stdout",
     "output_type": "stream",
     "text": [
      "Cargando: 53.73% completo\n"
     ]
    },
    {
     "name": "stderr",
     "output_type": "stream",
     "text": [
      "Procesando prestaciones_t2024.db:  54%|███▏  | 980/1822 [04:42<03:30,  3.99it/s]"
     ]
    },
    {
     "name": "stdout",
     "output_type": "stream",
     "text": [
      "Cargando: 53.79% completo\n"
     ]
    },
    {
     "name": "stderr",
     "output_type": "stream",
     "text": [
      "Procesando prestaciones_t2024.db:  54%|███▏  | 981/1822 [04:42<03:31,  3.97it/s]"
     ]
    },
    {
     "name": "stdout",
     "output_type": "stream",
     "text": [
      "Cargando: 53.84% completo\n"
     ]
    },
    {
     "name": "stderr",
     "output_type": "stream",
     "text": [
      "Procesando prestaciones_t2024.db:  54%|███▏  | 982/1822 [04:43<03:30,  4.00it/s]"
     ]
    },
    {
     "name": "stdout",
     "output_type": "stream",
     "text": [
      "Cargando: 53.90% completo\n"
     ]
    },
    {
     "name": "stderr",
     "output_type": "stream",
     "text": [
      "Procesando prestaciones_t2024.db:  54%|███▏  | 983/1822 [04:43<04:26,  3.14it/s]"
     ]
    },
    {
     "name": "stdout",
     "output_type": "stream",
     "text": [
      "Cargando: 53.95% completo\n"
     ]
    },
    {
     "name": "stderr",
     "output_type": "stream",
     "text": [
      "Procesando prestaciones_t2024.db:  54%|███▏  | 984/1822 [04:43<04:07,  3.38it/s]"
     ]
    },
    {
     "name": "stdout",
     "output_type": "stream",
     "text": [
      "Cargando: 54.01% completo\n"
     ]
    },
    {
     "name": "stderr",
     "output_type": "stream",
     "text": [
      "Procesando prestaciones_t2024.db:  54%|███▏  | 985/1822 [04:44<03:57,  3.52it/s]"
     ]
    },
    {
     "name": "stdout",
     "output_type": "stream",
     "text": [
      "Cargando: 54.06% completo\n"
     ]
    },
    {
     "name": "stderr",
     "output_type": "stream",
     "text": [
      "Procesando prestaciones_t2024.db:  54%|███▏  | 986/1822 [04:44<03:48,  3.66it/s]"
     ]
    },
    {
     "name": "stdout",
     "output_type": "stream",
     "text": [
      "Cargando: 54.12% completo\n"
     ]
    },
    {
     "name": "stderr",
     "output_type": "stream",
     "text": [
      "Procesando prestaciones_t2024.db:  54%|███▎  | 987/1822 [04:44<03:42,  3.75it/s]"
     ]
    },
    {
     "name": "stdout",
     "output_type": "stream",
     "text": [
      "Cargando: 54.17% completo\n"
     ]
    },
    {
     "name": "stderr",
     "output_type": "stream",
     "text": [
      "Procesando prestaciones_t2024.db:  54%|███▎  | 988/1822 [04:44<03:37,  3.84it/s]"
     ]
    },
    {
     "name": "stdout",
     "output_type": "stream",
     "text": [
      "Cargando: 54.23% completo\n"
     ]
    },
    {
     "name": "stderr",
     "output_type": "stream",
     "text": [
      "Procesando prestaciones_t2024.db:  54%|███▎  | 989/1822 [04:45<03:34,  3.88it/s]"
     ]
    },
    {
     "name": "stdout",
     "output_type": "stream",
     "text": [
      "Cargando: 54.28% completo\n"
     ]
    },
    {
     "name": "stderr",
     "output_type": "stream",
     "text": [
      "Procesando prestaciones_t2024.db:  54%|███▎  | 990/1822 [04:45<03:35,  3.87it/s]"
     ]
    },
    {
     "name": "stdout",
     "output_type": "stream",
     "text": [
      "Cargando: 54.34% completo\n"
     ]
    },
    {
     "name": "stderr",
     "output_type": "stream",
     "text": [
      "Procesando prestaciones_t2024.db:  54%|███▎  | 991/1822 [04:45<03:31,  3.93it/s]"
     ]
    },
    {
     "name": "stdout",
     "output_type": "stream",
     "text": [
      "Cargando: 54.39% completo\n"
     ]
    },
    {
     "name": "stderr",
     "output_type": "stream",
     "text": [
      "Procesando prestaciones_t2024.db:  54%|███▎  | 992/1822 [04:45<03:28,  3.98it/s]"
     ]
    },
    {
     "name": "stdout",
     "output_type": "stream",
     "text": [
      "Cargando: 54.45% completo\n"
     ]
    },
    {
     "name": "stderr",
     "output_type": "stream",
     "text": [
      "Procesando prestaciones_t2024.db:  55%|███▎  | 993/1822 [04:46<03:31,  3.91it/s]"
     ]
    },
    {
     "name": "stdout",
     "output_type": "stream",
     "text": [
      "Cargando: 54.50% completo\n"
     ]
    },
    {
     "name": "stderr",
     "output_type": "stream",
     "text": [
      "Procesando prestaciones_t2024.db:  55%|███▎  | 994/1822 [04:46<03:29,  3.95it/s]"
     ]
    },
    {
     "name": "stdout",
     "output_type": "stream",
     "text": [
      "Cargando: 54.56% completo\n"
     ]
    },
    {
     "name": "stderr",
     "output_type": "stream",
     "text": [
      "Procesando prestaciones_t2024.db:  55%|███▎  | 995/1822 [04:46<03:29,  3.96it/s]"
     ]
    },
    {
     "name": "stdout",
     "output_type": "stream",
     "text": [
      "Cargando: 54.61% completo\n"
     ]
    },
    {
     "name": "stderr",
     "output_type": "stream",
     "text": [
      "Procesando prestaciones_t2024.db:  55%|███▎  | 996/1822 [04:47<03:49,  3.60it/s]"
     ]
    },
    {
     "name": "stdout",
     "output_type": "stream",
     "text": [
      "Cargando: 54.67% completo\n"
     ]
    },
    {
     "name": "stderr",
     "output_type": "stream",
     "text": [
      "Procesando prestaciones_t2024.db:  55%|███▎  | 997/1822 [04:47<03:40,  3.73it/s]"
     ]
    },
    {
     "name": "stdout",
     "output_type": "stream",
     "text": [
      "Cargando: 54.72% completo\n"
     ]
    },
    {
     "name": "stderr",
     "output_type": "stream",
     "text": [
      "Procesando prestaciones_t2024.db:  55%|███▎  | 998/1822 [04:47<04:30,  3.04it/s]"
     ]
    },
    {
     "name": "stdout",
     "output_type": "stream",
     "text": [
      "Cargando: 54.77% completo\n"
     ]
    },
    {
     "name": "stderr",
     "output_type": "stream",
     "text": [
      "Procesando prestaciones_t2024.db:  55%|███▎  | 999/1822 [04:47<04:10,  3.28it/s]"
     ]
    },
    {
     "name": "stdout",
     "output_type": "stream",
     "text": [
      "Cargando: 54.83% completo\n"
     ]
    },
    {
     "name": "stderr",
     "output_type": "stream",
     "text": [
      "Procesando prestaciones_t2024.db:  55%|██▋  | 1000/1822 [04:48<03:56,  3.47it/s]"
     ]
    },
    {
     "name": "stdout",
     "output_type": "stream",
     "text": [
      "Cargando: 54.88% completo\n"
     ]
    },
    {
     "name": "stderr",
     "output_type": "stream",
     "text": [
      "Procesando prestaciones_t2024.db:  55%|██▋  | 1001/1822 [04:48<03:48,  3.60it/s]"
     ]
    },
    {
     "name": "stdout",
     "output_type": "stream",
     "text": [
      "Cargando: 54.94% completo\n"
     ]
    },
    {
     "name": "stderr",
     "output_type": "stream",
     "text": [
      "Procesando prestaciones_t2024.db:  55%|██▋  | 1002/1822 [04:48<03:41,  3.70it/s]"
     ]
    },
    {
     "name": "stdout",
     "output_type": "stream",
     "text": [
      "Cargando: 54.99% completo\n"
     ]
    },
    {
     "name": "stderr",
     "output_type": "stream",
     "text": [
      "Procesando prestaciones_t2024.db:  55%|██▊  | 1003/1822 [04:48<03:37,  3.77it/s]"
     ]
    },
    {
     "name": "stdout",
     "output_type": "stream",
     "text": [
      "Cargando: 55.05% completo\n"
     ]
    },
    {
     "name": "stderr",
     "output_type": "stream",
     "text": [
      "Procesando prestaciones_t2024.db:  55%|██▊  | 1004/1822 [04:49<03:34,  3.81it/s]"
     ]
    },
    {
     "name": "stdout",
     "output_type": "stream",
     "text": [
      "Cargando: 55.10% completo\n"
     ]
    },
    {
     "name": "stderr",
     "output_type": "stream",
     "text": [
      "Procesando prestaciones_t2024.db:  55%|██▊  | 1005/1822 [04:49<03:35,  3.80it/s]"
     ]
    },
    {
     "name": "stdout",
     "output_type": "stream",
     "text": [
      "Cargando: 55.16% completo\n"
     ]
    },
    {
     "name": "stderr",
     "output_type": "stream",
     "text": [
      "Procesando prestaciones_t2024.db:  55%|██▊  | 1006/1822 [04:49<03:31,  3.86it/s]"
     ]
    },
    {
     "name": "stdout",
     "output_type": "stream",
     "text": [
      "Cargando: 55.21% completo\n"
     ]
    },
    {
     "name": "stderr",
     "output_type": "stream",
     "text": [
      "Procesando prestaciones_t2024.db:  55%|██▊  | 1007/1822 [04:50<03:28,  3.91it/s]"
     ]
    },
    {
     "name": "stdout",
     "output_type": "stream",
     "text": [
      "Cargando: 55.27% completo\n"
     ]
    },
    {
     "name": "stderr",
     "output_type": "stream",
     "text": [
      "Procesando prestaciones_t2024.db:  55%|██▊  | 1008/1822 [04:50<03:27,  3.93it/s]"
     ]
    },
    {
     "name": "stdout",
     "output_type": "stream",
     "text": [
      "Cargando: 55.32% completo\n"
     ]
    },
    {
     "name": "stderr",
     "output_type": "stream",
     "text": [
      "Procesando prestaciones_t2024.db:  55%|██▊  | 1009/1822 [04:50<03:26,  3.93it/s]"
     ]
    },
    {
     "name": "stdout",
     "output_type": "stream",
     "text": [
      "Cargando: 55.38% completo\n"
     ]
    },
    {
     "name": "stderr",
     "output_type": "stream",
     "text": [
      "Procesando prestaciones_t2024.db:  55%|██▊  | 1010/1822 [04:50<03:23,  3.98it/s]"
     ]
    },
    {
     "name": "stdout",
     "output_type": "stream",
     "text": [
      "Cargando: 55.43% completo\n"
     ]
    },
    {
     "name": "stderr",
     "output_type": "stream",
     "text": [
      "Procesando prestaciones_t2024.db:  55%|██▊  | 1011/1822 [04:51<03:25,  3.96it/s]"
     ]
    },
    {
     "name": "stdout",
     "output_type": "stream",
     "text": [
      "Cargando: 55.49% completo\n"
     ]
    },
    {
     "name": "stderr",
     "output_type": "stream",
     "text": [
      "Procesando prestaciones_t2024.db:  56%|██▊  | 1012/1822 [04:51<03:22,  4.00it/s]"
     ]
    },
    {
     "name": "stdout",
     "output_type": "stream",
     "text": [
      "Cargando: 55.54% completo\n"
     ]
    },
    {
     "name": "stderr",
     "output_type": "stream",
     "text": [
      "Procesando prestaciones_t2024.db:  56%|██▊  | 1013/1822 [04:51<03:23,  3.97it/s]"
     ]
    },
    {
     "name": "stdout",
     "output_type": "stream",
     "text": [
      "Cargando: 55.60% completo\n"
     ]
    },
    {
     "name": "stderr",
     "output_type": "stream",
     "text": [
      "Procesando prestaciones_t2024.db:  56%|██▊  | 1014/1822 [04:52<04:22,  3.08it/s]"
     ]
    },
    {
     "name": "stdout",
     "output_type": "stream",
     "text": [
      "Cargando: 55.65% completo\n"
     ]
    },
    {
     "name": "stderr",
     "output_type": "stream",
     "text": [
      "Procesando prestaciones_t2024.db:  56%|██▊  | 1015/1822 [04:52<04:09,  3.23it/s]"
     ]
    },
    {
     "name": "stdout",
     "output_type": "stream",
     "text": [
      "Cargando: 55.71% completo\n"
     ]
    },
    {
     "name": "stderr",
     "output_type": "stream",
     "text": [
      "Procesando prestaciones_t2024.db:  56%|██▊  | 1016/1822 [04:52<03:50,  3.49it/s]"
     ]
    },
    {
     "name": "stdout",
     "output_type": "stream",
     "text": [
      "Cargando: 55.76% completo\n"
     ]
    },
    {
     "name": "stderr",
     "output_type": "stream",
     "text": [
      "Procesando prestaciones_t2024.db:  56%|██▊  | 1017/1822 [04:52<03:44,  3.58it/s]"
     ]
    },
    {
     "name": "stdout",
     "output_type": "stream",
     "text": [
      "Cargando: 55.82% completo\n"
     ]
    },
    {
     "name": "stderr",
     "output_type": "stream",
     "text": [
      "Procesando prestaciones_t2024.db:  56%|██▊  | 1018/1822 [04:53<03:33,  3.76it/s]"
     ]
    },
    {
     "name": "stdout",
     "output_type": "stream",
     "text": [
      "Cargando: 55.87% completo\n"
     ]
    },
    {
     "name": "stderr",
     "output_type": "stream",
     "text": [
      "Procesando prestaciones_t2024.db:  56%|██▊  | 1019/1822 [04:53<03:32,  3.78it/s]"
     ]
    },
    {
     "name": "stdout",
     "output_type": "stream",
     "text": [
      "Cargando: 55.93% completo\n"
     ]
    },
    {
     "name": "stderr",
     "output_type": "stream",
     "text": [
      "Procesando prestaciones_t2024.db:  56%|██▊  | 1020/1822 [04:53<03:26,  3.88it/s]"
     ]
    },
    {
     "name": "stdout",
     "output_type": "stream",
     "text": [
      "Cargando: 55.98% completo\n"
     ]
    },
    {
     "name": "stderr",
     "output_type": "stream",
     "text": [
      "Procesando prestaciones_t2024.db:  56%|██▊  | 1021/1822 [04:53<03:26,  3.87it/s]"
     ]
    },
    {
     "name": "stdout",
     "output_type": "stream",
     "text": [
      "Cargando: 56.04% completo\n"
     ]
    },
    {
     "name": "stderr",
     "output_type": "stream",
     "text": [
      "Procesando prestaciones_t2024.db:  56%|██▊  | 1022/1822 [04:54<03:25,  3.89it/s]"
     ]
    },
    {
     "name": "stdout",
     "output_type": "stream",
     "text": [
      "Cargando: 56.09% completo\n"
     ]
    },
    {
     "name": "stderr",
     "output_type": "stream",
     "text": [
      "Procesando prestaciones_t2024.db:  56%|██▊  | 1023/1822 [04:54<03:27,  3.85it/s]"
     ]
    },
    {
     "name": "stdout",
     "output_type": "stream",
     "text": [
      "Cargando: 56.15% completo\n"
     ]
    },
    {
     "name": "stderr",
     "output_type": "stream",
     "text": [
      "Procesando prestaciones_t2024.db:  56%|██▊  | 1024/1822 [04:54<03:21,  3.97it/s]"
     ]
    },
    {
     "name": "stdout",
     "output_type": "stream",
     "text": [
      "Cargando: 56.20% completo\n"
     ]
    },
    {
     "name": "stderr",
     "output_type": "stream",
     "text": [
      "Procesando prestaciones_t2024.db:  56%|██▊  | 1025/1822 [04:54<03:22,  3.93it/s]"
     ]
    },
    {
     "name": "stdout",
     "output_type": "stream",
     "text": [
      "Cargando: 56.26% completo\n"
     ]
    },
    {
     "name": "stderr",
     "output_type": "stream",
     "text": [
      "Procesando prestaciones_t2024.db:  56%|██▊  | 1026/1822 [04:55<03:21,  3.96it/s]"
     ]
    },
    {
     "name": "stdout",
     "output_type": "stream",
     "text": [
      "Cargando: 56.31% completo\n"
     ]
    },
    {
     "name": "stderr",
     "output_type": "stream",
     "text": [
      "Procesando prestaciones_t2024.db:  56%|██▊  | 1027/1822 [04:55<04:03,  3.26it/s]"
     ]
    },
    {
     "name": "stdout",
     "output_type": "stream",
     "text": [
      "Cargando: 56.37% completo\n"
     ]
    },
    {
     "name": "stderr",
     "output_type": "stream",
     "text": [
      "Procesando prestaciones_t2024.db:  56%|██▊  | 1028/1822 [04:55<03:47,  3.48it/s]"
     ]
    },
    {
     "name": "stdout",
     "output_type": "stream",
     "text": [
      "Cargando: 56.42% completo\n"
     ]
    },
    {
     "name": "stderr",
     "output_type": "stream",
     "text": [
      "Procesando prestaciones_t2024.db:  56%|██▊  | 1029/1822 [04:55<03:39,  3.61it/s]"
     ]
    },
    {
     "name": "stdout",
     "output_type": "stream",
     "text": [
      "Cargando: 56.48% completo\n"
     ]
    },
    {
     "name": "stderr",
     "output_type": "stream",
     "text": [
      "Procesando prestaciones_t2024.db:  57%|██▊  | 1030/1822 [04:56<03:33,  3.71it/s]"
     ]
    },
    {
     "name": "stdout",
     "output_type": "stream",
     "text": [
      "Cargando: 56.53% completo\n"
     ]
    },
    {
     "name": "stderr",
     "output_type": "stream",
     "text": [
      "Procesando prestaciones_t2024.db:  57%|██▊  | 1031/1822 [04:56<03:27,  3.80it/s]"
     ]
    },
    {
     "name": "stdout",
     "output_type": "stream",
     "text": [
      "Cargando: 56.59% completo\n"
     ]
    },
    {
     "name": "stderr",
     "output_type": "stream",
     "text": [
      "Procesando prestaciones_t2024.db:  57%|██▊  | 1032/1822 [04:56<03:26,  3.82it/s]"
     ]
    },
    {
     "name": "stdout",
     "output_type": "stream",
     "text": [
      "Cargando: 56.64% completo\n"
     ]
    },
    {
     "name": "stderr",
     "output_type": "stream",
     "text": [
      "Procesando prestaciones_t2024.db:  57%|██▊  | 1033/1822 [04:56<03:23,  3.88it/s]"
     ]
    },
    {
     "name": "stdout",
     "output_type": "stream",
     "text": [
      "Cargando: 56.70% completo\n"
     ]
    },
    {
     "name": "stderr",
     "output_type": "stream",
     "text": [
      "Procesando prestaciones_t2024.db:  57%|██▊  | 1034/1822 [04:57<03:20,  3.92it/s]"
     ]
    },
    {
     "name": "stdout",
     "output_type": "stream",
     "text": [
      "Cargando: 56.75% completo\n"
     ]
    },
    {
     "name": "stderr",
     "output_type": "stream",
     "text": [
      "Procesando prestaciones_t2024.db:  57%|██▊  | 1035/1822 [04:57<03:21,  3.91it/s]"
     ]
    },
    {
     "name": "stdout",
     "output_type": "stream",
     "text": [
      "Cargando: 56.81% completo\n"
     ]
    },
    {
     "name": "stderr",
     "output_type": "stream",
     "text": [
      "Procesando prestaciones_t2024.db:  57%|██▊  | 1036/1822 [04:57<03:20,  3.92it/s]"
     ]
    },
    {
     "name": "stdout",
     "output_type": "stream",
     "text": [
      "Cargando: 56.86% completo\n"
     ]
    },
    {
     "name": "stderr",
     "output_type": "stream",
     "text": [
      "Procesando prestaciones_t2024.db:  57%|██▊  | 1037/1822 [04:57<03:18,  3.95it/s]"
     ]
    },
    {
     "name": "stdout",
     "output_type": "stream",
     "text": [
      "Cargando: 56.92% completo\n"
     ]
    },
    {
     "name": "stderr",
     "output_type": "stream",
     "text": [
      "Procesando prestaciones_t2024.db:  57%|██▊  | 1038/1822 [04:58<03:18,  3.95it/s]"
     ]
    },
    {
     "name": "stdout",
     "output_type": "stream",
     "text": [
      "Cargando: 56.97% completo\n"
     ]
    },
    {
     "name": "stderr",
     "output_type": "stream",
     "text": [
      "Procesando prestaciones_t2024.db:  57%|██▊  | 1039/1822 [04:58<04:23,  2.97it/s]"
     ]
    },
    {
     "name": "stdout",
     "output_type": "stream",
     "text": [
      "Cargando: 57.03% completo\n"
     ]
    },
    {
     "name": "stderr",
     "output_type": "stream",
     "text": [
      "Procesando prestaciones_t2024.db:  57%|██▊  | 1040/1822 [04:59<04:03,  3.21it/s]"
     ]
    },
    {
     "name": "stdout",
     "output_type": "stream",
     "text": [
      "Cargando: 57.08% completo\n"
     ]
    },
    {
     "name": "stderr",
     "output_type": "stream",
     "text": [
      "Procesando prestaciones_t2024.db:  57%|██▊  | 1041/1822 [04:59<03:48,  3.42it/s]"
     ]
    },
    {
     "name": "stdout",
     "output_type": "stream",
     "text": [
      "Cargando: 57.14% completo\n"
     ]
    },
    {
     "name": "stderr",
     "output_type": "stream",
     "text": [
      "Procesando prestaciones_t2024.db:  57%|██▊  | 1042/1822 [04:59<03:40,  3.55it/s]"
     ]
    },
    {
     "name": "stdout",
     "output_type": "stream",
     "text": [
      "Cargando: 57.19% completo\n"
     ]
    },
    {
     "name": "stderr",
     "output_type": "stream",
     "text": [
      "Procesando prestaciones_t2024.db:  57%|██▊  | 1043/1822 [04:59<03:32,  3.67it/s]"
     ]
    },
    {
     "name": "stdout",
     "output_type": "stream",
     "text": [
      "Cargando: 57.24% completo\n"
     ]
    },
    {
     "name": "stderr",
     "output_type": "stream",
     "text": [
      "Procesando prestaciones_t2024.db:  57%|██▊  | 1044/1822 [05:00<03:25,  3.78it/s]"
     ]
    },
    {
     "name": "stdout",
     "output_type": "stream",
     "text": [
      "Cargando: 57.30% completo\n"
     ]
    },
    {
     "name": "stderr",
     "output_type": "stream",
     "text": [
      "Procesando prestaciones_t2024.db:  57%|██▊  | 1045/1822 [05:00<03:23,  3.83it/s]"
     ]
    },
    {
     "name": "stdout",
     "output_type": "stream",
     "text": [
      "Cargando: 57.35% completo\n"
     ]
    },
    {
     "name": "stderr",
     "output_type": "stream",
     "text": [
      "Procesando prestaciones_t2024.db:  57%|██▊  | 1046/1822 [05:00<03:19,  3.88it/s]"
     ]
    },
    {
     "name": "stdout",
     "output_type": "stream",
     "text": [
      "Cargando: 57.41% completo\n"
     ]
    },
    {
     "name": "stderr",
     "output_type": "stream",
     "text": [
      "Procesando prestaciones_t2024.db:  57%|██▊  | 1047/1822 [05:00<03:20,  3.87it/s]"
     ]
    },
    {
     "name": "stdout",
     "output_type": "stream",
     "text": [
      "Cargando: 57.46% completo\n"
     ]
    },
    {
     "name": "stderr",
     "output_type": "stream",
     "text": [
      "Procesando prestaciones_t2024.db:  58%|██▉  | 1048/1822 [05:01<03:14,  3.97it/s]"
     ]
    },
    {
     "name": "stdout",
     "output_type": "stream",
     "text": [
      "Cargando: 57.52% completo\n"
     ]
    },
    {
     "name": "stderr",
     "output_type": "stream",
     "text": [
      "Procesando prestaciones_t2024.db:  58%|██▉  | 1049/1822 [05:01<03:14,  3.98it/s]"
     ]
    },
    {
     "name": "stdout",
     "output_type": "stream",
     "text": [
      "Cargando: 57.57% completo\n"
     ]
    },
    {
     "name": "stderr",
     "output_type": "stream",
     "text": [
      "Procesando prestaciones_t2024.db:  58%|██▉  | 1050/1822 [05:01<03:14,  3.97it/s]"
     ]
    },
    {
     "name": "stdout",
     "output_type": "stream",
     "text": [
      "Cargando: 57.63% completo\n"
     ]
    },
    {
     "name": "stderr",
     "output_type": "stream",
     "text": [
      "Procesando prestaciones_t2024.db:  58%|██▉  | 1051/1822 [05:01<03:58,  3.23it/s]"
     ]
    },
    {
     "name": "stdout",
     "output_type": "stream",
     "text": [
      "Cargando: 57.68% completo\n"
     ]
    },
    {
     "name": "stderr",
     "output_type": "stream",
     "text": [
      "Procesando prestaciones_t2024.db:  58%|██▉  | 1052/1822 [05:02<03:43,  3.45it/s]"
     ]
    },
    {
     "name": "stdout",
     "output_type": "stream",
     "text": [
      "Cargando: 57.74% completo\n"
     ]
    },
    {
     "name": "stderr",
     "output_type": "stream",
     "text": [
      "Procesando prestaciones_t2024.db:  58%|██▉  | 1053/1822 [05:02<03:33,  3.59it/s]"
     ]
    },
    {
     "name": "stdout",
     "output_type": "stream",
     "text": [
      "Cargando: 57.79% completo\n"
     ]
    },
    {
     "name": "stderr",
     "output_type": "stream",
     "text": [
      "Procesando prestaciones_t2024.db:  58%|██▉  | 1054/1822 [05:02<03:26,  3.73it/s]"
     ]
    },
    {
     "name": "stdout",
     "output_type": "stream",
     "text": [
      "Cargando: 57.85% completo\n"
     ]
    },
    {
     "name": "stderr",
     "output_type": "stream",
     "text": [
      "Procesando prestaciones_t2024.db:  58%|██▉  | 1055/1822 [05:02<03:22,  3.79it/s]"
     ]
    },
    {
     "name": "stdout",
     "output_type": "stream",
     "text": [
      "Cargando: 57.90% completo\n"
     ]
    },
    {
     "name": "stderr",
     "output_type": "stream",
     "text": [
      "Procesando prestaciones_t2024.db:  58%|██▉  | 1056/1822 [05:03<03:20,  3.83it/s]"
     ]
    },
    {
     "name": "stdout",
     "output_type": "stream",
     "text": [
      "Cargando: 57.96% completo\n"
     ]
    },
    {
     "name": "stderr",
     "output_type": "stream",
     "text": [
      "Procesando prestaciones_t2024.db:  58%|██▉  | 1057/1822 [05:03<03:18,  3.85it/s]"
     ]
    },
    {
     "name": "stdout",
     "output_type": "stream",
     "text": [
      "Cargando: 58.01% completo\n"
     ]
    },
    {
     "name": "stderr",
     "output_type": "stream",
     "text": [
      "Procesando prestaciones_t2024.db:  58%|██▉  | 1058/1822 [05:03<03:16,  3.89it/s]"
     ]
    },
    {
     "name": "stdout",
     "output_type": "stream",
     "text": [
      "Cargando: 58.07% completo\n"
     ]
    },
    {
     "name": "stderr",
     "output_type": "stream",
     "text": [
      "Procesando prestaciones_t2024.db:  58%|██▉  | 1059/1822 [05:03<03:15,  3.91it/s]"
     ]
    },
    {
     "name": "stdout",
     "output_type": "stream",
     "text": [
      "Cargando: 58.12% completo\n"
     ]
    },
    {
     "name": "stderr",
     "output_type": "stream",
     "text": [
      "Procesando prestaciones_t2024.db:  58%|██▉  | 1060/1822 [05:04<03:14,  3.92it/s]"
     ]
    },
    {
     "name": "stdout",
     "output_type": "stream",
     "text": [
      "Cargando: 58.18% completo\n"
     ]
    },
    {
     "name": "stderr",
     "output_type": "stream",
     "text": [
      "Procesando prestaciones_t2024.db:  58%|██▉  | 1061/1822 [05:04<03:13,  3.93it/s]"
     ]
    },
    {
     "name": "stdout",
     "output_type": "stream",
     "text": [
      "Cargando: 58.23% completo\n"
     ]
    },
    {
     "name": "stderr",
     "output_type": "stream",
     "text": [
      "Procesando prestaciones_t2024.db:  58%|██▉  | 1062/1822 [05:04<03:13,  3.93it/s]"
     ]
    },
    {
     "name": "stdout",
     "output_type": "stream",
     "text": [
      "Cargando: 58.29% completo\n"
     ]
    },
    {
     "name": "stderr",
     "output_type": "stream",
     "text": [
      "Procesando prestaciones_t2024.db:  58%|██▉  | 1063/1822 [05:04<03:12,  3.95it/s]"
     ]
    },
    {
     "name": "stdout",
     "output_type": "stream",
     "text": [
      "Cargando: 58.34% completo\n"
     ]
    },
    {
     "name": "stderr",
     "output_type": "stream",
     "text": [
      "Procesando prestaciones_t2024.db:  58%|██▉  | 1064/1822 [05:05<03:53,  3.25it/s]"
     ]
    },
    {
     "name": "stdout",
     "output_type": "stream",
     "text": [
      "Cargando: 58.40% completo\n"
     ]
    },
    {
     "name": "stderr",
     "output_type": "stream",
     "text": [
      "Procesando prestaciones_t2024.db:  58%|██▉  | 1065/1822 [05:05<03:40,  3.44it/s]"
     ]
    },
    {
     "name": "stdout",
     "output_type": "stream",
     "text": [
      "Cargando: 58.45% completo\n"
     ]
    },
    {
     "name": "stderr",
     "output_type": "stream",
     "text": [
      "Procesando prestaciones_t2024.db:  59%|██▉  | 1066/1822 [05:05<03:30,  3.59it/s]"
     ]
    },
    {
     "name": "stdout",
     "output_type": "stream",
     "text": [
      "Cargando: 58.51% completo\n"
     ]
    },
    {
     "name": "stderr",
     "output_type": "stream",
     "text": [
      "Procesando prestaciones_t2024.db:  59%|██▉  | 1067/1822 [05:06<03:24,  3.68it/s]"
     ]
    },
    {
     "name": "stdout",
     "output_type": "stream",
     "text": [
      "Cargando: 58.56% completo\n"
     ]
    },
    {
     "name": "stderr",
     "output_type": "stream",
     "text": [
      "Procesando prestaciones_t2024.db:  59%|██▉  | 1068/1822 [05:06<03:19,  3.78it/s]"
     ]
    },
    {
     "name": "stdout",
     "output_type": "stream",
     "text": [
      "Cargando: 58.62% completo\n"
     ]
    },
    {
     "name": "stderr",
     "output_type": "stream",
     "text": [
      "Procesando prestaciones_t2024.db:  59%|██▉  | 1069/1822 [05:06<03:17,  3.82it/s]"
     ]
    },
    {
     "name": "stdout",
     "output_type": "stream",
     "text": [
      "Cargando: 58.67% completo\n"
     ]
    },
    {
     "name": "stderr",
     "output_type": "stream",
     "text": [
      "Procesando prestaciones_t2024.db:  59%|██▉  | 1070/1822 [05:06<03:15,  3.86it/s]"
     ]
    },
    {
     "name": "stdout",
     "output_type": "stream",
     "text": [
      "Cargando: 58.73% completo\n"
     ]
    },
    {
     "name": "stderr",
     "output_type": "stream",
     "text": [
      "Procesando prestaciones_t2024.db:  59%|██▉  | 1071/1822 [05:07<03:13,  3.88it/s]"
     ]
    },
    {
     "name": "stdout",
     "output_type": "stream",
     "text": [
      "Cargando: 58.78% completo\n"
     ]
    },
    {
     "name": "stderr",
     "output_type": "stream",
     "text": [
      "Procesando prestaciones_t2024.db:  59%|██▉  | 1072/1822 [05:07<03:11,  3.92it/s]"
     ]
    },
    {
     "name": "stdout",
     "output_type": "stream",
     "text": [
      "Cargando: 58.84% completo\n"
     ]
    },
    {
     "name": "stderr",
     "output_type": "stream",
     "text": [
      "Procesando prestaciones_t2024.db:  59%|██▉  | 1073/1822 [05:07<03:14,  3.86it/s]"
     ]
    },
    {
     "name": "stdout",
     "output_type": "stream",
     "text": [
      "Cargando: 58.89% completo\n"
     ]
    },
    {
     "name": "stderr",
     "output_type": "stream",
     "text": [
      "Procesando prestaciones_t2024.db:  59%|██▉  | 1074/1822 [05:07<03:09,  3.95it/s]"
     ]
    },
    {
     "name": "stdout",
     "output_type": "stream",
     "text": [
      "Cargando: 58.95% completo\n"
     ]
    },
    {
     "name": "stderr",
     "output_type": "stream",
     "text": [
      "Procesando prestaciones_t2024.db:  59%|██▉  | 1075/1822 [05:08<03:10,  3.93it/s]"
     ]
    },
    {
     "name": "stdout",
     "output_type": "stream",
     "text": [
      "Cargando: 59.00% completo\n"
     ]
    },
    {
     "name": "stderr",
     "output_type": "stream",
     "text": [
      "Procesando prestaciones_t2024.db:  59%|██▉  | 1076/1822 [05:08<03:09,  3.94it/s]"
     ]
    },
    {
     "name": "stdout",
     "output_type": "stream",
     "text": [
      "Cargando: 59.06% completo\n"
     ]
    },
    {
     "name": "stderr",
     "output_type": "stream",
     "text": [
      "Procesando prestaciones_t2024.db:  59%|██▉  | 1077/1822 [05:08<03:50,  3.23it/s]"
     ]
    },
    {
     "name": "stdout",
     "output_type": "stream",
     "text": [
      "Cargando: 59.11% completo\n"
     ]
    },
    {
     "name": "stderr",
     "output_type": "stream",
     "text": [
      "Procesando prestaciones_t2024.db:  59%|██▉  | 1078/1822 [05:09<03:34,  3.46it/s]"
     ]
    },
    {
     "name": "stdout",
     "output_type": "stream",
     "text": [
      "Cargando: 59.17% completo\n"
     ]
    },
    {
     "name": "stderr",
     "output_type": "stream",
     "text": [
      "Procesando prestaciones_t2024.db:  59%|██▉  | 1079/1822 [05:09<03:30,  3.54it/s]"
     ]
    },
    {
     "name": "stdout",
     "output_type": "stream",
     "text": [
      "Cargando: 59.22% completo\n"
     ]
    },
    {
     "name": "stderr",
     "output_type": "stream",
     "text": [
      "Procesando prestaciones_t2024.db:  59%|██▉  | 1080/1822 [05:09<03:21,  3.68it/s]"
     ]
    },
    {
     "name": "stdout",
     "output_type": "stream",
     "text": [
      "Cargando: 59.28% completo\n"
     ]
    },
    {
     "name": "stderr",
     "output_type": "stream",
     "text": [
      "Procesando prestaciones_t2024.db:  59%|██▉  | 1081/1822 [05:10<03:41,  3.35it/s]"
     ]
    },
    {
     "name": "stdout",
     "output_type": "stream",
     "text": [
      "Cargando: 59.33% completo\n"
     ]
    },
    {
     "name": "stderr",
     "output_type": "stream",
     "text": [
      "Procesando prestaciones_t2024.db:  59%|██▉  | 1082/1822 [05:10<03:28,  3.55it/s]"
     ]
    },
    {
     "name": "stdout",
     "output_type": "stream",
     "text": [
      "Cargando: 59.39% completo\n"
     ]
    },
    {
     "name": "stderr",
     "output_type": "stream",
     "text": [
      "Procesando prestaciones_t2024.db:  59%|██▉  | 1083/1822 [05:10<03:23,  3.63it/s]"
     ]
    },
    {
     "name": "stdout",
     "output_type": "stream",
     "text": [
      "Cargando: 59.44% completo\n"
     ]
    },
    {
     "name": "stderr",
     "output_type": "stream",
     "text": [
      "Procesando prestaciones_t2024.db:  59%|██▉  | 1084/1822 [05:10<03:18,  3.72it/s]"
     ]
    },
    {
     "name": "stdout",
     "output_type": "stream",
     "text": [
      "Cargando: 59.50% completo\n"
     ]
    },
    {
     "name": "stderr",
     "output_type": "stream",
     "text": [
      "Procesando prestaciones_t2024.db:  60%|██▉  | 1085/1822 [05:11<03:15,  3.77it/s]"
     ]
    },
    {
     "name": "stdout",
     "output_type": "stream",
     "text": [
      "Cargando: 59.55% completo\n"
     ]
    },
    {
     "name": "stderr",
     "output_type": "stream",
     "text": [
      "Procesando prestaciones_t2024.db:  60%|██▉  | 1086/1822 [05:11<03:12,  3.83it/s]"
     ]
    },
    {
     "name": "stdout",
     "output_type": "stream",
     "text": [
      "Cargando: 59.60% completo\n"
     ]
    },
    {
     "name": "stderr",
     "output_type": "stream",
     "text": [
      "Procesando prestaciones_t2024.db:  60%|██▉  | 1087/1822 [05:11<03:10,  3.86it/s]"
     ]
    },
    {
     "name": "stdout",
     "output_type": "stream",
     "text": [
      "Cargando: 59.66% completo\n"
     ]
    },
    {
     "name": "stderr",
     "output_type": "stream",
     "text": [
      "Procesando prestaciones_t2024.db:  60%|██▉  | 1088/1822 [05:11<03:10,  3.86it/s]"
     ]
    },
    {
     "name": "stdout",
     "output_type": "stream",
     "text": [
      "Cargando: 59.71% completo\n"
     ]
    },
    {
     "name": "stderr",
     "output_type": "stream",
     "text": [
      "Procesando prestaciones_t2024.db:  60%|██▉  | 1089/1822 [05:12<03:51,  3.16it/s]"
     ]
    },
    {
     "name": "stdout",
     "output_type": "stream",
     "text": [
      "Cargando: 59.77% completo\n"
     ]
    },
    {
     "name": "stderr",
     "output_type": "stream",
     "text": [
      "Procesando prestaciones_t2024.db:  60%|██▉  | 1090/1822 [05:12<03:36,  3.38it/s]"
     ]
    },
    {
     "name": "stdout",
     "output_type": "stream",
     "text": [
      "Cargando: 59.82% completo\n"
     ]
    },
    {
     "name": "stderr",
     "output_type": "stream",
     "text": [
      "Procesando prestaciones_t2024.db:  60%|██▉  | 1091/1822 [05:12<03:27,  3.52it/s]"
     ]
    },
    {
     "name": "stdout",
     "output_type": "stream",
     "text": [
      "Cargando: 59.88% completo\n"
     ]
    },
    {
     "name": "stderr",
     "output_type": "stream",
     "text": [
      "Procesando prestaciones_t2024.db:  60%|██▉  | 1092/1822 [05:13<03:20,  3.65it/s]"
     ]
    },
    {
     "name": "stdout",
     "output_type": "stream",
     "text": [
      "Cargando: 59.93% completo\n"
     ]
    },
    {
     "name": "stderr",
     "output_type": "stream",
     "text": [
      "Procesando prestaciones_t2024.db:  60%|██▉  | 1093/1822 [05:13<03:15,  3.72it/s]"
     ]
    },
    {
     "name": "stdout",
     "output_type": "stream",
     "text": [
      "Cargando: 59.99% completo\n"
     ]
    },
    {
     "name": "stderr",
     "output_type": "stream",
     "text": [
      "Procesando prestaciones_t2024.db:  60%|███  | 1094/1822 [05:13<03:11,  3.81it/s]"
     ]
    },
    {
     "name": "stdout",
     "output_type": "stream",
     "text": [
      "Cargando: 60.04% completo\n"
     ]
    },
    {
     "name": "stderr",
     "output_type": "stream",
     "text": [
      "Procesando prestaciones_t2024.db:  60%|███  | 1095/1822 [05:13<03:10,  3.81it/s]"
     ]
    },
    {
     "name": "stdout",
     "output_type": "stream",
     "text": [
      "Cargando: 60.10% completo\n"
     ]
    },
    {
     "name": "stderr",
     "output_type": "stream",
     "text": [
      "Procesando prestaciones_t2024.db:  60%|███  | 1096/1822 [05:14<03:08,  3.86it/s]"
     ]
    },
    {
     "name": "stdout",
     "output_type": "stream",
     "text": [
      "Cargando: 60.15% completo\n"
     ]
    },
    {
     "name": "stderr",
     "output_type": "stream",
     "text": [
      "Procesando prestaciones_t2024.db:  60%|███  | 1097/1822 [05:14<03:07,  3.86it/s]"
     ]
    },
    {
     "name": "stdout",
     "output_type": "stream",
     "text": [
      "Cargando: 60.21% completo\n"
     ]
    },
    {
     "name": "stderr",
     "output_type": "stream",
     "text": [
      "Procesando prestaciones_t2024.db:  60%|███  | 1098/1822 [05:14<03:05,  3.91it/s]"
     ]
    },
    {
     "name": "stdout",
     "output_type": "stream",
     "text": [
      "Cargando: 60.26% completo\n"
     ]
    },
    {
     "name": "stderr",
     "output_type": "stream",
     "text": [
      "Procesando prestaciones_t2024.db:  60%|███  | 1099/1822 [05:14<03:04,  3.92it/s]"
     ]
    },
    {
     "name": "stdout",
     "output_type": "stream",
     "text": [
      "Cargando: 60.32% completo\n"
     ]
    },
    {
     "name": "stderr",
     "output_type": "stream",
     "text": [
      "Procesando prestaciones_t2024.db:  60%|███  | 1100/1822 [05:15<03:03,  3.94it/s]"
     ]
    },
    {
     "name": "stdout",
     "output_type": "stream",
     "text": [
      "Cargando: 60.37% completo\n"
     ]
    },
    {
     "name": "stderr",
     "output_type": "stream",
     "text": [
      "Procesando prestaciones_t2024.db:  60%|███  | 1101/1822 [05:15<03:05,  3.89it/s]"
     ]
    },
    {
     "name": "stdout",
     "output_type": "stream",
     "text": [
      "Cargando: 60.43% completo\n"
     ]
    },
    {
     "name": "stderr",
     "output_type": "stream",
     "text": [
      "Procesando prestaciones_t2024.db:  60%|███  | 1102/1822 [05:15<03:44,  3.21it/s]"
     ]
    },
    {
     "name": "stdout",
     "output_type": "stream",
     "text": [
      "Cargando: 60.48% completo\n"
     ]
    },
    {
     "name": "stderr",
     "output_type": "stream",
     "text": [
      "Procesando prestaciones_t2024.db:  61%|███  | 1103/1822 [05:15<03:32,  3.39it/s]"
     ]
    },
    {
     "name": "stdout",
     "output_type": "stream",
     "text": [
      "Cargando: 60.54% completo\n"
     ]
    },
    {
     "name": "stderr",
     "output_type": "stream",
     "text": [
      "Procesando prestaciones_t2024.db:  61%|███  | 1104/1822 [05:16<03:21,  3.57it/s]"
     ]
    },
    {
     "name": "stdout",
     "output_type": "stream",
     "text": [
      "Cargando: 60.59% completo\n"
     ]
    },
    {
     "name": "stderr",
     "output_type": "stream",
     "text": [
      "Procesando prestaciones_t2024.db:  61%|███  | 1105/1822 [05:16<03:15,  3.67it/s]"
     ]
    },
    {
     "name": "stdout",
     "output_type": "stream",
     "text": [
      "Cargando: 60.65% completo\n"
     ]
    },
    {
     "name": "stderr",
     "output_type": "stream",
     "text": [
      "Procesando prestaciones_t2024.db:  61%|███  | 1106/1822 [05:16<03:09,  3.77it/s]"
     ]
    },
    {
     "name": "stdout",
     "output_type": "stream",
     "text": [
      "Cargando: 60.70% completo\n"
     ]
    },
    {
     "name": "stderr",
     "output_type": "stream",
     "text": [
      "Procesando prestaciones_t2024.db:  61%|███  | 1107/1822 [05:16<03:06,  3.83it/s]"
     ]
    },
    {
     "name": "stdout",
     "output_type": "stream",
     "text": [
      "Cargando: 60.76% completo\n"
     ]
    },
    {
     "name": "stderr",
     "output_type": "stream",
     "text": [
      "Procesando prestaciones_t2024.db:  61%|███  | 1108/1822 [05:17<03:05,  3.85it/s]"
     ]
    },
    {
     "name": "stdout",
     "output_type": "stream",
     "text": [
      "Cargando: 60.81% completo\n"
     ]
    },
    {
     "name": "stderr",
     "output_type": "stream",
     "text": [
      "Procesando prestaciones_t2024.db:  61%|███  | 1109/1822 [05:17<03:02,  3.90it/s]"
     ]
    },
    {
     "name": "stdout",
     "output_type": "stream",
     "text": [
      "Cargando: 60.87% completo\n"
     ]
    },
    {
     "name": "stderr",
     "output_type": "stream",
     "text": [
      "Procesando prestaciones_t2024.db:  61%|███  | 1110/1822 [05:17<03:02,  3.91it/s]"
     ]
    },
    {
     "name": "stdout",
     "output_type": "stream",
     "text": [
      "Cargando: 60.92% completo\n"
     ]
    },
    {
     "name": "stderr",
     "output_type": "stream",
     "text": [
      "Procesando prestaciones_t2024.db:  61%|███  | 1111/1822 [05:18<03:04,  3.86it/s]"
     ]
    },
    {
     "name": "stdout",
     "output_type": "stream",
     "text": [
      "Cargando: 60.98% completo\n"
     ]
    },
    {
     "name": "stderr",
     "output_type": "stream",
     "text": [
      "Procesando prestaciones_t2024.db:  61%|███  | 1112/1822 [05:18<02:59,  3.96it/s]"
     ]
    },
    {
     "name": "stdout",
     "output_type": "stream",
     "text": [
      "Cargando: 61.03% completo\n"
     ]
    },
    {
     "name": "stderr",
     "output_type": "stream",
     "text": [
      "Procesando prestaciones_t2024.db:  61%|███  | 1113/1822 [05:18<02:58,  3.96it/s]"
     ]
    },
    {
     "name": "stdout",
     "output_type": "stream",
     "text": [
      "Cargando: 61.09% completo\n"
     ]
    },
    {
     "name": "stderr",
     "output_type": "stream",
     "text": [
      "Procesando prestaciones_t2024.db:  61%|███  | 1114/1822 [05:18<02:59,  3.95it/s]"
     ]
    },
    {
     "name": "stdout",
     "output_type": "stream",
     "text": [
      "Cargando: 61.14% completo\n"
     ]
    },
    {
     "name": "stderr",
     "output_type": "stream",
     "text": [
      "Procesando prestaciones_t2024.db:  61%|███  | 1115/1822 [05:19<02:59,  3.95it/s]"
     ]
    },
    {
     "name": "stdout",
     "output_type": "stream",
     "text": [
      "Cargando: 61.20% completo\n"
     ]
    },
    {
     "name": "stderr",
     "output_type": "stream",
     "text": [
      "Procesando prestaciones_t2024.db:  61%|███  | 1116/1822 [05:19<03:37,  3.25it/s]"
     ]
    },
    {
     "name": "stdout",
     "output_type": "stream",
     "text": [
      "Cargando: 61.25% completo\n"
     ]
    },
    {
     "name": "stderr",
     "output_type": "stream",
     "text": [
      "Procesando prestaciones_t2024.db:  61%|███  | 1117/1822 [05:19<03:27,  3.40it/s]"
     ]
    },
    {
     "name": "stdout",
     "output_type": "stream",
     "text": [
      "Cargando: 61.31% completo\n"
     ]
    },
    {
     "name": "stderr",
     "output_type": "stream",
     "text": [
      "Procesando prestaciones_t2024.db:  61%|███  | 1118/1822 [05:19<03:16,  3.58it/s]"
     ]
    },
    {
     "name": "stdout",
     "output_type": "stream",
     "text": [
      "Cargando: 61.36% completo\n"
     ]
    },
    {
     "name": "stderr",
     "output_type": "stream",
     "text": [
      "Procesando prestaciones_t2024.db:  61%|███  | 1119/1822 [05:20<03:14,  3.62it/s]"
     ]
    },
    {
     "name": "stdout",
     "output_type": "stream",
     "text": [
      "Cargando: 61.42% completo\n"
     ]
    },
    {
     "name": "stderr",
     "output_type": "stream",
     "text": [
      "Procesando prestaciones_t2024.db:  61%|███  | 1120/1822 [05:20<03:05,  3.78it/s]"
     ]
    },
    {
     "name": "stdout",
     "output_type": "stream",
     "text": [
      "Cargando: 61.47% completo\n"
     ]
    },
    {
     "name": "stderr",
     "output_type": "stream",
     "text": [
      "Procesando prestaciones_t2024.db:  62%|███  | 1121/1822 [05:20<03:19,  3.52it/s]"
     ]
    },
    {
     "name": "stdout",
     "output_type": "stream",
     "text": [
      "Cargando: 61.53% completo\n"
     ]
    },
    {
     "name": "stderr",
     "output_type": "stream",
     "text": [
      "Procesando prestaciones_t2024.db:  62%|███  | 1122/1822 [05:21<03:09,  3.70it/s]"
     ]
    },
    {
     "name": "stdout",
     "output_type": "stream",
     "text": [
      "Cargando: 61.58% completo\n"
     ]
    },
    {
     "name": "stderr",
     "output_type": "stream",
     "text": [
      "Procesando prestaciones_t2024.db:  62%|███  | 1123/1822 [05:21<03:06,  3.74it/s]"
     ]
    },
    {
     "name": "stdout",
     "output_type": "stream",
     "text": [
      "Cargando: 61.64% completo\n"
     ]
    },
    {
     "name": "stderr",
     "output_type": "stream",
     "text": [
      "Procesando prestaciones_t2024.db:  62%|███  | 1124/1822 [05:21<03:00,  3.86it/s]"
     ]
    },
    {
     "name": "stdout",
     "output_type": "stream",
     "text": [
      "Cargando: 61.69% completo\n"
     ]
    },
    {
     "name": "stderr",
     "output_type": "stream",
     "text": [
      "Procesando prestaciones_t2024.db:  62%|███  | 1125/1822 [05:21<03:00,  3.85it/s]"
     ]
    },
    {
     "name": "stdout",
     "output_type": "stream",
     "text": [
      "Cargando: 61.75% completo\n"
     ]
    },
    {
     "name": "stderr",
     "output_type": "stream",
     "text": [
      "Procesando prestaciones_t2024.db:  62%|███  | 1126/1822 [05:22<02:58,  3.90it/s]"
     ]
    },
    {
     "name": "stdout",
     "output_type": "stream",
     "text": [
      "Cargando: 61.80% completo\n"
     ]
    },
    {
     "name": "stderr",
     "output_type": "stream",
     "text": [
      "Procesando prestaciones_t2024.db:  62%|███  | 1127/1822 [05:22<02:58,  3.88it/s]"
     ]
    },
    {
     "name": "stdout",
     "output_type": "stream",
     "text": [
      "Cargando: 61.86% completo\n"
     ]
    },
    {
     "name": "stderr",
     "output_type": "stream",
     "text": [
      "Procesando prestaciones_t2024.db:  62%|███  | 1128/1822 [05:22<02:54,  3.97it/s]"
     ]
    },
    {
     "name": "stdout",
     "output_type": "stream",
     "text": [
      "Cargando: 61.91% completo\n"
     ]
    },
    {
     "name": "stderr",
     "output_type": "stream",
     "text": [
      "Procesando prestaciones_t2024.db:  62%|███  | 1129/1822 [05:22<02:56,  3.93it/s]"
     ]
    },
    {
     "name": "stdout",
     "output_type": "stream",
     "text": [
      "Cargando: 61.96% completo\n"
     ]
    },
    {
     "name": "stderr",
     "output_type": "stream",
     "text": [
      "Procesando prestaciones_t2024.db:  62%|███  | 1130/1822 [05:23<03:34,  3.22it/s]"
     ]
    },
    {
     "name": "stdout",
     "output_type": "stream",
     "text": [
      "Cargando: 62.02% completo\n"
     ]
    },
    {
     "name": "stderr",
     "output_type": "stream",
     "text": [
      "Procesando prestaciones_t2024.db:  62%|███  | 1131/1822 [05:23<03:20,  3.44it/s]"
     ]
    },
    {
     "name": "stdout",
     "output_type": "stream",
     "text": [
      "Cargando: 62.07% completo\n"
     ]
    },
    {
     "name": "stderr",
     "output_type": "stream",
     "text": [
      "Procesando prestaciones_t2024.db:  62%|███  | 1132/1822 [05:23<03:12,  3.59it/s]"
     ]
    },
    {
     "name": "stdout",
     "output_type": "stream",
     "text": [
      "Cargando: 62.13% completo\n"
     ]
    },
    {
     "name": "stderr",
     "output_type": "stream",
     "text": [
      "Procesando prestaciones_t2024.db:  62%|███  | 1133/1822 [05:24<03:08,  3.65it/s]"
     ]
    },
    {
     "name": "stdout",
     "output_type": "stream",
     "text": [
      "Cargando: 62.18% completo\n"
     ]
    },
    {
     "name": "stderr",
     "output_type": "stream",
     "text": [
      "Procesando prestaciones_t2024.db:  62%|███  | 1134/1822 [05:24<03:03,  3.74it/s]"
     ]
    },
    {
     "name": "stdout",
     "output_type": "stream",
     "text": [
      "Cargando: 62.24% completo\n"
     ]
    },
    {
     "name": "stderr",
     "output_type": "stream",
     "text": [
      "Procesando prestaciones_t2024.db:  62%|███  | 1135/1822 [05:24<03:02,  3.77it/s]"
     ]
    },
    {
     "name": "stdout",
     "output_type": "stream",
     "text": [
      "Cargando: 62.29% completo\n"
     ]
    },
    {
     "name": "stderr",
     "output_type": "stream",
     "text": [
      "Procesando prestaciones_t2024.db:  62%|███  | 1136/1822 [05:24<02:58,  3.85it/s]"
     ]
    },
    {
     "name": "stdout",
     "output_type": "stream",
     "text": [
      "Cargando: 62.35% completo\n"
     ]
    },
    {
     "name": "stderr",
     "output_type": "stream",
     "text": [
      "Procesando prestaciones_t2024.db:  62%|███  | 1137/1822 [05:25<02:56,  3.87it/s]"
     ]
    },
    {
     "name": "stdout",
     "output_type": "stream",
     "text": [
      "Cargando: 62.40% completo\n"
     ]
    },
    {
     "name": "stderr",
     "output_type": "stream",
     "text": [
      "Procesando prestaciones_t2024.db:  62%|███  | 1138/1822 [05:25<02:55,  3.89it/s]"
     ]
    },
    {
     "name": "stdout",
     "output_type": "stream",
     "text": [
      "Cargando: 62.46% completo\n"
     ]
    },
    {
     "name": "stderr",
     "output_type": "stream",
     "text": [
      "Procesando prestaciones_t2024.db:  63%|███▏ | 1139/1822 [05:25<02:53,  3.93it/s]"
     ]
    },
    {
     "name": "stdout",
     "output_type": "stream",
     "text": [
      "Cargando: 62.51% completo\n"
     ]
    },
    {
     "name": "stderr",
     "output_type": "stream",
     "text": [
      "Procesando prestaciones_t2024.db:  63%|███▏ | 1140/1822 [05:25<02:51,  3.97it/s]"
     ]
    },
    {
     "name": "stdout",
     "output_type": "stream",
     "text": [
      "Cargando: 62.57% completo\n"
     ]
    },
    {
     "name": "stderr",
     "output_type": "stream",
     "text": [
      "Procesando prestaciones_t2024.db:  63%|███▏ | 1141/1822 [05:26<02:53,  3.93it/s]"
     ]
    },
    {
     "name": "stdout",
     "output_type": "stream",
     "text": [
      "Cargando: 62.62% completo\n"
     ]
    },
    {
     "name": "stderr",
     "output_type": "stream",
     "text": [
      "Procesando prestaciones_t2024.db:  63%|███▏ | 1142/1822 [05:26<02:51,  3.96it/s]"
     ]
    },
    {
     "name": "stdout",
     "output_type": "stream",
     "text": [
      "Cargando: 62.68% completo\n"
     ]
    },
    {
     "name": "stderr",
     "output_type": "stream",
     "text": [
      "Procesando prestaciones_t2024.db:  63%|███▏ | 1143/1822 [05:26<02:52,  3.95it/s]"
     ]
    },
    {
     "name": "stdout",
     "output_type": "stream",
     "text": [
      "Cargando: 62.73% completo\n"
     ]
    },
    {
     "name": "stderr",
     "output_type": "stream",
     "text": [
      "Procesando prestaciones_t2024.db:  63%|███▏ | 1144/1822 [05:26<03:30,  3.22it/s]"
     ]
    },
    {
     "name": "stdout",
     "output_type": "stream",
     "text": [
      "Cargando: 62.79% completo\n"
     ]
    },
    {
     "name": "stderr",
     "output_type": "stream",
     "text": [
      "Procesando prestaciones_t2024.db:  63%|███▏ | 1145/1822 [05:27<03:17,  3.43it/s]"
     ]
    },
    {
     "name": "stdout",
     "output_type": "stream",
     "text": [
      "Cargando: 62.84% completo\n"
     ]
    },
    {
     "name": "stderr",
     "output_type": "stream",
     "text": [
      "Procesando prestaciones_t2024.db:  63%|███▏ | 1146/1822 [05:27<03:08,  3.58it/s]"
     ]
    },
    {
     "name": "stdout",
     "output_type": "stream",
     "text": [
      "Cargando: 62.90% completo\n"
     ]
    },
    {
     "name": "stderr",
     "output_type": "stream",
     "text": [
      "Procesando prestaciones_t2024.db:  63%|███▏ | 1147/1822 [05:27<03:03,  3.68it/s]"
     ]
    },
    {
     "name": "stdout",
     "output_type": "stream",
     "text": [
      "Cargando: 62.95% completo\n"
     ]
    },
    {
     "name": "stderr",
     "output_type": "stream",
     "text": [
      "Procesando prestaciones_t2024.db:  63%|███▏ | 1148/1822 [05:27<03:02,  3.69it/s]"
     ]
    },
    {
     "name": "stdout",
     "output_type": "stream",
     "text": [
      "Cargando: 63.01% completo\n"
     ]
    },
    {
     "name": "stderr",
     "output_type": "stream",
     "text": [
      "Procesando prestaciones_t2024.db:  63%|███▏ | 1149/1822 [05:28<03:00,  3.73it/s]"
     ]
    },
    {
     "name": "stdout",
     "output_type": "stream",
     "text": [
      "Cargando: 63.06% completo\n"
     ]
    },
    {
     "name": "stderr",
     "output_type": "stream",
     "text": [
      "Procesando prestaciones_t2024.db:  63%|███▏ | 1150/1822 [05:28<02:56,  3.82it/s]"
     ]
    },
    {
     "name": "stdout",
     "output_type": "stream",
     "text": [
      "Cargando: 63.12% completo\n"
     ]
    },
    {
     "name": "stderr",
     "output_type": "stream",
     "text": [
      "Procesando prestaciones_t2024.db:  63%|███▏ | 1151/1822 [05:28<02:53,  3.86it/s]"
     ]
    },
    {
     "name": "stdout",
     "output_type": "stream",
     "text": [
      "Cargando: 63.17% completo\n"
     ]
    },
    {
     "name": "stderr",
     "output_type": "stream",
     "text": [
      "Procesando prestaciones_t2024.db:  63%|███▏ | 1152/1822 [05:29<02:53,  3.86it/s]"
     ]
    },
    {
     "name": "stdout",
     "output_type": "stream",
     "text": [
      "Cargando: 63.23% completo\n"
     ]
    },
    {
     "name": "stderr",
     "output_type": "stream",
     "text": [
      "Procesando prestaciones_t2024.db:  63%|███▏ | 1153/1822 [05:29<02:53,  3.86it/s]"
     ]
    },
    {
     "name": "stdout",
     "output_type": "stream",
     "text": [
      "Cargando: 63.28% completo\n"
     ]
    },
    {
     "name": "stderr",
     "output_type": "stream",
     "text": [
      "Procesando prestaciones_t2024.db:  63%|███▏ | 1154/1822 [05:29<02:51,  3.89it/s]"
     ]
    },
    {
     "name": "stdout",
     "output_type": "stream",
     "text": [
      "Cargando: 63.34% completo\n"
     ]
    },
    {
     "name": "stderr",
     "output_type": "stream",
     "text": [
      "Procesando prestaciones_t2024.db:  63%|███▏ | 1155/1822 [05:29<02:51,  3.89it/s]"
     ]
    },
    {
     "name": "stdout",
     "output_type": "stream",
     "text": [
      "Cargando: 63.39% completo\n"
     ]
    },
    {
     "name": "stderr",
     "output_type": "stream",
     "text": [
      "Procesando prestaciones_t2024.db:  63%|███▏ | 1156/1822 [05:30<02:50,  3.90it/s]"
     ]
    },
    {
     "name": "stdout",
     "output_type": "stream",
     "text": [
      "Cargando: 63.45% completo\n"
     ]
    },
    {
     "name": "stderr",
     "output_type": "stream",
     "text": [
      "Procesando prestaciones_t2024.db:  64%|███▏ | 1157/1822 [05:30<02:50,  3.90it/s]"
     ]
    },
    {
     "name": "stdout",
     "output_type": "stream",
     "text": [
      "Cargando: 63.50% completo\n"
     ]
    },
    {
     "name": "stderr",
     "output_type": "stream",
     "text": [
      "Procesando prestaciones_t2024.db:  64%|███▏ | 1158/1822 [05:30<03:29,  3.17it/s]"
     ]
    },
    {
     "name": "stdout",
     "output_type": "stream",
     "text": [
      "Cargando: 63.56% completo\n"
     ]
    },
    {
     "name": "stderr",
     "output_type": "stream",
     "text": [
      "Procesando prestaciones_t2024.db:  64%|███▏ | 1159/1822 [05:31<03:16,  3.37it/s]"
     ]
    },
    {
     "name": "stdout",
     "output_type": "stream",
     "text": [
      "Cargando: 63.61% completo\n"
     ]
    },
    {
     "name": "stderr",
     "output_type": "stream",
     "text": [
      "Procesando prestaciones_t2024.db:  64%|███▏ | 1160/1822 [05:31<03:21,  3.29it/s]"
     ]
    },
    {
     "name": "stdout",
     "output_type": "stream",
     "text": [
      "Cargando: 63.67% completo\n"
     ]
    },
    {
     "name": "stderr",
     "output_type": "stream",
     "text": [
      "Procesando prestaciones_t2024.db:  64%|███▏ | 1161/1822 [05:31<03:11,  3.46it/s]"
     ]
    },
    {
     "name": "stdout",
     "output_type": "stream",
     "text": [
      "Cargando: 63.72% completo\n"
     ]
    },
    {
     "name": "stderr",
     "output_type": "stream",
     "text": [
      "Procesando prestaciones_t2024.db:  64%|███▏ | 1162/1822 [05:31<03:08,  3.50it/s]"
     ]
    },
    {
     "name": "stdout",
     "output_type": "stream",
     "text": [
      "Cargando: 63.78% completo\n"
     ]
    },
    {
     "name": "stderr",
     "output_type": "stream",
     "text": [
      "Procesando prestaciones_t2024.db:  64%|███▏ | 1163/1822 [05:32<03:10,  3.46it/s]"
     ]
    },
    {
     "name": "stdout",
     "output_type": "stream",
     "text": [
      "Cargando: 63.83% completo\n"
     ]
    },
    {
     "name": "stderr",
     "output_type": "stream",
     "text": [
      "Procesando prestaciones_t2024.db:  64%|███▏ | 1164/1822 [05:32<03:04,  3.58it/s]"
     ]
    },
    {
     "name": "stdout",
     "output_type": "stream",
     "text": [
      "Cargando: 63.89% completo\n"
     ]
    },
    {
     "name": "stderr",
     "output_type": "stream",
     "text": [
      "Procesando prestaciones_t2024.db:  64%|███▏ | 1165/1822 [05:32<03:04,  3.56it/s]"
     ]
    },
    {
     "name": "stdout",
     "output_type": "stream",
     "text": [
      "Cargando: 63.94% completo\n"
     ]
    },
    {
     "name": "stderr",
     "output_type": "stream",
     "text": [
      "Procesando prestaciones_t2024.db:  64%|███▏ | 1166/1822 [05:32<02:58,  3.68it/s]"
     ]
    },
    {
     "name": "stdout",
     "output_type": "stream",
     "text": [
      "Cargando: 64.00% completo\n"
     ]
    },
    {
     "name": "stderr",
     "output_type": "stream",
     "text": [
      "Procesando prestaciones_t2024.db:  64%|███▏ | 1167/1822 [05:33<02:56,  3.71it/s]"
     ]
    },
    {
     "name": "stdout",
     "output_type": "stream",
     "text": [
      "Cargando: 64.05% completo\n"
     ]
    },
    {
     "name": "stderr",
     "output_type": "stream",
     "text": [
      "Procesando prestaciones_t2024.db:  64%|███▏ | 1168/1822 [05:33<02:51,  3.81it/s]"
     ]
    },
    {
     "name": "stdout",
     "output_type": "stream",
     "text": [
      "Cargando: 64.11% completo\n"
     ]
    },
    {
     "name": "stderr",
     "output_type": "stream",
     "text": [
      "Procesando prestaciones_t2024.db:  64%|███▏ | 1169/1822 [05:33<02:53,  3.75it/s]"
     ]
    },
    {
     "name": "stdout",
     "output_type": "stream",
     "text": [
      "Cargando: 64.16% completo\n"
     ]
    },
    {
     "name": "stderr",
     "output_type": "stream",
     "text": [
      "Procesando prestaciones_t2024.db:  64%|███▏ | 1170/1822 [05:33<02:49,  3.86it/s]"
     ]
    },
    {
     "name": "stdout",
     "output_type": "stream",
     "text": [
      "Cargando: 64.22% completo\n"
     ]
    },
    {
     "name": "stderr",
     "output_type": "stream",
     "text": [
      "Procesando prestaciones_t2024.db:  64%|███▏ | 1171/1822 [05:34<02:50,  3.81it/s]"
     ]
    },
    {
     "name": "stdout",
     "output_type": "stream",
     "text": [
      "Cargando: 64.27% completo\n"
     ]
    },
    {
     "name": "stderr",
     "output_type": "stream",
     "text": [
      "Procesando prestaciones_t2024.db:  64%|███▏ | 1172/1822 [05:34<03:28,  3.12it/s]"
     ]
    },
    {
     "name": "stdout",
     "output_type": "stream",
     "text": [
      "Cargando: 64.32% completo\n"
     ]
    },
    {
     "name": "stderr",
     "output_type": "stream",
     "text": [
      "Procesando prestaciones_t2024.db:  64%|███▏ | 1173/1822 [05:34<03:20,  3.23it/s]"
     ]
    },
    {
     "name": "stdout",
     "output_type": "stream",
     "text": [
      "Cargando: 64.38% completo\n"
     ]
    },
    {
     "name": "stderr",
     "output_type": "stream",
     "text": [
      "Procesando prestaciones_t2024.db:  64%|███▏ | 1174/1822 [05:35<03:24,  3.16it/s]"
     ]
    },
    {
     "name": "stdout",
     "output_type": "stream",
     "text": [
      "Cargando: 64.43% completo\n"
     ]
    },
    {
     "name": "stderr",
     "output_type": "stream",
     "text": [
      "Procesando prestaciones_t2024.db:  64%|███▏ | 1175/1822 [05:35<03:29,  3.09it/s]"
     ]
    },
    {
     "name": "stdout",
     "output_type": "stream",
     "text": [
      "Cargando: 64.49% completo\n"
     ]
    },
    {
     "name": "stderr",
     "output_type": "stream",
     "text": [
      "Procesando prestaciones_t2024.db:  65%|███▏ | 1176/1822 [05:35<03:28,  3.10it/s]"
     ]
    },
    {
     "name": "stdout",
     "output_type": "stream",
     "text": [
      "Cargando: 64.54% completo\n"
     ]
    },
    {
     "name": "stderr",
     "output_type": "stream",
     "text": [
      "Procesando prestaciones_t2024.db:  65%|███▏ | 1177/1822 [05:36<03:31,  3.04it/s]"
     ]
    },
    {
     "name": "stdout",
     "output_type": "stream",
     "text": [
      "Cargando: 64.60% completo\n"
     ]
    },
    {
     "name": "stderr",
     "output_type": "stream",
     "text": [
      "Procesando prestaciones_t2024.db:  65%|███▏ | 1178/1822 [05:36<03:33,  3.02it/s]"
     ]
    },
    {
     "name": "stdout",
     "output_type": "stream",
     "text": [
      "Cargando: 64.65% completo\n"
     ]
    },
    {
     "name": "stderr",
     "output_type": "stream",
     "text": [
      "Procesando prestaciones_t2024.db:  65%|███▏ | 1179/1822 [05:36<03:32,  3.02it/s]"
     ]
    },
    {
     "name": "stdout",
     "output_type": "stream",
     "text": [
      "Cargando: 64.71% completo\n"
     ]
    },
    {
     "name": "stderr",
     "output_type": "stream",
     "text": [
      "Procesando prestaciones_t2024.db:  65%|███▏ | 1180/1822 [05:37<03:27,  3.09it/s]"
     ]
    },
    {
     "name": "stdout",
     "output_type": "stream",
     "text": [
      "Cargando: 64.76% completo\n"
     ]
    },
    {
     "name": "stderr",
     "output_type": "stream",
     "text": [
      "Procesando prestaciones_t2024.db:  65%|███▏ | 1181/1822 [05:37<03:17,  3.24it/s]"
     ]
    },
    {
     "name": "stdout",
     "output_type": "stream",
     "text": [
      "Cargando: 64.82% completo\n"
     ]
    },
    {
     "name": "stderr",
     "output_type": "stream",
     "text": [
      "Procesando prestaciones_t2024.db:  65%|███▏ | 1182/1822 [05:37<03:10,  3.36it/s]"
     ]
    },
    {
     "name": "stdout",
     "output_type": "stream",
     "text": [
      "Cargando: 64.87% completo\n"
     ]
    },
    {
     "name": "stderr",
     "output_type": "stream",
     "text": [
      "Procesando prestaciones_t2024.db:  65%|███▏ | 1183/1822 [05:38<03:06,  3.42it/s]"
     ]
    },
    {
     "name": "stdout",
     "output_type": "stream",
     "text": [
      "Cargando: 64.93% completo\n"
     ]
    },
    {
     "name": "stderr",
     "output_type": "stream",
     "text": [
      "Procesando prestaciones_t2024.db:  65%|███▏ | 1184/1822 [05:38<03:01,  3.51it/s]"
     ]
    },
    {
     "name": "stdout",
     "output_type": "stream",
     "text": [
      "Cargando: 64.98% completo\n"
     ]
    },
    {
     "name": "stderr",
     "output_type": "stream",
     "text": [
      "Procesando prestaciones_t2024.db:  65%|███▎ | 1185/1822 [05:38<03:02,  3.49it/s]"
     ]
    },
    {
     "name": "stdout",
     "output_type": "stream",
     "text": [
      "Cargando: 65.04% completo\n"
     ]
    },
    {
     "name": "stderr",
     "output_type": "stream",
     "text": [
      "Procesando prestaciones_t2024.db:  65%|███▎ | 1186/1822 [05:38<03:00,  3.52it/s]"
     ]
    },
    {
     "name": "stdout",
     "output_type": "stream",
     "text": [
      "Cargando: 65.09% completo\n"
     ]
    },
    {
     "name": "stderr",
     "output_type": "stream",
     "text": [
      "Procesando prestaciones_t2024.db:  65%|███▎ | 1187/1822 [05:39<03:33,  2.97it/s]"
     ]
    },
    {
     "name": "stdout",
     "output_type": "stream",
     "text": [
      "Cargando: 65.15% completo\n"
     ]
    },
    {
     "name": "stderr",
     "output_type": "stream",
     "text": [
      "Procesando prestaciones_t2024.db:  65%|███▎ | 1188/1822 [05:39<03:17,  3.22it/s]"
     ]
    },
    {
     "name": "stdout",
     "output_type": "stream",
     "text": [
      "Cargando: 65.20% completo\n"
     ]
    },
    {
     "name": "stderr",
     "output_type": "stream",
     "text": [
      "Procesando prestaciones_t2024.db:  65%|███▎ | 1189/1822 [05:39<03:06,  3.39it/s]"
     ]
    },
    {
     "name": "stdout",
     "output_type": "stream",
     "text": [
      "Cargando: 65.26% completo\n"
     ]
    },
    {
     "name": "stderr",
     "output_type": "stream",
     "text": [
      "Procesando prestaciones_t2024.db:  65%|███▎ | 1190/1822 [05:40<02:58,  3.55it/s]"
     ]
    },
    {
     "name": "stdout",
     "output_type": "stream",
     "text": [
      "Cargando: 65.31% completo\n"
     ]
    },
    {
     "name": "stderr",
     "output_type": "stream",
     "text": [
      "Procesando prestaciones_t2024.db:  65%|███▎ | 1191/1822 [05:40<02:53,  3.64it/s]"
     ]
    },
    {
     "name": "stdout",
     "output_type": "stream",
     "text": [
      "Cargando: 65.37% completo\n"
     ]
    },
    {
     "name": "stderr",
     "output_type": "stream",
     "text": [
      "Procesando prestaciones_t2024.db:  65%|███▎ | 1192/1822 [05:40<02:48,  3.73it/s]"
     ]
    },
    {
     "name": "stdout",
     "output_type": "stream",
     "text": [
      "Cargando: 65.42% completo\n"
     ]
    },
    {
     "name": "stderr",
     "output_type": "stream",
     "text": [
      "Procesando prestaciones_t2024.db:  65%|███▎ | 1193/1822 [05:40<02:46,  3.79it/s]"
     ]
    },
    {
     "name": "stdout",
     "output_type": "stream",
     "text": [
      "Cargando: 65.48% completo\n"
     ]
    },
    {
     "name": "stderr",
     "output_type": "stream",
     "text": [
      "Procesando prestaciones_t2024.db:  66%|███▎ | 1194/1822 [05:41<02:43,  3.83it/s]"
     ]
    },
    {
     "name": "stdout",
     "output_type": "stream",
     "text": [
      "Cargando: 65.53% completo\n"
     ]
    },
    {
     "name": "stderr",
     "output_type": "stream",
     "text": [
      "Procesando prestaciones_t2024.db:  66%|███▎ | 1195/1822 [05:41<02:41,  3.88it/s]"
     ]
    },
    {
     "name": "stdout",
     "output_type": "stream",
     "text": [
      "Cargando: 65.59% completo\n"
     ]
    },
    {
     "name": "stderr",
     "output_type": "stream",
     "text": [
      "Procesando prestaciones_t2024.db:  66%|███▎ | 1196/1822 [05:41<02:57,  3.53it/s]"
     ]
    },
    {
     "name": "stdout",
     "output_type": "stream",
     "text": [
      "Cargando: 65.64% completo\n"
     ]
    },
    {
     "name": "stderr",
     "output_type": "stream",
     "text": [
      "Procesando prestaciones_t2024.db:  66%|███▎ | 1197/1822 [05:42<02:52,  3.62it/s]"
     ]
    },
    {
     "name": "stdout",
     "output_type": "stream",
     "text": [
      "Cargando: 65.70% completo\n"
     ]
    },
    {
     "name": "stderr",
     "output_type": "stream",
     "text": [
      "Procesando prestaciones_t2024.db:  66%|███▎ | 1198/1822 [05:42<02:47,  3.72it/s]"
     ]
    },
    {
     "name": "stdout",
     "output_type": "stream",
     "text": [
      "Cargando: 65.75% completo\n"
     ]
    },
    {
     "name": "stderr",
     "output_type": "stream",
     "text": [
      "Procesando prestaciones_t2024.db:  66%|███▎ | 1199/1822 [05:42<02:46,  3.74it/s]"
     ]
    },
    {
     "name": "stdout",
     "output_type": "stream",
     "text": [
      "Cargando: 65.81% completo\n"
     ]
    },
    {
     "name": "stderr",
     "output_type": "stream",
     "text": [
      "Procesando prestaciones_t2024.db:  66%|███▎ | 1200/1822 [05:42<02:43,  3.81it/s]"
     ]
    },
    {
     "name": "stdout",
     "output_type": "stream",
     "text": [
      "Cargando: 65.86% completo\n"
     ]
    },
    {
     "name": "stderr",
     "output_type": "stream",
     "text": [
      "Procesando prestaciones_t2024.db:  66%|███▎ | 1201/1822 [05:43<03:22,  3.07it/s]"
     ]
    },
    {
     "name": "stdout",
     "output_type": "stream",
     "text": [
      "Cargando: 65.92% completo\n"
     ]
    },
    {
     "name": "stderr",
     "output_type": "stream",
     "text": [
      "Procesando prestaciones_t2024.db:  66%|███▎ | 1202/1822 [05:43<03:07,  3.31it/s]"
     ]
    },
    {
     "name": "stdout",
     "output_type": "stream",
     "text": [
      "Cargando: 65.97% completo\n"
     ]
    },
    {
     "name": "stderr",
     "output_type": "stream",
     "text": [
      "Procesando prestaciones_t2024.db:  66%|███▎ | 1203/1822 [05:43<02:59,  3.46it/s]"
     ]
    },
    {
     "name": "stdout",
     "output_type": "stream",
     "text": [
      "Cargando: 66.03% completo\n"
     ]
    },
    {
     "name": "stderr",
     "output_type": "stream",
     "text": [
      "Procesando prestaciones_t2024.db:  66%|███▎ | 1204/1822 [05:44<02:53,  3.57it/s]"
     ]
    },
    {
     "name": "stdout",
     "output_type": "stream",
     "text": [
      "Cargando: 66.08% completo\n"
     ]
    },
    {
     "name": "stderr",
     "output_type": "stream",
     "text": [
      "Procesando prestaciones_t2024.db:  66%|███▎ | 1205/1822 [05:44<02:48,  3.66it/s]"
     ]
    },
    {
     "name": "stdout",
     "output_type": "stream",
     "text": [
      "Cargando: 66.14% completo\n"
     ]
    },
    {
     "name": "stderr",
     "output_type": "stream",
     "text": [
      "Procesando prestaciones_t2024.db:  66%|███▎ | 1206/1822 [05:44<02:44,  3.73it/s]"
     ]
    },
    {
     "name": "stdout",
     "output_type": "stream",
     "text": [
      "Cargando: 66.19% completo\n"
     ]
    },
    {
     "name": "stderr",
     "output_type": "stream",
     "text": [
      "Procesando prestaciones_t2024.db:  66%|███▎ | 1207/1822 [05:44<02:42,  3.80it/s]"
     ]
    },
    {
     "name": "stdout",
     "output_type": "stream",
     "text": [
      "Cargando: 66.25% completo\n"
     ]
    },
    {
     "name": "stderr",
     "output_type": "stream",
     "text": [
      "Procesando prestaciones_t2024.db:  66%|███▎ | 1208/1822 [05:45<02:39,  3.84it/s]"
     ]
    },
    {
     "name": "stdout",
     "output_type": "stream",
     "text": [
      "Cargando: 66.30% completo\n"
     ]
    },
    {
     "name": "stderr",
     "output_type": "stream",
     "text": [
      "Procesando prestaciones_t2024.db:  66%|███▎ | 1209/1822 [05:45<02:42,  3.77it/s]"
     ]
    },
    {
     "name": "stdout",
     "output_type": "stream",
     "text": [
      "Cargando: 66.36% completo\n"
     ]
    },
    {
     "name": "stderr",
     "output_type": "stream",
     "text": [
      "Procesando prestaciones_t2024.db:  66%|███▎ | 1210/1822 [05:45<02:38,  3.87it/s]"
     ]
    },
    {
     "name": "stdout",
     "output_type": "stream",
     "text": [
      "Cargando: 66.41% completo\n"
     ]
    },
    {
     "name": "stderr",
     "output_type": "stream",
     "text": [
      "Procesando prestaciones_t2024.db:  66%|███▎ | 1211/1822 [05:45<02:40,  3.81it/s]"
     ]
    },
    {
     "name": "stdout",
     "output_type": "stream",
     "text": [
      "Cargando: 66.47% completo\n"
     ]
    },
    {
     "name": "stderr",
     "output_type": "stream",
     "text": [
      "Procesando prestaciones_t2024.db:  67%|███▎ | 1212/1822 [05:46<02:37,  3.87it/s]"
     ]
    },
    {
     "name": "stdout",
     "output_type": "stream",
     "text": [
      "Cargando: 66.52% completo\n"
     ]
    },
    {
     "name": "stderr",
     "output_type": "stream",
     "text": [
      "Procesando prestaciones_t2024.db:  67%|███▎ | 1213/1822 [05:46<02:39,  3.83it/s]"
     ]
    },
    {
     "name": "stdout",
     "output_type": "stream",
     "text": [
      "Cargando: 66.58% completo\n"
     ]
    },
    {
     "name": "stderr",
     "output_type": "stream",
     "text": [
      "Procesando prestaciones_t2024.db:  67%|███▎ | 1214/1822 [05:46<02:36,  3.88it/s]"
     ]
    },
    {
     "name": "stdout",
     "output_type": "stream",
     "text": [
      "Cargando: 66.63% completo\n"
     ]
    },
    {
     "name": "stderr",
     "output_type": "stream",
     "text": [
      "Procesando prestaciones_t2024.db:  67%|███▎ | 1215/1822 [05:46<02:40,  3.79it/s]"
     ]
    },
    {
     "name": "stdout",
     "output_type": "stream",
     "text": [
      "Cargando: 66.68% completo\n"
     ]
    },
    {
     "name": "stderr",
     "output_type": "stream",
     "text": [
      "Procesando prestaciones_t2024.db:  67%|███▎ | 1216/1822 [05:47<03:18,  3.05it/s]"
     ]
    },
    {
     "name": "stdout",
     "output_type": "stream",
     "text": [
      "Cargando: 66.74% completo\n"
     ]
    },
    {
     "name": "stderr",
     "output_type": "stream",
     "text": [
      "Procesando prestaciones_t2024.db:  67%|███▎ | 1217/1822 [05:47<03:05,  3.27it/s]"
     ]
    },
    {
     "name": "stdout",
     "output_type": "stream",
     "text": [
      "Cargando: 66.79% completo\n"
     ]
    },
    {
     "name": "stderr",
     "output_type": "stream",
     "text": [
      "Procesando prestaciones_t2024.db:  67%|███▎ | 1218/1822 [05:47<02:54,  3.45it/s]"
     ]
    },
    {
     "name": "stdout",
     "output_type": "stream",
     "text": [
      "Cargando: 66.85% completo\n"
     ]
    },
    {
     "name": "stderr",
     "output_type": "stream",
     "text": [
      "Procesando prestaciones_t2024.db:  67%|███▎ | 1219/1822 [05:48<02:51,  3.52it/s]"
     ]
    },
    {
     "name": "stdout",
     "output_type": "stream",
     "text": [
      "Cargando: 66.90% completo\n"
     ]
    },
    {
     "name": "stderr",
     "output_type": "stream",
     "text": [
      "Procesando prestaciones_t2024.db:  67%|███▎ | 1220/1822 [05:48<02:44,  3.66it/s]"
     ]
    },
    {
     "name": "stdout",
     "output_type": "stream",
     "text": [
      "Cargando: 66.96% completo\n"
     ]
    },
    {
     "name": "stderr",
     "output_type": "stream",
     "text": [
      "Procesando prestaciones_t2024.db:  67%|███▎ | 1221/1822 [05:48<02:41,  3.72it/s]"
     ]
    },
    {
     "name": "stdout",
     "output_type": "stream",
     "text": [
      "Cargando: 67.01% completo\n"
     ]
    },
    {
     "name": "stderr",
     "output_type": "stream",
     "text": [
      "Procesando prestaciones_t2024.db:  67%|███▎ | 1222/1822 [05:48<02:38,  3.79it/s]"
     ]
    },
    {
     "name": "stdout",
     "output_type": "stream",
     "text": [
      "Cargando: 67.07% completo\n"
     ]
    },
    {
     "name": "stderr",
     "output_type": "stream",
     "text": [
      "Procesando prestaciones_t2024.db:  67%|███▎ | 1223/1822 [05:49<02:38,  3.78it/s]"
     ]
    },
    {
     "name": "stdout",
     "output_type": "stream",
     "text": [
      "Cargando: 67.12% completo\n"
     ]
    },
    {
     "name": "stderr",
     "output_type": "stream",
     "text": [
      "Procesando prestaciones_t2024.db:  67%|███▎ | 1224/1822 [05:49<02:36,  3.81it/s]"
     ]
    },
    {
     "name": "stdout",
     "output_type": "stream",
     "text": [
      "Cargando: 67.18% completo\n"
     ]
    },
    {
     "name": "stderr",
     "output_type": "stream",
     "text": [
      "Procesando prestaciones_t2024.db:  67%|███▎ | 1225/1822 [05:49<02:34,  3.86it/s]"
     ]
    },
    {
     "name": "stdout",
     "output_type": "stream",
     "text": [
      "Cargando: 67.23% completo\n"
     ]
    },
    {
     "name": "stderr",
     "output_type": "stream",
     "text": [
      "Procesando prestaciones_t2024.db:  67%|███▎ | 1226/1822 [05:49<02:34,  3.86it/s]"
     ]
    },
    {
     "name": "stdout",
     "output_type": "stream",
     "text": [
      "Cargando: 67.29% completo\n"
     ]
    },
    {
     "name": "stderr",
     "output_type": "stream",
     "text": [
      "Procesando prestaciones_t2024.db:  67%|███▎ | 1227/1822 [05:50<02:34,  3.85it/s]"
     ]
    },
    {
     "name": "stdout",
     "output_type": "stream",
     "text": [
      "Cargando: 67.34% completo\n"
     ]
    },
    {
     "name": "stderr",
     "output_type": "stream",
     "text": [
      "Procesando prestaciones_t2024.db:  67%|███▎ | 1228/1822 [05:50<02:34,  3.85it/s]"
     ]
    },
    {
     "name": "stdout",
     "output_type": "stream",
     "text": [
      "Cargando: 67.40% completo\n"
     ]
    },
    {
     "name": "stderr",
     "output_type": "stream",
     "text": [
      "Procesando prestaciones_t2024.db:  67%|███▎ | 1229/1822 [05:50<02:34,  3.83it/s]"
     ]
    },
    {
     "name": "stdout",
     "output_type": "stream",
     "text": [
      "Cargando: 67.45% completo\n"
     ]
    },
    {
     "name": "stderr",
     "output_type": "stream",
     "text": [
      "Procesando prestaciones_t2024.db:  68%|███▍ | 1230/1822 [05:50<02:33,  3.85it/s]"
     ]
    },
    {
     "name": "stdout",
     "output_type": "stream",
     "text": [
      "Cargando: 67.51% completo\n"
     ]
    },
    {
     "name": "stderr",
     "output_type": "stream",
     "text": [
      "Procesando prestaciones_t2024.db:  68%|███▍ | 1231/1822 [05:51<03:10,  3.11it/s]"
     ]
    },
    {
     "name": "stdout",
     "output_type": "stream",
     "text": [
      "Cargando: 67.56% completo\n"
     ]
    },
    {
     "name": "stderr",
     "output_type": "stream",
     "text": [
      "Procesando prestaciones_t2024.db:  68%|███▍ | 1232/1822 [05:51<02:56,  3.34it/s]"
     ]
    },
    {
     "name": "stdout",
     "output_type": "stream",
     "text": [
      "Cargando: 67.62% completo\n"
     ]
    },
    {
     "name": "stderr",
     "output_type": "stream",
     "text": [
      "Procesando prestaciones_t2024.db:  68%|███▍ | 1233/1822 [05:51<02:51,  3.43it/s]"
     ]
    },
    {
     "name": "stdout",
     "output_type": "stream",
     "text": [
      "Cargando: 67.67% completo\n"
     ]
    },
    {
     "name": "stderr",
     "output_type": "stream",
     "text": [
      "Procesando prestaciones_t2024.db:  68%|███▍ | 1234/1822 [05:52<02:57,  3.32it/s]"
     ]
    },
    {
     "name": "stdout",
     "output_type": "stream",
     "text": [
      "Cargando: 67.73% completo\n"
     ]
    },
    {
     "name": "stderr",
     "output_type": "stream",
     "text": [
      "Procesando prestaciones_t2024.db:  68%|███▍ | 1235/1822 [05:52<02:49,  3.46it/s]"
     ]
    },
    {
     "name": "stdout",
     "output_type": "stream",
     "text": [
      "Cargando: 67.78% completo\n"
     ]
    },
    {
     "name": "stderr",
     "output_type": "stream",
     "text": [
      "Procesando prestaciones_t2024.db:  68%|███▍ | 1236/1822 [05:52<02:41,  3.62it/s]"
     ]
    },
    {
     "name": "stdout",
     "output_type": "stream",
     "text": [
      "Cargando: 67.84% completo\n"
     ]
    },
    {
     "name": "stderr",
     "output_type": "stream",
     "text": [
      "Procesando prestaciones_t2024.db:  68%|███▍ | 1237/1822 [05:53<02:39,  3.66it/s]"
     ]
    },
    {
     "name": "stdout",
     "output_type": "stream",
     "text": [
      "Cargando: 67.89% completo\n"
     ]
    },
    {
     "name": "stderr",
     "output_type": "stream",
     "text": [
      "Procesando prestaciones_t2024.db:  68%|███▍ | 1238/1822 [05:53<02:34,  3.77it/s]"
     ]
    },
    {
     "name": "stdout",
     "output_type": "stream",
     "text": [
      "Cargando: 67.95% completo\n"
     ]
    },
    {
     "name": "stderr",
     "output_type": "stream",
     "text": [
      "Procesando prestaciones_t2024.db:  68%|███▍ | 1239/1822 [05:53<02:35,  3.75it/s]"
     ]
    },
    {
     "name": "stdout",
     "output_type": "stream",
     "text": [
      "Cargando: 68.00% completo\n"
     ]
    },
    {
     "name": "stderr",
     "output_type": "stream",
     "text": [
      "Procesando prestaciones_t2024.db:  68%|███▍ | 1240/1822 [05:53<02:31,  3.85it/s]"
     ]
    },
    {
     "name": "stdout",
     "output_type": "stream",
     "text": [
      "Cargando: 68.06% completo\n"
     ]
    },
    {
     "name": "stderr",
     "output_type": "stream",
     "text": [
      "Procesando prestaciones_t2024.db:  68%|███▍ | 1241/1822 [05:54<02:32,  3.81it/s]"
     ]
    },
    {
     "name": "stdout",
     "output_type": "stream",
     "text": [
      "Cargando: 68.11% completo\n"
     ]
    },
    {
     "name": "stderr",
     "output_type": "stream",
     "text": [
      "Procesando prestaciones_t2024.db:  68%|███▍ | 1242/1822 [05:54<02:33,  3.79it/s]"
     ]
    },
    {
     "name": "stdout",
     "output_type": "stream",
     "text": [
      "Cargando: 68.17% completo\n"
     ]
    },
    {
     "name": "stderr",
     "output_type": "stream",
     "text": [
      "Procesando prestaciones_t2024.db:  68%|███▍ | 1243/1822 [05:54<02:34,  3.74it/s]"
     ]
    },
    {
     "name": "stdout",
     "output_type": "stream",
     "text": [
      "Cargando: 68.22% completo\n"
     ]
    },
    {
     "name": "stderr",
     "output_type": "stream",
     "text": [
      "Procesando prestaciones_t2024.db:  68%|███▍ | 1244/1822 [05:54<02:33,  3.77it/s]"
     ]
    },
    {
     "name": "stdout",
     "output_type": "stream",
     "text": [
      "Cargando: 68.28% completo\n"
     ]
    },
    {
     "name": "stderr",
     "output_type": "stream",
     "text": [
      "Procesando prestaciones_t2024.db:  68%|███▍ | 1245/1822 [05:55<02:32,  3.79it/s]"
     ]
    },
    {
     "name": "stdout",
     "output_type": "stream",
     "text": [
      "Cargando: 68.33% completo\n"
     ]
    },
    {
     "name": "stderr",
     "output_type": "stream",
     "text": [
      "Procesando prestaciones_t2024.db:  68%|███▍ | 1246/1822 [05:55<03:06,  3.09it/s]"
     ]
    },
    {
     "name": "stdout",
     "output_type": "stream",
     "text": [
      "Cargando: 68.39% completo\n"
     ]
    },
    {
     "name": "stderr",
     "output_type": "stream",
     "text": [
      "Procesando prestaciones_t2024.db:  68%|███▍ | 1247/1822 [05:55<02:54,  3.30it/s]"
     ]
    },
    {
     "name": "stdout",
     "output_type": "stream",
     "text": [
      "Cargando: 68.44% completo\n"
     ]
    },
    {
     "name": "stderr",
     "output_type": "stream",
     "text": [
      "Procesando prestaciones_t2024.db:  68%|███▍ | 1248/1822 [05:56<02:45,  3.48it/s]"
     ]
    },
    {
     "name": "stdout",
     "output_type": "stream",
     "text": [
      "Cargando: 68.50% completo\n"
     ]
    },
    {
     "name": "stderr",
     "output_type": "stream",
     "text": [
      "Procesando prestaciones_t2024.db:  69%|███▍ | 1249/1822 [05:56<02:39,  3.60it/s]"
     ]
    },
    {
     "name": "stdout",
     "output_type": "stream",
     "text": [
      "Cargando: 68.55% completo\n"
     ]
    },
    {
     "name": "stderr",
     "output_type": "stream",
     "text": [
      "Procesando prestaciones_t2024.db:  69%|███▍ | 1250/1822 [05:56<02:34,  3.71it/s]"
     ]
    },
    {
     "name": "stdout",
     "output_type": "stream",
     "text": [
      "Cargando: 68.61% completo\n"
     ]
    },
    {
     "name": "stderr",
     "output_type": "stream",
     "text": [
      "Procesando prestaciones_t2024.db:  69%|███▍ | 1251/1822 [05:56<02:34,  3.71it/s]"
     ]
    },
    {
     "name": "stdout",
     "output_type": "stream",
     "text": [
      "Cargando: 68.66% completo\n"
     ]
    },
    {
     "name": "stderr",
     "output_type": "stream",
     "text": [
      "Procesando prestaciones_t2024.db:  69%|███▍ | 1252/1822 [05:57<02:30,  3.79it/s]"
     ]
    },
    {
     "name": "stdout",
     "output_type": "stream",
     "text": [
      "Cargando: 68.72% completo\n"
     ]
    },
    {
     "name": "stderr",
     "output_type": "stream",
     "text": [
      "Procesando prestaciones_t2024.db:  69%|███▍ | 1253/1822 [05:57<02:29,  3.80it/s]"
     ]
    },
    {
     "name": "stdout",
     "output_type": "stream",
     "text": [
      "Cargando: 68.77% completo\n"
     ]
    },
    {
     "name": "stderr",
     "output_type": "stream",
     "text": [
      "Procesando prestaciones_t2024.db:  69%|███▍ | 1254/1822 [05:57<02:27,  3.85it/s]"
     ]
    },
    {
     "name": "stdout",
     "output_type": "stream",
     "text": [
      "Cargando: 68.83% completo\n"
     ]
    },
    {
     "name": "stderr",
     "output_type": "stream",
     "text": [
      "Procesando prestaciones_t2024.db:  69%|███▍ | 1255/1822 [05:57<02:26,  3.87it/s]"
     ]
    },
    {
     "name": "stdout",
     "output_type": "stream",
     "text": [
      "Cargando: 68.88% completo\n"
     ]
    },
    {
     "name": "stderr",
     "output_type": "stream",
     "text": [
      "Procesando prestaciones_t2024.db:  69%|███▍ | 1256/1822 [05:58<02:26,  3.85it/s]"
     ]
    },
    {
     "name": "stdout",
     "output_type": "stream",
     "text": [
      "Cargando: 68.94% completo\n"
     ]
    },
    {
     "name": "stderr",
     "output_type": "stream",
     "text": [
      "Procesando prestaciones_t2024.db:  69%|███▍ | 1257/1822 [05:58<02:25,  3.87it/s]"
     ]
    },
    {
     "name": "stdout",
     "output_type": "stream",
     "text": [
      "Cargando: 68.99% completo\n"
     ]
    },
    {
     "name": "stderr",
     "output_type": "stream",
     "text": [
      "Procesando prestaciones_t2024.db:  69%|███▍ | 1258/1822 [05:58<02:24,  3.91it/s]"
     ]
    },
    {
     "name": "stdout",
     "output_type": "stream",
     "text": [
      "Cargando: 69.05% completo\n"
     ]
    },
    {
     "name": "stderr",
     "output_type": "stream",
     "text": [
      "Procesando prestaciones_t2024.db:  69%|███▍ | 1259/1822 [05:58<02:26,  3.84it/s]"
     ]
    },
    {
     "name": "stdout",
     "output_type": "stream",
     "text": [
      "Cargando: 69.10% completo\n"
     ]
    },
    {
     "name": "stderr",
     "output_type": "stream",
     "text": [
      "Procesando prestaciones_t2024.db:  69%|███▍ | 1260/1822 [05:59<02:24,  3.88it/s]"
     ]
    },
    {
     "name": "stdout",
     "output_type": "stream",
     "text": [
      "Cargando: 69.15% completo\n"
     ]
    },
    {
     "name": "stderr",
     "output_type": "stream",
     "text": [
      "Procesando prestaciones_t2024.db:  69%|███▍ | 1261/1822 [05:59<02:23,  3.90it/s]"
     ]
    },
    {
     "name": "stdout",
     "output_type": "stream",
     "text": [
      "Cargando: 69.21% completo\n"
     ]
    },
    {
     "name": "stderr",
     "output_type": "stream",
     "text": [
      "Procesando prestaciones_t2024.db:  69%|███▍ | 1262/1822 [05:59<03:05,  3.02it/s]"
     ]
    },
    {
     "name": "stdout",
     "output_type": "stream",
     "text": [
      "Cargando: 69.26% completo\n"
     ]
    },
    {
     "name": "stderr",
     "output_type": "stream",
     "text": [
      "Procesando prestaciones_t2024.db:  69%|███▍ | 1263/1822 [06:00<02:51,  3.25it/s]"
     ]
    },
    {
     "name": "stdout",
     "output_type": "stream",
     "text": [
      "Cargando: 69.32% completo\n"
     ]
    },
    {
     "name": "stderr",
     "output_type": "stream",
     "text": [
      "Procesando prestaciones_t2024.db:  69%|███▍ | 1264/1822 [06:00<02:42,  3.44it/s]"
     ]
    },
    {
     "name": "stdout",
     "output_type": "stream",
     "text": [
      "Cargando: 69.37% completo\n"
     ]
    },
    {
     "name": "stderr",
     "output_type": "stream",
     "text": [
      "Procesando prestaciones_t2024.db:  69%|███▍ | 1265/1822 [06:00<02:36,  3.57it/s]"
     ]
    },
    {
     "name": "stdout",
     "output_type": "stream",
     "text": [
      "Cargando: 69.43% completo\n"
     ]
    },
    {
     "name": "stderr",
     "output_type": "stream",
     "text": [
      "Procesando prestaciones_t2024.db:  69%|███▍ | 1266/1822 [06:00<02:32,  3.65it/s]"
     ]
    },
    {
     "name": "stdout",
     "output_type": "stream",
     "text": [
      "Cargando: 69.48% completo\n"
     ]
    },
    {
     "name": "stderr",
     "output_type": "stream",
     "text": [
      "Procesando prestaciones_t2024.db:  70%|███▍ | 1267/1822 [06:01<02:29,  3.70it/s]"
     ]
    },
    {
     "name": "stdout",
     "output_type": "stream",
     "text": [
      "Cargando: 69.54% completo\n"
     ]
    },
    {
     "name": "stderr",
     "output_type": "stream",
     "text": [
      "Procesando prestaciones_t2024.db:  70%|███▍ | 1268/1822 [06:01<02:26,  3.77it/s]"
     ]
    },
    {
     "name": "stdout",
     "output_type": "stream",
     "text": [
      "Cargando: 69.59% completo\n"
     ]
    },
    {
     "name": "stderr",
     "output_type": "stream",
     "text": [
      "Procesando prestaciones_t2024.db:  70%|███▍ | 1269/1822 [06:01<02:25,  3.79it/s]"
     ]
    },
    {
     "name": "stdout",
     "output_type": "stream",
     "text": [
      "Cargando: 69.65% completo\n"
     ]
    },
    {
     "name": "stderr",
     "output_type": "stream",
     "text": [
      "Procesando prestaciones_t2024.db:  70%|███▍ | 1270/1822 [06:02<02:23,  3.84it/s]"
     ]
    },
    {
     "name": "stdout",
     "output_type": "stream",
     "text": [
      "Cargando: 69.70% completo\n"
     ]
    },
    {
     "name": "stderr",
     "output_type": "stream",
     "text": [
      "Procesando prestaciones_t2024.db:  70%|███▍ | 1271/1822 [06:02<02:40,  3.43it/s]"
     ]
    },
    {
     "name": "stdout",
     "output_type": "stream",
     "text": [
      "Cargando: 69.76% completo\n"
     ]
    },
    {
     "name": "stderr",
     "output_type": "stream",
     "text": [
      "Procesando prestaciones_t2024.db:  70%|███▍ | 1272/1822 [06:02<02:32,  3.62it/s]"
     ]
    },
    {
     "name": "stdout",
     "output_type": "stream",
     "text": [
      "Cargando: 69.81% completo\n"
     ]
    },
    {
     "name": "stderr",
     "output_type": "stream",
     "text": [
      "Procesando prestaciones_t2024.db:  70%|███▍ | 1273/1822 [06:02<02:28,  3.69it/s]"
     ]
    },
    {
     "name": "stdout",
     "output_type": "stream",
     "text": [
      "Cargando: 69.87% completo\n"
     ]
    },
    {
     "name": "stderr",
     "output_type": "stream",
     "text": [
      "Procesando prestaciones_t2024.db:  70%|███▍ | 1274/1822 [06:03<02:26,  3.73it/s]"
     ]
    },
    {
     "name": "stdout",
     "output_type": "stream",
     "text": [
      "Cargando: 69.92% completo\n"
     ]
    },
    {
     "name": "stderr",
     "output_type": "stream",
     "text": [
      "Procesando prestaciones_t2024.db:  70%|███▍ | 1275/1822 [06:03<02:53,  3.16it/s]"
     ]
    },
    {
     "name": "stdout",
     "output_type": "stream",
     "text": [
      "Cargando: 69.98% completo\n"
     ]
    },
    {
     "name": "stderr",
     "output_type": "stream",
     "text": [
      "Procesando prestaciones_t2024.db:  70%|███▌ | 1276/1822 [06:03<02:40,  3.40it/s]"
     ]
    },
    {
     "name": "stdout",
     "output_type": "stream",
     "text": [
      "Cargando: 70.03% completo\n"
     ]
    },
    {
     "name": "stderr",
     "output_type": "stream",
     "text": [
      "Procesando prestaciones_t2024.db:  70%|███▌ | 1277/1822 [06:04<02:34,  3.54it/s]"
     ]
    },
    {
     "name": "stdout",
     "output_type": "stream",
     "text": [
      "Cargando: 70.09% completo\n"
     ]
    },
    {
     "name": "stderr",
     "output_type": "stream",
     "text": [
      "Procesando prestaciones_t2024.db:  70%|███▌ | 1278/1822 [06:04<02:29,  3.63it/s]"
     ]
    },
    {
     "name": "stdout",
     "output_type": "stream",
     "text": [
      "Cargando: 70.14% completo\n"
     ]
    },
    {
     "name": "stderr",
     "output_type": "stream",
     "text": [
      "Procesando prestaciones_t2024.db:  70%|███▌ | 1279/1822 [06:04<02:27,  3.69it/s]"
     ]
    },
    {
     "name": "stdout",
     "output_type": "stream",
     "text": [
      "Cargando: 70.20% completo\n"
     ]
    },
    {
     "name": "stderr",
     "output_type": "stream",
     "text": [
      "Procesando prestaciones_t2024.db:  70%|███▌ | 1280/1822 [06:04<02:24,  3.76it/s]"
     ]
    },
    {
     "name": "stdout",
     "output_type": "stream",
     "text": [
      "Cargando: 70.25% completo\n"
     ]
    },
    {
     "name": "stderr",
     "output_type": "stream",
     "text": [
      "Procesando prestaciones_t2024.db:  70%|███▌ | 1281/1822 [06:05<02:23,  3.76it/s]"
     ]
    },
    {
     "name": "stdout",
     "output_type": "stream",
     "text": [
      "Cargando: 70.31% completo\n"
     ]
    },
    {
     "name": "stderr",
     "output_type": "stream",
     "text": [
      "Procesando prestaciones_t2024.db:  70%|███▌ | 1282/1822 [06:05<02:21,  3.83it/s]"
     ]
    },
    {
     "name": "stdout",
     "output_type": "stream",
     "text": [
      "Cargando: 70.36% completo\n"
     ]
    },
    {
     "name": "stderr",
     "output_type": "stream",
     "text": [
      "Procesando prestaciones_t2024.db:  70%|███▌ | 1283/1822 [06:05<02:20,  3.84it/s]"
     ]
    },
    {
     "name": "stdout",
     "output_type": "stream",
     "text": [
      "Cargando: 70.42% completo\n"
     ]
    },
    {
     "name": "stderr",
     "output_type": "stream",
     "text": [
      "Procesando prestaciones_t2024.db:  70%|███▌ | 1284/1822 [06:05<02:19,  3.86it/s]"
     ]
    },
    {
     "name": "stdout",
     "output_type": "stream",
     "text": [
      "Cargando: 70.47% completo\n"
     ]
    },
    {
     "name": "stderr",
     "output_type": "stream",
     "text": [
      "Procesando prestaciones_t2024.db:  71%|███▌ | 1285/1822 [06:06<02:22,  3.77it/s]"
     ]
    },
    {
     "name": "stdout",
     "output_type": "stream",
     "text": [
      "Cargando: 70.53% completo\n"
     ]
    },
    {
     "name": "stderr",
     "output_type": "stream",
     "text": [
      "Procesando prestaciones_t2024.db:  71%|███▌ | 1286/1822 [06:06<02:21,  3.80it/s]"
     ]
    },
    {
     "name": "stdout",
     "output_type": "stream",
     "text": [
      "Cargando: 70.58% completo\n"
     ]
    },
    {
     "name": "stderr",
     "output_type": "stream",
     "text": [
      "Procesando prestaciones_t2024.db:  71%|███▌ | 1287/1822 [06:06<02:49,  3.15it/s]"
     ]
    },
    {
     "name": "stdout",
     "output_type": "stream",
     "text": [
      "Cargando: 70.64% completo\n"
     ]
    },
    {
     "name": "stderr",
     "output_type": "stream",
     "text": [
      "Procesando prestaciones_t2024.db:  71%|███▌ | 1288/1822 [06:07<02:40,  3.33it/s]"
     ]
    },
    {
     "name": "stdout",
     "output_type": "stream",
     "text": [
      "Cargando: 70.69% completo\n"
     ]
    },
    {
     "name": "stderr",
     "output_type": "stream",
     "text": [
      "Procesando prestaciones_t2024.db:  71%|███▌ | 1289/1822 [06:07<02:35,  3.44it/s]"
     ]
    },
    {
     "name": "stdout",
     "output_type": "stream",
     "text": [
      "Cargando: 70.75% completo\n"
     ]
    },
    {
     "name": "stderr",
     "output_type": "stream",
     "text": [
      "Procesando prestaciones_t2024.db:  71%|███▌ | 1290/1822 [06:07<02:29,  3.57it/s]"
     ]
    },
    {
     "name": "stdout",
     "output_type": "stream",
     "text": [
      "Cargando: 70.80% completo\n"
     ]
    },
    {
     "name": "stderr",
     "output_type": "stream",
     "text": [
      "Procesando prestaciones_t2024.db:  71%|███▌ | 1291/1822 [06:07<02:27,  3.61it/s]"
     ]
    },
    {
     "name": "stdout",
     "output_type": "stream",
     "text": [
      "Cargando: 70.86% completo\n"
     ]
    },
    {
     "name": "stderr",
     "output_type": "stream",
     "text": [
      "Procesando prestaciones_t2024.db:  71%|███▌ | 1292/1822 [06:08<02:25,  3.65it/s]"
     ]
    },
    {
     "name": "stdout",
     "output_type": "stream",
     "text": [
      "Cargando: 70.91% completo\n"
     ]
    },
    {
     "name": "stderr",
     "output_type": "stream",
     "text": [
      "Procesando prestaciones_t2024.db:  71%|███▌ | 1293/1822 [06:08<02:24,  3.66it/s]"
     ]
    },
    {
     "name": "stdout",
     "output_type": "stream",
     "text": [
      "Cargando: 70.97% completo\n"
     ]
    },
    {
     "name": "stderr",
     "output_type": "stream",
     "text": [
      "Procesando prestaciones_t2024.db:  71%|███▌ | 1294/1822 [06:08<02:21,  3.74it/s]"
     ]
    },
    {
     "name": "stdout",
     "output_type": "stream",
     "text": [
      "Cargando: 71.02% completo\n"
     ]
    },
    {
     "name": "stderr",
     "output_type": "stream",
     "text": [
      "Procesando prestaciones_t2024.db:  71%|███▌ | 1295/1822 [06:08<02:21,  3.71it/s]"
     ]
    },
    {
     "name": "stdout",
     "output_type": "stream",
     "text": [
      "Cargando: 71.08% completo\n"
     ]
    },
    {
     "name": "stderr",
     "output_type": "stream",
     "text": [
      "Procesando prestaciones_t2024.db:  71%|███▌ | 1296/1822 [06:09<02:18,  3.80it/s]"
     ]
    },
    {
     "name": "stdout",
     "output_type": "stream",
     "text": [
      "Cargando: 71.13% completo\n"
     ]
    },
    {
     "name": "stderr",
     "output_type": "stream",
     "text": [
      "Procesando prestaciones_t2024.db:  71%|███▌ | 1297/1822 [06:09<02:19,  3.78it/s]"
     ]
    },
    {
     "name": "stdout",
     "output_type": "stream",
     "text": [
      "Cargando: 71.19% completo\n"
     ]
    },
    {
     "name": "stderr",
     "output_type": "stream",
     "text": [
      "Procesando prestaciones_t2024.db:  71%|███▌ | 1298/1822 [06:09<02:16,  3.84it/s]"
     ]
    },
    {
     "name": "stdout",
     "output_type": "stream",
     "text": [
      "Cargando: 71.24% completo\n"
     ]
    },
    {
     "name": "stderr",
     "output_type": "stream",
     "text": [
      "Procesando prestaciones_t2024.db:  71%|███▌ | 1299/1822 [06:10<02:44,  3.18it/s]"
     ]
    },
    {
     "name": "stdout",
     "output_type": "stream",
     "text": [
      "Cargando: 71.30% completo\n"
     ]
    },
    {
     "name": "stderr",
     "output_type": "stream",
     "text": [
      "Procesando prestaciones_t2024.db:  71%|███▌ | 1300/1822 [06:10<02:34,  3.38it/s]"
     ]
    },
    {
     "name": "stdout",
     "output_type": "stream",
     "text": [
      "Cargando: 71.35% completo\n"
     ]
    },
    {
     "name": "stderr",
     "output_type": "stream",
     "text": [
      "Procesando prestaciones_t2024.db:  71%|███▌ | 1301/1822 [06:10<02:29,  3.49it/s]"
     ]
    },
    {
     "name": "stdout",
     "output_type": "stream",
     "text": [
      "Cargando: 71.41% completo\n"
     ]
    },
    {
     "name": "stderr",
     "output_type": "stream",
     "text": [
      "Procesando prestaciones_t2024.db:  71%|███▌ | 1302/1822 [06:10<02:23,  3.62it/s]"
     ]
    },
    {
     "name": "stdout",
     "output_type": "stream",
     "text": [
      "Cargando: 71.46% completo\n"
     ]
    },
    {
     "name": "stderr",
     "output_type": "stream",
     "text": [
      "Procesando prestaciones_t2024.db:  72%|███▌ | 1303/1822 [06:11<02:21,  3.66it/s]"
     ]
    },
    {
     "name": "stdout",
     "output_type": "stream",
     "text": [
      "Cargando: 71.51% completo\n"
     ]
    },
    {
     "name": "stderr",
     "output_type": "stream",
     "text": [
      "Procesando prestaciones_t2024.db:  72%|███▌ | 1304/1822 [06:11<02:19,  3.72it/s]"
     ]
    },
    {
     "name": "stdout",
     "output_type": "stream",
     "text": [
      "Cargando: 71.57% completo\n"
     ]
    },
    {
     "name": "stderr",
     "output_type": "stream",
     "text": [
      "Procesando prestaciones_t2024.db:  72%|███▌ | 1305/1822 [06:11<02:17,  3.75it/s]"
     ]
    },
    {
     "name": "stdout",
     "output_type": "stream",
     "text": [
      "Cargando: 71.62% completo\n"
     ]
    },
    {
     "name": "stderr",
     "output_type": "stream",
     "text": [
      "Procesando prestaciones_t2024.db:  72%|███▌ | 1306/1822 [06:12<02:15,  3.79it/s]"
     ]
    },
    {
     "name": "stdout",
     "output_type": "stream",
     "text": [
      "Cargando: 71.68% completo\n"
     ]
    },
    {
     "name": "stderr",
     "output_type": "stream",
     "text": [
      "Procesando prestaciones_t2024.db:  72%|███▌ | 1307/1822 [06:12<02:30,  3.42it/s]"
     ]
    },
    {
     "name": "stdout",
     "output_type": "stream",
     "text": [
      "Cargando: 71.73% completo\n"
     ]
    },
    {
     "name": "stderr",
     "output_type": "stream",
     "text": [
      "Procesando prestaciones_t2024.db:  72%|███▌ | 1308/1822 [06:12<02:22,  3.60it/s]"
     ]
    },
    {
     "name": "stdout",
     "output_type": "stream",
     "text": [
      "Cargando: 71.79% completo\n"
     ]
    },
    {
     "name": "stderr",
     "output_type": "stream",
     "text": [
      "Procesando prestaciones_t2024.db:  72%|███▌ | 1309/1822 [06:12<02:20,  3.66it/s]"
     ]
    },
    {
     "name": "stdout",
     "output_type": "stream",
     "text": [
      "Cargando: 71.84% completo\n"
     ]
    },
    {
     "name": "stderr",
     "output_type": "stream",
     "text": [
      "Procesando prestaciones_t2024.db:  72%|███▌ | 1310/1822 [06:13<02:16,  3.74it/s]"
     ]
    },
    {
     "name": "stdout",
     "output_type": "stream",
     "text": [
      "Cargando: 71.90% completo\n"
     ]
    },
    {
     "name": "stderr",
     "output_type": "stream",
     "text": [
      "Procesando prestaciones_t2024.db:  72%|███▌ | 1311/1822 [06:13<02:15,  3.76it/s]"
     ]
    },
    {
     "name": "stdout",
     "output_type": "stream",
     "text": [
      "Cargando: 71.95% completo\n"
     ]
    },
    {
     "name": "stderr",
     "output_type": "stream",
     "text": [
      "Procesando prestaciones_t2024.db:  72%|███▌ | 1312/1822 [06:13<02:42,  3.15it/s]"
     ]
    },
    {
     "name": "stdout",
     "output_type": "stream",
     "text": [
      "Cargando: 72.01% completo\n"
     ]
    },
    {
     "name": "stderr",
     "output_type": "stream",
     "text": [
      "Procesando prestaciones_t2024.db:  72%|███▌ | 1313/1822 [06:14<02:32,  3.35it/s]"
     ]
    },
    {
     "name": "stdout",
     "output_type": "stream",
     "text": [
      "Cargando: 72.06% completo\n"
     ]
    },
    {
     "name": "stderr",
     "output_type": "stream",
     "text": [
      "Procesando prestaciones_t2024.db:  72%|███▌ | 1314/1822 [06:14<02:25,  3.49it/s]"
     ]
    },
    {
     "name": "stdout",
     "output_type": "stream",
     "text": [
      "Cargando: 72.12% completo\n"
     ]
    },
    {
     "name": "stderr",
     "output_type": "stream",
     "text": [
      "Procesando prestaciones_t2024.db:  72%|███▌ | 1315/1822 [06:14<02:20,  3.60it/s]"
     ]
    },
    {
     "name": "stdout",
     "output_type": "stream",
     "text": [
      "Cargando: 72.17% completo\n"
     ]
    },
    {
     "name": "stderr",
     "output_type": "stream",
     "text": [
      "Procesando prestaciones_t2024.db:  72%|███▌ | 1316/1822 [06:14<02:17,  3.68it/s]"
     ]
    },
    {
     "name": "stdout",
     "output_type": "stream",
     "text": [
      "Cargando: 72.23% completo\n"
     ]
    },
    {
     "name": "stderr",
     "output_type": "stream",
     "text": [
      "Procesando prestaciones_t2024.db:  72%|███▌ | 1317/1822 [06:15<02:14,  3.76it/s]"
     ]
    },
    {
     "name": "stdout",
     "output_type": "stream",
     "text": [
      "Cargando: 72.28% completo\n"
     ]
    },
    {
     "name": "stderr",
     "output_type": "stream",
     "text": [
      "Procesando prestaciones_t2024.db:  72%|███▌ | 1318/1822 [06:15<02:15,  3.71it/s]"
     ]
    },
    {
     "name": "stdout",
     "output_type": "stream",
     "text": [
      "Cargando: 72.34% completo\n"
     ]
    },
    {
     "name": "stderr",
     "output_type": "stream",
     "text": [
      "Procesando prestaciones_t2024.db:  72%|███▌ | 1319/1822 [06:15<02:14,  3.75it/s]"
     ]
    },
    {
     "name": "stdout",
     "output_type": "stream",
     "text": [
      "Cargando: 72.39% completo\n"
     ]
    },
    {
     "name": "stderr",
     "output_type": "stream",
     "text": [
      "Procesando prestaciones_t2024.db:  72%|███▌ | 1320/1822 [06:15<02:11,  3.82it/s]"
     ]
    },
    {
     "name": "stdout",
     "output_type": "stream",
     "text": [
      "Cargando: 72.45% completo\n"
     ]
    },
    {
     "name": "stderr",
     "output_type": "stream",
     "text": [
      "Procesando prestaciones_t2024.db:  73%|███▋ | 1321/1822 [06:16<02:10,  3.84it/s]"
     ]
    },
    {
     "name": "stdout",
     "output_type": "stream",
     "text": [
      "Cargando: 72.50% completo\n"
     ]
    },
    {
     "name": "stderr",
     "output_type": "stream",
     "text": [
      "Procesando prestaciones_t2024.db:  73%|███▋ | 1322/1822 [06:16<02:09,  3.87it/s]"
     ]
    },
    {
     "name": "stdout",
     "output_type": "stream",
     "text": [
      "Cargando: 72.56% completo\n"
     ]
    },
    {
     "name": "stderr",
     "output_type": "stream",
     "text": [
      "Procesando prestaciones_t2024.db:  73%|███▋ | 1323/1822 [06:16<02:09,  3.86it/s]"
     ]
    },
    {
     "name": "stdout",
     "output_type": "stream",
     "text": [
      "Cargando: 72.61% completo\n"
     ]
    },
    {
     "name": "stderr",
     "output_type": "stream",
     "text": [
      "Procesando prestaciones_t2024.db:  73%|███▋ | 1324/1822 [06:16<02:08,  3.88it/s]"
     ]
    },
    {
     "name": "stdout",
     "output_type": "stream",
     "text": [
      "Cargando: 72.67% completo\n"
     ]
    },
    {
     "name": "stderr",
     "output_type": "stream",
     "text": [
      "Procesando prestaciones_t2024.db:  73%|███▋ | 1325/1822 [06:17<02:37,  3.16it/s]"
     ]
    },
    {
     "name": "stdout",
     "output_type": "stream",
     "text": [
      "Cargando: 72.72% completo\n"
     ]
    },
    {
     "name": "stderr",
     "output_type": "stream",
     "text": [
      "Procesando prestaciones_t2024.db:  73%|███▋ | 1326/1822 [06:17<02:26,  3.39it/s]"
     ]
    },
    {
     "name": "stdout",
     "output_type": "stream",
     "text": [
      "Cargando: 72.78% completo\n"
     ]
    },
    {
     "name": "stderr",
     "output_type": "stream",
     "text": [
      "Procesando prestaciones_t2024.db:  73%|███▋ | 1327/1822 [06:17<02:20,  3.52it/s]"
     ]
    },
    {
     "name": "stdout",
     "output_type": "stream",
     "text": [
      "Cargando: 72.83% completo\n"
     ]
    },
    {
     "name": "stderr",
     "output_type": "stream",
     "text": [
      "Procesando prestaciones_t2024.db:  73%|███▋ | 1328/1822 [06:18<02:16,  3.63it/s]"
     ]
    },
    {
     "name": "stdout",
     "output_type": "stream",
     "text": [
      "Cargando: 72.89% completo\n"
     ]
    },
    {
     "name": "stderr",
     "output_type": "stream",
     "text": [
      "Procesando prestaciones_t2024.db:  73%|███▋ | 1329/1822 [06:18<02:15,  3.65it/s]"
     ]
    },
    {
     "name": "stdout",
     "output_type": "stream",
     "text": [
      "Cargando: 72.94% completo\n"
     ]
    },
    {
     "name": "stderr",
     "output_type": "stream",
     "text": [
      "Procesando prestaciones_t2024.db:  73%|███▋ | 1330/1822 [06:18<02:11,  3.74it/s]"
     ]
    },
    {
     "name": "stdout",
     "output_type": "stream",
     "text": [
      "Cargando: 73.00% completo\n"
     ]
    },
    {
     "name": "stderr",
     "output_type": "stream",
     "text": [
      "Procesando prestaciones_t2024.db:  73%|███▋ | 1331/1822 [06:18<02:10,  3.76it/s]"
     ]
    },
    {
     "name": "stdout",
     "output_type": "stream",
     "text": [
      "Cargando: 73.05% completo\n"
     ]
    },
    {
     "name": "stderr",
     "output_type": "stream",
     "text": [
      "Procesando prestaciones_t2024.db:  73%|███▋ | 1332/1822 [06:19<02:08,  3.80it/s]"
     ]
    },
    {
     "name": "stdout",
     "output_type": "stream",
     "text": [
      "Cargando: 73.11% completo\n"
     ]
    },
    {
     "name": "stderr",
     "output_type": "stream",
     "text": [
      "Procesando prestaciones_t2024.db:  73%|███▋ | 1333/1822 [06:19<02:08,  3.79it/s]"
     ]
    },
    {
     "name": "stdout",
     "output_type": "stream",
     "text": [
      "Cargando: 73.16% completo\n"
     ]
    },
    {
     "name": "stderr",
     "output_type": "stream",
     "text": [
      "Procesando prestaciones_t2024.db:  73%|███▋ | 1334/1822 [06:19<02:07,  3.84it/s]"
     ]
    },
    {
     "name": "stdout",
     "output_type": "stream",
     "text": [
      "Cargando: 73.22% completo\n"
     ]
    },
    {
     "name": "stderr",
     "output_type": "stream",
     "text": [
      "Procesando prestaciones_t2024.db:  73%|███▋ | 1335/1822 [06:19<02:06,  3.85it/s]"
     ]
    },
    {
     "name": "stdout",
     "output_type": "stream",
     "text": [
      "Cargando: 73.27% completo\n"
     ]
    },
    {
     "name": "stderr",
     "output_type": "stream",
     "text": [
      "Procesando prestaciones_t2024.db:  73%|███▋ | 1336/1822 [06:20<02:05,  3.86it/s]"
     ]
    },
    {
     "name": "stdout",
     "output_type": "stream",
     "text": [
      "Cargando: 73.33% completo\n"
     ]
    },
    {
     "name": "stderr",
     "output_type": "stream",
     "text": [
      "Procesando prestaciones_t2024.db:  73%|███▋ | 1337/1822 [06:20<02:05,  3.87it/s]"
     ]
    },
    {
     "name": "stdout",
     "output_type": "stream",
     "text": [
      "Cargando: 73.38% completo\n"
     ]
    },
    {
     "name": "stderr",
     "output_type": "stream",
     "text": [
      "Procesando prestaciones_t2024.db:  73%|███▋ | 1338/1822 [06:20<02:32,  3.18it/s]"
     ]
    },
    {
     "name": "stdout",
     "output_type": "stream",
     "text": [
      "Cargando: 73.44% completo\n"
     ]
    },
    {
     "name": "stderr",
     "output_type": "stream",
     "text": [
      "Procesando prestaciones_t2024.db:  73%|███▋ | 1339/1822 [06:21<02:23,  3.35it/s]"
     ]
    },
    {
     "name": "stdout",
     "output_type": "stream",
     "text": [
      "Cargando: 73.49% completo\n"
     ]
    },
    {
     "name": "stderr",
     "output_type": "stream",
     "text": [
      "Procesando prestaciones_t2024.db:  74%|███▋ | 1340/1822 [06:21<02:17,  3.50it/s]"
     ]
    },
    {
     "name": "stdout",
     "output_type": "stream",
     "text": [
      "Cargando: 73.55% completo\n"
     ]
    },
    {
     "name": "stderr",
     "output_type": "stream",
     "text": [
      "Procesando prestaciones_t2024.db:  74%|███▋ | 1341/1822 [06:21<02:14,  3.59it/s]"
     ]
    },
    {
     "name": "stdout",
     "output_type": "stream",
     "text": [
      "Cargando: 73.60% completo\n"
     ]
    },
    {
     "name": "stderr",
     "output_type": "stream",
     "text": [
      "Procesando prestaciones_t2024.db:  74%|███▋ | 1342/1822 [06:22<02:21,  3.39it/s]"
     ]
    },
    {
     "name": "stdout",
     "output_type": "stream",
     "text": [
      "Cargando: 73.66% completo\n"
     ]
    },
    {
     "name": "stderr",
     "output_type": "stream",
     "text": [
      "Procesando prestaciones_t2024.db:  74%|███▋ | 1343/1822 [06:22<02:15,  3.53it/s]"
     ]
    },
    {
     "name": "stdout",
     "output_type": "stream",
     "text": [
      "Cargando: 73.71% completo\n"
     ]
    },
    {
     "name": "stderr",
     "output_type": "stream",
     "text": [
      "Procesando prestaciones_t2024.db:  74%|███▋ | 1344/1822 [06:22<02:10,  3.65it/s]"
     ]
    },
    {
     "name": "stdout",
     "output_type": "stream",
     "text": [
      "Cargando: 73.77% completo\n"
     ]
    },
    {
     "name": "stderr",
     "output_type": "stream",
     "text": [
      "Procesando prestaciones_t2024.db:  74%|███▋ | 1345/1822 [06:22<02:08,  3.71it/s]"
     ]
    },
    {
     "name": "stdout",
     "output_type": "stream",
     "text": [
      "Cargando: 73.82% completo\n"
     ]
    },
    {
     "name": "stderr",
     "output_type": "stream",
     "text": [
      "Procesando prestaciones_t2024.db:  74%|███▋ | 1346/1822 [06:23<02:05,  3.79it/s]"
     ]
    },
    {
     "name": "stdout",
     "output_type": "stream",
     "text": [
      "Cargando: 73.87% completo\n"
     ]
    },
    {
     "name": "stderr",
     "output_type": "stream",
     "text": [
      "Procesando prestaciones_t2024.db:  74%|███▋ | 1347/1822 [06:23<02:03,  3.84it/s]"
     ]
    },
    {
     "name": "stdout",
     "output_type": "stream",
     "text": [
      "Cargando: 73.93% completo\n"
     ]
    },
    {
     "name": "stderr",
     "output_type": "stream",
     "text": [
      "Procesando prestaciones_t2024.db:  74%|███▋ | 1348/1822 [06:23<02:03,  3.83it/s]"
     ]
    },
    {
     "name": "stdout",
     "output_type": "stream",
     "text": [
      "Cargando: 73.98% completo\n"
     ]
    },
    {
     "name": "stderr",
     "output_type": "stream",
     "text": [
      "Procesando prestaciones_t2024.db:  74%|███▋ | 1349/1822 [06:23<02:03,  3.83it/s]"
     ]
    },
    {
     "name": "stdout",
     "output_type": "stream",
     "text": [
      "Cargando: 74.04% completo\n"
     ]
    },
    {
     "name": "stderr",
     "output_type": "stream",
     "text": [
      "Procesando prestaciones_t2024.db:  74%|███▋ | 1350/1822 [06:24<02:02,  3.85it/s]"
     ]
    },
    {
     "name": "stdout",
     "output_type": "stream",
     "text": [
      "Cargando: 74.09% completo\n"
     ]
    },
    {
     "name": "stderr",
     "output_type": "stream",
     "text": [
      "Procesando prestaciones_t2024.db:  74%|███▋ | 1351/1822 [06:24<02:02,  3.83it/s]"
     ]
    },
    {
     "name": "stdout",
     "output_type": "stream",
     "text": [
      "Cargando: 74.15% completo\n"
     ]
    },
    {
     "name": "stderr",
     "output_type": "stream",
     "text": [
      "Procesando prestaciones_t2024.db:  74%|███▋ | 1352/1822 [06:24<02:28,  3.18it/s]"
     ]
    },
    {
     "name": "stdout",
     "output_type": "stream",
     "text": [
      "Cargando: 74.20% completo\n"
     ]
    },
    {
     "name": "stderr",
     "output_type": "stream",
     "text": [
      "Procesando prestaciones_t2024.db:  74%|███▋ | 1353/1822 [06:25<02:18,  3.40it/s]"
     ]
    },
    {
     "name": "stdout",
     "output_type": "stream",
     "text": [
      "Cargando: 74.26% completo\n"
     ]
    },
    {
     "name": "stderr",
     "output_type": "stream",
     "text": [
      "Procesando prestaciones_t2024.db:  74%|███▋ | 1354/1822 [06:25<02:12,  3.54it/s]"
     ]
    },
    {
     "name": "stdout",
     "output_type": "stream",
     "text": [
      "Cargando: 74.31% completo\n"
     ]
    },
    {
     "name": "stderr",
     "output_type": "stream",
     "text": [
      "Procesando prestaciones_t2024.db:  74%|███▋ | 1355/1822 [06:25<02:10,  3.57it/s]"
     ]
    },
    {
     "name": "stdout",
     "output_type": "stream",
     "text": [
      "Cargando: 74.37% completo\n"
     ]
    },
    {
     "name": "stderr",
     "output_type": "stream",
     "text": [
      "Procesando prestaciones_t2024.db:  74%|███▋ | 1356/1822 [06:25<02:06,  3.68it/s]"
     ]
    },
    {
     "name": "stdout",
     "output_type": "stream",
     "text": [
      "Cargando: 74.42% completo\n"
     ]
    },
    {
     "name": "stderr",
     "output_type": "stream",
     "text": [
      "Procesando prestaciones_t2024.db:  74%|███▋ | 1357/1822 [06:26<02:05,  3.72it/s]"
     ]
    },
    {
     "name": "stdout",
     "output_type": "stream",
     "text": [
      "Cargando: 74.48% completo\n"
     ]
    },
    {
     "name": "stderr",
     "output_type": "stream",
     "text": [
      "Procesando prestaciones_t2024.db:  75%|███▋ | 1358/1822 [06:26<02:02,  3.80it/s]"
     ]
    },
    {
     "name": "stdout",
     "output_type": "stream",
     "text": [
      "Cargando: 74.53% completo\n"
     ]
    },
    {
     "name": "stderr",
     "output_type": "stream",
     "text": [
      "Procesando prestaciones_t2024.db:  75%|███▋ | 1359/1822 [06:26<02:00,  3.84it/s]"
     ]
    },
    {
     "name": "stdout",
     "output_type": "stream",
     "text": [
      "Cargando: 74.59% completo\n"
     ]
    },
    {
     "name": "stderr",
     "output_type": "stream",
     "text": [
      "Procesando prestaciones_t2024.db:  75%|███▋ | 1360/1822 [06:26<02:00,  3.85it/s]"
     ]
    },
    {
     "name": "stdout",
     "output_type": "stream",
     "text": [
      "Cargando: 74.64% completo\n"
     ]
    },
    {
     "name": "stderr",
     "output_type": "stream",
     "text": [
      "Procesando prestaciones_t2024.db:  75%|███▋ | 1361/1822 [06:27<01:59,  3.86it/s]"
     ]
    },
    {
     "name": "stdout",
     "output_type": "stream",
     "text": [
      "Cargando: 74.70% completo\n"
     ]
    },
    {
     "name": "stderr",
     "output_type": "stream",
     "text": [
      "Procesando prestaciones_t2024.db:  75%|███▋ | 1362/1822 [06:27<01:58,  3.88it/s]"
     ]
    },
    {
     "name": "stdout",
     "output_type": "stream",
     "text": [
      "Cargando: 74.75% completo\n"
     ]
    },
    {
     "name": "stderr",
     "output_type": "stream",
     "text": [
      "Procesando prestaciones_t2024.db:  75%|███▋ | 1363/1822 [06:27<01:58,  3.86it/s]"
     ]
    },
    {
     "name": "stdout",
     "output_type": "stream",
     "text": [
      "Cargando: 74.81% completo\n"
     ]
    },
    {
     "name": "stderr",
     "output_type": "stream",
     "text": [
      "Procesando prestaciones_t2024.db:  75%|███▋ | 1364/1822 [06:27<01:57,  3.90it/s]"
     ]
    },
    {
     "name": "stdout",
     "output_type": "stream",
     "text": [
      "Cargando: 74.86% completo\n"
     ]
    },
    {
     "name": "stderr",
     "output_type": "stream",
     "text": [
      "Procesando prestaciones_t2024.db:  75%|███▋ | 1365/1822 [06:28<02:23,  3.19it/s]"
     ]
    },
    {
     "name": "stdout",
     "output_type": "stream",
     "text": [
      "Cargando: 74.92% completo\n"
     ]
    },
    {
     "name": "stderr",
     "output_type": "stream",
     "text": [
      "Procesando prestaciones_t2024.db:  75%|███▋ | 1366/1822 [06:28<02:13,  3.41it/s]"
     ]
    },
    {
     "name": "stdout",
     "output_type": "stream",
     "text": [
      "Cargando: 74.97% completo\n"
     ]
    },
    {
     "name": "stderr",
     "output_type": "stream",
     "text": [
      "Procesando prestaciones_t2024.db:  75%|███▊ | 1367/1822 [06:28<02:08,  3.53it/s]"
     ]
    },
    {
     "name": "stdout",
     "output_type": "stream",
     "text": [
      "Cargando: 75.03% completo\n"
     ]
    },
    {
     "name": "stderr",
     "output_type": "stream",
     "text": [
      "Procesando prestaciones_t2024.db:  75%|███▊ | 1368/1822 [06:29<02:04,  3.63it/s]"
     ]
    },
    {
     "name": "stdout",
     "output_type": "stream",
     "text": [
      "Cargando: 75.08% completo\n"
     ]
    },
    {
     "name": "stderr",
     "output_type": "stream",
     "text": [
      "Procesando prestaciones_t2024.db:  75%|███▊ | 1369/1822 [06:29<02:02,  3.71it/s]"
     ]
    },
    {
     "name": "stdout",
     "output_type": "stream",
     "text": [
      "Cargando: 75.14% completo\n"
     ]
    },
    {
     "name": "stderr",
     "output_type": "stream",
     "text": [
      "Procesando prestaciones_t2024.db:  75%|███▊ | 1370/1822 [06:29<02:00,  3.76it/s]"
     ]
    },
    {
     "name": "stdout",
     "output_type": "stream",
     "text": [
      "Cargando: 75.19% completo\n"
     ]
    },
    {
     "name": "stderr",
     "output_type": "stream",
     "text": [
      "Procesando prestaciones_t2024.db:  75%|███▊ | 1371/1822 [06:29<01:59,  3.78it/s]"
     ]
    },
    {
     "name": "stdout",
     "output_type": "stream",
     "text": [
      "Cargando: 75.25% completo\n"
     ]
    },
    {
     "name": "stderr",
     "output_type": "stream",
     "text": [
      "Procesando prestaciones_t2024.db:  75%|███▊ | 1372/1822 [06:30<01:57,  3.83it/s]"
     ]
    },
    {
     "name": "stdout",
     "output_type": "stream",
     "text": [
      "Cargando: 75.30% completo\n"
     ]
    },
    {
     "name": "stderr",
     "output_type": "stream",
     "text": [
      "Procesando prestaciones_t2024.db:  75%|███▊ | 1373/1822 [06:30<01:56,  3.85it/s]"
     ]
    },
    {
     "name": "stdout",
     "output_type": "stream",
     "text": [
      "Cargando: 75.36% completo\n"
     ]
    },
    {
     "name": "stderr",
     "output_type": "stream",
     "text": [
      "Procesando prestaciones_t2024.db:  75%|███▊ | 1374/1822 [06:30<01:55,  3.86it/s]"
     ]
    },
    {
     "name": "stdout",
     "output_type": "stream",
     "text": [
      "Cargando: 75.41% completo\n"
     ]
    },
    {
     "name": "stderr",
     "output_type": "stream",
     "text": [
      "Procesando prestaciones_t2024.db:  75%|███▊ | 1375/1822 [06:30<01:55,  3.85it/s]"
     ]
    },
    {
     "name": "stdout",
     "output_type": "stream",
     "text": [
      "Cargando: 75.47% completo\n"
     ]
    },
    {
     "name": "stderr",
     "output_type": "stream",
     "text": [
      "Procesando prestaciones_t2024.db:  76%|███▊ | 1376/1822 [06:31<02:07,  3.51it/s]"
     ]
    },
    {
     "name": "stdout",
     "output_type": "stream",
     "text": [
      "Cargando: 75.52% completo\n"
     ]
    },
    {
     "name": "stderr",
     "output_type": "stream",
     "text": [
      "Procesando prestaciones_t2024.db:  76%|███▊ | 1377/1822 [06:31<02:02,  3.64it/s]"
     ]
    },
    {
     "name": "stdout",
     "output_type": "stream",
     "text": [
      "Cargando: 75.58% completo\n"
     ]
    },
    {
     "name": "stderr",
     "output_type": "stream",
     "text": [
      "Procesando prestaciones_t2024.db:  76%|███▊ | 1378/1822 [06:31<02:25,  3.06it/s]"
     ]
    },
    {
     "name": "stdout",
     "output_type": "stream",
     "text": [
      "Cargando: 75.63% completo\n"
     ]
    },
    {
     "name": "stderr",
     "output_type": "stream",
     "text": [
      "Procesando prestaciones_t2024.db:  76%|███▊ | 1379/1822 [06:32<02:15,  3.26it/s]"
     ]
    },
    {
     "name": "stdout",
     "output_type": "stream",
     "text": [
      "Cargando: 75.69% completo\n"
     ]
    },
    {
     "name": "stderr",
     "output_type": "stream",
     "text": [
      "Procesando prestaciones_t2024.db:  76%|███▊ | 1380/1822 [06:32<02:08,  3.45it/s]"
     ]
    },
    {
     "name": "stdout",
     "output_type": "stream",
     "text": [
      "Cargando: 75.74% completo\n"
     ]
    },
    {
     "name": "stderr",
     "output_type": "stream",
     "text": [
      "Procesando prestaciones_t2024.db:  76%|███▊ | 1381/1822 [06:32<02:04,  3.53it/s]"
     ]
    },
    {
     "name": "stdout",
     "output_type": "stream",
     "text": [
      "Cargando: 75.80% completo\n"
     ]
    },
    {
     "name": "stderr",
     "output_type": "stream",
     "text": [
      "Procesando prestaciones_t2024.db:  76%|███▊ | 1382/1822 [06:32<01:59,  3.68it/s]"
     ]
    },
    {
     "name": "stdout",
     "output_type": "stream",
     "text": [
      "Cargando: 75.85% completo\n"
     ]
    },
    {
     "name": "stderr",
     "output_type": "stream",
     "text": [
      "Procesando prestaciones_t2024.db:  76%|███▊ | 1383/1822 [06:33<01:58,  3.71it/s]"
     ]
    },
    {
     "name": "stdout",
     "output_type": "stream",
     "text": [
      "Cargando: 75.91% completo\n"
     ]
    },
    {
     "name": "stderr",
     "output_type": "stream",
     "text": [
      "Procesando prestaciones_t2024.db:  76%|███▊ | 1384/1822 [06:33<01:54,  3.81it/s]"
     ]
    },
    {
     "name": "stdout",
     "output_type": "stream",
     "text": [
      "Cargando: 75.96% completo\n"
     ]
    },
    {
     "name": "stderr",
     "output_type": "stream",
     "text": [
      "Procesando prestaciones_t2024.db:  76%|███▊ | 1385/1822 [06:33<01:56,  3.77it/s]"
     ]
    },
    {
     "name": "stdout",
     "output_type": "stream",
     "text": [
      "Cargando: 76.02% completo\n"
     ]
    },
    {
     "name": "stderr",
     "output_type": "stream",
     "text": [
      "Procesando prestaciones_t2024.db:  76%|███▊ | 1386/1822 [06:33<01:52,  3.87it/s]"
     ]
    },
    {
     "name": "stdout",
     "output_type": "stream",
     "text": [
      "Cargando: 76.07% completo\n"
     ]
    },
    {
     "name": "stderr",
     "output_type": "stream",
     "text": [
      "Procesando prestaciones_t2024.db:  76%|███▊ | 1387/1822 [06:34<01:56,  3.75it/s]"
     ]
    },
    {
     "name": "stdout",
     "output_type": "stream",
     "text": [
      "Cargando: 76.13% completo\n"
     ]
    },
    {
     "name": "stderr",
     "output_type": "stream",
     "text": [
      "Procesando prestaciones_t2024.db:  76%|███▊ | 1388/1822 [06:34<01:52,  3.84it/s]"
     ]
    },
    {
     "name": "stdout",
     "output_type": "stream",
     "text": [
      "Cargando: 76.18% completo\n"
     ]
    },
    {
     "name": "stderr",
     "output_type": "stream",
     "text": [
      "Procesando prestaciones_t2024.db:  76%|███▊ | 1389/1822 [06:34<01:53,  3.81it/s]"
     ]
    },
    {
     "name": "stdout",
     "output_type": "stream",
     "text": [
      "Cargando: 76.23% completo\n"
     ]
    },
    {
     "name": "stderr",
     "output_type": "stream",
     "text": [
      "Procesando prestaciones_t2024.db:  76%|███▊ | 1390/1822 [06:35<01:53,  3.79it/s]"
     ]
    },
    {
     "name": "stdout",
     "output_type": "stream",
     "text": [
      "Cargando: 76.29% completo\n"
     ]
    },
    {
     "name": "stderr",
     "output_type": "stream",
     "text": [
      "Procesando prestaciones_t2024.db:  76%|███▊ | 1391/1822 [06:35<01:54,  3.76it/s]"
     ]
    },
    {
     "name": "stdout",
     "output_type": "stream",
     "text": [
      "Cargando: 76.34% completo\n"
     ]
    },
    {
     "name": "stderr",
     "output_type": "stream",
     "text": [
      "Procesando prestaciones_t2024.db:  76%|███▊ | 1392/1822 [06:35<02:18,  3.10it/s]"
     ]
    },
    {
     "name": "stdout",
     "output_type": "stream",
     "text": [
      "Cargando: 76.40% completo\n"
     ]
    },
    {
     "name": "stderr",
     "output_type": "stream",
     "text": [
      "Procesando prestaciones_t2024.db:  76%|███▊ | 1393/1822 [06:36<02:09,  3.30it/s]"
     ]
    },
    {
     "name": "stdout",
     "output_type": "stream",
     "text": [
      "Cargando: 76.45% completo\n"
     ]
    },
    {
     "name": "stderr",
     "output_type": "stream",
     "text": [
      "Procesando prestaciones_t2024.db:  77%|███▊ | 1394/1822 [06:36<02:03,  3.48it/s]"
     ]
    },
    {
     "name": "stdout",
     "output_type": "stream",
     "text": [
      "Cargando: 76.51% completo\n"
     ]
    },
    {
     "name": "stderr",
     "output_type": "stream",
     "text": [
      "Procesando prestaciones_t2024.db:  77%|███▊ | 1395/1822 [06:36<01:59,  3.58it/s]"
     ]
    },
    {
     "name": "stdout",
     "output_type": "stream",
     "text": [
      "Cargando: 76.56% completo\n"
     ]
    },
    {
     "name": "stderr",
     "output_type": "stream",
     "text": [
      "Procesando prestaciones_t2024.db:  77%|███▊ | 1396/1822 [06:36<01:56,  3.66it/s]"
     ]
    },
    {
     "name": "stdout",
     "output_type": "stream",
     "text": [
      "Cargando: 76.62% completo\n"
     ]
    },
    {
     "name": "stderr",
     "output_type": "stream",
     "text": [
      "Procesando prestaciones_t2024.db:  77%|███▊ | 1397/1822 [06:37<01:56,  3.66it/s]"
     ]
    },
    {
     "name": "stdout",
     "output_type": "stream",
     "text": [
      "Cargando: 76.67% completo\n"
     ]
    },
    {
     "name": "stderr",
     "output_type": "stream",
     "text": [
      "Procesando prestaciones_t2024.db:  77%|███▊ | 1398/1822 [06:37<01:52,  3.76it/s]"
     ]
    },
    {
     "name": "stdout",
     "output_type": "stream",
     "text": [
      "Cargando: 76.73% completo\n"
     ]
    },
    {
     "name": "stderr",
     "output_type": "stream",
     "text": [
      "Procesando prestaciones_t2024.db:  77%|███▊ | 1399/1822 [06:37<01:54,  3.70it/s]"
     ]
    },
    {
     "name": "stdout",
     "output_type": "stream",
     "text": [
      "Cargando: 76.78% completo\n"
     ]
    },
    {
     "name": "stderr",
     "output_type": "stream",
     "text": [
      "Procesando prestaciones_t2024.db:  77%|███▊ | 1400/1822 [06:37<01:52,  3.75it/s]"
     ]
    },
    {
     "name": "stdout",
     "output_type": "stream",
     "text": [
      "Cargando: 76.84% completo\n"
     ]
    },
    {
     "name": "stderr",
     "output_type": "stream",
     "text": [
      "Procesando prestaciones_t2024.db:  77%|███▊ | 1401/1822 [06:38<01:52,  3.76it/s]"
     ]
    },
    {
     "name": "stdout",
     "output_type": "stream",
     "text": [
      "Cargando: 76.89% completo\n"
     ]
    },
    {
     "name": "stderr",
     "output_type": "stream",
     "text": [
      "Procesando prestaciones_t2024.db:  77%|███▊ | 1402/1822 [06:38<01:49,  3.85it/s]"
     ]
    },
    {
     "name": "stdout",
     "output_type": "stream",
     "text": [
      "Cargando: 76.95% completo\n"
     ]
    },
    {
     "name": "stderr",
     "output_type": "stream",
     "text": [
      "Procesando prestaciones_t2024.db:  77%|███▊ | 1403/1822 [06:38<01:51,  3.76it/s]"
     ]
    },
    {
     "name": "stdout",
     "output_type": "stream",
     "text": [
      "Cargando: 77.00% completo\n"
     ]
    },
    {
     "name": "stderr",
     "output_type": "stream",
     "text": [
      "Procesando prestaciones_t2024.db:  77%|███▊ | 1404/1822 [06:38<01:48,  3.85it/s]"
     ]
    },
    {
     "name": "stdout",
     "output_type": "stream",
     "text": [
      "Cargando: 77.06% completo\n"
     ]
    },
    {
     "name": "stderr",
     "output_type": "stream",
     "text": [
      "Procesando prestaciones_t2024.db:  77%|███▊ | 1405/1822 [06:39<01:49,  3.80it/s]"
     ]
    },
    {
     "name": "stdout",
     "output_type": "stream",
     "text": [
      "Cargando: 77.11% completo\n"
     ]
    },
    {
     "name": "stderr",
     "output_type": "stream",
     "text": [
      "Procesando prestaciones_t2024.db:  77%|███▊ | 1406/1822 [06:39<02:13,  3.12it/s]"
     ]
    },
    {
     "name": "stdout",
     "output_type": "stream",
     "text": [
      "Cargando: 77.17% completo\n"
     ]
    },
    {
     "name": "stderr",
     "output_type": "stream",
     "text": [
      "Procesando prestaciones_t2024.db:  77%|███▊ | 1407/1822 [06:39<02:04,  3.33it/s]"
     ]
    },
    {
     "name": "stdout",
     "output_type": "stream",
     "text": [
      "Cargando: 77.22% completo\n"
     ]
    },
    {
     "name": "stderr",
     "output_type": "stream",
     "text": [
      "Procesando prestaciones_t2024.db:  77%|███▊ | 1408/1822 [06:40<01:58,  3.50it/s]"
     ]
    },
    {
     "name": "stdout",
     "output_type": "stream",
     "text": [
      "Cargando: 77.28% completo\n"
     ]
    },
    {
     "name": "stderr",
     "output_type": "stream",
     "text": [
      "Procesando prestaciones_t2024.db:  77%|███▊ | 1409/1822 [06:40<01:54,  3.59it/s]"
     ]
    },
    {
     "name": "stdout",
     "output_type": "stream",
     "text": [
      "Cargando: 77.33% completo\n"
     ]
    },
    {
     "name": "stderr",
     "output_type": "stream",
     "text": [
      "Procesando prestaciones_t2024.db:  77%|███▊ | 1410/1822 [06:40<02:03,  3.33it/s]"
     ]
    },
    {
     "name": "stdout",
     "output_type": "stream",
     "text": [
      "Cargando: 77.39% completo\n"
     ]
    },
    {
     "name": "stderr",
     "output_type": "stream",
     "text": [
      "Procesando prestaciones_t2024.db:  77%|███▊ | 1411/1822 [06:40<01:58,  3.46it/s]"
     ]
    },
    {
     "name": "stdout",
     "output_type": "stream",
     "text": [
      "Cargando: 77.44% completo\n"
     ]
    },
    {
     "name": "stderr",
     "output_type": "stream",
     "text": [
      "Procesando prestaciones_t2024.db:  77%|███▊ | 1412/1822 [06:41<01:54,  3.58it/s]"
     ]
    },
    {
     "name": "stdout",
     "output_type": "stream",
     "text": [
      "Cargando: 77.50% completo\n"
     ]
    },
    {
     "name": "stderr",
     "output_type": "stream",
     "text": [
      "Procesando prestaciones_t2024.db:  78%|███▉ | 1413/1822 [06:41<01:52,  3.65it/s]"
     ]
    },
    {
     "name": "stdout",
     "output_type": "stream",
     "text": [
      "Cargando: 77.55% completo\n"
     ]
    },
    {
     "name": "stderr",
     "output_type": "stream",
     "text": [
      "Procesando prestaciones_t2024.db:  78%|███▉ | 1414/1822 [06:41<01:49,  3.71it/s]"
     ]
    },
    {
     "name": "stdout",
     "output_type": "stream",
     "text": [
      "Cargando: 77.61% completo\n"
     ]
    },
    {
     "name": "stderr",
     "output_type": "stream",
     "text": [
      "Procesando prestaciones_t2024.db:  78%|███▉ | 1415/1822 [06:42<01:49,  3.71it/s]"
     ]
    },
    {
     "name": "stdout",
     "output_type": "stream",
     "text": [
      "Cargando: 77.66% completo\n"
     ]
    },
    {
     "name": "stderr",
     "output_type": "stream",
     "text": [
      "Procesando prestaciones_t2024.db:  78%|███▉ | 1416/1822 [06:42<01:48,  3.75it/s]"
     ]
    },
    {
     "name": "stdout",
     "output_type": "stream",
     "text": [
      "Cargando: 77.72% completo\n"
     ]
    },
    {
     "name": "stderr",
     "output_type": "stream",
     "text": [
      "Procesando prestaciones_t2024.db:  78%|███▉ | 1417/1822 [06:42<01:47,  3.75it/s]"
     ]
    },
    {
     "name": "stdout",
     "output_type": "stream",
     "text": [
      "Cargando: 77.77% completo\n"
     ]
    },
    {
     "name": "stderr",
     "output_type": "stream",
     "text": [
      "Procesando prestaciones_t2024.db:  78%|███▉ | 1418/1822 [06:42<01:46,  3.80it/s]"
     ]
    },
    {
     "name": "stdout",
     "output_type": "stream",
     "text": [
      "Cargando: 77.83% completo\n"
     ]
    },
    {
     "name": "stderr",
     "output_type": "stream",
     "text": [
      "Procesando prestaciones_t2024.db:  78%|███▉ | 1419/1822 [06:43<01:46,  3.80it/s]"
     ]
    },
    {
     "name": "stdout",
     "output_type": "stream",
     "text": [
      "Cargando: 77.88% completo\n"
     ]
    },
    {
     "name": "stderr",
     "output_type": "stream",
     "text": [
      "Procesando prestaciones_t2024.db:  78%|███▉ | 1420/1822 [06:43<02:10,  3.09it/s]"
     ]
    },
    {
     "name": "stdout",
     "output_type": "stream",
     "text": [
      "Cargando: 77.94% completo\n"
     ]
    },
    {
     "name": "stderr",
     "output_type": "stream",
     "text": [
      "Procesando prestaciones_t2024.db:  78%|███▉ | 1421/1822 [06:43<02:02,  3.28it/s]"
     ]
    },
    {
     "name": "stdout",
     "output_type": "stream",
     "text": [
      "Cargando: 77.99% completo\n"
     ]
    },
    {
     "name": "stderr",
     "output_type": "stream",
     "text": [
      "Procesando prestaciones_t2024.db:  78%|███▉ | 1422/1822 [06:44<01:56,  3.42it/s]"
     ]
    },
    {
     "name": "stdout",
     "output_type": "stream",
     "text": [
      "Cargando: 78.05% completo\n"
     ]
    },
    {
     "name": "stderr",
     "output_type": "stream",
     "text": [
      "Procesando prestaciones_t2024.db:  78%|███▉ | 1423/1822 [06:44<01:53,  3.52it/s]"
     ]
    },
    {
     "name": "stdout",
     "output_type": "stream",
     "text": [
      "Cargando: 78.10% completo\n"
     ]
    },
    {
     "name": "stderr",
     "output_type": "stream",
     "text": [
      "Procesando prestaciones_t2024.db:  78%|███▉ | 1424/1822 [06:44<01:53,  3.50it/s]"
     ]
    },
    {
     "name": "stdout",
     "output_type": "stream",
     "text": [
      "Cargando: 78.16% completo\n"
     ]
    },
    {
     "name": "stderr",
     "output_type": "stream",
     "text": [
      "Procesando prestaciones_t2024.db:  78%|███▉ | 1425/1822 [06:44<01:51,  3.58it/s]"
     ]
    },
    {
     "name": "stdout",
     "output_type": "stream",
     "text": [
      "Cargando: 78.21% completo\n"
     ]
    },
    {
     "name": "stderr",
     "output_type": "stream",
     "text": [
      "Procesando prestaciones_t2024.db:  78%|███▉ | 1426/1822 [06:45<01:48,  3.67it/s]"
     ]
    },
    {
     "name": "stdout",
     "output_type": "stream",
     "text": [
      "Cargando: 78.27% completo\n"
     ]
    },
    {
     "name": "stderr",
     "output_type": "stream",
     "text": [
      "Procesando prestaciones_t2024.db:  78%|███▉ | 1427/1822 [06:45<01:47,  3.66it/s]"
     ]
    },
    {
     "name": "stdout",
     "output_type": "stream",
     "text": [
      "Cargando: 78.32% completo\n"
     ]
    },
    {
     "name": "stderr",
     "output_type": "stream",
     "text": [
      "Procesando prestaciones_t2024.db:  78%|███▉ | 1428/1822 [06:45<01:45,  3.75it/s]"
     ]
    },
    {
     "name": "stdout",
     "output_type": "stream",
     "text": [
      "Cargando: 78.38% completo\n"
     ]
    },
    {
     "name": "stderr",
     "output_type": "stream",
     "text": [
      "Procesando prestaciones_t2024.db:  78%|███▉ | 1429/1822 [06:45<01:46,  3.67it/s]"
     ]
    },
    {
     "name": "stdout",
     "output_type": "stream",
     "text": [
      "Cargando: 78.43% completo\n"
     ]
    },
    {
     "name": "stderr",
     "output_type": "stream",
     "text": [
      "Procesando prestaciones_t2024.db:  78%|███▉ | 1430/1822 [06:46<01:47,  3.64it/s]"
     ]
    },
    {
     "name": "stdout",
     "output_type": "stream",
     "text": [
      "Cargando: 78.49% completo\n"
     ]
    },
    {
     "name": "stderr",
     "output_type": "stream",
     "text": [
      "Procesando prestaciones_t2024.db:  79%|███▉ | 1431/1822 [06:46<01:49,  3.56it/s]"
     ]
    },
    {
     "name": "stdout",
     "output_type": "stream",
     "text": [
      "Cargando: 78.54% completo\n"
     ]
    },
    {
     "name": "stderr",
     "output_type": "stream",
     "text": [
      "Procesando prestaciones_t2024.db:  79%|███▉ | 1432/1822 [06:46<02:00,  3.24it/s]"
     ]
    },
    {
     "name": "stdout",
     "output_type": "stream",
     "text": [
      "Cargando: 78.59% completo\n"
     ]
    },
    {
     "name": "stderr",
     "output_type": "stream",
     "text": [
      "Procesando prestaciones_t2024.db:  79%|███▉ | 1433/1822 [06:47<01:59,  3.27it/s]"
     ]
    },
    {
     "name": "stdout",
     "output_type": "stream",
     "text": [
      "Cargando: 78.65% completo\n"
     ]
    },
    {
     "name": "stderr",
     "output_type": "stream",
     "text": [
      "Procesando prestaciones_t2024.db:  79%|███▉ | 1434/1822 [06:47<01:57,  3.31it/s]"
     ]
    },
    {
     "name": "stdout",
     "output_type": "stream",
     "text": [
      "Cargando: 78.70% completo\n"
     ]
    },
    {
     "name": "stderr",
     "output_type": "stream",
     "text": [
      "Procesando prestaciones_t2024.db:  79%|███▉ | 1435/1822 [06:48<02:27,  2.62it/s]"
     ]
    },
    {
     "name": "stdout",
     "output_type": "stream",
     "text": [
      "Cargando: 78.76% completo\n"
     ]
    },
    {
     "name": "stderr",
     "output_type": "stream",
     "text": [
      "Procesando prestaciones_t2024.db:  79%|███▉ | 1436/1822 [06:48<02:15,  2.85it/s]"
     ]
    },
    {
     "name": "stdout",
     "output_type": "stream",
     "text": [
      "Cargando: 78.81% completo\n"
     ]
    },
    {
     "name": "stderr",
     "output_type": "stream",
     "text": [
      "Procesando prestaciones_t2024.db:  79%|███▉ | 1437/1822 [06:48<02:07,  3.01it/s]"
     ]
    },
    {
     "name": "stdout",
     "output_type": "stream",
     "text": [
      "Cargando: 78.87% completo\n"
     ]
    },
    {
     "name": "stderr",
     "output_type": "stream",
     "text": [
      "Procesando prestaciones_t2024.db:  79%|███▉ | 1438/1822 [06:48<02:00,  3.19it/s]"
     ]
    },
    {
     "name": "stdout",
     "output_type": "stream",
     "text": [
      "Cargando: 78.92% completo\n"
     ]
    },
    {
     "name": "stderr",
     "output_type": "stream",
     "text": [
      "Procesando prestaciones_t2024.db:  79%|███▉ | 1439/1822 [06:49<01:57,  3.26it/s]"
     ]
    },
    {
     "name": "stdout",
     "output_type": "stream",
     "text": [
      "Cargando: 78.98% completo\n"
     ]
    },
    {
     "name": "stderr",
     "output_type": "stream",
     "text": [
      "Procesando prestaciones_t2024.db:  79%|███▉ | 1440/1822 [06:49<01:53,  3.36it/s]"
     ]
    },
    {
     "name": "stdout",
     "output_type": "stream",
     "text": [
      "Cargando: 79.03% completo\n"
     ]
    },
    {
     "name": "stderr",
     "output_type": "stream",
     "text": [
      "Procesando prestaciones_t2024.db:  79%|███▉ | 1441/1822 [06:49<01:53,  3.36it/s]"
     ]
    },
    {
     "name": "stdout",
     "output_type": "stream",
     "text": [
      "Cargando: 79.09% completo\n"
     ]
    },
    {
     "name": "stderr",
     "output_type": "stream",
     "text": [
      "Procesando prestaciones_t2024.db:  79%|███▉ | 1442/1822 [06:50<01:48,  3.50it/s]"
     ]
    },
    {
     "name": "stdout",
     "output_type": "stream",
     "text": [
      "Cargando: 79.14% completo\n"
     ]
    },
    {
     "name": "stderr",
     "output_type": "stream",
     "text": [
      "Procesando prestaciones_t2024.db:  79%|███▉ | 1443/1822 [06:50<02:02,  3.11it/s]"
     ]
    },
    {
     "name": "stdout",
     "output_type": "stream",
     "text": [
      "Cargando: 79.20% completo\n"
     ]
    },
    {
     "name": "stderr",
     "output_type": "stream",
     "text": [
      "Procesando prestaciones_t2024.db:  79%|███▉ | 1444/1822 [06:50<01:55,  3.28it/s]"
     ]
    },
    {
     "name": "stdout",
     "output_type": "stream",
     "text": [
      "Cargando: 79.25% completo\n"
     ]
    },
    {
     "name": "stderr",
     "output_type": "stream",
     "text": [
      "Procesando prestaciones_t2024.db:  79%|███▉ | 1445/1822 [06:50<01:52,  3.35it/s]"
     ]
    },
    {
     "name": "stdout",
     "output_type": "stream",
     "text": [
      "Cargando: 79.31% completo\n"
     ]
    },
    {
     "name": "stderr",
     "output_type": "stream",
     "text": [
      "Procesando prestaciones_t2024.db:  79%|███▉ | 1446/1822 [06:51<01:48,  3.46it/s]"
     ]
    },
    {
     "name": "stdout",
     "output_type": "stream",
     "text": [
      "Cargando: 79.36% completo\n"
     ]
    },
    {
     "name": "stderr",
     "output_type": "stream",
     "text": [
      "Procesando prestaciones_t2024.db:  79%|███▉ | 1447/1822 [06:51<01:45,  3.55it/s]"
     ]
    },
    {
     "name": "stdout",
     "output_type": "stream",
     "text": [
      "Cargando: 79.42% completo\n"
     ]
    },
    {
     "name": "stderr",
     "output_type": "stream",
     "text": [
      "Procesando prestaciones_t2024.db:  79%|███▉ | 1448/1822 [06:51<01:42,  3.65it/s]"
     ]
    },
    {
     "name": "stdout",
     "output_type": "stream",
     "text": [
      "Cargando: 79.47% completo\n"
     ]
    },
    {
     "name": "stderr",
     "output_type": "stream",
     "text": [
      "Procesando prestaciones_t2024.db:  80%|███▉ | 1449/1822 [06:52<02:07,  2.92it/s]"
     ]
    },
    {
     "name": "stdout",
     "output_type": "stream",
     "text": [
      "Cargando: 79.53% completo\n"
     ]
    },
    {
     "name": "stderr",
     "output_type": "stream",
     "text": [
      "Procesando prestaciones_t2024.db:  80%|███▉ | 1450/1822 [06:52<01:59,  3.11it/s]"
     ]
    },
    {
     "name": "stdout",
     "output_type": "stream",
     "text": [
      "Cargando: 79.58% completo\n"
     ]
    },
    {
     "name": "stderr",
     "output_type": "stream",
     "text": [
      "Procesando prestaciones_t2024.db:  80%|███▉ | 1451/1822 [06:52<01:57,  3.15it/s]"
     ]
    },
    {
     "name": "stdout",
     "output_type": "stream",
     "text": [
      "Cargando: 79.64% completo\n"
     ]
    },
    {
     "name": "stderr",
     "output_type": "stream",
     "text": [
      "Procesando prestaciones_t2024.db:  80%|███▉ | 1452/1822 [06:53<01:52,  3.29it/s]"
     ]
    },
    {
     "name": "stdout",
     "output_type": "stream",
     "text": [
      "Cargando: 79.69% completo\n"
     ]
    },
    {
     "name": "stderr",
     "output_type": "stream",
     "text": [
      "Procesando prestaciones_t2024.db:  80%|███▉ | 1453/1822 [06:53<01:59,  3.08it/s]"
     ]
    },
    {
     "name": "stdout",
     "output_type": "stream",
     "text": [
      "Cargando: 79.75% completo\n"
     ]
    },
    {
     "name": "stderr",
     "output_type": "stream",
     "text": [
      "Procesando prestaciones_t2024.db:  80%|███▉ | 1454/1822 [06:53<01:52,  3.26it/s]"
     ]
    },
    {
     "name": "stdout",
     "output_type": "stream",
     "text": [
      "Cargando: 79.80% completo\n"
     ]
    },
    {
     "name": "stderr",
     "output_type": "stream",
     "text": [
      "Procesando prestaciones_t2024.db:  80%|███▉ | 1455/1822 [06:54<01:51,  3.29it/s]"
     ]
    },
    {
     "name": "stdout",
     "output_type": "stream",
     "text": [
      "Cargando: 79.86% completo\n"
     ]
    },
    {
     "name": "stderr",
     "output_type": "stream",
     "text": [
      "Procesando prestaciones_t2024.db:  80%|███▉ | 1456/1822 [06:54<01:52,  3.27it/s]"
     ]
    },
    {
     "name": "stdout",
     "output_type": "stream",
     "text": [
      "Cargando: 79.91% completo\n"
     ]
    },
    {
     "name": "stderr",
     "output_type": "stream",
     "text": [
      "Procesando prestaciones_t2024.db:  80%|███▉ | 1457/1822 [06:54<01:55,  3.17it/s]"
     ]
    },
    {
     "name": "stdout",
     "output_type": "stream",
     "text": [
      "Cargando: 79.97% completo\n"
     ]
    },
    {
     "name": "stderr",
     "output_type": "stream",
     "text": [
      "Procesando prestaciones_t2024.db:  80%|████ | 1458/1822 [06:55<01:55,  3.15it/s]"
     ]
    },
    {
     "name": "stdout",
     "output_type": "stream",
     "text": [
      "Cargando: 80.02% completo\n"
     ]
    },
    {
     "name": "stderr",
     "output_type": "stream",
     "text": [
      "Procesando prestaciones_t2024.db:  80%|████ | 1459/1822 [06:55<01:52,  3.21it/s]"
     ]
    },
    {
     "name": "stdout",
     "output_type": "stream",
     "text": [
      "Cargando: 80.08% completo\n"
     ]
    },
    {
     "name": "stderr",
     "output_type": "stream",
     "text": [
      "Procesando prestaciones_t2024.db:  80%|████ | 1460/1822 [06:55<01:50,  3.29it/s]"
     ]
    },
    {
     "name": "stdout",
     "output_type": "stream",
     "text": [
      "Cargando: 80.13% completo\n"
     ]
    },
    {
     "name": "stderr",
     "output_type": "stream",
     "text": [
      "Procesando prestaciones_t2024.db:  80%|████ | 1461/1822 [06:55<01:48,  3.32it/s]"
     ]
    },
    {
     "name": "stdout",
     "output_type": "stream",
     "text": [
      "Cargando: 80.19% completo\n"
     ]
    },
    {
     "name": "stderr",
     "output_type": "stream",
     "text": [
      "Procesando prestaciones_t2024.db:  80%|████ | 1462/1822 [06:56<01:45,  3.43it/s]"
     ]
    },
    {
     "name": "stdout",
     "output_type": "stream",
     "text": [
      "Cargando: 80.24% completo\n"
     ]
    },
    {
     "name": "stderr",
     "output_type": "stream",
     "text": [
      "Procesando prestaciones_t2024.db:  80%|████ | 1463/1822 [06:56<01:44,  3.42it/s]"
     ]
    },
    {
     "name": "stdout",
     "output_type": "stream",
     "text": [
      "Cargando: 80.30% completo\n"
     ]
    },
    {
     "name": "stderr",
     "output_type": "stream",
     "text": [
      "Procesando prestaciones_t2024.db:  80%|████ | 1464/1822 [06:56<02:04,  2.87it/s]"
     ]
    },
    {
     "name": "stdout",
     "output_type": "stream",
     "text": [
      "Cargando: 80.35% completo\n"
     ]
    },
    {
     "name": "stderr",
     "output_type": "stream",
     "text": [
      "Procesando prestaciones_t2024.db:  80%|████ | 1465/1822 [06:57<01:55,  3.10it/s]"
     ]
    },
    {
     "name": "stdout",
     "output_type": "stream",
     "text": [
      "Cargando: 80.41% completo\n"
     ]
    },
    {
     "name": "stderr",
     "output_type": "stream",
     "text": [
      "Procesando prestaciones_t2024.db:  80%|████ | 1466/1822 [06:57<01:48,  3.29it/s]"
     ]
    },
    {
     "name": "stdout",
     "output_type": "stream",
     "text": [
      "Cargando: 80.46% completo\n"
     ]
    },
    {
     "name": "stderr",
     "output_type": "stream",
     "text": [
      "Procesando prestaciones_t2024.db:  81%|████ | 1467/1822 [06:57<01:42,  3.46it/s]"
     ]
    },
    {
     "name": "stdout",
     "output_type": "stream",
     "text": [
      "Cargando: 80.52% completo\n"
     ]
    },
    {
     "name": "stderr",
     "output_type": "stream",
     "text": [
      "Procesando prestaciones_t2024.db:  81%|████ | 1468/1822 [06:57<01:38,  3.58it/s]"
     ]
    },
    {
     "name": "stdout",
     "output_type": "stream",
     "text": [
      "Cargando: 80.57% completo\n"
     ]
    },
    {
     "name": "stderr",
     "output_type": "stream",
     "text": [
      "Procesando prestaciones_t2024.db:  81%|████ | 1469/1822 [06:58<01:39,  3.54it/s]"
     ]
    },
    {
     "name": "stdout",
     "output_type": "stream",
     "text": [
      "Cargando: 80.63% completo\n"
     ]
    },
    {
     "name": "stderr",
     "output_type": "stream",
     "text": [
      "Procesando prestaciones_t2024.db:  81%|████ | 1470/1822 [06:58<01:39,  3.54it/s]"
     ]
    },
    {
     "name": "stdout",
     "output_type": "stream",
     "text": [
      "Cargando: 80.68% completo\n"
     ]
    },
    {
     "name": "stderr",
     "output_type": "stream",
     "text": [
      "Procesando prestaciones_t2024.db:  81%|████ | 1471/1822 [06:58<01:41,  3.47it/s]"
     ]
    },
    {
     "name": "stdout",
     "output_type": "stream",
     "text": [
      "Cargando: 80.74% completo\n"
     ]
    },
    {
     "name": "stderr",
     "output_type": "stream",
     "text": [
      "Procesando prestaciones_t2024.db:  81%|████ | 1472/1822 [06:59<01:49,  3.19it/s]"
     ]
    },
    {
     "name": "stdout",
     "output_type": "stream",
     "text": [
      "Cargando: 80.79% completo\n"
     ]
    },
    {
     "name": "stderr",
     "output_type": "stream",
     "text": [
      "Procesando prestaciones_t2024.db:  81%|████ | 1473/1822 [06:59<01:45,  3.29it/s]"
     ]
    },
    {
     "name": "stdout",
     "output_type": "stream",
     "text": [
      "Cargando: 80.85% completo\n"
     ]
    },
    {
     "name": "stderr",
     "output_type": "stream",
     "text": [
      "Procesando prestaciones_t2024.db:  81%|████ | 1474/1822 [06:59<01:45,  3.31it/s]"
     ]
    },
    {
     "name": "stdout",
     "output_type": "stream",
     "text": [
      "Cargando: 80.90% completo\n"
     ]
    },
    {
     "name": "stderr",
     "output_type": "stream",
     "text": [
      "Procesando prestaciones_t2024.db:  81%|████ | 1475/1822 [07:00<01:44,  3.33it/s]"
     ]
    },
    {
     "name": "stdout",
     "output_type": "stream",
     "text": [
      "Cargando: 80.95% completo\n"
     ]
    },
    {
     "name": "stderr",
     "output_type": "stream",
     "text": [
      "Procesando prestaciones_t2024.db:  81%|████ | 1476/1822 [07:00<01:44,  3.32it/s]"
     ]
    },
    {
     "name": "stdout",
     "output_type": "stream",
     "text": [
      "Cargando: 81.01% completo\n"
     ]
    },
    {
     "name": "stderr",
     "output_type": "stream",
     "text": [
      "Procesando prestaciones_t2024.db:  81%|████ | 1477/1822 [07:00<01:44,  3.30it/s]"
     ]
    },
    {
     "name": "stdout",
     "output_type": "stream",
     "text": [
      "Cargando: 81.06% completo\n"
     ]
    },
    {
     "name": "stderr",
     "output_type": "stream",
     "text": [
      "Procesando prestaciones_t2024.db:  81%|████ | 1478/1822 [07:01<01:45,  3.27it/s]"
     ]
    },
    {
     "name": "stdout",
     "output_type": "stream",
     "text": [
      "Cargando: 81.12% completo\n"
     ]
    },
    {
     "name": "stderr",
     "output_type": "stream",
     "text": [
      "Procesando prestaciones_t2024.db:  81%|████ | 1479/1822 [07:01<02:10,  2.64it/s]"
     ]
    },
    {
     "name": "stdout",
     "output_type": "stream",
     "text": [
      "Cargando: 81.17% completo\n"
     ]
    },
    {
     "name": "stderr",
     "output_type": "stream",
     "text": [
      "Procesando prestaciones_t2024.db:  81%|████ | 1480/1822 [07:01<02:00,  2.84it/s]"
     ]
    },
    {
     "name": "stdout",
     "output_type": "stream",
     "text": [
      "Cargando: 81.23% completo\n"
     ]
    },
    {
     "name": "stderr",
     "output_type": "stream",
     "text": [
      "Procesando prestaciones_t2024.db:  81%|████ | 1481/1822 [07:02<01:52,  3.04it/s]"
     ]
    },
    {
     "name": "stdout",
     "output_type": "stream",
     "text": [
      "Cargando: 81.28% completo\n"
     ]
    },
    {
     "name": "stderr",
     "output_type": "stream",
     "text": [
      "Procesando prestaciones_t2024.db:  81%|████ | 1482/1822 [07:02<01:46,  3.19it/s]"
     ]
    },
    {
     "name": "stdout",
     "output_type": "stream",
     "text": [
      "Cargando: 81.34% completo\n"
     ]
    },
    {
     "name": "stderr",
     "output_type": "stream",
     "text": [
      "Procesando prestaciones_t2024.db:  81%|████ | 1483/1822 [07:02<01:44,  3.25it/s]"
     ]
    },
    {
     "name": "stdout",
     "output_type": "stream",
     "text": [
      "Cargando: 81.39% completo\n"
     ]
    },
    {
     "name": "stderr",
     "output_type": "stream",
     "text": [
      "Procesando prestaciones_t2024.db:  81%|████ | 1484/1822 [07:02<01:40,  3.37it/s]"
     ]
    },
    {
     "name": "stdout",
     "output_type": "stream",
     "text": [
      "Cargando: 81.45% completo\n"
     ]
    },
    {
     "name": "stderr",
     "output_type": "stream",
     "text": [
      "Procesando prestaciones_t2024.db:  82%|████ | 1485/1822 [07:03<01:38,  3.41it/s]"
     ]
    },
    {
     "name": "stdout",
     "output_type": "stream",
     "text": [
      "Cargando: 81.50% completo\n"
     ]
    },
    {
     "name": "stderr",
     "output_type": "stream",
     "text": [
      "Procesando prestaciones_t2024.db:  82%|████ | 1486/1822 [07:03<01:37,  3.45it/s]"
     ]
    },
    {
     "name": "stdout",
     "output_type": "stream",
     "text": [
      "Cargando: 81.56% completo\n"
     ]
    },
    {
     "name": "stderr",
     "output_type": "stream",
     "text": [
      "Procesando prestaciones_t2024.db:  82%|████ | 1487/1822 [07:03<01:38,  3.40it/s]"
     ]
    },
    {
     "name": "stdout",
     "output_type": "stream",
     "text": [
      "Cargando: 81.61% completo\n"
     ]
    },
    {
     "name": "stderr",
     "output_type": "stream",
     "text": [
      "Procesando prestaciones_t2024.db:  82%|████ | 1488/1822 [07:04<01:34,  3.53it/s]"
     ]
    },
    {
     "name": "stdout",
     "output_type": "stream",
     "text": [
      "Cargando: 81.67% completo\n"
     ]
    },
    {
     "name": "stderr",
     "output_type": "stream",
     "text": [
      "Procesando prestaciones_t2024.db:  82%|████ | 1489/1822 [07:04<01:36,  3.44it/s]"
     ]
    },
    {
     "name": "stdout",
     "output_type": "stream",
     "text": [
      "Cargando: 81.72% completo\n"
     ]
    },
    {
     "name": "stderr",
     "output_type": "stream",
     "text": [
      "Procesando prestaciones_t2024.db:  82%|████ | 1490/1822 [07:04<01:38,  3.38it/s]"
     ]
    },
    {
     "name": "stdout",
     "output_type": "stream",
     "text": [
      "Cargando: 81.78% completo\n"
     ]
    },
    {
     "name": "stderr",
     "output_type": "stream",
     "text": [
      "Procesando prestaciones_t2024.db:  82%|████ | 1491/1822 [07:05<01:37,  3.40it/s]"
     ]
    },
    {
     "name": "stdout",
     "output_type": "stream",
     "text": [
      "Cargando: 81.83% completo\n"
     ]
    },
    {
     "name": "stderr",
     "output_type": "stream",
     "text": [
      "Procesando prestaciones_t2024.db:  82%|████ | 1492/1822 [07:05<01:36,  3.42it/s]"
     ]
    },
    {
     "name": "stdout",
     "output_type": "stream",
     "text": [
      "Cargando: 81.89% completo\n"
     ]
    },
    {
     "name": "stderr",
     "output_type": "stream",
     "text": [
      "Procesando prestaciones_t2024.db:  82%|████ | 1493/1822 [07:05<01:36,  3.43it/s]"
     ]
    },
    {
     "name": "stdout",
     "output_type": "stream",
     "text": [
      "Cargando: 81.94% completo\n"
     ]
    },
    {
     "name": "stderr",
     "output_type": "stream",
     "text": [
      "Procesando prestaciones_t2024.db:  82%|████ | 1494/1822 [07:06<01:59,  2.74it/s]"
     ]
    },
    {
     "name": "stdout",
     "output_type": "stream",
     "text": [
      "Cargando: 82.00% completo\n"
     ]
    },
    {
     "name": "stderr",
     "output_type": "stream",
     "text": [
      "Procesando prestaciones_t2024.db:  82%|████ | 1495/1822 [07:06<01:53,  2.88it/s]"
     ]
    },
    {
     "name": "stdout",
     "output_type": "stream",
     "text": [
      "Cargando: 82.05% completo\n"
     ]
    },
    {
     "name": "stderr",
     "output_type": "stream",
     "text": [
      "Procesando prestaciones_t2024.db:  82%|████ | 1496/1822 [07:06<01:47,  3.02it/s]"
     ]
    },
    {
     "name": "stdout",
     "output_type": "stream",
     "text": [
      "Cargando: 82.11% completo\n"
     ]
    },
    {
     "name": "stderr",
     "output_type": "stream",
     "text": [
      "Procesando prestaciones_t2024.db:  82%|████ | 1497/1822 [07:07<01:45,  3.07it/s]"
     ]
    },
    {
     "name": "stdout",
     "output_type": "stream",
     "text": [
      "Cargando: 82.16% completo\n"
     ]
    },
    {
     "name": "stderr",
     "output_type": "stream",
     "text": [
      "Procesando prestaciones_t2024.db:  82%|████ | 1498/1822 [07:07<01:53,  2.85it/s]"
     ]
    },
    {
     "name": "stdout",
     "output_type": "stream",
     "text": [
      "Cargando: 82.22% completo\n"
     ]
    },
    {
     "name": "stderr",
     "output_type": "stream",
     "text": [
      "Procesando prestaciones_t2024.db:  82%|████ | 1499/1822 [07:07<01:46,  3.02it/s]"
     ]
    },
    {
     "name": "stdout",
     "output_type": "stream",
     "text": [
      "Cargando: 82.27% completo\n"
     ]
    },
    {
     "name": "stderr",
     "output_type": "stream",
     "text": [
      "Procesando prestaciones_t2024.db:  82%|████ | 1500/1822 [07:08<01:40,  3.19it/s]"
     ]
    },
    {
     "name": "stdout",
     "output_type": "stream",
     "text": [
      "Cargando: 82.33% completo\n"
     ]
    },
    {
     "name": "stderr",
     "output_type": "stream",
     "text": [
      "Procesando prestaciones_t2024.db:  82%|████ | 1501/1822 [07:08<01:37,  3.29it/s]"
     ]
    },
    {
     "name": "stdout",
     "output_type": "stream",
     "text": [
      "Cargando: 82.38% completo\n"
     ]
    },
    {
     "name": "stderr",
     "output_type": "stream",
     "text": [
      "Procesando prestaciones_t2024.db:  82%|████ | 1502/1822 [07:08<01:33,  3.43it/s]"
     ]
    },
    {
     "name": "stdout",
     "output_type": "stream",
     "text": [
      "Cargando: 82.44% completo\n"
     ]
    },
    {
     "name": "stderr",
     "output_type": "stream",
     "text": [
      "Procesando prestaciones_t2024.db:  82%|████ | 1503/1822 [07:08<01:31,  3.49it/s]"
     ]
    },
    {
     "name": "stdout",
     "output_type": "stream",
     "text": [
      "Cargando: 82.49% completo\n"
     ]
    },
    {
     "name": "stderr",
     "output_type": "stream",
     "text": [
      "Procesando prestaciones_t2024.db:  83%|████▏| 1504/1822 [07:09<01:28,  3.59it/s]"
     ]
    },
    {
     "name": "stdout",
     "output_type": "stream",
     "text": [
      "Cargando: 82.55% completo\n"
     ]
    },
    {
     "name": "stderr",
     "output_type": "stream",
     "text": [
      "Procesando prestaciones_t2024.db:  83%|████▏| 1505/1822 [07:09<01:26,  3.65it/s]"
     ]
    },
    {
     "name": "stdout",
     "output_type": "stream",
     "text": [
      "Cargando: 82.60% completo\n"
     ]
    },
    {
     "name": "stderr",
     "output_type": "stream",
     "text": [
      "Procesando prestaciones_t2024.db:  83%|████▏| 1506/1822 [07:09<01:25,  3.70it/s]"
     ]
    },
    {
     "name": "stdout",
     "output_type": "stream",
     "text": [
      "Cargando: 82.66% completo\n"
     ]
    },
    {
     "name": "stderr",
     "output_type": "stream",
     "text": [
      "Procesando prestaciones_t2024.db:  83%|████▏| 1507/1822 [07:09<01:24,  3.74it/s]"
     ]
    },
    {
     "name": "stdout",
     "output_type": "stream",
     "text": [
      "Cargando: 82.71% completo\n"
     ]
    },
    {
     "name": "stderr",
     "output_type": "stream",
     "text": [
      "Procesando prestaciones_t2024.db:  83%|████▏| 1508/1822 [07:10<01:23,  3.78it/s]"
     ]
    },
    {
     "name": "stdout",
     "output_type": "stream",
     "text": [
      "Cargando: 82.77% completo\n"
     ]
    },
    {
     "name": "stderr",
     "output_type": "stream",
     "text": [
      "Procesando prestaciones_t2024.db:  83%|████▏| 1509/1822 [07:10<01:22,  3.78it/s]"
     ]
    },
    {
     "name": "stdout",
     "output_type": "stream",
     "text": [
      "Cargando: 82.82% completo\n"
     ]
    },
    {
     "name": "stderr",
     "output_type": "stream",
     "text": [
      "Procesando prestaciones_t2024.db:  83%|████▏| 1510/1822 [07:10<01:46,  2.93it/s]"
     ]
    },
    {
     "name": "stdout",
     "output_type": "stream",
     "text": [
      "Cargando: 82.88% completo\n"
     ]
    },
    {
     "name": "stderr",
     "output_type": "stream",
     "text": [
      "Procesando prestaciones_t2024.db:  83%|████▏| 1511/1822 [07:11<01:38,  3.16it/s]"
     ]
    },
    {
     "name": "stdout",
     "output_type": "stream",
     "text": [
      "Cargando: 82.93% completo\n"
     ]
    },
    {
     "name": "stderr",
     "output_type": "stream",
     "text": [
      "Procesando prestaciones_t2024.db:  83%|████▏| 1512/1822 [07:11<01:32,  3.35it/s]"
     ]
    },
    {
     "name": "stdout",
     "output_type": "stream",
     "text": [
      "Cargando: 82.99% completo\n"
     ]
    },
    {
     "name": "stderr",
     "output_type": "stream",
     "text": [
      "Procesando prestaciones_t2024.db:  83%|████▏| 1513/1822 [07:11<01:28,  3.48it/s]"
     ]
    },
    {
     "name": "stdout",
     "output_type": "stream",
     "text": [
      "Cargando: 83.04% completo\n"
     ]
    },
    {
     "name": "stderr",
     "output_type": "stream",
     "text": [
      "Procesando prestaciones_t2024.db:  83%|████▏| 1514/1822 [07:11<01:26,  3.57it/s]"
     ]
    },
    {
     "name": "stdout",
     "output_type": "stream",
     "text": [
      "Cargando: 83.10% completo\n"
     ]
    },
    {
     "name": "stderr",
     "output_type": "stream",
     "text": [
      "Procesando prestaciones_t2024.db:  83%|████▏| 1515/1822 [07:12<01:24,  3.65it/s]"
     ]
    },
    {
     "name": "stdout",
     "output_type": "stream",
     "text": [
      "Cargando: 83.15% completo\n"
     ]
    },
    {
     "name": "stderr",
     "output_type": "stream",
     "text": [
      "Procesando prestaciones_t2024.db:  83%|████▏| 1516/1822 [07:12<01:22,  3.71it/s]"
     ]
    },
    {
     "name": "stdout",
     "output_type": "stream",
     "text": [
      "Cargando: 83.21% completo\n"
     ]
    },
    {
     "name": "stderr",
     "output_type": "stream",
     "text": [
      "Procesando prestaciones_t2024.db:  83%|████▏| 1517/1822 [07:12<01:21,  3.74it/s]"
     ]
    },
    {
     "name": "stdout",
     "output_type": "stream",
     "text": [
      "Cargando: 83.26% completo\n"
     ]
    },
    {
     "name": "stderr",
     "output_type": "stream",
     "text": [
      "Procesando prestaciones_t2024.db:  83%|████▏| 1518/1822 [07:12<01:20,  3.79it/s]"
     ]
    },
    {
     "name": "stdout",
     "output_type": "stream",
     "text": [
      "Cargando: 83.32% completo\n"
     ]
    },
    {
     "name": "stderr",
     "output_type": "stream",
     "text": [
      "Procesando prestaciones_t2024.db:  83%|████▏| 1519/1822 [07:13<01:19,  3.79it/s]"
     ]
    },
    {
     "name": "stdout",
     "output_type": "stream",
     "text": [
      "Cargando: 83.37% completo\n"
     ]
    },
    {
     "name": "stderr",
     "output_type": "stream",
     "text": [
      "Procesando prestaciones_t2024.db:  83%|████▏| 1520/1822 [07:13<01:18,  3.84it/s]"
     ]
    },
    {
     "name": "stdout",
     "output_type": "stream",
     "text": [
      "Cargando: 83.42% completo\n"
     ]
    },
    {
     "name": "stderr",
     "output_type": "stream",
     "text": [
      "Procesando prestaciones_t2024.db:  83%|████▏| 1521/1822 [07:13<01:18,  3.83it/s]"
     ]
    },
    {
     "name": "stdout",
     "output_type": "stream",
     "text": [
      "Cargando: 83.48% completo\n"
     ]
    },
    {
     "name": "stderr",
     "output_type": "stream",
     "text": [
      "Procesando prestaciones_t2024.db:  84%|████▏| 1522/1822 [07:14<01:17,  3.85it/s]"
     ]
    },
    {
     "name": "stdout",
     "output_type": "stream",
     "text": [
      "Cargando: 83.53% completo\n"
     ]
    },
    {
     "name": "stderr",
     "output_type": "stream",
     "text": [
      "Procesando prestaciones_t2024.db:  84%|████▏| 1523/1822 [07:14<01:33,  3.20it/s]"
     ]
    },
    {
     "name": "stdout",
     "output_type": "stream",
     "text": [
      "Cargando: 83.59% completo\n"
     ]
    },
    {
     "name": "stderr",
     "output_type": "stream",
     "text": [
      "Procesando prestaciones_t2024.db:  84%|████▏| 1524/1822 [07:14<01:28,  3.37it/s]"
     ]
    },
    {
     "name": "stdout",
     "output_type": "stream",
     "text": [
      "Cargando: 83.64% completo\n"
     ]
    },
    {
     "name": "stderr",
     "output_type": "stream",
     "text": [
      "Procesando prestaciones_t2024.db:  84%|████▏| 1525/1822 [07:14<01:25,  3.47it/s]"
     ]
    },
    {
     "name": "stdout",
     "output_type": "stream",
     "text": [
      "Cargando: 83.70% completo\n"
     ]
    },
    {
     "name": "stderr",
     "output_type": "stream",
     "text": [
      "Procesando prestaciones_t2024.db:  84%|████▏| 1526/1822 [07:15<01:23,  3.54it/s]"
     ]
    },
    {
     "name": "stdout",
     "output_type": "stream",
     "text": [
      "Cargando: 83.75% completo\n"
     ]
    },
    {
     "name": "stderr",
     "output_type": "stream",
     "text": [
      "Procesando prestaciones_t2024.db:  84%|████▏| 1527/1822 [07:15<01:21,  3.63it/s]"
     ]
    },
    {
     "name": "stdout",
     "output_type": "stream",
     "text": [
      "Cargando: 83.81% completo\n"
     ]
    },
    {
     "name": "stderr",
     "output_type": "stream",
     "text": [
      "Procesando prestaciones_t2024.db:  84%|████▏| 1528/1822 [07:15<01:19,  3.71it/s]"
     ]
    },
    {
     "name": "stdout",
     "output_type": "stream",
     "text": [
      "Cargando: 83.86% completo\n"
     ]
    },
    {
     "name": "stderr",
     "output_type": "stream",
     "text": [
      "Procesando prestaciones_t2024.db:  84%|████▏| 1529/1822 [07:16<01:18,  3.71it/s]"
     ]
    },
    {
     "name": "stdout",
     "output_type": "stream",
     "text": [
      "Cargando: 83.92% completo\n"
     ]
    },
    {
     "name": "stderr",
     "output_type": "stream",
     "text": [
      "Procesando prestaciones_t2024.db:  84%|████▏| 1530/1822 [07:16<01:25,  3.41it/s]"
     ]
    },
    {
     "name": "stdout",
     "output_type": "stream",
     "text": [
      "Cargando: 83.97% completo\n"
     ]
    },
    {
     "name": "stderr",
     "output_type": "stream",
     "text": [
      "Procesando prestaciones_t2024.db:  84%|████▏| 1531/1822 [07:16<01:23,  3.49it/s]"
     ]
    },
    {
     "name": "stdout",
     "output_type": "stream",
     "text": [
      "Cargando: 84.03% completo\n"
     ]
    },
    {
     "name": "stderr",
     "output_type": "stream",
     "text": [
      "Procesando prestaciones_t2024.db:  84%|████▏| 1532/1822 [07:16<01:19,  3.63it/s]"
     ]
    },
    {
     "name": "stdout",
     "output_type": "stream",
     "text": [
      "Cargando: 84.08% completo\n"
     ]
    },
    {
     "name": "stderr",
     "output_type": "stream",
     "text": [
      "Procesando prestaciones_t2024.db:  84%|████▏| 1533/1822 [07:17<01:19,  3.65it/s]"
     ]
    },
    {
     "name": "stdout",
     "output_type": "stream",
     "text": [
      "Cargando: 84.14% completo\n"
     ]
    },
    {
     "name": "stderr",
     "output_type": "stream",
     "text": [
      "Procesando prestaciones_t2024.db:  84%|████▏| 1534/1822 [07:17<01:16,  3.76it/s]"
     ]
    },
    {
     "name": "stdout",
     "output_type": "stream",
     "text": [
      "Cargando: 84.19% completo\n"
     ]
    },
    {
     "name": "stderr",
     "output_type": "stream",
     "text": [
      "Procesando prestaciones_t2024.db:  84%|████▏| 1535/1822 [07:17<01:16,  3.74it/s]"
     ]
    },
    {
     "name": "stdout",
     "output_type": "stream",
     "text": [
      "Cargando: 84.25% completo\n"
     ]
    },
    {
     "name": "stderr",
     "output_type": "stream",
     "text": [
      "Procesando prestaciones_t2024.db:  84%|████▏| 1536/1822 [07:18<01:31,  3.14it/s]"
     ]
    },
    {
     "name": "stdout",
     "output_type": "stream",
     "text": [
      "Cargando: 84.30% completo\n"
     ]
    },
    {
     "name": "stderr",
     "output_type": "stream",
     "text": [
      "Procesando prestaciones_t2024.db:  84%|████▏| 1537/1822 [07:18<01:24,  3.36it/s]"
     ]
    },
    {
     "name": "stdout",
     "output_type": "stream",
     "text": [
      "Cargando: 84.36% completo\n"
     ]
    },
    {
     "name": "stderr",
     "output_type": "stream",
     "text": [
      "Procesando prestaciones_t2024.db:  84%|████▏| 1538/1822 [07:18<01:21,  3.50it/s]"
     ]
    },
    {
     "name": "stdout",
     "output_type": "stream",
     "text": [
      "Cargando: 84.41% completo\n"
     ]
    },
    {
     "name": "stderr",
     "output_type": "stream",
     "text": [
      "Procesando prestaciones_t2024.db:  84%|████▏| 1539/1822 [07:18<01:19,  3.55it/s]"
     ]
    },
    {
     "name": "stdout",
     "output_type": "stream",
     "text": [
      "Cargando: 84.47% completo\n"
     ]
    },
    {
     "name": "stderr",
     "output_type": "stream",
     "text": [
      "Procesando prestaciones_t2024.db:  85%|████▏| 1540/1822 [07:19<01:17,  3.64it/s]"
     ]
    },
    {
     "name": "stdout",
     "output_type": "stream",
     "text": [
      "Cargando: 84.52% completo\n"
     ]
    },
    {
     "name": "stderr",
     "output_type": "stream",
     "text": [
      "Procesando prestaciones_t2024.db:  85%|████▏| 1541/1822 [07:19<01:16,  3.70it/s]"
     ]
    },
    {
     "name": "stdout",
     "output_type": "stream",
     "text": [
      "Cargando: 84.58% completo\n"
     ]
    },
    {
     "name": "stderr",
     "output_type": "stream",
     "text": [
      "Procesando prestaciones_t2024.db:  85%|████▏| 1542/1822 [07:19<01:14,  3.75it/s]"
     ]
    },
    {
     "name": "stdout",
     "output_type": "stream",
     "text": [
      "Cargando: 84.63% completo\n"
     ]
    },
    {
     "name": "stderr",
     "output_type": "stream",
     "text": [
      "Procesando prestaciones_t2024.db:  85%|████▏| 1543/1822 [07:19<01:14,  3.76it/s]"
     ]
    },
    {
     "name": "stdout",
     "output_type": "stream",
     "text": [
      "Cargando: 84.69% completo\n"
     ]
    },
    {
     "name": "stderr",
     "output_type": "stream",
     "text": [
      "Procesando prestaciones_t2024.db:  85%|████▏| 1544/1822 [07:20<01:13,  3.80it/s]"
     ]
    },
    {
     "name": "stdout",
     "output_type": "stream",
     "text": [
      "Cargando: 84.74% completo\n"
     ]
    },
    {
     "name": "stderr",
     "output_type": "stream",
     "text": [
      "Procesando prestaciones_t2024.db:  85%|████▏| 1545/1822 [07:20<01:12,  3.82it/s]"
     ]
    },
    {
     "name": "stdout",
     "output_type": "stream",
     "text": [
      "Cargando: 84.80% completo\n"
     ]
    },
    {
     "name": "stderr",
     "output_type": "stream",
     "text": [
      "Procesando prestaciones_t2024.db:  85%|████▏| 1546/1822 [07:20<01:12,  3.81it/s]"
     ]
    },
    {
     "name": "stdout",
     "output_type": "stream",
     "text": [
      "Cargando: 84.85% completo\n"
     ]
    },
    {
     "name": "stderr",
     "output_type": "stream",
     "text": [
      "Procesando prestaciones_t2024.db:  85%|████▏| 1547/1822 [07:20<01:12,  3.81it/s]"
     ]
    },
    {
     "name": "stdout",
     "output_type": "stream",
     "text": [
      "Cargando: 84.91% completo\n"
     ]
    },
    {
     "name": "stderr",
     "output_type": "stream",
     "text": [
      "Procesando prestaciones_t2024.db:  85%|████▏| 1548/1822 [07:21<01:26,  3.18it/s]"
     ]
    },
    {
     "name": "stdout",
     "output_type": "stream",
     "text": [
      "Cargando: 84.96% completo\n"
     ]
    },
    {
     "name": "stderr",
     "output_type": "stream",
     "text": [
      "Procesando prestaciones_t2024.db:  85%|████▎| 1549/1822 [07:21<01:21,  3.37it/s]"
     ]
    },
    {
     "name": "stdout",
     "output_type": "stream",
     "text": [
      "Cargando: 85.02% completo\n"
     ]
    },
    {
     "name": "stderr",
     "output_type": "stream",
     "text": [
      "Procesando prestaciones_t2024.db:  85%|████▎| 1550/1822 [07:21<01:17,  3.52it/s]"
     ]
    },
    {
     "name": "stdout",
     "output_type": "stream",
     "text": [
      "Cargando: 85.07% completo\n"
     ]
    },
    {
     "name": "stderr",
     "output_type": "stream",
     "text": [
      "Procesando prestaciones_t2024.db:  85%|████▎| 1551/1822 [07:22<01:15,  3.58it/s]"
     ]
    },
    {
     "name": "stdout",
     "output_type": "stream",
     "text": [
      "Cargando: 85.13% completo\n"
     ]
    },
    {
     "name": "stderr",
     "output_type": "stream",
     "text": [
      "Procesando prestaciones_t2024.db:  85%|████▎| 1552/1822 [07:22<01:13,  3.67it/s]"
     ]
    },
    {
     "name": "stdout",
     "output_type": "stream",
     "text": [
      "Cargando: 85.18% completo\n"
     ]
    },
    {
     "name": "stderr",
     "output_type": "stream",
     "text": [
      "Procesando prestaciones_t2024.db:  85%|████▎| 1553/1822 [07:22<01:12,  3.72it/s]"
     ]
    },
    {
     "name": "stdout",
     "output_type": "stream",
     "text": [
      "Cargando: 85.24% completo\n"
     ]
    },
    {
     "name": "stderr",
     "output_type": "stream",
     "text": [
      "Procesando prestaciones_t2024.db:  85%|████▎| 1554/1822 [07:22<01:11,  3.77it/s]"
     ]
    },
    {
     "name": "stdout",
     "output_type": "stream",
     "text": [
      "Cargando: 85.29% completo\n"
     ]
    },
    {
     "name": "stderr",
     "output_type": "stream",
     "text": [
      "Procesando prestaciones_t2024.db:  85%|████▎| 1555/1822 [07:23<01:10,  3.79it/s]"
     ]
    },
    {
     "name": "stdout",
     "output_type": "stream",
     "text": [
      "Cargando: 85.35% completo\n"
     ]
    },
    {
     "name": "stderr",
     "output_type": "stream",
     "text": [
      "Procesando prestaciones_t2024.db:  85%|████▎| 1556/1822 [07:23<01:09,  3.82it/s]"
     ]
    },
    {
     "name": "stdout",
     "output_type": "stream",
     "text": [
      "Cargando: 85.40% completo\n"
     ]
    },
    {
     "name": "stderr",
     "output_type": "stream",
     "text": [
      "Procesando prestaciones_t2024.db:  85%|████▎| 1557/1822 [07:23<01:10,  3.79it/s]"
     ]
    },
    {
     "name": "stdout",
     "output_type": "stream",
     "text": [
      "Cargando: 85.46% completo\n"
     ]
    },
    {
     "name": "stderr",
     "output_type": "stream",
     "text": [
      "Procesando prestaciones_t2024.db:  86%|████▎| 1558/1822 [07:24<01:08,  3.83it/s]"
     ]
    },
    {
     "name": "stdout",
     "output_type": "stream",
     "text": [
      "Cargando: 85.51% completo\n"
     ]
    },
    {
     "name": "stderr",
     "output_type": "stream",
     "text": [
      "Procesando prestaciones_t2024.db:  86%|████▎| 1559/1822 [07:24<01:09,  3.77it/s]"
     ]
    },
    {
     "name": "stdout",
     "output_type": "stream",
     "text": [
      "Cargando: 85.57% completo\n"
     ]
    },
    {
     "name": "stderr",
     "output_type": "stream",
     "text": [
      "Procesando prestaciones_t2024.db:  86%|████▎| 1560/1822 [07:24<01:10,  3.73it/s]"
     ]
    },
    {
     "name": "stdout",
     "output_type": "stream",
     "text": [
      "Cargando: 85.62% completo\n"
     ]
    },
    {
     "name": "stderr",
     "output_type": "stream",
     "text": [
      "Procesando prestaciones_t2024.db:  86%|████▎| 1561/1822 [07:25<01:32,  2.81it/s]"
     ]
    },
    {
     "name": "stdout",
     "output_type": "stream",
     "text": [
      "Cargando: 85.68% completo\n"
     ]
    },
    {
     "name": "stderr",
     "output_type": "stream",
     "text": [
      "Procesando prestaciones_t2024.db:  86%|████▎| 1562/1822 [07:25<01:24,  3.09it/s]"
     ]
    },
    {
     "name": "stdout",
     "output_type": "stream",
     "text": [
      "Cargando: 85.73% completo\n"
     ]
    },
    {
     "name": "stderr",
     "output_type": "stream",
     "text": [
      "Procesando prestaciones_t2024.db:  86%|████▎| 1563/1822 [07:25<01:19,  3.27it/s]"
     ]
    },
    {
     "name": "stdout",
     "output_type": "stream",
     "text": [
      "Cargando: 85.78% completo\n"
     ]
    },
    {
     "name": "stderr",
     "output_type": "stream",
     "text": [
      "Procesando prestaciones_t2024.db:  86%|████▎| 1564/1822 [07:25<01:15,  3.41it/s]"
     ]
    },
    {
     "name": "stdout",
     "output_type": "stream",
     "text": [
      "Cargando: 85.84% completo\n"
     ]
    },
    {
     "name": "stderr",
     "output_type": "stream",
     "text": [
      "Procesando prestaciones_t2024.db:  86%|████▎| 1565/1822 [07:26<01:13,  3.50it/s]"
     ]
    },
    {
     "name": "stdout",
     "output_type": "stream",
     "text": [
      "Cargando: 85.89% completo\n"
     ]
    },
    {
     "name": "stderr",
     "output_type": "stream",
     "text": [
      "Procesando prestaciones_t2024.db:  86%|████▎| 1566/1822 [07:26<01:11,  3.59it/s]"
     ]
    },
    {
     "name": "stdout",
     "output_type": "stream",
     "text": [
      "Cargando: 85.95% completo\n"
     ]
    },
    {
     "name": "stderr",
     "output_type": "stream",
     "text": [
      "Procesando prestaciones_t2024.db:  86%|████▎| 1567/1822 [07:26<01:09,  3.65it/s]"
     ]
    },
    {
     "name": "stdout",
     "output_type": "stream",
     "text": [
      "Cargando: 86.00% completo\n"
     ]
    },
    {
     "name": "stderr",
     "output_type": "stream",
     "text": [
      "Procesando prestaciones_t2024.db:  86%|████▎| 1568/1822 [07:26<01:08,  3.71it/s]"
     ]
    },
    {
     "name": "stdout",
     "output_type": "stream",
     "text": [
      "Cargando: 86.06% completo\n"
     ]
    },
    {
     "name": "stderr",
     "output_type": "stream",
     "text": [
      "Procesando prestaciones_t2024.db:  86%|████▎| 1569/1822 [07:27<01:08,  3.72it/s]"
     ]
    },
    {
     "name": "stdout",
     "output_type": "stream",
     "text": [
      "Cargando: 86.11% completo\n"
     ]
    },
    {
     "name": "stderr",
     "output_type": "stream",
     "text": [
      "Procesando prestaciones_t2024.db:  86%|████▎| 1570/1822 [07:27<01:06,  3.78it/s]"
     ]
    },
    {
     "name": "stdout",
     "output_type": "stream",
     "text": [
      "Cargando: 86.17% completo\n"
     ]
    },
    {
     "name": "stderr",
     "output_type": "stream",
     "text": [
      "Procesando prestaciones_t2024.db:  86%|████▎| 1571/1822 [07:27<01:06,  3.80it/s]"
     ]
    },
    {
     "name": "stdout",
     "output_type": "stream",
     "text": [
      "Cargando: 86.22% completo\n"
     ]
    },
    {
     "name": "stderr",
     "output_type": "stream",
     "text": [
      "Procesando prestaciones_t2024.db:  86%|████▎| 1572/1822 [07:28<01:05,  3.82it/s]"
     ]
    },
    {
     "name": "stdout",
     "output_type": "stream",
     "text": [
      "Cargando: 86.28% completo\n"
     ]
    },
    {
     "name": "stderr",
     "output_type": "stream",
     "text": [
      "Procesando prestaciones_t2024.db:  86%|████▎| 1573/1822 [07:28<01:19,  3.14it/s]"
     ]
    },
    {
     "name": "stdout",
     "output_type": "stream",
     "text": [
      "Cargando: 86.33% completo\n"
     ]
    },
    {
     "name": "stderr",
     "output_type": "stream",
     "text": [
      "Procesando prestaciones_t2024.db:  86%|████▎| 1574/1822 [07:28<01:14,  3.34it/s]"
     ]
    },
    {
     "name": "stdout",
     "output_type": "stream",
     "text": [
      "Cargando: 86.39% completo\n"
     ]
    },
    {
     "name": "stderr",
     "output_type": "stream",
     "text": [
      "Procesando prestaciones_t2024.db:  86%|████▎| 1575/1822 [07:28<01:12,  3.42it/s]"
     ]
    },
    {
     "name": "stdout",
     "output_type": "stream",
     "text": [
      "Cargando: 86.44% completo\n"
     ]
    },
    {
     "name": "stderr",
     "output_type": "stream",
     "text": [
      "Procesando prestaciones_t2024.db:  86%|████▎| 1576/1822 [07:29<01:10,  3.51it/s]"
     ]
    },
    {
     "name": "stdout",
     "output_type": "stream",
     "text": [
      "Cargando: 86.50% completo\n"
     ]
    },
    {
     "name": "stderr",
     "output_type": "stream",
     "text": [
      "Procesando prestaciones_t2024.db:  87%|████▎| 1577/1822 [07:29<01:08,  3.57it/s]"
     ]
    },
    {
     "name": "stdout",
     "output_type": "stream",
     "text": [
      "Cargando: 86.55% completo\n"
     ]
    },
    {
     "name": "stderr",
     "output_type": "stream",
     "text": [
      "Procesando prestaciones_t2024.db:  87%|████▎| 1578/1822 [07:29<01:06,  3.66it/s]"
     ]
    },
    {
     "name": "stdout",
     "output_type": "stream",
     "text": [
      "Cargando: 86.61% completo\n"
     ]
    },
    {
     "name": "stderr",
     "output_type": "stream",
     "text": [
      "Procesando prestaciones_t2024.db:  87%|████▎| 1579/1822 [07:30<01:05,  3.73it/s]"
     ]
    },
    {
     "name": "stdout",
     "output_type": "stream",
     "text": [
      "Cargando: 86.66% completo\n"
     ]
    },
    {
     "name": "stderr",
     "output_type": "stream",
     "text": [
      "Procesando prestaciones_t2024.db:  87%|████▎| 1580/1822 [07:30<01:04,  3.77it/s]"
     ]
    },
    {
     "name": "stdout",
     "output_type": "stream",
     "text": [
      "Cargando: 86.72% completo\n"
     ]
    },
    {
     "name": "stderr",
     "output_type": "stream",
     "text": [
      "Procesando prestaciones_t2024.db:  87%|████▎| 1581/1822 [07:30<01:04,  3.75it/s]"
     ]
    },
    {
     "name": "stdout",
     "output_type": "stream",
     "text": [
      "Cargando: 86.77% completo\n"
     ]
    },
    {
     "name": "stderr",
     "output_type": "stream",
     "text": [
      "Procesando prestaciones_t2024.db:  87%|████▎| 1582/1822 [07:30<01:03,  3.81it/s]"
     ]
    },
    {
     "name": "stdout",
     "output_type": "stream",
     "text": [
      "Cargando: 86.83% completo\n"
     ]
    },
    {
     "name": "stderr",
     "output_type": "stream",
     "text": [
      "Procesando prestaciones_t2024.db:  87%|████▎| 1583/1822 [07:31<01:03,  3.76it/s]"
     ]
    },
    {
     "name": "stdout",
     "output_type": "stream",
     "text": [
      "Cargando: 86.88% completo\n"
     ]
    },
    {
     "name": "stderr",
     "output_type": "stream",
     "text": [
      "Procesando prestaciones_t2024.db:  87%|████▎| 1584/1822 [07:31<01:01,  3.84it/s]"
     ]
    },
    {
     "name": "stdout",
     "output_type": "stream",
     "text": [
      "Cargando: 86.94% completo\n"
     ]
    },
    {
     "name": "stderr",
     "output_type": "stream",
     "text": [
      "Procesando prestaciones_t2024.db:  87%|████▎| 1585/1822 [07:31<01:01,  3.87it/s]"
     ]
    },
    {
     "name": "stdout",
     "output_type": "stream",
     "text": [
      "Cargando: 86.99% completo\n"
     ]
    },
    {
     "name": "stderr",
     "output_type": "stream",
     "text": [
      "Procesando prestaciones_t2024.db:  87%|████▎| 1586/1822 [07:32<01:15,  3.11it/s]"
     ]
    },
    {
     "name": "stdout",
     "output_type": "stream",
     "text": [
      "Cargando: 87.05% completo\n"
     ]
    },
    {
     "name": "stderr",
     "output_type": "stream",
     "text": [
      "Procesando prestaciones_t2024.db:  87%|████▎| 1587/1822 [07:32<01:10,  3.32it/s]"
     ]
    },
    {
     "name": "stdout",
     "output_type": "stream",
     "text": [
      "Cargando: 87.10% completo\n"
     ]
    },
    {
     "name": "stderr",
     "output_type": "stream",
     "text": [
      "Procesando prestaciones_t2024.db:  87%|████▎| 1588/1822 [07:32<01:08,  3.44it/s]"
     ]
    },
    {
     "name": "stdout",
     "output_type": "stream",
     "text": [
      "Cargando: 87.16% completo\n"
     ]
    },
    {
     "name": "stderr",
     "output_type": "stream",
     "text": [
      "Procesando prestaciones_t2024.db:  87%|████▎| 1589/1822 [07:32<01:05,  3.56it/s]"
     ]
    },
    {
     "name": "stdout",
     "output_type": "stream",
     "text": [
      "Cargando: 87.21% completo\n"
     ]
    },
    {
     "name": "stderr",
     "output_type": "stream",
     "text": [
      "Procesando prestaciones_t2024.db:  87%|████▎| 1590/1822 [07:33<01:04,  3.62it/s]"
     ]
    },
    {
     "name": "stdout",
     "output_type": "stream",
     "text": [
      "Cargando: 87.27% completo\n"
     ]
    },
    {
     "name": "stderr",
     "output_type": "stream",
     "text": [
      "Procesando prestaciones_t2024.db:  87%|████▎| 1591/1822 [07:33<01:02,  3.70it/s]"
     ]
    },
    {
     "name": "stdout",
     "output_type": "stream",
     "text": [
      "Cargando: 87.32% completo\n"
     ]
    },
    {
     "name": "stderr",
     "output_type": "stream",
     "text": [
      "Procesando prestaciones_t2024.db:  87%|████▎| 1592/1822 [07:33<01:09,  3.33it/s]"
     ]
    },
    {
     "name": "stdout",
     "output_type": "stream",
     "text": [
      "Cargando: 87.38% completo\n"
     ]
    },
    {
     "name": "stderr",
     "output_type": "stream",
     "text": [
      "Procesando prestaciones_t2024.db:  87%|████▎| 1593/1822 [07:33<01:05,  3.52it/s]"
     ]
    },
    {
     "name": "stdout",
     "output_type": "stream",
     "text": [
      "Cargando: 87.43% completo\n"
     ]
    },
    {
     "name": "stderr",
     "output_type": "stream",
     "text": [
      "Procesando prestaciones_t2024.db:  87%|████▎| 1594/1822 [07:34<01:04,  3.52it/s]"
     ]
    },
    {
     "name": "stdout",
     "output_type": "stream",
     "text": [
      "Cargando: 87.49% completo\n"
     ]
    },
    {
     "name": "stderr",
     "output_type": "stream",
     "text": [
      "Procesando prestaciones_t2024.db:  88%|████▍| 1595/1822 [07:34<01:03,  3.59it/s]"
     ]
    },
    {
     "name": "stdout",
     "output_type": "stream",
     "text": [
      "Cargando: 87.54% completo\n"
     ]
    },
    {
     "name": "stderr",
     "output_type": "stream",
     "text": [
      "Procesando prestaciones_t2024.db:  88%|████▍| 1596/1822 [07:34<01:02,  3.63it/s]"
     ]
    },
    {
     "name": "stdout",
     "output_type": "stream",
     "text": [
      "Cargando: 87.60% completo\n"
     ]
    },
    {
     "name": "stderr",
     "output_type": "stream",
     "text": [
      "Procesando prestaciones_t2024.db:  88%|████▍| 1597/1822 [07:35<01:00,  3.71it/s]"
     ]
    },
    {
     "name": "stdout",
     "output_type": "stream",
     "text": [
      "Cargando: 87.65% completo\n"
     ]
    },
    {
     "name": "stderr",
     "output_type": "stream",
     "text": [
      "Procesando prestaciones_t2024.db:  88%|████▍| 1598/1822 [07:35<01:00,  3.73it/s]"
     ]
    },
    {
     "name": "stdout",
     "output_type": "stream",
     "text": [
      "Cargando: 87.71% completo\n"
     ]
    },
    {
     "name": "stderr",
     "output_type": "stream",
     "text": [
      "Procesando prestaciones_t2024.db:  88%|████▍| 1599/1822 [07:35<01:12,  3.09it/s]"
     ]
    },
    {
     "name": "stdout",
     "output_type": "stream",
     "text": [
      "Cargando: 87.76% completo\n"
     ]
    },
    {
     "name": "stderr",
     "output_type": "stream",
     "text": [
      "Procesando prestaciones_t2024.db:  88%|████▍| 1600/1822 [07:36<01:07,  3.27it/s]"
     ]
    },
    {
     "name": "stdout",
     "output_type": "stream",
     "text": [
      "Cargando: 87.82% completo\n"
     ]
    },
    {
     "name": "stderr",
     "output_type": "stream",
     "text": [
      "Procesando prestaciones_t2024.db:  88%|████▍| 1601/1822 [07:36<01:04,  3.42it/s]"
     ]
    },
    {
     "name": "stdout",
     "output_type": "stream",
     "text": [
      "Cargando: 87.87% completo\n"
     ]
    },
    {
     "name": "stderr",
     "output_type": "stream",
     "text": [
      "Procesando prestaciones_t2024.db:  88%|████▍| 1602/1822 [07:36<01:02,  3.50it/s]"
     ]
    },
    {
     "name": "stdout",
     "output_type": "stream",
     "text": [
      "Cargando: 87.93% completo\n"
     ]
    },
    {
     "name": "stderr",
     "output_type": "stream",
     "text": [
      "Procesando prestaciones_t2024.db:  88%|████▍| 1603/1822 [07:36<01:01,  3.59it/s]"
     ]
    },
    {
     "name": "stdout",
     "output_type": "stream",
     "text": [
      "Cargando: 87.98% completo\n"
     ]
    },
    {
     "name": "stderr",
     "output_type": "stream",
     "text": [
      "Procesando prestaciones_t2024.db:  88%|████▍| 1604/1822 [07:37<01:00,  3.63it/s]"
     ]
    },
    {
     "name": "stdout",
     "output_type": "stream",
     "text": [
      "Cargando: 88.04% completo\n"
     ]
    },
    {
     "name": "stderr",
     "output_type": "stream",
     "text": [
      "Procesando prestaciones_t2024.db:  88%|████▍| 1605/1822 [07:37<00:58,  3.69it/s]"
     ]
    },
    {
     "name": "stdout",
     "output_type": "stream",
     "text": [
      "Cargando: 88.09% completo\n"
     ]
    },
    {
     "name": "stderr",
     "output_type": "stream",
     "text": [
      "Procesando prestaciones_t2024.db:  88%|████▍| 1606/1822 [07:37<00:58,  3.72it/s]"
     ]
    },
    {
     "name": "stdout",
     "output_type": "stream",
     "text": [
      "Cargando: 88.14% completo\n"
     ]
    },
    {
     "name": "stderr",
     "output_type": "stream",
     "text": [
      "Procesando prestaciones_t2024.db:  88%|████▍| 1607/1822 [07:37<00:58,  3.66it/s]"
     ]
    },
    {
     "name": "stdout",
     "output_type": "stream",
     "text": [
      "Cargando: 88.20% completo\n"
     ]
    },
    {
     "name": "stderr",
     "output_type": "stream",
     "text": [
      "Procesando prestaciones_t2024.db:  88%|████▍| 1608/1822 [07:38<01:00,  3.55it/s]"
     ]
    },
    {
     "name": "stdout",
     "output_type": "stream",
     "text": [
      "Cargando: 88.25% completo\n"
     ]
    },
    {
     "name": "stderr",
     "output_type": "stream",
     "text": [
      "Procesando prestaciones_t2024.db:  88%|████▍| 1609/1822 [07:38<01:00,  3.53it/s]"
     ]
    },
    {
     "name": "stdout",
     "output_type": "stream",
     "text": [
      "Cargando: 88.31% completo\n"
     ]
    },
    {
     "name": "stderr",
     "output_type": "stream",
     "text": [
      "Procesando prestaciones_t2024.db:  88%|████▍| 1610/1822 [07:38<01:02,  3.41it/s]"
     ]
    },
    {
     "name": "stdout",
     "output_type": "stream",
     "text": [
      "Cargando: 88.36% completo\n"
     ]
    },
    {
     "name": "stderr",
     "output_type": "stream",
     "text": [
      "Procesando prestaciones_t2024.db:  88%|████▍| 1611/1822 [07:39<01:02,  3.36it/s]"
     ]
    },
    {
     "name": "stdout",
     "output_type": "stream",
     "text": [
      "Cargando: 88.42% completo\n"
     ]
    },
    {
     "name": "stderr",
     "output_type": "stream",
     "text": [
      "Procesando prestaciones_t2024.db:  88%|████▍| 1612/1822 [07:39<01:02,  3.34it/s]"
     ]
    },
    {
     "name": "stdout",
     "output_type": "stream",
     "text": [
      "Cargando: 88.47% completo\n"
     ]
    },
    {
     "name": "stderr",
     "output_type": "stream",
     "text": [
      "Procesando prestaciones_t2024.db:  89%|████▍| 1613/1822 [07:39<01:13,  2.82it/s]"
     ]
    },
    {
     "name": "stdout",
     "output_type": "stream",
     "text": [
      "Cargando: 88.53% completo\n"
     ]
    },
    {
     "name": "stderr",
     "output_type": "stream",
     "text": [
      "Procesando prestaciones_t2024.db:  89%|████▍| 1614/1822 [07:40<01:07,  3.08it/s]"
     ]
    },
    {
     "name": "stdout",
     "output_type": "stream",
     "text": [
      "Cargando: 88.58% completo\n"
     ]
    },
    {
     "name": "stderr",
     "output_type": "stream",
     "text": [
      "Procesando prestaciones_t2024.db:  89%|████▍| 1615/1822 [07:40<01:03,  3.28it/s]"
     ]
    },
    {
     "name": "stdout",
     "output_type": "stream",
     "text": [
      "Cargando: 88.64% completo\n"
     ]
    },
    {
     "name": "stderr",
     "output_type": "stream",
     "text": [
      "Procesando prestaciones_t2024.db:  89%|████▍| 1616/1822 [07:40<01:00,  3.42it/s]"
     ]
    },
    {
     "name": "stdout",
     "output_type": "stream",
     "text": [
      "Cargando: 88.69% completo\n"
     ]
    },
    {
     "name": "stderr",
     "output_type": "stream",
     "text": [
      "Procesando prestaciones_t2024.db:  89%|████▍| 1617/1822 [07:40<00:58,  3.52it/s]"
     ]
    },
    {
     "name": "stdout",
     "output_type": "stream",
     "text": [
      "Cargando: 88.75% completo\n"
     ]
    },
    {
     "name": "stderr",
     "output_type": "stream",
     "text": [
      "Procesando prestaciones_t2024.db:  89%|████▍| 1618/1822 [07:41<00:56,  3.58it/s]"
     ]
    },
    {
     "name": "stdout",
     "output_type": "stream",
     "text": [
      "Cargando: 88.80% completo\n"
     ]
    },
    {
     "name": "stderr",
     "output_type": "stream",
     "text": [
      "Procesando prestaciones_t2024.db:  89%|████▍| 1619/1822 [07:41<00:54,  3.70it/s]"
     ]
    },
    {
     "name": "stdout",
     "output_type": "stream",
     "text": [
      "Cargando: 88.86% completo\n"
     ]
    },
    {
     "name": "stderr",
     "output_type": "stream",
     "text": [
      "Procesando prestaciones_t2024.db:  89%|████▍| 1620/1822 [07:41<00:54,  3.72it/s]"
     ]
    },
    {
     "name": "stdout",
     "output_type": "stream",
     "text": [
      "Cargando: 88.91% completo\n"
     ]
    },
    {
     "name": "stderr",
     "output_type": "stream",
     "text": [
      "Procesando prestaciones_t2024.db:  89%|████▍| 1621/1822 [07:41<00:52,  3.81it/s]"
     ]
    },
    {
     "name": "stdout",
     "output_type": "stream",
     "text": [
      "Cargando: 88.97% completo\n"
     ]
    },
    {
     "name": "stderr",
     "output_type": "stream",
     "text": [
      "Procesando prestaciones_t2024.db:  89%|████▍| 1622/1822 [07:42<00:56,  3.52it/s]"
     ]
    },
    {
     "name": "stdout",
     "output_type": "stream",
     "text": [
      "Cargando: 89.02% completo\n"
     ]
    },
    {
     "name": "stderr",
     "output_type": "stream",
     "text": [
      "Procesando prestaciones_t2024.db:  89%|████▍| 1623/1822 [07:42<00:54,  3.66it/s]"
     ]
    },
    {
     "name": "stdout",
     "output_type": "stream",
     "text": [
      "Cargando: 89.08% completo\n"
     ]
    },
    {
     "name": "stderr",
     "output_type": "stream",
     "text": [
      "Procesando prestaciones_t2024.db:  89%|████▍| 1624/1822 [07:42<00:54,  3.66it/s]"
     ]
    },
    {
     "name": "stdout",
     "output_type": "stream",
     "text": [
      "Cargando: 89.13% completo\n"
     ]
    },
    {
     "name": "stderr",
     "output_type": "stream",
     "text": [
      "Procesando prestaciones_t2024.db:  89%|████▍| 1625/1822 [07:43<00:52,  3.75it/s]"
     ]
    },
    {
     "name": "stdout",
     "output_type": "stream",
     "text": [
      "Cargando: 89.19% completo\n"
     ]
    },
    {
     "name": "stderr",
     "output_type": "stream",
     "text": [
      "Procesando prestaciones_t2024.db:  89%|████▍| 1626/1822 [07:43<00:52,  3.71it/s]"
     ]
    },
    {
     "name": "stdout",
     "output_type": "stream",
     "text": [
      "Cargando: 89.24% completo\n"
     ]
    },
    {
     "name": "stderr",
     "output_type": "stream",
     "text": [
      "Procesando prestaciones_t2024.db:  89%|████▍| 1627/1822 [07:43<01:02,  3.11it/s]"
     ]
    },
    {
     "name": "stdout",
     "output_type": "stream",
     "text": [
      "Cargando: 89.30% completo\n"
     ]
    },
    {
     "name": "stderr",
     "output_type": "stream",
     "text": [
      "Procesando prestaciones_t2024.db:  89%|████▍| 1628/1822 [07:44<00:58,  3.34it/s]"
     ]
    },
    {
     "name": "stdout",
     "output_type": "stream",
     "text": [
      "Cargando: 89.35% completo\n"
     ]
    },
    {
     "name": "stderr",
     "output_type": "stream",
     "text": [
      "Procesando prestaciones_t2024.db:  89%|████▍| 1629/1822 [07:44<00:55,  3.50it/s]"
     ]
    },
    {
     "name": "stdout",
     "output_type": "stream",
     "text": [
      "Cargando: 89.41% completo\n"
     ]
    },
    {
     "name": "stderr",
     "output_type": "stream",
     "text": [
      "Procesando prestaciones_t2024.db:  89%|████▍| 1630/1822 [07:44<00:53,  3.57it/s]"
     ]
    },
    {
     "name": "stdout",
     "output_type": "stream",
     "text": [
      "Cargando: 89.46% completo\n"
     ]
    },
    {
     "name": "stderr",
     "output_type": "stream",
     "text": [
      "Procesando prestaciones_t2024.db:  90%|████▍| 1631/1822 [07:44<00:52,  3.66it/s]"
     ]
    },
    {
     "name": "stdout",
     "output_type": "stream",
     "text": [
      "Cargando: 89.52% completo\n"
     ]
    },
    {
     "name": "stderr",
     "output_type": "stream",
     "text": [
      "Procesando prestaciones_t2024.db:  90%|████▍| 1632/1822 [07:45<00:51,  3.67it/s]"
     ]
    },
    {
     "name": "stdout",
     "output_type": "stream",
     "text": [
      "Cargando: 89.57% completo\n"
     ]
    },
    {
     "name": "stderr",
     "output_type": "stream",
     "text": [
      "Procesando prestaciones_t2024.db:  90%|████▍| 1633/1822 [07:45<00:51,  3.64it/s]"
     ]
    },
    {
     "name": "stdout",
     "output_type": "stream",
     "text": [
      "Cargando: 89.63% completo\n"
     ]
    },
    {
     "name": "stderr",
     "output_type": "stream",
     "text": [
      "Procesando prestaciones_t2024.db:  90%|████▍| 1634/1822 [07:45<00:50,  3.69it/s]"
     ]
    },
    {
     "name": "stdout",
     "output_type": "stream",
     "text": [
      "Cargando: 89.68% completo\n"
     ]
    },
    {
     "name": "stderr",
     "output_type": "stream",
     "text": [
      "Procesando prestaciones_t2024.db:  90%|████▍| 1635/1822 [07:45<00:50,  3.73it/s]"
     ]
    },
    {
     "name": "stdout",
     "output_type": "stream",
     "text": [
      "Cargando: 89.74% completo\n"
     ]
    },
    {
     "name": "stderr",
     "output_type": "stream",
     "text": [
      "Procesando prestaciones_t2024.db:  90%|████▍| 1636/1822 [07:46<00:49,  3.74it/s]"
     ]
    },
    {
     "name": "stdout",
     "output_type": "stream",
     "text": [
      "Cargando: 89.79% completo\n"
     ]
    },
    {
     "name": "stderr",
     "output_type": "stream",
     "text": [
      "Procesando prestaciones_t2024.db:  90%|████▍| 1637/1822 [07:46<00:48,  3.78it/s]"
     ]
    },
    {
     "name": "stdout",
     "output_type": "stream",
     "text": [
      "Cargando: 89.85% completo\n"
     ]
    },
    {
     "name": "stderr",
     "output_type": "stream",
     "text": [
      "Procesando prestaciones_t2024.db:  90%|████▍| 1638/1822 [07:46<00:49,  3.75it/s]"
     ]
    },
    {
     "name": "stdout",
     "output_type": "stream",
     "text": [
      "Cargando: 89.90% completo\n"
     ]
    },
    {
     "name": "stderr",
     "output_type": "stream",
     "text": [
      "Procesando prestaciones_t2024.db:  90%|████▍| 1639/1822 [07:46<00:48,  3.75it/s]"
     ]
    },
    {
     "name": "stdout",
     "output_type": "stream",
     "text": [
      "Cargando: 89.96% completo\n"
     ]
    },
    {
     "name": "stderr",
     "output_type": "stream",
     "text": [
      "Procesando prestaciones_t2024.db:  90%|████▌| 1640/1822 [07:47<01:00,  3.03it/s]"
     ]
    },
    {
     "name": "stdout",
     "output_type": "stream",
     "text": [
      "Cargando: 90.01% completo\n"
     ]
    },
    {
     "name": "stderr",
     "output_type": "stream",
     "text": [
      "Procesando prestaciones_t2024.db:  90%|████▌| 1641/1822 [07:47<00:56,  3.21it/s]"
     ]
    },
    {
     "name": "stdout",
     "output_type": "stream",
     "text": [
      "Cargando: 90.07% completo\n"
     ]
    },
    {
     "name": "stderr",
     "output_type": "stream",
     "text": [
      "Procesando prestaciones_t2024.db:  90%|████▌| 1642/1822 [07:47<00:53,  3.34it/s]"
     ]
    },
    {
     "name": "stdout",
     "output_type": "stream",
     "text": [
      "Cargando: 90.12% completo\n"
     ]
    },
    {
     "name": "stderr",
     "output_type": "stream",
     "text": [
      "Procesando prestaciones_t2024.db:  90%|████▌| 1643/1822 [07:48<00:51,  3.48it/s]"
     ]
    },
    {
     "name": "stdout",
     "output_type": "stream",
     "text": [
      "Cargando: 90.18% completo\n"
     ]
    },
    {
     "name": "stderr",
     "output_type": "stream",
     "text": [
      "Procesando prestaciones_t2024.db:  90%|████▌| 1644/1822 [07:48<00:50,  3.54it/s]"
     ]
    },
    {
     "name": "stdout",
     "output_type": "stream",
     "text": [
      "Cargando: 90.23% completo\n"
     ]
    },
    {
     "name": "stderr",
     "output_type": "stream",
     "text": [
      "Procesando prestaciones_t2024.db:  90%|████▌| 1645/1822 [07:48<00:48,  3.63it/s]"
     ]
    },
    {
     "name": "stdout",
     "output_type": "stream",
     "text": [
      "Cargando: 90.29% completo\n"
     ]
    },
    {
     "name": "stderr",
     "output_type": "stream",
     "text": [
      "Procesando prestaciones_t2024.db:  90%|████▌| 1646/1822 [07:49<00:47,  3.67it/s]"
     ]
    },
    {
     "name": "stdout",
     "output_type": "stream",
     "text": [
      "Cargando: 90.34% completo\n"
     ]
    },
    {
     "name": "stderr",
     "output_type": "stream",
     "text": [
      "Procesando prestaciones_t2024.db:  90%|████▌| 1647/1822 [07:49<00:47,  3.67it/s]"
     ]
    },
    {
     "name": "stdout",
     "output_type": "stream",
     "text": [
      "Cargando: 90.40% completo\n"
     ]
    },
    {
     "name": "stderr",
     "output_type": "stream",
     "text": [
      "Procesando prestaciones_t2024.db:  90%|████▌| 1648/1822 [07:49<00:46,  3.72it/s]"
     ]
    },
    {
     "name": "stdout",
     "output_type": "stream",
     "text": [
      "Cargando: 90.45% completo\n"
     ]
    },
    {
     "name": "stderr",
     "output_type": "stream",
     "text": [
      "Procesando prestaciones_t2024.db:  91%|████▌| 1649/1822 [07:49<00:46,  3.75it/s]"
     ]
    },
    {
     "name": "stdout",
     "output_type": "stream",
     "text": [
      "Cargando: 90.50% completo\n"
     ]
    },
    {
     "name": "stderr",
     "output_type": "stream",
     "text": [
      "Procesando prestaciones_t2024.db:  91%|████▌| 1650/1822 [07:50<00:45,  3.76it/s]"
     ]
    },
    {
     "name": "stdout",
     "output_type": "stream",
     "text": [
      "Cargando: 90.56% completo\n"
     ]
    },
    {
     "name": "stderr",
     "output_type": "stream",
     "text": [
      "Procesando prestaciones_t2024.db:  91%|████▌| 1651/1822 [07:50<00:49,  3.42it/s]"
     ]
    },
    {
     "name": "stdout",
     "output_type": "stream",
     "text": [
      "Cargando: 90.61% completo\n"
     ]
    },
    {
     "name": "stderr",
     "output_type": "stream",
     "text": [
      "Procesando prestaciones_t2024.db:  91%|████▌| 1652/1822 [07:50<00:47,  3.54it/s]"
     ]
    },
    {
     "name": "stdout",
     "output_type": "stream",
     "text": [
      "Cargando: 90.67% completo\n"
     ]
    },
    {
     "name": "stderr",
     "output_type": "stream",
     "text": [
      "Procesando prestaciones_t2024.db:  91%|████▌| 1653/1822 [07:50<00:46,  3.66it/s]"
     ]
    },
    {
     "name": "stdout",
     "output_type": "stream",
     "text": [
      "Cargando: 90.72% completo\n"
     ]
    },
    {
     "name": "stderr",
     "output_type": "stream",
     "text": [
      "Procesando prestaciones_t2024.db:  91%|████▌| 1654/1822 [07:51<00:56,  2.97it/s]"
     ]
    },
    {
     "name": "stdout",
     "output_type": "stream",
     "text": [
      "Cargando: 90.78% completo\n"
     ]
    },
    {
     "name": "stderr",
     "output_type": "stream",
     "text": [
      "Procesando prestaciones_t2024.db:  91%|████▌| 1655/1822 [07:51<00:51,  3.23it/s]"
     ]
    },
    {
     "name": "stdout",
     "output_type": "stream",
     "text": [
      "Cargando: 90.83% completo\n"
     ]
    },
    {
     "name": "stderr",
     "output_type": "stream",
     "text": [
      "Procesando prestaciones_t2024.db:  91%|████▌| 1656/1822 [07:51<00:49,  3.35it/s]"
     ]
    },
    {
     "name": "stdout",
     "output_type": "stream",
     "text": [
      "Cargando: 90.89% completo\n"
     ]
    },
    {
     "name": "stderr",
     "output_type": "stream",
     "text": [
      "Procesando prestaciones_t2024.db:  91%|████▌| 1657/1822 [07:52<00:47,  3.50it/s]"
     ]
    },
    {
     "name": "stdout",
     "output_type": "stream",
     "text": [
      "Cargando: 90.94% completo\n"
     ]
    },
    {
     "name": "stderr",
     "output_type": "stream",
     "text": [
      "Procesando prestaciones_t2024.db:  91%|████▌| 1658/1822 [07:52<00:46,  3.55it/s]"
     ]
    },
    {
     "name": "stdout",
     "output_type": "stream",
     "text": [
      "Cargando: 91.00% completo\n"
     ]
    },
    {
     "name": "stderr",
     "output_type": "stream",
     "text": [
      "Procesando prestaciones_t2024.db:  91%|████▌| 1659/1822 [07:52<00:44,  3.64it/s]"
     ]
    },
    {
     "name": "stdout",
     "output_type": "stream",
     "text": [
      "Cargando: 91.05% completo\n"
     ]
    },
    {
     "name": "stderr",
     "output_type": "stream",
     "text": [
      "Procesando prestaciones_t2024.db:  91%|████▌| 1660/1822 [07:53<00:44,  3.67it/s]"
     ]
    },
    {
     "name": "stdout",
     "output_type": "stream",
     "text": [
      "Cargando: 91.11% completo\n"
     ]
    },
    {
     "name": "stderr",
     "output_type": "stream",
     "text": [
      "Procesando prestaciones_t2024.db:  91%|████▌| 1661/1822 [07:53<00:43,  3.71it/s]"
     ]
    },
    {
     "name": "stdout",
     "output_type": "stream",
     "text": [
      "Cargando: 91.16% completo\n"
     ]
    },
    {
     "name": "stderr",
     "output_type": "stream",
     "text": [
      "Procesando prestaciones_t2024.db:  91%|████▌| 1662/1822 [07:53<00:42,  3.73it/s]"
     ]
    },
    {
     "name": "stdout",
     "output_type": "stream",
     "text": [
      "Cargando: 91.22% completo\n"
     ]
    },
    {
     "name": "stderr",
     "output_type": "stream",
     "text": [
      "Procesando prestaciones_t2024.db:  91%|████▌| 1663/1822 [07:53<00:42,  3.77it/s]"
     ]
    },
    {
     "name": "stdout",
     "output_type": "stream",
     "text": [
      "Cargando: 91.27% completo\n"
     ]
    },
    {
     "name": "stderr",
     "output_type": "stream",
     "text": [
      "Procesando prestaciones_t2024.db:  91%|████▌| 1664/1822 [07:54<00:41,  3.78it/s]"
     ]
    },
    {
     "name": "stdout",
     "output_type": "stream",
     "text": [
      "Cargando: 91.33% completo\n"
     ]
    },
    {
     "name": "stderr",
     "output_type": "stream",
     "text": [
      "Procesando prestaciones_t2024.db:  91%|████▌| 1665/1822 [07:54<00:41,  3.81it/s]"
     ]
    },
    {
     "name": "stdout",
     "output_type": "stream",
     "text": [
      "Cargando: 91.38% completo\n"
     ]
    },
    {
     "name": "stderr",
     "output_type": "stream",
     "text": [
      "Procesando prestaciones_t2024.db:  91%|████▌| 1666/1822 [07:54<00:41,  3.75it/s]"
     ]
    },
    {
     "name": "stdout",
     "output_type": "stream",
     "text": [
      "Cargando: 91.44% completo\n"
     ]
    },
    {
     "name": "stderr",
     "output_type": "stream",
     "text": [
      "Procesando prestaciones_t2024.db:  91%|████▌| 1667/1822 [07:54<00:42,  3.67it/s]"
     ]
    },
    {
     "name": "stdout",
     "output_type": "stream",
     "text": [
      "Cargando: 91.49% completo\n"
     ]
    },
    {
     "name": "stderr",
     "output_type": "stream",
     "text": [
      "Procesando prestaciones_t2024.db:  92%|████▌| 1668/1822 [07:55<00:51,  2.99it/s]"
     ]
    },
    {
     "name": "stdout",
     "output_type": "stream",
     "text": [
      "Cargando: 91.55% completo\n"
     ]
    },
    {
     "name": "stderr",
     "output_type": "stream",
     "text": [
      "Procesando prestaciones_t2024.db:  92%|████▌| 1669/1822 [07:55<00:47,  3.23it/s]"
     ]
    },
    {
     "name": "stdout",
     "output_type": "stream",
     "text": [
      "Cargando: 91.60% completo\n"
     ]
    },
    {
     "name": "stderr",
     "output_type": "stream",
     "text": [
      "Procesando prestaciones_t2024.db:  92%|████▌| 1670/1822 [07:55<00:45,  3.35it/s]"
     ]
    },
    {
     "name": "stdout",
     "output_type": "stream",
     "text": [
      "Cargando: 91.66% completo\n"
     ]
    },
    {
     "name": "stderr",
     "output_type": "stream",
     "text": [
      "Procesando prestaciones_t2024.db:  92%|████▌| 1671/1822 [07:56<00:43,  3.51it/s]"
     ]
    },
    {
     "name": "stdout",
     "output_type": "stream",
     "text": [
      "Cargando: 91.71% completo\n"
     ]
    },
    {
     "name": "stderr",
     "output_type": "stream",
     "text": [
      "Procesando prestaciones_t2024.db:  92%|████▌| 1672/1822 [07:56<00:41,  3.58it/s]"
     ]
    },
    {
     "name": "stdout",
     "output_type": "stream",
     "text": [
      "Cargando: 91.77% completo\n"
     ]
    },
    {
     "name": "stderr",
     "output_type": "stream",
     "text": [
      "Procesando prestaciones_t2024.db:  92%|████▌| 1673/1822 [07:56<00:40,  3.68it/s]"
     ]
    },
    {
     "name": "stdout",
     "output_type": "stream",
     "text": [
      "Cargando: 91.82% completo\n"
     ]
    },
    {
     "name": "stderr",
     "output_type": "stream",
     "text": [
      "Procesando prestaciones_t2024.db:  92%|████▌| 1674/1822 [07:56<00:40,  3.67it/s]"
     ]
    },
    {
     "name": "stdout",
     "output_type": "stream",
     "text": [
      "Cargando: 91.88% completo\n"
     ]
    },
    {
     "name": "stderr",
     "output_type": "stream",
     "text": [
      "Procesando prestaciones_t2024.db:  92%|████▌| 1675/1822 [07:57<00:39,  3.77it/s]"
     ]
    },
    {
     "name": "stdout",
     "output_type": "stream",
     "text": [
      "Cargando: 91.93% completo\n"
     ]
    },
    {
     "name": "stderr",
     "output_type": "stream",
     "text": [
      "Procesando prestaciones_t2024.db:  92%|████▌| 1676/1822 [07:57<00:39,  3.74it/s]"
     ]
    },
    {
     "name": "stdout",
     "output_type": "stream",
     "text": [
      "Cargando: 91.99% completo\n"
     ]
    },
    {
     "name": "stderr",
     "output_type": "stream",
     "text": [
      "Procesando prestaciones_t2024.db:  92%|████▌| 1677/1822 [07:57<00:38,  3.80it/s]"
     ]
    },
    {
     "name": "stdout",
     "output_type": "stream",
     "text": [
      "Cargando: 92.04% completo\n"
     ]
    },
    {
     "name": "stderr",
     "output_type": "stream",
     "text": [
      "Procesando prestaciones_t2024.db:  92%|████▌| 1678/1822 [07:57<00:38,  3.75it/s]"
     ]
    },
    {
     "name": "stdout",
     "output_type": "stream",
     "text": [
      "Cargando: 92.10% completo\n"
     ]
    },
    {
     "name": "stderr",
     "output_type": "stream",
     "text": [
      "Procesando prestaciones_t2024.db:  92%|████▌| 1679/1822 [07:58<00:37,  3.79it/s]"
     ]
    },
    {
     "name": "stdout",
     "output_type": "stream",
     "text": [
      "Cargando: 92.15% completo\n"
     ]
    },
    {
     "name": "stderr",
     "output_type": "stream",
     "text": [
      "Procesando prestaciones_t2024.db:  92%|████▌| 1680/1822 [07:58<00:41,  3.43it/s]"
     ]
    },
    {
     "name": "stdout",
     "output_type": "stream",
     "text": [
      "Cargando: 92.21% completo\n"
     ]
    },
    {
     "name": "stderr",
     "output_type": "stream",
     "text": [
      "Procesando prestaciones_t2024.db:  92%|████▌| 1681/1822 [07:58<00:39,  3.53it/s]"
     ]
    },
    {
     "name": "stdout",
     "output_type": "stream",
     "text": [
      "Cargando: 92.26% completo\n"
     ]
    },
    {
     "name": "stderr",
     "output_type": "stream",
     "text": [
      "Procesando prestaciones_t2024.db:  92%|████▌| 1682/1822 [07:59<00:38,  3.60it/s]"
     ]
    },
    {
     "name": "stdout",
     "output_type": "stream",
     "text": [
      "Cargando: 92.32% completo\n"
     ]
    },
    {
     "name": "stderr",
     "output_type": "stream",
     "text": [
      "Procesando prestaciones_t2024.db:  92%|████▌| 1683/1822 [07:59<00:46,  2.97it/s]"
     ]
    },
    {
     "name": "stdout",
     "output_type": "stream",
     "text": [
      "Cargando: 92.37% completo\n"
     ]
    },
    {
     "name": "stderr",
     "output_type": "stream",
     "text": [
      "Procesando prestaciones_t2024.db:  92%|████▌| 1684/1822 [07:59<00:43,  3.18it/s]"
     ]
    },
    {
     "name": "stdout",
     "output_type": "stream",
     "text": [
      "Cargando: 92.43% completo\n"
     ]
    },
    {
     "name": "stderr",
     "output_type": "stream",
     "text": [
      "Procesando prestaciones_t2024.db:  92%|████▌| 1685/1822 [08:00<00:40,  3.35it/s]"
     ]
    },
    {
     "name": "stdout",
     "output_type": "stream",
     "text": [
      "Cargando: 92.48% completo\n"
     ]
    },
    {
     "name": "stderr",
     "output_type": "stream",
     "text": [
      "Procesando prestaciones_t2024.db:  93%|████▋| 1686/1822 [08:00<00:39,  3.48it/s]"
     ]
    },
    {
     "name": "stdout",
     "output_type": "stream",
     "text": [
      "Cargando: 92.54% completo\n"
     ]
    },
    {
     "name": "stderr",
     "output_type": "stream",
     "text": [
      "Procesando prestaciones_t2024.db:  93%|████▋| 1687/1822 [08:00<00:37,  3.60it/s]"
     ]
    },
    {
     "name": "stdout",
     "output_type": "stream",
     "text": [
      "Cargando: 92.59% completo\n"
     ]
    },
    {
     "name": "stderr",
     "output_type": "stream",
     "text": [
      "Procesando prestaciones_t2024.db:  93%|████▋| 1688/1822 [08:00<00:36,  3.64it/s]"
     ]
    },
    {
     "name": "stdout",
     "output_type": "stream",
     "text": [
      "Cargando: 92.65% completo\n"
     ]
    },
    {
     "name": "stderr",
     "output_type": "stream",
     "text": [
      "Procesando prestaciones_t2024.db:  93%|████▋| 1689/1822 [08:01<00:35,  3.72it/s]"
     ]
    },
    {
     "name": "stdout",
     "output_type": "stream",
     "text": [
      "Cargando: 92.70% completo\n"
     ]
    },
    {
     "name": "stderr",
     "output_type": "stream",
     "text": [
      "Procesando prestaciones_t2024.db:  93%|████▋| 1690/1822 [08:01<00:35,  3.75it/s]"
     ]
    },
    {
     "name": "stdout",
     "output_type": "stream",
     "text": [
      "Cargando: 92.76% completo\n"
     ]
    },
    {
     "name": "stderr",
     "output_type": "stream",
     "text": [
      "Procesando prestaciones_t2024.db:  93%|████▋| 1691/1822 [08:01<00:34,  3.77it/s]"
     ]
    },
    {
     "name": "stdout",
     "output_type": "stream",
     "text": [
      "Cargando: 92.81% completo\n"
     ]
    },
    {
     "name": "stderr",
     "output_type": "stream",
     "text": [
      "Procesando prestaciones_t2024.db:  93%|████▋| 1692/1822 [08:01<00:34,  3.76it/s]"
     ]
    },
    {
     "name": "stdout",
     "output_type": "stream",
     "text": [
      "Cargando: 92.86% completo\n"
     ]
    },
    {
     "name": "stderr",
     "output_type": "stream",
     "text": [
      "Procesando prestaciones_t2024.db:  93%|████▋| 1693/1822 [08:02<00:33,  3.80it/s]"
     ]
    },
    {
     "name": "stdout",
     "output_type": "stream",
     "text": [
      "Cargando: 92.92% completo\n"
     ]
    },
    {
     "name": "stderr",
     "output_type": "stream",
     "text": [
      "Procesando prestaciones_t2024.db:  93%|████▋| 1694/1822 [08:02<00:33,  3.80it/s]"
     ]
    },
    {
     "name": "stdout",
     "output_type": "stream",
     "text": [
      "Cargando: 92.97% completo\n"
     ]
    },
    {
     "name": "stderr",
     "output_type": "stream",
     "text": [
      "Procesando prestaciones_t2024.db:  93%|████▋| 1695/1822 [08:02<00:33,  3.84it/s]"
     ]
    },
    {
     "name": "stdout",
     "output_type": "stream",
     "text": [
      "Cargando: 93.03% completo\n"
     ]
    },
    {
     "name": "stderr",
     "output_type": "stream",
     "text": [
      "Procesando prestaciones_t2024.db:  93%|████▋| 1696/1822 [08:02<00:32,  3.83it/s]"
     ]
    },
    {
     "name": "stdout",
     "output_type": "stream",
     "text": [
      "Cargando: 93.08% completo\n"
     ]
    },
    {
     "name": "stderr",
     "output_type": "stream",
     "text": [
      "Procesando prestaciones_t2024.db:  93%|████▋| 1697/1822 [08:03<00:40,  3.08it/s]"
     ]
    },
    {
     "name": "stdout",
     "output_type": "stream",
     "text": [
      "Cargando: 93.14% completo\n"
     ]
    },
    {
     "name": "stderr",
     "output_type": "stream",
     "text": [
      "Procesando prestaciones_t2024.db:  93%|████▋| 1698/1822 [08:03<00:37,  3.27it/s]"
     ]
    },
    {
     "name": "stdout",
     "output_type": "stream",
     "text": [
      "Cargando: 93.19% completo\n"
     ]
    },
    {
     "name": "stderr",
     "output_type": "stream",
     "text": [
      "Procesando prestaciones_t2024.db:  93%|████▋| 1699/1822 [08:03<00:35,  3.43it/s]"
     ]
    },
    {
     "name": "stdout",
     "output_type": "stream",
     "text": [
      "Cargando: 93.25% completo\n"
     ]
    },
    {
     "name": "stderr",
     "output_type": "stream",
     "text": [
      "Procesando prestaciones_t2024.db:  93%|████▋| 1700/1822 [08:04<00:34,  3.54it/s]"
     ]
    },
    {
     "name": "stdout",
     "output_type": "stream",
     "text": [
      "Cargando: 93.30% completo\n"
     ]
    },
    {
     "name": "stderr",
     "output_type": "stream",
     "text": [
      "Procesando prestaciones_t2024.db:  93%|████▋| 1701/1822 [08:04<00:33,  3.65it/s]"
     ]
    },
    {
     "name": "stdout",
     "output_type": "stream",
     "text": [
      "Cargando: 93.36% completo\n"
     ]
    },
    {
     "name": "stderr",
     "output_type": "stream",
     "text": [
      "Procesando prestaciones_t2024.db:  93%|████▋| 1702/1822 [08:04<00:32,  3.69it/s]"
     ]
    },
    {
     "name": "stdout",
     "output_type": "stream",
     "text": [
      "Cargando: 93.41% completo\n"
     ]
    },
    {
     "name": "stderr",
     "output_type": "stream",
     "text": [
      "Procesando prestaciones_t2024.db:  93%|████▋| 1703/1822 [08:05<00:31,  3.74it/s]"
     ]
    },
    {
     "name": "stdout",
     "output_type": "stream",
     "text": [
      "Cargando: 93.47% completo\n"
     ]
    },
    {
     "name": "stderr",
     "output_type": "stream",
     "text": [
      "Procesando prestaciones_t2024.db:  94%|████▋| 1704/1822 [08:05<00:31,  3.74it/s]"
     ]
    },
    {
     "name": "stdout",
     "output_type": "stream",
     "text": [
      "Cargando: 93.52% completo\n"
     ]
    },
    {
     "name": "stderr",
     "output_type": "stream",
     "text": [
      "Procesando prestaciones_t2024.db:  94%|████▋| 1705/1822 [08:05<00:31,  3.70it/s]"
     ]
    },
    {
     "name": "stdout",
     "output_type": "stream",
     "text": [
      "Cargando: 93.58% completo\n"
     ]
    },
    {
     "name": "stderr",
     "output_type": "stream",
     "text": [
      "Procesando prestaciones_t2024.db:  94%|████▋| 1706/1822 [08:05<00:32,  3.52it/s]"
     ]
    },
    {
     "name": "stdout",
     "output_type": "stream",
     "text": [
      "Cargando: 93.63% completo\n"
     ]
    },
    {
     "name": "stderr",
     "output_type": "stream",
     "text": [
      "Procesando prestaciones_t2024.db:  94%|████▋| 1707/1822 [08:06<00:33,  3.39it/s]"
     ]
    },
    {
     "name": "stdout",
     "output_type": "stream",
     "text": [
      "Cargando: 93.69% completo\n"
     ]
    },
    {
     "name": "stderr",
     "output_type": "stream",
     "text": [
      "Procesando prestaciones_t2024.db:  94%|████▋| 1708/1822 [08:06<00:34,  3.27it/s]"
     ]
    },
    {
     "name": "stdout",
     "output_type": "stream",
     "text": [
      "Cargando: 93.74% completo\n"
     ]
    },
    {
     "name": "stderr",
     "output_type": "stream",
     "text": [
      "Procesando prestaciones_t2024.db:  94%|████▋| 1709/1822 [08:06<00:37,  2.99it/s]"
     ]
    },
    {
     "name": "stdout",
     "output_type": "stream",
     "text": [
      "Cargando: 93.80% completo\n"
     ]
    },
    {
     "name": "stderr",
     "output_type": "stream",
     "text": [
      "Procesando prestaciones_t2024.db:  94%|████▋| 1710/1822 [08:07<00:37,  3.00it/s]"
     ]
    },
    {
     "name": "stdout",
     "output_type": "stream",
     "text": [
      "Cargando: 93.85% completo\n"
     ]
    },
    {
     "name": "stderr",
     "output_type": "stream",
     "text": [
      "Procesando prestaciones_t2024.db:  94%|████▋| 1711/1822 [08:07<00:36,  3.00it/s]"
     ]
    },
    {
     "name": "stdout",
     "output_type": "stream",
     "text": [
      "Cargando: 93.91% completo\n"
     ]
    },
    {
     "name": "stderr",
     "output_type": "stream",
     "text": [
      "Procesando prestaciones_t2024.db:  94%|████▋| 1712/1822 [08:08<00:41,  2.67it/s]"
     ]
    },
    {
     "name": "stdout",
     "output_type": "stream",
     "text": [
      "Cargando: 93.96% completo\n"
     ]
    },
    {
     "name": "stderr",
     "output_type": "stream",
     "text": [
      "Procesando prestaciones_t2024.db:  94%|████▋| 1713/1822 [08:08<00:37,  2.89it/s]"
     ]
    },
    {
     "name": "stdout",
     "output_type": "stream",
     "text": [
      "Cargando: 94.02% completo\n"
     ]
    },
    {
     "name": "stderr",
     "output_type": "stream",
     "text": [
      "Procesando prestaciones_t2024.db:  94%|████▋| 1714/1822 [08:08<00:35,  3.04it/s]"
     ]
    },
    {
     "name": "stdout",
     "output_type": "stream",
     "text": [
      "Cargando: 94.07% completo\n"
     ]
    },
    {
     "name": "stderr",
     "output_type": "stream",
     "text": [
      "Procesando prestaciones_t2024.db:  94%|████▋| 1715/1822 [08:08<00:34,  3.13it/s]"
     ]
    },
    {
     "name": "stdout",
     "output_type": "stream",
     "text": [
      "Cargando: 94.13% completo\n"
     ]
    },
    {
     "name": "stderr",
     "output_type": "stream",
     "text": [
      "Procesando prestaciones_t2024.db:  94%|████▋| 1716/1822 [08:09<00:32,  3.27it/s]"
     ]
    },
    {
     "name": "stdout",
     "output_type": "stream",
     "text": [
      "Cargando: 94.18% completo\n"
     ]
    },
    {
     "name": "stderr",
     "output_type": "stream",
     "text": [
      "Procesando prestaciones_t2024.db:  94%|████▋| 1717/1822 [08:09<00:30,  3.40it/s]"
     ]
    },
    {
     "name": "stdout",
     "output_type": "stream",
     "text": [
      "Cargando: 94.24% completo\n"
     ]
    },
    {
     "name": "stderr",
     "output_type": "stream",
     "text": [
      "Procesando prestaciones_t2024.db:  94%|████▋| 1718/1822 [08:09<00:29,  3.52it/s]"
     ]
    },
    {
     "name": "stdout",
     "output_type": "stream",
     "text": [
      "Cargando: 94.29% completo\n"
     ]
    },
    {
     "name": "stderr",
     "output_type": "stream",
     "text": [
      "Procesando prestaciones_t2024.db:  94%|████▋| 1719/1822 [08:10<00:28,  3.62it/s]"
     ]
    },
    {
     "name": "stdout",
     "output_type": "stream",
     "text": [
      "Cargando: 94.35% completo\n"
     ]
    },
    {
     "name": "stderr",
     "output_type": "stream",
     "text": [
      "Procesando prestaciones_t2024.db:  94%|████▋| 1720/1822 [08:10<00:27,  3.67it/s]"
     ]
    },
    {
     "name": "stdout",
     "output_type": "stream",
     "text": [
      "Cargando: 94.40% completo\n"
     ]
    },
    {
     "name": "stderr",
     "output_type": "stream",
     "text": [
      "Procesando prestaciones_t2024.db:  94%|████▋| 1721/1822 [08:10<00:27,  3.65it/s]"
     ]
    },
    {
     "name": "stdout",
     "output_type": "stream",
     "text": [
      "Cargando: 94.46% completo\n"
     ]
    },
    {
     "name": "stderr",
     "output_type": "stream",
     "text": [
      "Procesando prestaciones_t2024.db:  95%|████▋| 1722/1822 [08:10<00:27,  3.66it/s]"
     ]
    },
    {
     "name": "stdout",
     "output_type": "stream",
     "text": [
      "Cargando: 94.51% completo\n"
     ]
    },
    {
     "name": "stderr",
     "output_type": "stream",
     "text": [
      "Procesando prestaciones_t2024.db:  95%|████▋| 1723/1822 [08:11<00:26,  3.70it/s]"
     ]
    },
    {
     "name": "stdout",
     "output_type": "stream",
     "text": [
      "Cargando: 94.57% completo\n"
     ]
    },
    {
     "name": "stderr",
     "output_type": "stream",
     "text": [
      "Procesando prestaciones_t2024.db:  95%|████▋| 1724/1822 [08:11<00:26,  3.72it/s]"
     ]
    },
    {
     "name": "stdout",
     "output_type": "stream",
     "text": [
      "Cargando: 94.62% completo\n"
     ]
    },
    {
     "name": "stderr",
     "output_type": "stream",
     "text": [
      "Procesando prestaciones_t2024.db:  95%|████▋| 1725/1822 [08:11<00:25,  3.77it/s]"
     ]
    },
    {
     "name": "stdout",
     "output_type": "stream",
     "text": [
      "Cargando: 94.68% completo\n"
     ]
    },
    {
     "name": "stderr",
     "output_type": "stream",
     "text": [
      "Procesando prestaciones_t2024.db:  95%|████▋| 1726/1822 [08:11<00:25,  3.77it/s]"
     ]
    },
    {
     "name": "stdout",
     "output_type": "stream",
     "text": [
      "Cargando: 94.73% completo\n"
     ]
    },
    {
     "name": "stderr",
     "output_type": "stream",
     "text": [
      "Procesando prestaciones_t2024.db:  95%|████▋| 1727/1822 [08:12<00:31,  3.02it/s]"
     ]
    },
    {
     "name": "stdout",
     "output_type": "stream",
     "text": [
      "Cargando: 94.79% completo\n"
     ]
    },
    {
     "name": "stderr",
     "output_type": "stream",
     "text": [
      "Procesando prestaciones_t2024.db:  95%|████▋| 1728/1822 [08:12<00:29,  3.20it/s]"
     ]
    },
    {
     "name": "stdout",
     "output_type": "stream",
     "text": [
      "Cargando: 94.84% completo\n"
     ]
    },
    {
     "name": "stderr",
     "output_type": "stream",
     "text": [
      "Procesando prestaciones_t2024.db:  95%|████▋| 1729/1822 [08:12<00:27,  3.36it/s]"
     ]
    },
    {
     "name": "stdout",
     "output_type": "stream",
     "text": [
      "Cargando: 94.90% completo\n"
     ]
    },
    {
     "name": "stderr",
     "output_type": "stream",
     "text": [
      "Procesando prestaciones_t2024.db:  95%|████▋| 1730/1822 [08:13<00:27,  3.39it/s]"
     ]
    },
    {
     "name": "stdout",
     "output_type": "stream",
     "text": [
      "Cargando: 94.95% completo\n"
     ]
    },
    {
     "name": "stderr",
     "output_type": "stream",
     "text": [
      "Procesando prestaciones_t2024.db:  95%|████▊| 1731/1822 [08:13<00:25,  3.55it/s]"
     ]
    },
    {
     "name": "stdout",
     "output_type": "stream",
     "text": [
      "Cargando: 95.01% completo\n"
     ]
    },
    {
     "name": "stderr",
     "output_type": "stream",
     "text": [
      "Procesando prestaciones_t2024.db:  95%|████▊| 1732/1822 [08:13<00:24,  3.60it/s]"
     ]
    },
    {
     "name": "stdout",
     "output_type": "stream",
     "text": [
      "Cargando: 95.06% completo\n"
     ]
    },
    {
     "name": "stderr",
     "output_type": "stream",
     "text": [
      "Procesando prestaciones_t2024.db:  95%|████▊| 1733/1822 [08:13<00:23,  3.71it/s]"
     ]
    },
    {
     "name": "stdout",
     "output_type": "stream",
     "text": [
      "Cargando: 95.12% completo\n"
     ]
    },
    {
     "name": "stderr",
     "output_type": "stream",
     "text": [
      "Procesando prestaciones_t2024.db:  95%|████▊| 1734/1822 [08:14<00:23,  3.70it/s]"
     ]
    },
    {
     "name": "stdout",
     "output_type": "stream",
     "text": [
      "Cargando: 95.17% completo\n"
     ]
    },
    {
     "name": "stderr",
     "output_type": "stream",
     "text": [
      "Procesando prestaciones_t2024.db:  95%|████▊| 1735/1822 [08:14<00:22,  3.79it/s]"
     ]
    },
    {
     "name": "stdout",
     "output_type": "stream",
     "text": [
      "Cargando: 95.23% completo\n"
     ]
    },
    {
     "name": "stderr",
     "output_type": "stream",
     "text": [
      "Procesando prestaciones_t2024.db:  95%|████▊| 1736/1822 [08:14<00:23,  3.73it/s]"
     ]
    },
    {
     "name": "stdout",
     "output_type": "stream",
     "text": [
      "Cargando: 95.28% completo\n"
     ]
    },
    {
     "name": "stderr",
     "output_type": "stream",
     "text": [
      "Procesando prestaciones_t2024.db:  95%|████▊| 1737/1822 [08:15<00:22,  3.72it/s]"
     ]
    },
    {
     "name": "stdout",
     "output_type": "stream",
     "text": [
      "Cargando: 95.33% completo\n"
     ]
    },
    {
     "name": "stderr",
     "output_type": "stream",
     "text": [
      "Procesando prestaciones_t2024.db:  95%|████▊| 1738/1822 [08:15<00:25,  3.31it/s]"
     ]
    },
    {
     "name": "stdout",
     "output_type": "stream",
     "text": [
      "Cargando: 95.39% completo\n"
     ]
    },
    {
     "name": "stderr",
     "output_type": "stream",
     "text": [
      "Procesando prestaciones_t2024.db:  95%|████▊| 1739/1822 [08:15<00:23,  3.52it/s]"
     ]
    },
    {
     "name": "stdout",
     "output_type": "stream",
     "text": [
      "Cargando: 95.44% completo\n"
     ]
    },
    {
     "name": "stderr",
     "output_type": "stream",
     "text": [
      "Procesando prestaciones_t2024.db:  95%|████▊| 1740/1822 [08:15<00:22,  3.60it/s]"
     ]
    },
    {
     "name": "stdout",
     "output_type": "stream",
     "text": [
      "Cargando: 95.50% completo\n"
     ]
    },
    {
     "name": "stderr",
     "output_type": "stream",
     "text": [
      "Procesando prestaciones_t2024.db:  96%|████▊| 1741/1822 [08:16<00:22,  3.64it/s]"
     ]
    },
    {
     "name": "stdout",
     "output_type": "stream",
     "text": [
      "Cargando: 95.55% completo\n"
     ]
    },
    {
     "name": "stderr",
     "output_type": "stream",
     "text": [
      "Procesando prestaciones_t2024.db:  96%|████▊| 1742/1822 [08:16<00:27,  2.94it/s]"
     ]
    },
    {
     "name": "stdout",
     "output_type": "stream",
     "text": [
      "Cargando: 95.61% completo\n"
     ]
    },
    {
     "name": "stderr",
     "output_type": "stream",
     "text": [
      "Procesando prestaciones_t2024.db:  96%|████▊| 1743/1822 [08:16<00:24,  3.18it/s]"
     ]
    },
    {
     "name": "stdout",
     "output_type": "stream",
     "text": [
      "Cargando: 95.66% completo\n"
     ]
    },
    {
     "name": "stderr",
     "output_type": "stream",
     "text": [
      "Procesando prestaciones_t2024.db:  96%|████▊| 1744/1822 [08:17<00:23,  3.31it/s]"
     ]
    },
    {
     "name": "stdout",
     "output_type": "stream",
     "text": [
      "Cargando: 95.72% completo\n"
     ]
    },
    {
     "name": "stderr",
     "output_type": "stream",
     "text": [
      "Procesando prestaciones_t2024.db:  96%|████▊| 1745/1822 [08:17<00:22,  3.48it/s]"
     ]
    },
    {
     "name": "stdout",
     "output_type": "stream",
     "text": [
      "Cargando: 95.77% completo\n"
     ]
    },
    {
     "name": "stderr",
     "output_type": "stream",
     "text": [
      "Procesando prestaciones_t2024.db:  96%|████▊| 1746/1822 [08:17<00:21,  3.54it/s]"
     ]
    },
    {
     "name": "stdout",
     "output_type": "stream",
     "text": [
      "Cargando: 95.83% completo\n"
     ]
    },
    {
     "name": "stderr",
     "output_type": "stream",
     "text": [
      "Procesando prestaciones_t2024.db:  96%|████▊| 1747/1822 [08:17<00:20,  3.66it/s]"
     ]
    },
    {
     "name": "stdout",
     "output_type": "stream",
     "text": [
      "Cargando: 95.88% completo\n"
     ]
    },
    {
     "name": "stderr",
     "output_type": "stream",
     "text": [
      "Procesando prestaciones_t2024.db:  96%|████▊| 1748/1822 [08:18<00:20,  3.65it/s]"
     ]
    },
    {
     "name": "stdout",
     "output_type": "stream",
     "text": [
      "Cargando: 95.94% completo\n"
     ]
    },
    {
     "name": "stderr",
     "output_type": "stream",
     "text": [
      "Procesando prestaciones_t2024.db:  96%|████▊| 1749/1822 [08:18<00:19,  3.76it/s]"
     ]
    },
    {
     "name": "stdout",
     "output_type": "stream",
     "text": [
      "Cargando: 95.99% completo\n"
     ]
    },
    {
     "name": "stderr",
     "output_type": "stream",
     "text": [
      "Procesando prestaciones_t2024.db:  96%|████▊| 1750/1822 [08:18<00:19,  3.76it/s]"
     ]
    },
    {
     "name": "stdout",
     "output_type": "stream",
     "text": [
      "Cargando: 96.05% completo\n"
     ]
    },
    {
     "name": "stderr",
     "output_type": "stream",
     "text": [
      "Procesando prestaciones_t2024.db:  96%|████▊| 1751/1822 [08:19<00:18,  3.81it/s]"
     ]
    },
    {
     "name": "stdout",
     "output_type": "stream",
     "text": [
      "Cargando: 96.10% completo\n"
     ]
    },
    {
     "name": "stderr",
     "output_type": "stream",
     "text": [
      "Procesando prestaciones_t2024.db:  96%|████▊| 1752/1822 [08:19<00:18,  3.76it/s]"
     ]
    },
    {
     "name": "stdout",
     "output_type": "stream",
     "text": [
      "Cargando: 96.16% completo\n"
     ]
    },
    {
     "name": "stderr",
     "output_type": "stream",
     "text": [
      "Procesando prestaciones_t2024.db:  96%|████▊| 1753/1822 [08:19<00:18,  3.77it/s]"
     ]
    },
    {
     "name": "stdout",
     "output_type": "stream",
     "text": [
      "Cargando: 96.21% completo\n"
     ]
    },
    {
     "name": "stderr",
     "output_type": "stream",
     "text": [
      "Procesando prestaciones_t2024.db:  96%|████▊| 1754/1822 [08:19<00:17,  3.78it/s]"
     ]
    },
    {
     "name": "stdout",
     "output_type": "stream",
     "text": [
      "Cargando: 96.27% completo\n"
     ]
    },
    {
     "name": "stderr",
     "output_type": "stream",
     "text": [
      "Procesando prestaciones_t2024.db:  96%|████▊| 1755/1822 [08:20<00:17,  3.73it/s]"
     ]
    },
    {
     "name": "stdout",
     "output_type": "stream",
     "text": [
      "Cargando: 96.32% completo\n"
     ]
    },
    {
     "name": "stderr",
     "output_type": "stream",
     "text": [
      "Procesando prestaciones_t2024.db:  96%|████▊| 1756/1822 [08:20<00:17,  3.75it/s]"
     ]
    },
    {
     "name": "stdout",
     "output_type": "stream",
     "text": [
      "Cargando: 96.38% completo\n"
     ]
    },
    {
     "name": "stderr",
     "output_type": "stream",
     "text": [
      "Procesando prestaciones_t2024.db:  96%|████▊| 1757/1822 [08:20<00:17,  3.74it/s]"
     ]
    },
    {
     "name": "stdout",
     "output_type": "stream",
     "text": [
      "Cargando: 96.43% completo\n"
     ]
    },
    {
     "name": "stderr",
     "output_type": "stream",
     "text": [
      "Procesando prestaciones_t2024.db:  96%|████▊| 1758/1822 [08:21<00:22,  2.90it/s]"
     ]
    },
    {
     "name": "stdout",
     "output_type": "stream",
     "text": [
      "Cargando: 96.49% completo\n"
     ]
    },
    {
     "name": "stderr",
     "output_type": "stream",
     "text": [
      "Procesando prestaciones_t2024.db:  97%|████▊| 1759/1822 [08:21<00:20,  3.12it/s]"
     ]
    },
    {
     "name": "stdout",
     "output_type": "stream",
     "text": [
      "Cargando: 96.54% completo\n"
     ]
    },
    {
     "name": "stderr",
     "output_type": "stream",
     "text": [
      "Procesando prestaciones_t2024.db:  97%|████▊| 1760/1822 [08:21<00:18,  3.32it/s]"
     ]
    },
    {
     "name": "stdout",
     "output_type": "stream",
     "text": [
      "Cargando: 96.60% completo\n"
     ]
    },
    {
     "name": "stderr",
     "output_type": "stream",
     "text": [
      "Procesando prestaciones_t2024.db:  97%|████▊| 1761/1822 [08:21<00:17,  3.46it/s]"
     ]
    },
    {
     "name": "stdout",
     "output_type": "stream",
     "text": [
      "Cargando: 96.65% completo\n"
     ]
    },
    {
     "name": "stderr",
     "output_type": "stream",
     "text": [
      "Procesando prestaciones_t2024.db:  97%|████▊| 1762/1822 [08:22<00:16,  3.57it/s]"
     ]
    },
    {
     "name": "stdout",
     "output_type": "stream",
     "text": [
      "Cargando: 96.71% completo\n"
     ]
    },
    {
     "name": "stderr",
     "output_type": "stream",
     "text": [
      "Procesando prestaciones_t2024.db:  97%|████▊| 1763/1822 [08:22<00:16,  3.63it/s]"
     ]
    },
    {
     "name": "stdout",
     "output_type": "stream",
     "text": [
      "Cargando: 96.76% completo\n"
     ]
    },
    {
     "name": "stderr",
     "output_type": "stream",
     "text": [
      "Procesando prestaciones_t2024.db:  97%|████▊| 1764/1822 [08:22<00:15,  3.71it/s]"
     ]
    },
    {
     "name": "stdout",
     "output_type": "stream",
     "text": [
      "Cargando: 96.82% completo\n"
     ]
    },
    {
     "name": "stderr",
     "output_type": "stream",
     "text": [
      "Procesando prestaciones_t2024.db:  97%|████▊| 1765/1822 [08:22<00:15,  3.72it/s]"
     ]
    },
    {
     "name": "stdout",
     "output_type": "stream",
     "text": [
      "Cargando: 96.87% completo\n"
     ]
    },
    {
     "name": "stderr",
     "output_type": "stream",
     "text": [
      "Procesando prestaciones_t2024.db:  97%|████▊| 1766/1822 [08:23<00:16,  3.36it/s]"
     ]
    },
    {
     "name": "stdout",
     "output_type": "stream",
     "text": [
      "Cargando: 96.93% completo\n"
     ]
    },
    {
     "name": "stderr",
     "output_type": "stream",
     "text": [
      "Procesando prestaciones_t2024.db:  97%|████▊| 1767/1822 [08:23<00:16,  3.44it/s]"
     ]
    },
    {
     "name": "stdout",
     "output_type": "stream",
     "text": [
      "Cargando: 96.98% completo\n"
     ]
    },
    {
     "name": "stderr",
     "output_type": "stream",
     "text": [
      "Procesando prestaciones_t2024.db:  97%|████▊| 1768/1822 [08:23<00:15,  3.58it/s]"
     ]
    },
    {
     "name": "stdout",
     "output_type": "stream",
     "text": [
      "Cargando: 97.04% completo\n"
     ]
    },
    {
     "name": "stderr",
     "output_type": "stream",
     "text": [
      "Procesando prestaciones_t2024.db:  97%|████▊| 1769/1822 [08:24<00:14,  3.61it/s]"
     ]
    },
    {
     "name": "stdout",
     "output_type": "stream",
     "text": [
      "Cargando: 97.09% completo\n"
     ]
    },
    {
     "name": "stderr",
     "output_type": "stream",
     "text": [
      "Procesando prestaciones_t2024.db:  97%|████▊| 1770/1822 [08:24<00:14,  3.71it/s]"
     ]
    },
    {
     "name": "stdout",
     "output_type": "stream",
     "text": [
      "Cargando: 97.15% completo\n"
     ]
    },
    {
     "name": "stderr",
     "output_type": "stream",
     "text": [
      "Procesando prestaciones_t2024.db:  97%|████▊| 1771/1822 [08:24<00:16,  3.12it/s]"
     ]
    },
    {
     "name": "stdout",
     "output_type": "stream",
     "text": [
      "Cargando: 97.20% completo\n"
     ]
    },
    {
     "name": "stderr",
     "output_type": "stream",
     "text": [
      "Procesando prestaciones_t2024.db:  97%|████▊| 1772/1822 [08:25<00:15,  3.32it/s]"
     ]
    },
    {
     "name": "stdout",
     "output_type": "stream",
     "text": [
      "Cargando: 97.26% completo\n"
     ]
    },
    {
     "name": "stderr",
     "output_type": "stream",
     "text": [
      "Procesando prestaciones_t2024.db:  97%|████▊| 1773/1822 [08:25<00:14,  3.44it/s]"
     ]
    },
    {
     "name": "stdout",
     "output_type": "stream",
     "text": [
      "Cargando: 97.31% completo\n"
     ]
    },
    {
     "name": "stderr",
     "output_type": "stream",
     "text": [
      "Procesando prestaciones_t2024.db:  97%|████▊| 1774/1822 [08:25<00:13,  3.55it/s]"
     ]
    },
    {
     "name": "stdout",
     "output_type": "stream",
     "text": [
      "Cargando: 97.37% completo\n"
     ]
    },
    {
     "name": "stderr",
     "output_type": "stream",
     "text": [
      "Procesando prestaciones_t2024.db:  97%|████▊| 1775/1822 [08:25<00:13,  3.60it/s]"
     ]
    },
    {
     "name": "stdout",
     "output_type": "stream",
     "text": [
      "Cargando: 97.42% completo\n"
     ]
    },
    {
     "name": "stderr",
     "output_type": "stream",
     "text": [
      "Procesando prestaciones_t2024.db:  97%|████▊| 1776/1822 [08:26<00:12,  3.64it/s]"
     ]
    },
    {
     "name": "stdout",
     "output_type": "stream",
     "text": [
      "Cargando: 97.48% completo\n"
     ]
    },
    {
     "name": "stderr",
     "output_type": "stream",
     "text": [
      "Procesando prestaciones_t2024.db:  98%|████▉| 1777/1822 [08:26<00:12,  3.67it/s]"
     ]
    },
    {
     "name": "stdout",
     "output_type": "stream",
     "text": [
      "Cargando: 97.53% completo\n"
     ]
    },
    {
     "name": "stderr",
     "output_type": "stream",
     "text": [
      "Procesando prestaciones_t2024.db:  98%|████▉| 1778/1822 [08:26<00:11,  3.72it/s]"
     ]
    },
    {
     "name": "stdout",
     "output_type": "stream",
     "text": [
      "Cargando: 97.59% completo\n"
     ]
    },
    {
     "name": "stderr",
     "output_type": "stream",
     "text": [
      "Procesando prestaciones_t2024.db:  98%|████▉| 1779/1822 [08:26<00:11,  3.73it/s]"
     ]
    },
    {
     "name": "stdout",
     "output_type": "stream",
     "text": [
      "Cargando: 97.64% completo\n"
     ]
    },
    {
     "name": "stderr",
     "output_type": "stream",
     "text": [
      "Procesando prestaciones_t2024.db:  98%|████▉| 1780/1822 [08:27<00:11,  3.78it/s]"
     ]
    },
    {
     "name": "stdout",
     "output_type": "stream",
     "text": [
      "Cargando: 97.69% completo\n"
     ]
    },
    {
     "name": "stderr",
     "output_type": "stream",
     "text": [
      "Procesando prestaciones_t2024.db:  98%|████▉| 1781/1822 [08:27<00:10,  3.74it/s]"
     ]
    },
    {
     "name": "stdout",
     "output_type": "stream",
     "text": [
      "Cargando: 97.75% completo\n"
     ]
    },
    {
     "name": "stderr",
     "output_type": "stream",
     "text": [
      "Procesando prestaciones_t2024.db:  98%|████▉| 1782/1822 [08:27<00:10,  3.78it/s]"
     ]
    },
    {
     "name": "stdout",
     "output_type": "stream",
     "text": [
      "Cargando: 97.80% completo\n"
     ]
    },
    {
     "name": "stderr",
     "output_type": "stream",
     "text": [
      "Procesando prestaciones_t2024.db:  98%|████▉| 1783/1822 [08:28<00:12,  3.20it/s]"
     ]
    },
    {
     "name": "stdout",
     "output_type": "stream",
     "text": [
      "Cargando: 97.86% completo\n"
     ]
    },
    {
     "name": "stderr",
     "output_type": "stream",
     "text": [
      "Procesando prestaciones_t2024.db:  98%|████▉| 1784/1822 [08:28<00:11,  3.38it/s]"
     ]
    },
    {
     "name": "stdout",
     "output_type": "stream",
     "text": [
      "Cargando: 97.91% completo\n"
     ]
    },
    {
     "name": "stderr",
     "output_type": "stream",
     "text": [
      "Procesando prestaciones_t2024.db:  98%|████▉| 1785/1822 [08:28<00:10,  3.53it/s]"
     ]
    },
    {
     "name": "stdout",
     "output_type": "stream",
     "text": [
      "Cargando: 97.97% completo\n"
     ]
    },
    {
     "name": "stderr",
     "output_type": "stream",
     "text": [
      "Procesando prestaciones_t2024.db:  98%|████▉| 1786/1822 [08:28<00:10,  3.59it/s]"
     ]
    },
    {
     "name": "stdout",
     "output_type": "stream",
     "text": [
      "Cargando: 98.02% completo\n"
     ]
    },
    {
     "name": "stderr",
     "output_type": "stream",
     "text": [
      "Procesando prestaciones_t2024.db:  98%|████▉| 1787/1822 [08:29<00:09,  3.54it/s]"
     ]
    },
    {
     "name": "stdout",
     "output_type": "stream",
     "text": [
      "Cargando: 98.08% completo\n"
     ]
    },
    {
     "name": "stderr",
     "output_type": "stream",
     "text": [
      "Procesando prestaciones_t2024.db:  98%|████▉| 1788/1822 [08:29<00:09,  3.48it/s]"
     ]
    },
    {
     "name": "stdout",
     "output_type": "stream",
     "text": [
      "Cargando: 98.13% completo\n"
     ]
    },
    {
     "name": "stderr",
     "output_type": "stream",
     "text": [
      "Procesando prestaciones_t2024.db:  98%|████▉| 1789/1822 [08:29<00:09,  3.45it/s]"
     ]
    },
    {
     "name": "stdout",
     "output_type": "stream",
     "text": [
      "Cargando: 98.19% completo\n"
     ]
    },
    {
     "name": "stderr",
     "output_type": "stream",
     "text": [
      "Procesando prestaciones_t2024.db:  98%|████▉| 1790/1822 [08:30<00:09,  3.41it/s]"
     ]
    },
    {
     "name": "stdout",
     "output_type": "stream",
     "text": [
      "Cargando: 98.24% completo\n"
     ]
    },
    {
     "name": "stderr",
     "output_type": "stream",
     "text": [
      "Procesando prestaciones_t2024.db:  98%|████▉| 1791/1822 [08:30<00:09,  3.41it/s]"
     ]
    },
    {
     "name": "stdout",
     "output_type": "stream",
     "text": [
      "Cargando: 98.30% completo\n"
     ]
    },
    {
     "name": "stderr",
     "output_type": "stream",
     "text": [
      "Procesando prestaciones_t2024.db:  98%|████▉| 1792/1822 [08:30<00:08,  3.37it/s]"
     ]
    },
    {
     "name": "stdout",
     "output_type": "stream",
     "text": [
      "Cargando: 98.35% completo\n"
     ]
    },
    {
     "name": "stderr",
     "output_type": "stream",
     "text": [
      "Procesando prestaciones_t2024.db:  98%|████▉| 1793/1822 [08:31<00:08,  3.35it/s]"
     ]
    },
    {
     "name": "stdout",
     "output_type": "stream",
     "text": [
      "Cargando: 98.41% completo\n"
     ]
    },
    {
     "name": "stderr",
     "output_type": "stream",
     "text": [
      "Procesando prestaciones_t2024.db:  98%|████▉| 1794/1822 [08:31<00:09,  2.97it/s]"
     ]
    },
    {
     "name": "stdout",
     "output_type": "stream",
     "text": [
      "Cargando: 98.46% completo\n"
     ]
    },
    {
     "name": "stderr",
     "output_type": "stream",
     "text": [
      "Procesando prestaciones_t2024.db:  99%|████▉| 1795/1822 [08:31<00:10,  2.66it/s]"
     ]
    },
    {
     "name": "stdout",
     "output_type": "stream",
     "text": [
      "Cargando: 98.52% completo\n"
     ]
    },
    {
     "name": "stderr",
     "output_type": "stream",
     "text": [
      "Procesando prestaciones_t2024.db:  99%|████▉| 1796/1822 [08:32<00:09,  2.88it/s]"
     ]
    },
    {
     "name": "stdout",
     "output_type": "stream",
     "text": [
      "Cargando: 98.57% completo\n"
     ]
    },
    {
     "name": "stderr",
     "output_type": "stream",
     "text": [
      "Procesando prestaciones_t2024.db:  99%|████▉| 1797/1822 [08:32<00:08,  3.09it/s]"
     ]
    },
    {
     "name": "stdout",
     "output_type": "stream",
     "text": [
      "Cargando: 98.63% completo\n"
     ]
    },
    {
     "name": "stderr",
     "output_type": "stream",
     "text": [
      "Procesando prestaciones_t2024.db:  99%|████▉| 1798/1822 [08:32<00:07,  3.24it/s]"
     ]
    },
    {
     "name": "stdout",
     "output_type": "stream",
     "text": [
      "Cargando: 98.68% completo\n"
     ]
    },
    {
     "name": "stderr",
     "output_type": "stream",
     "text": [
      "Procesando prestaciones_t2024.db:  99%|████▉| 1799/1822 [08:32<00:06,  3.37it/s]"
     ]
    },
    {
     "name": "stdout",
     "output_type": "stream",
     "text": [
      "Cargando: 98.74% completo\n"
     ]
    },
    {
     "name": "stderr",
     "output_type": "stream",
     "text": [
      "Procesando prestaciones_t2024.db:  99%|████▉| 1800/1822 [08:33<00:06,  3.44it/s]"
     ]
    },
    {
     "name": "stdout",
     "output_type": "stream",
     "text": [
      "Cargando: 98.79% completo\n"
     ]
    },
    {
     "name": "stderr",
     "output_type": "stream",
     "text": [
      "Procesando prestaciones_t2024.db:  99%|████▉| 1801/1822 [08:33<00:06,  3.43it/s]"
     ]
    },
    {
     "name": "stdout",
     "output_type": "stream",
     "text": [
      "Cargando: 98.85% completo\n"
     ]
    },
    {
     "name": "stderr",
     "output_type": "stream",
     "text": [
      "Procesando prestaciones_t2024.db:  99%|████▉| 1802/1822 [08:33<00:05,  3.48it/s]"
     ]
    },
    {
     "name": "stdout",
     "output_type": "stream",
     "text": [
      "Cargando: 98.90% completo\n"
     ]
    },
    {
     "name": "stderr",
     "output_type": "stream",
     "text": [
      "Procesando prestaciones_t2024.db:  99%|████▉| 1803/1822 [08:34<00:05,  3.46it/s]"
     ]
    },
    {
     "name": "stdout",
     "output_type": "stream",
     "text": [
      "Cargando: 98.96% completo\n"
     ]
    },
    {
     "name": "stderr",
     "output_type": "stream",
     "text": [
      "Procesando prestaciones_t2024.db:  99%|████▉| 1804/1822 [08:34<00:05,  3.51it/s]"
     ]
    },
    {
     "name": "stdout",
     "output_type": "stream",
     "text": [
      "Cargando: 99.01% completo\n"
     ]
    },
    {
     "name": "stderr",
     "output_type": "stream",
     "text": [
      "Procesando prestaciones_t2024.db:  99%|████▉| 1805/1822 [08:34<00:04,  3.44it/s]"
     ]
    },
    {
     "name": "stdout",
     "output_type": "stream",
     "text": [
      "Cargando: 99.07% completo\n"
     ]
    },
    {
     "name": "stderr",
     "output_type": "stream",
     "text": [
      "Procesando prestaciones_t2024.db:  99%|████▉| 1806/1822 [08:34<00:04,  3.54it/s]"
     ]
    },
    {
     "name": "stdout",
     "output_type": "stream",
     "text": [
      "Cargando: 99.12% completo\n"
     ]
    },
    {
     "name": "stderr",
     "output_type": "stream",
     "text": [
      "Procesando prestaciones_t2024.db:  99%|████▉| 1807/1822 [08:35<00:04,  3.49it/s]"
     ]
    },
    {
     "name": "stdout",
     "output_type": "stream",
     "text": [
      "Cargando: 99.18% completo\n"
     ]
    },
    {
     "name": "stderr",
     "output_type": "stream",
     "text": [
      "Procesando prestaciones_t2024.db:  99%|████▉| 1808/1822 [08:35<00:04,  2.91it/s]"
     ]
    },
    {
     "name": "stdout",
     "output_type": "stream",
     "text": [
      "Cargando: 99.23% completo\n"
     ]
    },
    {
     "name": "stderr",
     "output_type": "stream",
     "text": [
      "Procesando prestaciones_t2024.db:  99%|████▉| 1809/1822 [08:36<00:04,  3.07it/s]"
     ]
    },
    {
     "name": "stdout",
     "output_type": "stream",
     "text": [
      "Cargando: 99.29% completo\n"
     ]
    },
    {
     "name": "stderr",
     "output_type": "stream",
     "text": [
      "Procesando prestaciones_t2024.db:  99%|████▉| 1810/1822 [08:36<00:03,  3.15it/s]"
     ]
    },
    {
     "name": "stdout",
     "output_type": "stream",
     "text": [
      "Cargando: 99.34% completo\n"
     ]
    },
    {
     "name": "stderr",
     "output_type": "stream",
     "text": [
      "Procesando prestaciones_t2024.db:  99%|████▉| 1811/1822 [08:36<00:03,  3.28it/s]"
     ]
    },
    {
     "name": "stdout",
     "output_type": "stream",
     "text": [
      "Cargando: 99.40% completo\n"
     ]
    },
    {
     "name": "stderr",
     "output_type": "stream",
     "text": [
      "Procesando prestaciones_t2024.db:  99%|████▉| 1812/1822 [08:36<00:03,  3.29it/s]"
     ]
    },
    {
     "name": "stdout",
     "output_type": "stream",
     "text": [
      "Cargando: 99.45% completo\n"
     ]
    },
    {
     "name": "stderr",
     "output_type": "stream",
     "text": [
      "Procesando prestaciones_t2024.db: 100%|████▉| 1813/1822 [08:37<00:02,  3.29it/s]"
     ]
    },
    {
     "name": "stdout",
     "output_type": "stream",
     "text": [
      "Cargando: 99.51% completo\n"
     ]
    },
    {
     "name": "stderr",
     "output_type": "stream",
     "text": [
      "Procesando prestaciones_t2024.db: 100%|████▉| 1814/1822 [08:37<00:02,  3.35it/s]"
     ]
    },
    {
     "name": "stdout",
     "output_type": "stream",
     "text": [
      "Cargando: 99.56% completo\n"
     ]
    },
    {
     "name": "stderr",
     "output_type": "stream",
     "text": [
      "Procesando prestaciones_t2024.db: 100%|████▉| 1815/1822 [08:37<00:02,  3.39it/s]"
     ]
    },
    {
     "name": "stdout",
     "output_type": "stream",
     "text": [
      "Cargando: 99.62% completo\n"
     ]
    },
    {
     "name": "stderr",
     "output_type": "stream",
     "text": [
      "Procesando prestaciones_t2024.db: 100%|████▉| 1816/1822 [08:38<00:01,  3.43it/s]"
     ]
    },
    {
     "name": "stdout",
     "output_type": "stream",
     "text": [
      "Cargando: 99.67% completo\n"
     ]
    },
    {
     "name": "stderr",
     "output_type": "stream",
     "text": [
      "Procesando prestaciones_t2024.db: 100%|████▉| 1817/1822 [08:38<00:01,  3.46it/s]"
     ]
    },
    {
     "name": "stdout",
     "output_type": "stream",
     "text": [
      "Cargando: 99.73% completo\n"
     ]
    },
    {
     "name": "stderr",
     "output_type": "stream",
     "text": [
      "Procesando prestaciones_t2024.db: 100%|████▉| 1818/1822 [08:38<00:01,  3.51it/s]"
     ]
    },
    {
     "name": "stdout",
     "output_type": "stream",
     "text": [
      "Cargando: 99.78% completo\n"
     ]
    },
    {
     "name": "stderr",
     "output_type": "stream",
     "text": [
      "Procesando prestaciones_t2024.db: 100%|████▉| 1819/1822 [08:38<00:00,  3.44it/s]"
     ]
    },
    {
     "name": "stdout",
     "output_type": "stream",
     "text": [
      "Cargando: 99.84% completo\n"
     ]
    },
    {
     "name": "stderr",
     "output_type": "stream",
     "text": [
      "Procesando prestaciones_t2024.db: 100%|████▉| 1820/1822 [08:39<00:00,  3.49it/s]"
     ]
    },
    {
     "name": "stdout",
     "output_type": "stream",
     "text": [
      "Cargando: 99.89% completo\n"
     ]
    },
    {
     "name": "stderr",
     "output_type": "stream",
     "text": [
      "Procesando prestaciones_t2024.db: 100%|█████| 1822/1822 [08:39<00:00,  3.50it/s]"
     ]
    },
    {
     "name": "stdout",
     "output_type": "stream",
     "text": [
      "Cargando: 99.95% completo\n",
      "Cargando: 100.00% completo\n",
      "prestaciones_t2024.db fue un exito\n"
     ]
    },
    {
     "name": "stderr",
     "output_type": "stream",
     "text": [
      "\n"
     ]
    }
   ],
   "source": [
    "file_txt_to_sql(\"Prestaciones_Bonificadas_2024t4.txt\", \"prestaciones_t2024.db\", \"tabla2024\")"
   ]
  },
  {
   "cell_type": "code",
   "execution_count": 2,
   "id": "ba559276-1b52-45dc-9bf0-3dac1d8f5247",
   "metadata": {},
   "outputs": [
    {
     "data": {
      "text/html": [
       "<div>\n",
       "<style scoped>\n",
       "    .dataframe tbody tr th:only-of-type {\n",
       "        vertical-align: middle;\n",
       "    }\n",
       "\n",
       "    .dataframe tbody tr th {\n",
       "        vertical-align: top;\n",
       "    }\n",
       "\n",
       "    .dataframe thead th {\n",
       "        text-align: right;\n",
       "    }\n",
       "</style>\n",
       "<table border=\"1\" class=\"dataframe\">\n",
       "  <thead>\n",
       "    <tr style=\"text-align: right;\">\n",
       "      <th></th>\n",
       "      <th>rut_prestador</th>\n",
       "      <th>frecuencia_total</th>\n",
       "    </tr>\n",
       "  </thead>\n",
       "  <tbody>\n",
       "    <tr>\n",
       "      <th>0</th>\n",
       "      <td>628513</td>\n",
       "      <td>2263154</td>\n",
       "    </tr>\n",
       "    <tr>\n",
       "      <th>1</th>\n",
       "      <td>1324822</td>\n",
       "      <td>1745725</td>\n",
       "    </tr>\n",
       "    <tr>\n",
       "      <th>2</th>\n",
       "      <td>3325777</td>\n",
       "      <td>1558533</td>\n",
       "    </tr>\n",
       "    <tr>\n",
       "      <th>3</th>\n",
       "      <td>1159334</td>\n",
       "      <td>1331688</td>\n",
       "    </tr>\n",
       "    <tr>\n",
       "      <th>4</th>\n",
       "      <td>2868186</td>\n",
       "      <td>1117671</td>\n",
       "    </tr>\n",
       "    <tr>\n",
       "      <th>5</th>\n",
       "      <td>422649</td>\n",
       "      <td>813265</td>\n",
       "    </tr>\n",
       "    <tr>\n",
       "      <th>6</th>\n",
       "      <td>27564</td>\n",
       "      <td>697456</td>\n",
       "    </tr>\n",
       "    <tr>\n",
       "      <th>7</th>\n",
       "      <td>922214</td>\n",
       "      <td>561704</td>\n",
       "    </tr>\n",
       "  </tbody>\n",
       "</table>\n",
       "</div>"
      ],
      "text/plain": [
       "   rut_prestador  frecuencia_total\n",
       "0         628513           2263154\n",
       "1        1324822           1745725\n",
       "2        3325777           1558533\n",
       "3        1159334           1331688\n",
       "4        2868186           1117671\n",
       "5         422649            813265\n",
       "6          27564            697456\n",
       "7         922214            561704"
      ]
     },
     "execution_count": 2,
     "metadata": {},
     "output_type": "execute_result"
    }
   ],
   "source": [
    "import sqlite3\n",
    "import pandas as pd\n",
    "\n",
    "db_path = \"/Users/mmunozcampos/Documents/Comp y reg/prestaciones_t2024.db\"\n",
    "conn = sqlite3.connect(db_path)\n",
    "query = ''' SELECT rut_prestador, SUM(frecuencia) AS frecuencia_total\n",
    "        FROM tabla2024 \n",
    "        WHERE tipo_atencion == \"Atención Hospitalaria\" AND region_prestador == 13\n",
    "        GROUP BY rut_prestador\n",
    "        ORDER BY frecuencia_total DESC\n",
    "        LIMIT 8; '''\n",
    "\t\t\n",
    "top8_rm = pd.read_sql(query, conn)\n",
    "top8_rm"
   ]
  },
  {
   "cell_type": "code",
   "execution_count": 3,
   "id": "a4788b4c-7c68-4a4b-95ba-6e764434e300",
   "metadata": {},
   "outputs": [
    {
     "data": {
      "text/html": [
       "<div>\n",
       "<style scoped>\n",
       "    .dataframe tbody tr th:only-of-type {\n",
       "        vertical-align: middle;\n",
       "    }\n",
       "\n",
       "    .dataframe tbody tr th {\n",
       "        vertical-align: top;\n",
       "    }\n",
       "\n",
       "    .dataframe thead th {\n",
       "        text-align: right;\n",
       "    }\n",
       "</style>\n",
       "<table border=\"1\" class=\"dataframe\">\n",
       "  <thead>\n",
       "    <tr style=\"text-align: right;\">\n",
       "      <th></th>\n",
       "      <th>rut_prestador</th>\n",
       "      <th>market_share_percentage</th>\n",
       "    </tr>\n",
       "  </thead>\n",
       "  <tbody>\n",
       "    <tr>\n",
       "      <th>0</th>\n",
       "      <td>628513</td>\n",
       "      <td>15.901149</td>\n",
       "    </tr>\n",
       "    <tr>\n",
       "      <th>1</th>\n",
       "      <td>1324822</td>\n",
       "      <td>12.265641</td>\n",
       "    </tr>\n",
       "    <tr>\n",
       "      <th>2</th>\n",
       "      <td>3325777</td>\n",
       "      <td>10.950411</td>\n",
       "    </tr>\n",
       "    <tr>\n",
       "      <th>3</th>\n",
       "      <td>1159334</td>\n",
       "      <td>9.356575</td>\n",
       "    </tr>\n",
       "    <tr>\n",
       "      <th>4</th>\n",
       "      <td>2868186</td>\n",
       "      <td>7.852870</td>\n",
       "    </tr>\n",
       "    <tr>\n",
       "      <th>5</th>\n",
       "      <td>422649</td>\n",
       "      <td>5.714082</td>\n",
       "    </tr>\n",
       "    <tr>\n",
       "      <th>6</th>\n",
       "      <td>27564</td>\n",
       "      <td>4.900397</td>\n",
       "    </tr>\n",
       "    <tr>\n",
       "      <th>7</th>\n",
       "      <td>922214</td>\n",
       "      <td>3.946589</td>\n",
       "    </tr>\n",
       "  </tbody>\n",
       "</table>\n",
       "</div>"
      ],
      "text/plain": [
       "   rut_prestador  market_share_percentage\n",
       "0         628513                15.901149\n",
       "1        1324822                12.265641\n",
       "2        3325777                10.950411\n",
       "3        1159334                 9.356575\n",
       "4        2868186                 7.852870\n",
       "5         422649                 5.714082\n",
       "6          27564                 4.900397\n",
       "7         922214                 3.946589"
      ]
     },
     "execution_count": 3,
     "metadata": {},
     "output_type": "execute_result"
    }
   ],
   "source": [
    "query = ''' SELECT \n",
    "    rut_prestador,\n",
    "    SUM(frecuencia) * 100.0 / (\n",
    "        SELECT SUM(frecuencia)\n",
    "        FROM tabla2024\n",
    "        WHERE region_prestador = 13\n",
    "          AND tipo_atencion = \"Atención Hospitalaria\"\n",
    "    ) AS market_share_percentage\n",
    "FROM tabla2024\n",
    "WHERE region_prestador = 13\n",
    "  AND tipo_atencion = \"Atención Hospitalaria\"\n",
    "GROUP BY rut_prestador\n",
    "ORDER BY market_share_percentage DESC\n",
    "LIMIT 8;\n",
    "\n",
    "'''\n",
    "top8_marketshare = pd.read_sql(query, conn)\n",
    "top8_marketshare"
   ]
  },
  {
   "cell_type": "code",
   "execution_count": 37,
   "id": "47905966-a47f-479a-9fc9-810bd499c4f0",
   "metadata": {},
   "outputs": [
    {
     "data": {
      "text/html": [
       "<div>\n",
       "<style scoped>\n",
       "    .dataframe tbody tr th:only-of-type {\n",
       "        vertical-align: middle;\n",
       "    }\n",
       "\n",
       "    .dataframe tbody tr th {\n",
       "        vertical-align: top;\n",
       "    }\n",
       "\n",
       "    .dataframe thead th {\n",
       "        text-align: right;\n",
       "    }\n",
       "</style>\n",
       "<table border=\"1\" class=\"dataframe\">\n",
       "  <thead>\n",
       "    <tr style=\"text-align: right;\">\n",
       "      <th></th>\n",
       "      <th>codigo_prestacion</th>\n",
       "      <th>frecuencia_total</th>\n",
       "    </tr>\n",
       "  </thead>\n",
       "  <tbody>\n",
       "    <tr>\n",
       "      <th>0</th>\n",
       "      <td>1101011</td>\n",
       "      <td>6155</td>\n",
       "    </tr>\n",
       "    <tr>\n",
       "      <th>1</th>\n",
       "      <td>1101050</td>\n",
       "      <td>5500</td>\n",
       "    </tr>\n",
       "    <tr>\n",
       "      <th>2</th>\n",
       "      <td>1103048</td>\n",
       "      <td>4209</td>\n",
       "    </tr>\n",
       "    <tr>\n",
       "      <th>3</th>\n",
       "      <td>1101043</td>\n",
       "      <td>3586</td>\n",
       "    </tr>\n",
       "    <tr>\n",
       "      <th>4</th>\n",
       "      <td>1101045</td>\n",
       "      <td>3514</td>\n",
       "    </tr>\n",
       "  </tbody>\n",
       "</table>\n",
       "</div>"
      ],
      "text/plain": [
       "   codigo_prestacion  frecuencia_total\n",
       "0            1101011              6155\n",
       "1            1101050              5500\n",
       "2            1103048              4209\n",
       "3            1101043              3586\n",
       "4            1101045              3514"
      ]
     },
     "execution_count": 37,
     "metadata": {},
     "output_type": "execute_result"
    }
   ],
   "source": [
    "query = ''' SELECT codigo_prestacion, SUM(frecuencia) AS frecuencia_total\n",
    "        FROM tabla2024\n",
    "        WHERE tipo_atencion == \"Atención Hospitalaria\"\n",
    "        AND region_prestador = 13\n",
    "        AND substr(codigo_prestacion, 1, 2) = '11'\n",
    "        AND length(codigo_prestacion) > 3\n",
    "        GROUP BY codigo_prestacion\n",
    "        ORDER BY frecuencia_total DESC\n",
    "        LIMIT 5; '''\n",
    "top5_neuro = pd.read_sql(query, conn)\n",
    "top5_neuro"
   ]
  },
  {
   "cell_type": "code",
   "execution_count": 35,
   "id": "fed20488-a8ac-4d25-aa4d-3db2a5aec8c3",
   "metadata": {},
   "outputs": [
    {
     "data": {
      "text/html": [
       "<div>\n",
       "<style scoped>\n",
       "    .dataframe tbody tr th:only-of-type {\n",
       "        vertical-align: middle;\n",
       "    }\n",
       "\n",
       "    .dataframe tbody tr th {\n",
       "        vertical-align: top;\n",
       "    }\n",
       "\n",
       "    .dataframe thead th {\n",
       "        text-align: right;\n",
       "    }\n",
       "</style>\n",
       "<table border=\"1\" class=\"dataframe\">\n",
       "  <thead>\n",
       "    <tr style=\"text-align: right;\">\n",
       "      <th></th>\n",
       "      <th>codigo_prestacion</th>\n",
       "    </tr>\n",
       "  </thead>\n",
       "  <tbody>\n",
       "    <tr>\n",
       "      <th>0</th>\n",
       "      <td>1</td>\n",
       "    </tr>\n",
       "    <tr>\n",
       "      <th>1</th>\n",
       "      <td>2</td>\n",
       "    </tr>\n",
       "    <tr>\n",
       "      <th>2</th>\n",
       "      <td>3</td>\n",
       "    </tr>\n",
       "    <tr>\n",
       "      <th>3</th>\n",
       "      <td>4</td>\n",
       "    </tr>\n",
       "    <tr>\n",
       "      <th>4</th>\n",
       "      <td>5</td>\n",
       "    </tr>\n",
       "    <tr>\n",
       "      <th>5</th>\n",
       "      <td>6</td>\n",
       "    </tr>\n",
       "    <tr>\n",
       "      <th>6</th>\n",
       "      <td>7</td>\n",
       "    </tr>\n",
       "    <tr>\n",
       "      <th>7</th>\n",
       "      <td>8</td>\n",
       "    </tr>\n",
       "    <tr>\n",
       "      <th>8</th>\n",
       "      <td>9</td>\n",
       "    </tr>\n",
       "    <tr>\n",
       "      <th>9</th>\n",
       "      <td>10</td>\n",
       "    </tr>\n",
       "    <tr>\n",
       "      <th>10</th>\n",
       "      <td>11</td>\n",
       "    </tr>\n",
       "  </tbody>\n",
       "</table>\n",
       "</div>"
      ],
      "text/plain": [
       "    codigo_prestacion\n",
       "0                   1\n",
       "1                   2\n",
       "2                   3\n",
       "3                   4\n",
       "4                   5\n",
       "5                   6\n",
       "6                   7\n",
       "7                   8\n",
       "8                   9\n",
       "9                  10\n",
       "10                 11"
      ]
     },
     "execution_count": 35,
     "metadata": {},
     "output_type": "execute_result"
    }
   ],
   "source": [
    "query = ''' SELECT codigo_prestacion\n",
    "        FROM (SELECT * FROM tabla2024 LIMIT 100000)\n",
    "        WHERE tipo_atencion == \"Atención Hospitalaria\"\n",
    "        AND region_prestador = 13\n",
    "        AND length(codigo_prestacion) <= 3\n",
    "        GROUP BY codigo_prestacion\n",
    "        LIMIT 300; '''\n",
    "pd.read_sql(query, conn)"
   ]
  },
  {
   "cell_type": "code",
   "execution_count": 36,
   "id": "bf8663a4-51e2-4409-ab63-702e58832e4b",
   "metadata": {},
   "outputs": [
    {
     "data": {
      "text/html": [
       "<div>\n",
       "<style scoped>\n",
       "    .dataframe tbody tr th:only-of-type {\n",
       "        vertical-align: middle;\n",
       "    }\n",
       "\n",
       "    .dataframe tbody tr th {\n",
       "        vertical-align: top;\n",
       "    }\n",
       "\n",
       "    .dataframe thead th {\n",
       "        text-align: right;\n",
       "    }\n",
       "</style>\n",
       "<table border=\"1\" class=\"dataframe\">\n",
       "  <thead>\n",
       "    <tr style=\"text-align: right;\">\n",
       "      <th></th>\n",
       "      <th>codigo_prestacion</th>\n",
       "    </tr>\n",
       "  </thead>\n",
       "  <tbody>\n",
       "    <tr>\n",
       "      <th>0</th>\n",
       "      <td>0</td>\n",
       "    </tr>\n",
       "    <tr>\n",
       "      <th>1</th>\n",
       "      <td>1</td>\n",
       "    </tr>\n",
       "    <tr>\n",
       "      <th>2</th>\n",
       "      <td>2</td>\n",
       "    </tr>\n",
       "    <tr>\n",
       "      <th>3</th>\n",
       "      <td>3</td>\n",
       "    </tr>\n",
       "    <tr>\n",
       "      <th>4</th>\n",
       "      <td>4</td>\n",
       "    </tr>\n",
       "    <tr>\n",
       "      <th>5</th>\n",
       "      <td>5</td>\n",
       "    </tr>\n",
       "    <tr>\n",
       "      <th>6</th>\n",
       "      <td>6</td>\n",
       "    </tr>\n",
       "    <tr>\n",
       "      <th>7</th>\n",
       "      <td>7</td>\n",
       "    </tr>\n",
       "    <tr>\n",
       "      <th>8</th>\n",
       "      <td>8</td>\n",
       "    </tr>\n",
       "    <tr>\n",
       "      <th>9</th>\n",
       "      <td>9</td>\n",
       "    </tr>\n",
       "    <tr>\n",
       "      <th>10</th>\n",
       "      <td>10</td>\n",
       "    </tr>\n",
       "    <tr>\n",
       "      <th>11</th>\n",
       "      <td>11</td>\n",
       "    </tr>\n",
       "    <tr>\n",
       "      <th>12</th>\n",
       "      <td>12</td>\n",
       "    </tr>\n",
       "    <tr>\n",
       "      <th>13</th>\n",
       "      <td>13</td>\n",
       "    </tr>\n",
       "    <tr>\n",
       "      <th>14</th>\n",
       "      <td>14</td>\n",
       "    </tr>\n",
       "  </tbody>\n",
       "</table>\n",
       "</div>"
      ],
      "text/plain": [
       "    codigo_prestacion\n",
       "0                   0\n",
       "1                   1\n",
       "2                   2\n",
       "3                   3\n",
       "4                   4\n",
       "5                   5\n",
       "6                   6\n",
       "7                   7\n",
       "8                   8\n",
       "9                   9\n",
       "10                 10\n",
       "11                 11\n",
       "12                 12\n",
       "13                 13\n",
       "14                 14"
      ]
     },
     "execution_count": 36,
     "metadata": {},
     "output_type": "execute_result"
    }
   ],
   "source": [
    "query = ''' SELECT codigo_prestacion\n",
    "        FROM tabla2024\n",
    "        WHERE tipo_atencion == \"Atención Hospitalaria\"\n",
    "        AND region_prestador = 13\n",
    "        AND length(codigo_prestacion) <= 3\n",
    "        GROUP BY codigo_prestacion\n",
    "        LIMIT 300; '''\n",
    "pd.read_sql(query, conn)"
   ]
  },
  {
   "cell_type": "code",
   "execution_count": 43,
   "id": "8f9c08c9-aaa2-4ea6-b2a0-9808268f1a8c",
   "metadata": {},
   "outputs": [],
   "source": [
    "conn.close()"
   ]
  },
  {
   "cell_type": "code",
   "execution_count": 10,
   "id": "01711048-9156-4d43-b602-68b5081282b0",
   "metadata": {
    "scrolled": true
   },
   "outputs": [],
   "source": [
    "df_fonasa = pd.read_excel(\"Códigos Fonasa.xlsx\")"
   ]
  },
  {
   "cell_type": "code",
   "execution_count": 29,
   "id": "a7f55698-1f77-472a-b74e-aecb8b7e93aa",
   "metadata": {
    "collapsed": true,
    "jupyter": {
     "outputs_hidden": true
    }
   },
   "outputs": [
    {
     "data": {
      "text/html": [
       "<div>\n",
       "<style scoped>\n",
       "    .dataframe tbody tr th:only-of-type {\n",
       "        vertical-align: middle;\n",
       "    }\n",
       "\n",
       "    .dataframe tbody tr th {\n",
       "        vertical-align: top;\n",
       "    }\n",
       "\n",
       "    .dataframe thead th {\n",
       "        text-align: right;\n",
       "    }\n",
       "</style>\n",
       "<table border=\"1\" class=\"dataframe\">\n",
       "  <thead>\n",
       "    <tr style=\"text-align: right;\">\n",
       "      <th></th>\n",
       "      <th>código</th>\n",
       "      <th>código (4)</th>\n",
       "      <th>código (c/guarismo) para merge</th>\n",
       "      <th>grupo</th>\n",
       "      <th>sub_grupo</th>\n",
       "      <th>presta</th>\n",
       "      <th>equipo</th>\n",
       "      <th>pab</th>\n",
       "      <th>Num</th>\n",
       "      <th>glosa</th>\n",
       "      <th>Especialidad</th>\n",
       "      <th>Sub especialidad</th>\n",
       "    </tr>\n",
       "  </thead>\n",
       "  <tbody>\n",
       "    <tr>\n",
       "      <th>859</th>\n",
       "      <td>1101001</td>\n",
       "      <td>1101</td>\n",
       "      <td>110100100</td>\n",
       "      <td>11</td>\n",
       "      <td>1</td>\n",
       "      <td>1</td>\n",
       "      <td>0</td>\n",
       "      <td>0</td>\n",
       "      <td>0.0</td>\n",
       "      <td>RELLENADO DE  BOMBAS DE ADMINISTRACION DE FARM...</td>\n",
       "      <td>Neurología y neurocirugía</td>\n",
       "      <td>NaN</td>\n",
       "    </tr>\n",
       "    <tr>\n",
       "      <th>860</th>\n",
       "      <td>1101002</td>\n",
       "      <td>1101</td>\n",
       "      <td>110100200</td>\n",
       "      <td>11</td>\n",
       "      <td>1</td>\n",
       "      <td>2</td>\n",
       "      <td>0</td>\n",
       "      <td>0</td>\n",
       "      <td>0.0</td>\n",
       "      <td>PUNCION SUBDURAL                              ...</td>\n",
       "      <td>Neurología y neurocirugía</td>\n",
       "      <td>NaN</td>\n",
       "    </tr>\n",
       "    <tr>\n",
       "      <th>861</th>\n",
       "      <td>1101003</td>\n",
       "      <td>1101</td>\n",
       "      <td>110100300</td>\n",
       "      <td>11</td>\n",
       "      <td>1</td>\n",
       "      <td>3</td>\n",
       "      <td>0</td>\n",
       "      <td>0</td>\n",
       "      <td>0.0</td>\n",
       "      <td>PUNCION LUMBAR C/S MANOMETRIA C/S QUECKENSTED ...</td>\n",
       "      <td>Neurología y neurocirugía</td>\n",
       "      <td>NaN</td>\n",
       "    </tr>\n",
       "    <tr>\n",
       "      <th>862</th>\n",
       "      <td>1101140</td>\n",
       "      <td>1101</td>\n",
       "      <td>110114000</td>\n",
       "      <td>11</td>\n",
       "      <td>1</td>\n",
       "      <td>140</td>\n",
       "      <td>0</td>\n",
       "      <td>0</td>\n",
       "      <td>0.0</td>\n",
       "      <td>ESCLEROSIS MULTIPLE REMITENTE RECURRENTE,  TRA...</td>\n",
       "      <td>Neurología y neurocirugía</td>\n",
       "      <td>NaN</td>\n",
       "    </tr>\n",
       "    <tr>\n",
       "      <th>863</th>\n",
       "      <td>1101141</td>\n",
       "      <td>1101</td>\n",
       "      <td>110114100</td>\n",
       "      <td>11</td>\n",
       "      <td>1</td>\n",
       "      <td>141</td>\n",
       "      <td>0</td>\n",
       "      <td>0</td>\n",
       "      <td>0.0</td>\n",
       "      <td>ESCLEROSIS MULTIPLE REMITENTE RECURRENTE, TRAT...</td>\n",
       "      <td>Neurología y neurocirugía</td>\n",
       "      <td>NaN</td>\n",
       "    </tr>\n",
       "    <tr>\n",
       "      <th>...</th>\n",
       "      <td>...</td>\n",
       "      <td>...</td>\n",
       "      <td>...</td>\n",
       "      <td>...</td>\n",
       "      <td>...</td>\n",
       "      <td>...</td>\n",
       "      <td>...</td>\n",
       "      <td>...</td>\n",
       "      <td>...</td>\n",
       "      <td>...</td>\n",
       "      <td>...</td>\n",
       "      <td>...</td>\n",
       "    </tr>\n",
       "    <tr>\n",
       "      <th>961</th>\n",
       "      <td>1103064</td>\n",
       "      <td>1103</td>\n",
       "      <td>110306408</td>\n",
       "      <td>11</td>\n",
       "      <td>3</td>\n",
       "      <td>64</td>\n",
       "      <td>2</td>\n",
       "      <td>8</td>\n",
       "      <td>8.0</td>\n",
       "      <td>SINDROME DEL ESCALENO, TRAT. QUIR.            ...</td>\n",
       "      <td>Neurología y neurocirugía</td>\n",
       "      <td>NaN</td>\n",
       "    </tr>\n",
       "    <tr>\n",
       "      <th>962</th>\n",
       "      <td>1103065</td>\n",
       "      <td>1103</td>\n",
       "      <td>110306508</td>\n",
       "      <td>11</td>\n",
       "      <td>3</td>\n",
       "      <td>65</td>\n",
       "      <td>2</td>\n",
       "      <td>8</td>\n",
       "      <td>8.0</td>\n",
       "      <td>SINDROME DE COSTILLA CERVICAL, TRAT. QUIR.    ...</td>\n",
       "      <td>Neurología y neurocirugía</td>\n",
       "      <td>NaN</td>\n",
       "    </tr>\n",
       "    <tr>\n",
       "      <th>963</th>\n",
       "      <td>1103066</td>\n",
       "      <td>1103</td>\n",
       "      <td>110306607</td>\n",
       "      <td>11</td>\n",
       "      <td>3</td>\n",
       "      <td>66</td>\n",
       "      <td>2</td>\n",
       "      <td>7</td>\n",
       "      <td>7.0</td>\n",
       "      <td>LIBERACION QUIRURGICA DE NERVIO PERIFERICO EXT...</td>\n",
       "      <td>Neurología y neurocirugía</td>\n",
       "      <td>NaN</td>\n",
       "    </tr>\n",
       "    <tr>\n",
       "      <th>964</th>\n",
       "      <td>1103067</td>\n",
       "      <td>1103</td>\n",
       "      <td>110306707</td>\n",
       "      <td>11</td>\n",
       "      <td>3</td>\n",
       "      <td>67</td>\n",
       "      <td>2</td>\n",
       "      <td>7</td>\n",
       "      <td>7.0</td>\n",
       "      <td>LIBERACION DE NERVIO CUBITAL A NIVEL DEL CODO,...</td>\n",
       "      <td>Neurología y neurocirugía</td>\n",
       "      <td>NaN</td>\n",
       "    </tr>\n",
       "    <tr>\n",
       "      <th>965</th>\n",
       "      <td>1103083</td>\n",
       "      <td>1103</td>\n",
       "      <td>110308304</td>\n",
       "      <td>11</td>\n",
       "      <td>3</td>\n",
       "      <td>83</td>\n",
       "      <td>2</td>\n",
       "      <td>4</td>\n",
       "      <td>4.0</td>\n",
       "      <td>LIBERACION QUIRURGICA DE NERVIO PERIFERICO  EN...</td>\n",
       "      <td>Neurología y neurocirugía</td>\n",
       "      <td>NaN</td>\n",
       "    </tr>\n",
       "  </tbody>\n",
       "</table>\n",
       "<p>107 rows × 12 columns</p>\n",
       "</div>"
      ],
      "text/plain": [
       "      código  código (4)  código (c/guarismo) para merge  grupo  sub_grupo  \\\n",
       "859  1101001        1101                       110100100     11          1   \n",
       "860  1101002        1101                       110100200     11          1   \n",
       "861  1101003        1101                       110100300     11          1   \n",
       "862  1101140        1101                       110114000     11          1   \n",
       "863  1101141        1101                       110114100     11          1   \n",
       "..       ...         ...                             ...    ...        ...   \n",
       "961  1103064        1103                       110306408     11          3   \n",
       "962  1103065        1103                       110306508     11          3   \n",
       "963  1103066        1103                       110306607     11          3   \n",
       "964  1103067        1103                       110306707     11          3   \n",
       "965  1103083        1103                       110308304     11          3   \n",
       "\n",
       "     presta  equipo  pab  Num  \\\n",
       "859       1       0    0  0.0   \n",
       "860       2       0    0  0.0   \n",
       "861       3       0    0  0.0   \n",
       "862     140       0    0  0.0   \n",
       "863     141       0    0  0.0   \n",
       "..      ...     ...  ...  ...   \n",
       "961      64       2    8  8.0   \n",
       "962      65       2    8  8.0   \n",
       "963      66       2    7  7.0   \n",
       "964      67       2    7  7.0   \n",
       "965      83       2    4  4.0   \n",
       "\n",
       "                                                 glosa  \\\n",
       "859  RELLENADO DE  BOMBAS DE ADMINISTRACION DE FARM...   \n",
       "860  PUNCION SUBDURAL                              ...   \n",
       "861  PUNCION LUMBAR C/S MANOMETRIA C/S QUECKENSTED ...   \n",
       "862  ESCLEROSIS MULTIPLE REMITENTE RECURRENTE,  TRA...   \n",
       "863  ESCLEROSIS MULTIPLE REMITENTE RECURRENTE, TRAT...   \n",
       "..                                                 ...   \n",
       "961  SINDROME DEL ESCALENO, TRAT. QUIR.            ...   \n",
       "962  SINDROME DE COSTILLA CERVICAL, TRAT. QUIR.    ...   \n",
       "963  LIBERACION QUIRURGICA DE NERVIO PERIFERICO EXT...   \n",
       "964  LIBERACION DE NERVIO CUBITAL A NIVEL DEL CODO,...   \n",
       "965  LIBERACION QUIRURGICA DE NERVIO PERIFERICO  EN...   \n",
       "\n",
       "                  Especialidad Sub especialidad  \n",
       "859  Neurología y neurocirugía              NaN  \n",
       "860  Neurología y neurocirugía              NaN  \n",
       "861  Neurología y neurocirugía              NaN  \n",
       "862  Neurología y neurocirugía              NaN  \n",
       "863  Neurología y neurocirugía              NaN  \n",
       "..                         ...              ...  \n",
       "961  Neurología y neurocirugía              NaN  \n",
       "962  Neurología y neurocirugía              NaN  \n",
       "963  Neurología y neurocirugía              NaN  \n",
       "964  Neurología y neurocirugía              NaN  \n",
       "965  Neurología y neurocirugía              NaN  \n",
       "\n",
       "[107 rows x 12 columns]"
      ]
     },
     "execution_count": 29,
     "metadata": {},
     "output_type": "execute_result"
    }
   ],
   "source": [
    "df_fonasa[df_fonasa[\"grupo\"] == 11]"
   ]
  },
  {
   "cell_type": "code",
   "execution_count": 48,
   "id": "ba1b0906-083d-45a1-b20f-77f1dc0dca84",
   "metadata": {},
   "outputs": [
    {
     "name": "stdout",
     "output_type": "stream",
     "text": [
      "1101011\n",
      "879    POTENCIALES EVOCADOS EN CORTEZA ( POR EJ.: AUD...\n",
      "Name: glosa, dtype: object\n",
      "1101050\n",
      "Series([], Name: glosa, dtype: object)\n",
      "1103048\n",
      "943    INFILTRACION FACETARIA COLUMNA Y RADICULAR    ...\n",
      "Name: glosa, dtype: object\n",
      "1101043\n",
      "873    EEG DIGITAL 32 CANALES (CON ACTIVACIONES HV Y ...\n",
      "Name: glosa, dtype: object\n",
      "1101045\n",
      "876    POLISOMNOGRAFIA  (ELECTROENCEFALOGRAMA, ELECTR...\n",
      "Name: glosa, dtype: object\n"
     ]
    }
   ],
   "source": [
    "for cod in top5_neuro[\"codigo_prestacion\"].unique():\n",
    "    print(cod)\n",
    "    print(df_fonasa.loc[df_fonasa['código'] == cod][\"glosa\"])"
   ]
  },
  {
   "cell_type": "code",
   "execution_count": 42,
   "id": "3482a915-8984-4c07-878e-7da3fcae1f5d",
   "metadata": {},
   "outputs": [
    {
     "data": {
      "text/plain": [
       "array([ 1,  2,  3,  4,  5,  6,  7,  8,  9, 10, 11, 12, 13, 14, 15, 16, 17,\n",
       "       18, 19, 20, 21, 22, 23, 24, 25, 26, 28, 29])"
      ]
     },
     "execution_count": 42,
     "metadata": {},
     "output_type": "execute_result"
    }
   ],
   "source": [
    "df_fonasa['grupo'].unique()"
   ]
  },
  {
   "cell_type": "code",
   "execution_count": 49,
   "id": "3344d324-cb33-4ae0-bc95-892393cde094",
   "metadata": {},
   "outputs": [
    {
     "data": {
      "text/html": [
       "<div>\n",
       "<style scoped>\n",
       "    .dataframe tbody tr th:only-of-type {\n",
       "        vertical-align: middle;\n",
       "    }\n",
       "\n",
       "    .dataframe tbody tr th {\n",
       "        vertical-align: top;\n",
       "    }\n",
       "\n",
       "    .dataframe thead th {\n",
       "        text-align: right;\n",
       "    }\n",
       "</style>\n",
       "<table border=\"1\" class=\"dataframe\">\n",
       "  <thead>\n",
       "    <tr style=\"text-align: right;\">\n",
       "      <th></th>\n",
       "      <th>código</th>\n",
       "      <th>código (4)</th>\n",
       "      <th>código (c/guarismo) para merge</th>\n",
       "      <th>grupo</th>\n",
       "      <th>sub_grupo</th>\n",
       "      <th>presta</th>\n",
       "      <th>equipo</th>\n",
       "      <th>pab</th>\n",
       "      <th>Num</th>\n",
       "      <th>glosa</th>\n",
       "      <th>Especialidad</th>\n",
       "      <th>Sub especialidad</th>\n",
       "    </tr>\n",
       "  </thead>\n",
       "  <tbody>\n",
       "  </tbody>\n",
       "</table>\n",
       "</div>"
      ],
      "text/plain": [
       "Empty DataFrame\n",
       "Columns: [código, código (4), código (c/guarismo) para merge, grupo, sub_grupo, presta, equipo, pab, Num, glosa, Especialidad, Sub especialidad]\n",
       "Index: []"
      ]
     },
     "execution_count": 49,
     "metadata": {},
     "output_type": "execute_result"
    }
   ],
   "source": [
    "df_fonasa[df_fonasa[\"código\"] == 1101050]"
   ]
  },
  {
   "cell_type": "code",
   "execution_count": 51,
   "id": "b06291cd-f2be-4f43-9ee2-1901a0df32c3",
   "metadata": {},
   "outputs": [
    {
     "data": {
      "text/html": [
       "<div>\n",
       "<style scoped>\n",
       "    .dataframe tbody tr th:only-of-type {\n",
       "        vertical-align: middle;\n",
       "    }\n",
       "\n",
       "    .dataframe tbody tr th {\n",
       "        vertical-align: top;\n",
       "    }\n",
       "\n",
       "    .dataframe thead th {\n",
       "        text-align: right;\n",
       "    }\n",
       "</style>\n",
       "<table border=\"1\" class=\"dataframe\">\n",
       "  <thead>\n",
       "    <tr style=\"text-align: right;\">\n",
       "      <th></th>\n",
       "      <th>código</th>\n",
       "      <th>código (4)</th>\n",
       "      <th>código (c/guarismo) para merge</th>\n",
       "      <th>grupo</th>\n",
       "      <th>sub_grupo</th>\n",
       "      <th>presta</th>\n",
       "      <th>equipo</th>\n",
       "      <th>pab</th>\n",
       "      <th>Num</th>\n",
       "      <th>glosa</th>\n",
       "      <th>Especialidad</th>\n",
       "      <th>Sub especialidad</th>\n",
       "    </tr>\n",
       "  </thead>\n",
       "  <tbody>\n",
       "  </tbody>\n",
       "</table>\n",
       "</div>"
      ],
      "text/plain": [
       "Empty DataFrame\n",
       "Columns: [código, código (4), código (c/guarismo) para merge, grupo, sub_grupo, presta, equipo, pab, Num, glosa, Especialidad, Sub especialidad]\n",
       "Index: []"
      ]
     },
     "execution_count": 51,
     "metadata": {},
     "output_type": "execute_result"
    }
   ],
   "source": [
    "df_fonasa[df_fonasa[\"código (c/guarismo) para merge\"] == 101745]"
   ]
  }
 ],
 "metadata": {
  "kernelspec": {
   "display_name": "Python [conda env:base] *",
   "language": "python",
   "name": "conda-base-py"
  },
  "language_info": {
   "codemirror_mode": {
    "name": "ipython",
    "version": 3
   },
   "file_extension": ".py",
   "mimetype": "text/x-python",
   "name": "python",
   "nbconvert_exporter": "python",
   "pygments_lexer": "ipython3",
   "version": "3.11.9"
  }
 },
 "nbformat": 4,
 "nbformat_minor": 5
}
